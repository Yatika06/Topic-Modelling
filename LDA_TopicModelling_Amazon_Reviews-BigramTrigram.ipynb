{
 "cells": [
  {
   "cell_type": "code",
   "execution_count": 45,
   "metadata": {},
   "outputs": [],
   "source": [
    "import sys\n",
    "# !{sys.executable} -m spacy download en\n",
    "import re, numpy as np, pandas as pd\n",
    "from pprint import pprint\n",
    "\n",
    "# Gensim\n",
    "import gensim, spacy, logging, warnings\n",
    "import gensim.corpora as corpora\n",
    "from gensim.utils import lemmatize, simple_preprocess\n",
    "from gensim.models import CoherenceModel\n",
    "import matplotlib.pyplot as plt\n",
    "\n",
    "# NLTK Stop words\n",
    "import nltk\n",
    "from nltk.corpus import stopwords\n",
    "stop_words = stopwords.words('english')\n",
    "stop_words.extend(['from', 'subject', 're', 'edu', 'use', 'not', 'would', 'say', 'could', '_', 'be', 'know', 'good', 'go', 'get', 'do', 'done', 'try', 'many', 'some', 'nice', 'thank', 'think', 'see', 'rather', 'easy', 'easily', 'lot', 'lack', 'make', 'want', 'seem', 'run', 'need', 'even', 'right', 'line', 'even', 'also', 'may', 'take', 'come'])\n",
    "\n",
    "%matplotlib inline\n",
    "warnings.filterwarnings(\"ignore\",category=DeprecationWarning)\n",
    "logging.basicConfig(format='%(asctime)s : %(levelname)s : %(message)s', level=logging.ERROR)\n",
    "\n",
    "\n",
    "import string\n",
    "from nltk.tokenize import word_tokenize\n",
    "from nltk import pos_tag\n",
    "from sklearn.base import TransformerMixin, BaseEstimator\n",
    "from normalise import normalise\n",
    "import multiprocessing as mp\n",
    "import re"
   ]
  },
  {
   "cell_type": "code",
   "execution_count": 46,
   "metadata": {},
   "outputs": [],
   "source": [
    "df = pd.read_csv('Reviews.csv')"
   ]
  },
  {
   "cell_type": "code",
   "execution_count": 47,
   "metadata": {},
   "outputs": [
    {
     "data": {
      "text/html": [
       "<div>\n",
       "<style scoped>\n",
       "    .dataframe tbody tr th:only-of-type {\n",
       "        vertical-align: middle;\n",
       "    }\n",
       "\n",
       "    .dataframe tbody tr th {\n",
       "        vertical-align: top;\n",
       "    }\n",
       "\n",
       "    .dataframe thead th {\n",
       "        text-align: right;\n",
       "    }\n",
       "</style>\n",
       "<table border=\"1\" class=\"dataframe\">\n",
       "  <thead>\n",
       "    <tr style=\"text-align: right;\">\n",
       "      <th></th>\n",
       "      <th>Id</th>\n",
       "      <th>ProductId</th>\n",
       "      <th>UserId</th>\n",
       "      <th>ProfileName</th>\n",
       "      <th>HelpfulnessNumerator</th>\n",
       "      <th>HelpfulnessDenominator</th>\n",
       "      <th>Score</th>\n",
       "      <th>Time</th>\n",
       "      <th>Summary</th>\n",
       "      <th>Text</th>\n",
       "    </tr>\n",
       "  </thead>\n",
       "  <tbody>\n",
       "    <tr>\n",
       "      <th>0</th>\n",
       "      <td>1</td>\n",
       "      <td>B001E4KFG0</td>\n",
       "      <td>A3SGXH7AUHU8GW</td>\n",
       "      <td>delmartian</td>\n",
       "      <td>1</td>\n",
       "      <td>1</td>\n",
       "      <td>5</td>\n",
       "      <td>1303862400</td>\n",
       "      <td>Good Quality Dog Food</td>\n",
       "      <td>I have bought several of the Vitality canned d...</td>\n",
       "    </tr>\n",
       "    <tr>\n",
       "      <th>1</th>\n",
       "      <td>2</td>\n",
       "      <td>B00813GRG4</td>\n",
       "      <td>A1D87F6ZCVE5NK</td>\n",
       "      <td>dll pa</td>\n",
       "      <td>0</td>\n",
       "      <td>0</td>\n",
       "      <td>1</td>\n",
       "      <td>1346976000</td>\n",
       "      <td>Not as Advertised</td>\n",
       "      <td>Product arrived labeled as Jumbo Salted Peanut...</td>\n",
       "    </tr>\n",
       "    <tr>\n",
       "      <th>2</th>\n",
       "      <td>3</td>\n",
       "      <td>B000LQOCH0</td>\n",
       "      <td>ABXLMWJIXXAIN</td>\n",
       "      <td>Natalia Corres \"Natalia Corres\"</td>\n",
       "      <td>1</td>\n",
       "      <td>1</td>\n",
       "      <td>4</td>\n",
       "      <td>1219017600</td>\n",
       "      <td>\"Delight\" says it all</td>\n",
       "      <td>This is a confection that has been around a fe...</td>\n",
       "    </tr>\n",
       "    <tr>\n",
       "      <th>3</th>\n",
       "      <td>4</td>\n",
       "      <td>B000UA0QIQ</td>\n",
       "      <td>A395BORC6FGVXV</td>\n",
       "      <td>Karl</td>\n",
       "      <td>3</td>\n",
       "      <td>3</td>\n",
       "      <td>2</td>\n",
       "      <td>1307923200</td>\n",
       "      <td>Cough Medicine</td>\n",
       "      <td>If you are looking for the secret ingredient i...</td>\n",
       "    </tr>\n",
       "    <tr>\n",
       "      <th>4</th>\n",
       "      <td>5</td>\n",
       "      <td>B006K2ZZ7K</td>\n",
       "      <td>A1UQRSCLF8GW1T</td>\n",
       "      <td>Michael D. Bigham \"M. Wassir\"</td>\n",
       "      <td>0</td>\n",
       "      <td>0</td>\n",
       "      <td>5</td>\n",
       "      <td>1350777600</td>\n",
       "      <td>Great taffy</td>\n",
       "      <td>Great taffy at a great price.  There was a wid...</td>\n",
       "    </tr>\n",
       "  </tbody>\n",
       "</table>\n",
       "</div>"
      ],
      "text/plain": [
       "   Id   ProductId          UserId                      ProfileName  \\\n",
       "0   1  B001E4KFG0  A3SGXH7AUHU8GW                       delmartian   \n",
       "1   2  B00813GRG4  A1D87F6ZCVE5NK                           dll pa   \n",
       "2   3  B000LQOCH0   ABXLMWJIXXAIN  Natalia Corres \"Natalia Corres\"   \n",
       "3   4  B000UA0QIQ  A395BORC6FGVXV                             Karl   \n",
       "4   5  B006K2ZZ7K  A1UQRSCLF8GW1T    Michael D. Bigham \"M. Wassir\"   \n",
       "\n",
       "   HelpfulnessNumerator  HelpfulnessDenominator  Score        Time  \\\n",
       "0                     1                       1      5  1303862400   \n",
       "1                     0                       0      1  1346976000   \n",
       "2                     1                       1      4  1219017600   \n",
       "3                     3                       3      2  1307923200   \n",
       "4                     0                       0      5  1350777600   \n",
       "\n",
       "                 Summary                                               Text  \n",
       "0  Good Quality Dog Food  I have bought several of the Vitality canned d...  \n",
       "1      Not as Advertised  Product arrived labeled as Jumbo Salted Peanut...  \n",
       "2  \"Delight\" says it all  This is a confection that has been around a fe...  \n",
       "3         Cough Medicine  If you are looking for the secret ingredient i...  \n",
       "4            Great taffy  Great taffy at a great price.  There was a wid...  "
      ]
     },
     "execution_count": 47,
     "metadata": {},
     "output_type": "execute_result"
    }
   ],
   "source": [
    "df.head()"
   ]
  },
  {
   "cell_type": "code",
   "execution_count": 48,
   "metadata": {},
   "outputs": [
    {
     "name": "stdout",
     "output_type": "stream",
     "text": [
      "<class 'pandas.core.frame.DataFrame'>\n",
      "RangeIndex: 568454 entries, 0 to 568453\n",
      "Data columns (total 10 columns):\n",
      " #   Column                  Non-Null Count   Dtype \n",
      "---  ------                  --------------   ----- \n",
      " 0   Id                      568454 non-null  int64 \n",
      " 1   ProductId               568454 non-null  object\n",
      " 2   UserId                  568454 non-null  object\n",
      " 3   ProfileName             568438 non-null  object\n",
      " 4   HelpfulnessNumerator    568454 non-null  int64 \n",
      " 5   HelpfulnessDenominator  568454 non-null  int64 \n",
      " 6   Score                   568454 non-null  int64 \n",
      " 7   Time                    568454 non-null  int64 \n",
      " 8   Summary                 568427 non-null  object\n",
      " 9   Text                    568454 non-null  object\n",
      "dtypes: int64(5), object(5)\n",
      "memory usage: 43.4+ MB\n"
     ]
    }
   ],
   "source": [
    "df.info()"
   ]
  },
  {
   "cell_type": "code",
   "execution_count": 49,
   "metadata": {},
   "outputs": [
    {
     "data": {
      "text/plain": [
       "Id                         0\n",
       "ProductId                  0\n",
       "UserId                     0\n",
       "ProfileName               16\n",
       "HelpfulnessNumerator       0\n",
       "HelpfulnessDenominator     0\n",
       "Score                      0\n",
       "Time                       0\n",
       "Summary                   27\n",
       "Text                       0\n",
       "dtype: int64"
      ]
     },
     "execution_count": 49,
     "metadata": {},
     "output_type": "execute_result"
    }
   ],
   "source": [
    "df.isnull().sum()"
   ]
  },
  {
   "cell_type": "code",
   "execution_count": 50,
   "metadata": {},
   "outputs": [],
   "source": [
    "df= df.dropna()"
   ]
  },
  {
   "cell_type": "code",
   "execution_count": 51,
   "metadata": {},
   "outputs": [
    {
     "data": {
      "text/plain": [
       "Id                        0\n",
       "ProductId                 0\n",
       "UserId                    0\n",
       "ProfileName               0\n",
       "HelpfulnessNumerator      0\n",
       "HelpfulnessDenominator    0\n",
       "Score                     0\n",
       "Time                      0\n",
       "Summary                   0\n",
       "Text                      0\n",
       "dtype: int64"
      ]
     },
     "execution_count": 51,
     "metadata": {},
     "output_type": "execute_result"
    }
   ],
   "source": [
    "df.isnull().sum()"
   ]
  },
  {
   "cell_type": "code",
   "execution_count": 52,
   "metadata": {},
   "outputs": [
    {
     "data": {
      "text/plain": [
       "(568411, 10)"
      ]
     },
     "execution_count": 52,
     "metadata": {},
     "output_type": "execute_result"
    }
   ],
   "source": [
    "df.shape"
   ]
  },
  {
   "cell_type": "code",
   "execution_count": 53,
   "metadata": {},
   "outputs": [],
   "source": [
    "#Selecting the reviews which are having lowest rating\n",
    "df['ReviewBad'] = df.Score < 3"
   ]
  },
  {
   "cell_type": "code",
   "execution_count": 54,
   "metadata": {},
   "outputs": [
    {
     "data": {
      "text/html": [
       "<div>\n",
       "<style scoped>\n",
       "    .dataframe tbody tr th:only-of-type {\n",
       "        vertical-align: middle;\n",
       "    }\n",
       "\n",
       "    .dataframe tbody tr th {\n",
       "        vertical-align: top;\n",
       "    }\n",
       "\n",
       "    .dataframe thead th {\n",
       "        text-align: right;\n",
       "    }\n",
       "</style>\n",
       "<table border=\"1\" class=\"dataframe\">\n",
       "  <thead>\n",
       "    <tr style=\"text-align: right;\">\n",
       "      <th></th>\n",
       "      <th>Id</th>\n",
       "      <th>ProductId</th>\n",
       "      <th>UserId</th>\n",
       "      <th>ProfileName</th>\n",
       "      <th>HelpfulnessNumerator</th>\n",
       "      <th>HelpfulnessDenominator</th>\n",
       "      <th>Score</th>\n",
       "      <th>Time</th>\n",
       "      <th>Summary</th>\n",
       "      <th>Text</th>\n",
       "      <th>ReviewBad</th>\n",
       "    </tr>\n",
       "  </thead>\n",
       "  <tbody>\n",
       "    <tr>\n",
       "      <th>0</th>\n",
       "      <td>1</td>\n",
       "      <td>B001E4KFG0</td>\n",
       "      <td>A3SGXH7AUHU8GW</td>\n",
       "      <td>delmartian</td>\n",
       "      <td>1</td>\n",
       "      <td>1</td>\n",
       "      <td>5</td>\n",
       "      <td>1303862400</td>\n",
       "      <td>Good Quality Dog Food</td>\n",
       "      <td>I have bought several of the Vitality canned d...</td>\n",
       "      <td>False</td>\n",
       "    </tr>\n",
       "    <tr>\n",
       "      <th>1</th>\n",
       "      <td>2</td>\n",
       "      <td>B00813GRG4</td>\n",
       "      <td>A1D87F6ZCVE5NK</td>\n",
       "      <td>dll pa</td>\n",
       "      <td>0</td>\n",
       "      <td>0</td>\n",
       "      <td>1</td>\n",
       "      <td>1346976000</td>\n",
       "      <td>Not as Advertised</td>\n",
       "      <td>Product arrived labeled as Jumbo Salted Peanut...</td>\n",
       "      <td>True</td>\n",
       "    </tr>\n",
       "    <tr>\n",
       "      <th>2</th>\n",
       "      <td>3</td>\n",
       "      <td>B000LQOCH0</td>\n",
       "      <td>ABXLMWJIXXAIN</td>\n",
       "      <td>Natalia Corres \"Natalia Corres\"</td>\n",
       "      <td>1</td>\n",
       "      <td>1</td>\n",
       "      <td>4</td>\n",
       "      <td>1219017600</td>\n",
       "      <td>\"Delight\" says it all</td>\n",
       "      <td>This is a confection that has been around a fe...</td>\n",
       "      <td>False</td>\n",
       "    </tr>\n",
       "    <tr>\n",
       "      <th>3</th>\n",
       "      <td>4</td>\n",
       "      <td>B000UA0QIQ</td>\n",
       "      <td>A395BORC6FGVXV</td>\n",
       "      <td>Karl</td>\n",
       "      <td>3</td>\n",
       "      <td>3</td>\n",
       "      <td>2</td>\n",
       "      <td>1307923200</td>\n",
       "      <td>Cough Medicine</td>\n",
       "      <td>If you are looking for the secret ingredient i...</td>\n",
       "      <td>True</td>\n",
       "    </tr>\n",
       "    <tr>\n",
       "      <th>4</th>\n",
       "      <td>5</td>\n",
       "      <td>B006K2ZZ7K</td>\n",
       "      <td>A1UQRSCLF8GW1T</td>\n",
       "      <td>Michael D. Bigham \"M. Wassir\"</td>\n",
       "      <td>0</td>\n",
       "      <td>0</td>\n",
       "      <td>5</td>\n",
       "      <td>1350777600</td>\n",
       "      <td>Great taffy</td>\n",
       "      <td>Great taffy at a great price.  There was a wid...</td>\n",
       "      <td>False</td>\n",
       "    </tr>\n",
       "  </tbody>\n",
       "</table>\n",
       "</div>"
      ],
      "text/plain": [
       "   Id   ProductId          UserId                      ProfileName  \\\n",
       "0   1  B001E4KFG0  A3SGXH7AUHU8GW                       delmartian   \n",
       "1   2  B00813GRG4  A1D87F6ZCVE5NK                           dll pa   \n",
       "2   3  B000LQOCH0   ABXLMWJIXXAIN  Natalia Corres \"Natalia Corres\"   \n",
       "3   4  B000UA0QIQ  A395BORC6FGVXV                             Karl   \n",
       "4   5  B006K2ZZ7K  A1UQRSCLF8GW1T    Michael D. Bigham \"M. Wassir\"   \n",
       "\n",
       "   HelpfulnessNumerator  HelpfulnessDenominator  Score        Time  \\\n",
       "0                     1                       1      5  1303862400   \n",
       "1                     0                       0      1  1346976000   \n",
       "2                     1                       1      4  1219017600   \n",
       "3                     3                       3      2  1307923200   \n",
       "4                     0                       0      5  1350777600   \n",
       "\n",
       "                 Summary                                               Text  \\\n",
       "0  Good Quality Dog Food  I have bought several of the Vitality canned d...   \n",
       "1      Not as Advertised  Product arrived labeled as Jumbo Salted Peanut...   \n",
       "2  \"Delight\" says it all  This is a confection that has been around a fe...   \n",
       "3         Cough Medicine  If you are looking for the secret ingredient i...   \n",
       "4            Great taffy  Great taffy at a great price.  There was a wid...   \n",
       "\n",
       "   ReviewBad  \n",
       "0      False  \n",
       "1       True  \n",
       "2      False  \n",
       "3       True  \n",
       "4      False  "
      ]
     },
     "execution_count": 54,
     "metadata": {},
     "output_type": "execute_result"
    }
   ],
   "source": [
    "df.head()"
   ]
  },
  {
   "cell_type": "code",
   "execution_count": 55,
   "metadata": {},
   "outputs": [],
   "source": [
    "# selecting only first 10000 rows\n",
    "df_bad_reviews= df.loc[df.ReviewBad ==True][0:250] "
   ]
  },
  {
   "cell_type": "code",
   "execution_count": 56,
   "metadata": {},
   "outputs": [
    {
     "data": {
      "text/plain": [
       "(250, 11)"
      ]
     },
     "execution_count": 56,
     "metadata": {},
     "output_type": "execute_result"
    }
   ],
   "source": [
    "df_bad_reviews.shape"
   ]
  },
  {
   "cell_type": "code",
   "execution_count": 57,
   "metadata": {},
   "outputs": [
    {
     "data": {
      "text/html": [
       "<div>\n",
       "<style scoped>\n",
       "    .dataframe tbody tr th:only-of-type {\n",
       "        vertical-align: middle;\n",
       "    }\n",
       "\n",
       "    .dataframe tbody tr th {\n",
       "        vertical-align: top;\n",
       "    }\n",
       "\n",
       "    .dataframe thead th {\n",
       "        text-align: right;\n",
       "    }\n",
       "</style>\n",
       "<table border=\"1\" class=\"dataframe\">\n",
       "  <thead>\n",
       "    <tr style=\"text-align: right;\">\n",
       "      <th></th>\n",
       "      <th>Id</th>\n",
       "      <th>ProductId</th>\n",
       "      <th>UserId</th>\n",
       "      <th>ProfileName</th>\n",
       "      <th>HelpfulnessNumerator</th>\n",
       "      <th>HelpfulnessDenominator</th>\n",
       "      <th>Score</th>\n",
       "      <th>Time</th>\n",
       "      <th>Summary</th>\n",
       "      <th>Text</th>\n",
       "      <th>ReviewBad</th>\n",
       "    </tr>\n",
       "  </thead>\n",
       "  <tbody>\n",
       "    <tr>\n",
       "      <th>1</th>\n",
       "      <td>2</td>\n",
       "      <td>B00813GRG4</td>\n",
       "      <td>A1D87F6ZCVE5NK</td>\n",
       "      <td>dll pa</td>\n",
       "      <td>0</td>\n",
       "      <td>0</td>\n",
       "      <td>1</td>\n",
       "      <td>1346976000</td>\n",
       "      <td>Not as Advertised</td>\n",
       "      <td>Product arrived labeled as Jumbo Salted Peanut...</td>\n",
       "      <td>True</td>\n",
       "    </tr>\n",
       "    <tr>\n",
       "      <th>3</th>\n",
       "      <td>4</td>\n",
       "      <td>B000UA0QIQ</td>\n",
       "      <td>A395BORC6FGVXV</td>\n",
       "      <td>Karl</td>\n",
       "      <td>3</td>\n",
       "      <td>3</td>\n",
       "      <td>2</td>\n",
       "      <td>1307923200</td>\n",
       "      <td>Cough Medicine</td>\n",
       "      <td>If you are looking for the secret ingredient i...</td>\n",
       "      <td>True</td>\n",
       "    </tr>\n",
       "    <tr>\n",
       "      <th>12</th>\n",
       "      <td>13</td>\n",
       "      <td>B0009XLVG0</td>\n",
       "      <td>A327PCT23YH90</td>\n",
       "      <td>LT</td>\n",
       "      <td>1</td>\n",
       "      <td>1</td>\n",
       "      <td>1</td>\n",
       "      <td>1339545600</td>\n",
       "      <td>My Cats Are Not Fans of the New Food</td>\n",
       "      <td>My cats have been happily eating Felidae Plati...</td>\n",
       "      <td>True</td>\n",
       "    </tr>\n",
       "    <tr>\n",
       "      <th>16</th>\n",
       "      <td>17</td>\n",
       "      <td>B001GVISJM</td>\n",
       "      <td>A3KLWF6WQ5BNYO</td>\n",
       "      <td>Erica Neathery</td>\n",
       "      <td>0</td>\n",
       "      <td>0</td>\n",
       "      <td>2</td>\n",
       "      <td>1348099200</td>\n",
       "      <td>poor taste</td>\n",
       "      <td>I love eating them and they are good for watch...</td>\n",
       "      <td>True</td>\n",
       "    </tr>\n",
       "    <tr>\n",
       "      <th>26</th>\n",
       "      <td>27</td>\n",
       "      <td>B001GVISJM</td>\n",
       "      <td>A3RXAU2N8KV45G</td>\n",
       "      <td>lady21</td>\n",
       "      <td>0</td>\n",
       "      <td>1</td>\n",
       "      <td>1</td>\n",
       "      <td>1332633600</td>\n",
       "      <td>Nasty No flavor</td>\n",
       "      <td>The candy is just red , No flavor . Just  plan...</td>\n",
       "      <td>True</td>\n",
       "    </tr>\n",
       "  </tbody>\n",
       "</table>\n",
       "</div>"
      ],
      "text/plain": [
       "    Id   ProductId          UserId     ProfileName  HelpfulnessNumerator  \\\n",
       "1    2  B00813GRG4  A1D87F6ZCVE5NK          dll pa                     0   \n",
       "3    4  B000UA0QIQ  A395BORC6FGVXV            Karl                     3   \n",
       "12  13  B0009XLVG0   A327PCT23YH90              LT                     1   \n",
       "16  17  B001GVISJM  A3KLWF6WQ5BNYO  Erica Neathery                     0   \n",
       "26  27  B001GVISJM  A3RXAU2N8KV45G          lady21                     0   \n",
       "\n",
       "    HelpfulnessDenominator  Score        Time  \\\n",
       "1                        0      1  1346976000   \n",
       "3                        3      2  1307923200   \n",
       "12                       1      1  1339545600   \n",
       "16                       0      2  1348099200   \n",
       "26                       1      1  1332633600   \n",
       "\n",
       "                                 Summary  \\\n",
       "1                      Not as Advertised   \n",
       "3                         Cough Medicine   \n",
       "12  My Cats Are Not Fans of the New Food   \n",
       "16                            poor taste   \n",
       "26                       Nasty No flavor   \n",
       "\n",
       "                                                 Text  ReviewBad  \n",
       "1   Product arrived labeled as Jumbo Salted Peanut...       True  \n",
       "3   If you are looking for the secret ingredient i...       True  \n",
       "12  My cats have been happily eating Felidae Plati...       True  \n",
       "16  I love eating them and they are good for watch...       True  \n",
       "26  The candy is just red , No flavor . Just  plan...       True  "
      ]
     },
     "execution_count": 57,
     "metadata": {},
     "output_type": "execute_result"
    }
   ],
   "source": [
    "df_bad_reviews.head()"
   ]
  },
  {
   "cell_type": "code",
   "execution_count": 58,
   "metadata": {},
   "outputs": [
    {
     "name": "stderr",
     "output_type": "stream",
     "text": [
      "[nltk_data] Downloading package punkt to\n",
      "[nltk_data]     C:\\Users\\manik.hendre\\AppData\\Roaming\\nltk_data...\n",
      "[nltk_data]   Package punkt is already up-to-date!\n",
      "[nltk_data] Downloading package averaged_perceptron_tagger to\n",
      "[nltk_data]     C:\\Users\\manik.hendre\\AppData\\Roaming\\nltk_data...\n",
      "[nltk_data]   Package averaged_perceptron_tagger is already up-to-\n",
      "[nltk_data]       date!\n",
      "[nltk_data] Downloading package stopwords to\n",
      "[nltk_data]     C:\\Users\\manik.hendre\\AppData\\Roaming\\nltk_data...\n",
      "[nltk_data]   Package stopwords is already up-to-date!\n"
     ]
    },
    {
     "data": {
      "text/plain": [
       "True"
      ]
     },
     "execution_count": 58,
     "metadata": {},
     "output_type": "execute_result"
    }
   ],
   "source": [
    "nltk.download('punkt')\n",
    "nltk.download('averaged_perceptron_tagger') \n",
    "nltk.download('stopwords')"
   ]
  },
  {
   "cell_type": "code",
   "execution_count": 59,
   "metadata": {},
   "outputs": [],
   "source": [
    "nlp = spacy.load(\"en_core_web_sm\", disable=['parser', 'ner'])"
   ]
  },
  {
   "cell_type": "code",
   "execution_count": 60,
   "metadata": {},
   "outputs": [],
   "source": [
    "def sent_to_words(sentences):\n",
    "    for sent in sentences:\n",
    "        sent = re.sub('\\S*@\\S*\\s?', '', sent)  # remove emails\n",
    "        sent = re.sub(r'\\b\\w{1,3}\\b', '', sent) # remove words less than 3 characters\n",
    "        sent = re.sub('\\s+', ' ', sent)  # remove newline chars\n",
    "        sent = re.sub(\"\\'\", \"\", sent)  # remove single quotes\n",
    "        sent = gensim.utils.simple_preprocess(str(sent), deacc=True) \n",
    "        yield(sent)  "
   ]
  },
  {
   "cell_type": "code",
   "execution_count": 61,
   "metadata": {},
   "outputs": [
    {
     "name": "stdout",
     "output_type": "stream",
     "text": [
      "[['product', 'arrived', 'labeled', 'jumbo', 'salted', 'peanuts', 'peanuts', 'were', 'actually', 'small', 'sized', 'unsalted', 'sure', 'this', 'error', 'vendor', 'intended', 'represent', 'product', 'jumbo']]\n"
     ]
    }
   ],
   "source": [
    "# Convert to list\n",
    "data = df_bad_reviews.Text.values.tolist()\n",
    "data_words = list(sent_to_words(data))\n",
    "print(data_words[:1])"
   ]
  },
  {
   "cell_type": "code",
   "execution_count": 62,
   "metadata": {},
   "outputs": [],
   "source": [
    "# Build the bigram and trigram models\n",
    "bigram = gensim.models.Phrases(data_words, min_count=1, threshold=2) # higher threshold fewer phrases.\n",
    "trigram = gensim.models.Phrases(bigram[data_words], threshold=2)  \n",
    "bigram_mod = gensim.models.phrases.Phraser(bigram)\n",
    "trigram_mod = gensim.models.phrases.Phraser(trigram)"
   ]
  },
  {
   "cell_type": "code",
   "execution_count": 63,
   "metadata": {},
   "outputs": [],
   "source": [
    "# !python3 -m spacy download en  # run in terminal once\n",
    "def process_words(texts, stop_words=stop_words, allowed_postags=['NOUN', 'ADJ']):\n",
    "    \"\"\"Remove Stopwords, Form Bigrams, Trigrams and Lemmatization\"\"\"\n",
    "    texts = [[word for word in simple_preprocess(str(doc)) if word not in stop_words] for doc in texts]\n",
    "    texts = [bigram_mod[doc] for doc in texts]\n",
    "    texts = [trigram_mod[bigram_mod[doc]] for doc in texts]\n",
    "    texts_out = []\n",
    "    nlp = spacy.load('en_core_web_sm', disable=['parser', 'ner'])\n",
    "    for sent in texts:\n",
    "        doc = nlp(\" \".join(sent)) \n",
    "        texts_out.append([token.lemma_ for token in doc if token.pos_ in allowed_postags])\n",
    "    # remove stopwords once more after lemmatization\n",
    "    texts_out = [[word for word in simple_preprocess(str(doc)) if word not in stop_words] for doc in texts_out]    \n",
    "    return texts_out"
   ]
  },
  {
   "cell_type": "code",
   "execution_count": 64,
   "metadata": {},
   "outputs": [],
   "source": [
    "data_ready = process_words(data_words)  # processed Text Data!"
   ]
  },
  {
   "cell_type": "code",
   "execution_count": 65,
   "metadata": {},
   "outputs": [
    {
     "data": {
      "text/plain": [
       "['product',\n",
       " 'peanut',\n",
       " 'peanut',\n",
       " 'small',\n",
       " 'sized',\n",
       " 'unsalted',\n",
       " 'sure',\n",
       " 'error',\n",
       " 'vendor',\n",
       " 'represent',\n",
       " 'product',\n",
       " 'jumbo']"
      ]
     },
     "execution_count": 65,
     "metadata": {},
     "output_type": "execute_result"
    }
   ],
   "source": [
    "data_ready[0]"
   ]
  },
  {
   "cell_type": "code",
   "execution_count": 75,
   "metadata": {},
   "outputs": [
    {
     "name": "stdout",
     "output_type": "stream",
     "text": [
      "[(0,\n",
      "  '0.032*\"food\" + 0.020*\"disappointed\" + 0.019*\"purchase\" + 0.014*\"time\" + '\n",
      "  '0.012*\"cake\" + 0.011*\"fact\" + 0.009*\"horrible\" + 0.008*\"frosting\" + '\n",
      "  '0.008*\"edible\" + 0.007*\"adult\"'),\n",
      " (1,\n",
      "  '0.038*\"bag\" + 0.020*\"package\" + 0.013*\"date\" + 0.013*\"money\" + '\n",
      "  '0.012*\"natural\" + 0.011*\"time\" + 0.010*\"enough\" + 0.010*\"week\" + '\n",
      "  '0.010*\"potato\" + 0.009*\"quality\"'),\n",
      " (2,\n",
      "  '0.055*\"product\" + 0.027*\"taste\" + 0.016*\"order\" + 0.011*\"review\" + '\n",
      "  '0.011*\"different\" + 0.010*\"company\" + 0.009*\"food\" + 0.009*\"people\" + '\n",
      "  '0.008*\"coffee\" + 0.008*\"much\"'),\n",
      " (3,\n",
      "  '0.061*\"chip\" + 0.043*\"flavor\" + 0.014*\"price\" + 0.013*\"cookie\" + '\n",
      "  '0.012*\"ingredient\" + 0.010*\"tiny\" + 0.010*\"texture\" + 0.009*\"thing\" + '\n",
      "  '0.009*\"case\" + 0.009*\"one\"')]\n"
     ]
    }
   ],
   "source": [
    "# Create Dictionary\n",
    "id2word = corpora.Dictionary(data_ready)\n",
    "\n",
    "# Create Corpus: Term Document Frequency\n",
    "corpus = [id2word.doc2bow(text) for text in data_ready]\n",
    "\n",
    "# Build LDA model\n",
    "lda_model = gensim.models.ldamodel.LdaModel(corpus=corpus,\n",
    "                                           id2word=id2word,\n",
    "                                           num_topics=4, \n",
    "                                           random_state=100,\n",
    "                                           update_every=1,\n",
    "                                           chunksize=10,\n",
    "                                           passes=100,\n",
    "                                           alpha='symmetric',\n",
    "                                           iterations=100,\n",
    "                                           per_word_topics=True)\n",
    "\n",
    "pprint(lda_model.print_topics())"
   ]
  },
  {
   "cell_type": "code",
   "execution_count": 68,
   "metadata": {},
   "outputs": [
    {
     "name": "stdout",
     "output_type": "stream",
     "text": [
      "\n",
      "Perplexity:  -7.368960277801864\n"
     ]
    }
   ],
   "source": [
    "# Compute Perplexity\n",
    "print('\\nPerplexity: ', lda_model.log_perplexity(corpus))  # a measure of how good the model is. lower the better."
   ]
  },
  {
   "cell_type": "code",
   "execution_count": 69,
   "metadata": {},
   "outputs": [],
   "source": [
    "coherence_model_lda = CoherenceModel(model=lda_model, texts=data_ready, dictionary=id2word, coherence='c_v')"
   ]
  },
  {
   "cell_type": "code",
   "execution_count": 70,
   "metadata": {},
   "outputs": [
    {
     "data": {
      "text/plain": [
       "0.3892058343523202"
      ]
     },
     "execution_count": 70,
     "metadata": {},
     "output_type": "execute_result"
    }
   ],
   "source": [
    "coherence_model_lda.get_coherence()  # get coherence value"
   ]
  },
  {
   "cell_type": "code",
   "execution_count": 71,
   "metadata": {},
   "outputs": [],
   "source": [
    "def format_topics_sentences(ldamodel=None, corpus=corpus, texts=data):\n",
    "    # Init output\n",
    "    sent_topics_df = pd.DataFrame()\n",
    "\n",
    "    # Get main topic in each document\n",
    "    for i, row_list in enumerate(ldamodel[corpus]):\n",
    "        row = row_list[0] if ldamodel.per_word_topics else row_list            \n",
    "        # print(row)\n",
    "        row = sorted(row, key=lambda x: (x[1]), reverse=True)\n",
    "        # Get the Dominant topic, Perc Contribution and Keywords for each document\n",
    "        for j, (topic_num, prop_topic) in enumerate(row):\n",
    "            if j == 0:  # => dominant topic\n",
    "                wp = ldamodel.show_topic(topic_num)\n",
    "                topic_keywords = \", \".join([word for word, prop in wp])\n",
    "                sent_topics_df = sent_topics_df.append(pd.Series([int(topic_num), round(prop_topic,4), topic_keywords]), ignore_index=True)\n",
    "            else:\n",
    "                break\n",
    "    sent_topics_df.columns = ['Dominant_Topic', 'Perc_Contribution', 'Topic_Keywords']\n",
    "    \n",
    "    # Add original text to the end of the output\n",
    "    contents = pd.Series(texts)\n",
    "    sent_topics_df = pd.concat([sent_topics_df, contents], axis=1)\n",
    "    return(sent_topics_df)"
   ]
  },
  {
   "cell_type": "code",
   "execution_count": 72,
   "metadata": {},
   "outputs": [
    {
     "data": {
      "text/html": [
       "<div>\n",
       "<style scoped>\n",
       "    .dataframe tbody tr th:only-of-type {\n",
       "        vertical-align: middle;\n",
       "    }\n",
       "\n",
       "    .dataframe tbody tr th {\n",
       "        vertical-align: top;\n",
       "    }\n",
       "\n",
       "    .dataframe thead th {\n",
       "        text-align: right;\n",
       "    }\n",
       "</style>\n",
       "<table border=\"1\" class=\"dataframe\">\n",
       "  <thead>\n",
       "    <tr style=\"text-align: right;\">\n",
       "      <th></th>\n",
       "      <th>Document_No</th>\n",
       "      <th>Dominant_Topic</th>\n",
       "      <th>Topic_Perc_Contrib</th>\n",
       "      <th>Keywords</th>\n",
       "      <th>Text</th>\n",
       "    </tr>\n",
       "  </thead>\n",
       "  <tbody>\n",
       "    <tr>\n",
       "      <th>0</th>\n",
       "      <td>0</td>\n",
       "      <td>2.0</td>\n",
       "      <td>0.9421</td>\n",
       "      <td>product, taste, order, review, different, comp...</td>\n",
       "      <td>[product, peanut, peanut, small, sized, unsalt...</td>\n",
       "    </tr>\n",
       "    <tr>\n",
       "      <th>1</th>\n",
       "      <td>1</td>\n",
       "      <td>1.0</td>\n",
       "      <td>0.7540</td>\n",
       "      <td>bag, package, date, money, natural, time, enou...</td>\n",
       "      <td>[secret, addition, root, beer, cherry, soda]</td>\n",
       "    </tr>\n",
       "    <tr>\n",
       "      <th>2</th>\n",
       "      <td>2</td>\n",
       "      <td>0.0</td>\n",
       "      <td>0.9554</td>\n",
       "      <td>food, disappointed, purchase, time, cake, fact...</td>\n",
       "      <td>[cat, felidae, platinum, year, food, food, bow...</td>\n",
       "    </tr>\n",
       "    <tr>\n",
       "      <th>3</th>\n",
       "      <td>3</td>\n",
       "      <td>1.0</td>\n",
       "      <td>0.9232</td>\n",
       "      <td>bag, package, date, money, natural, time, enou...</td>\n",
       "      <td>[love, looking, movie, sweet, transfer, lock, ...</td>\n",
       "    </tr>\n",
       "    <tr>\n",
       "      <th>4</th>\n",
       "      <td>4</td>\n",
       "      <td>0.0</td>\n",
       "      <td>0.2500</td>\n",
       "      <td>food, disappointed, purchase, time, cake, fact...</td>\n",
       "      <td>[]</td>\n",
       "    </tr>\n",
       "    <tr>\n",
       "      <th>5</th>\n",
       "      <td>5</td>\n",
       "      <td>1.0</td>\n",
       "      <td>0.6249</td>\n",
       "      <td>bag, package, date, money, natural, time, enou...</td>\n",
       "      <td>[soft]</td>\n",
       "    </tr>\n",
       "    <tr>\n",
       "      <th>6</th>\n",
       "      <td>6</td>\n",
       "      <td>1.0</td>\n",
       "      <td>0.8497</td>\n",
       "      <td>bag, package, date, money, natural, time, enou...</td>\n",
       "      <td>[arrived, day, stale, bag]</td>\n",
       "    </tr>\n",
       "    <tr>\n",
       "      <th>7</th>\n",
       "      <td>7</td>\n",
       "      <td>1.0</td>\n",
       "      <td>0.6946</td>\n",
       "      <td>bag, package, date, money, natural, time, enou...</td>\n",
       "      <td>[hint, sweetness, various, sport, nutrition, p...</td>\n",
       "    </tr>\n",
       "    <tr>\n",
       "      <th>8</th>\n",
       "      <td>8</td>\n",
       "      <td>2.0</td>\n",
       "      <td>0.9065</td>\n",
       "      <td>product, taste, order, review, different, comp...</td>\n",
       "      <td>[buyer_beware, sugar, undigestible, body, shor...</td>\n",
       "    </tr>\n",
       "    <tr>\n",
       "      <th>9</th>\n",
       "      <td>9</td>\n",
       "      <td>0.0</td>\n",
       "      <td>0.2500</td>\n",
       "      <td>food, disappointed, purchase, time, cake, fact...</td>\n",
       "      <td>[]</td>\n",
       "    </tr>\n",
       "  </tbody>\n",
       "</table>\n",
       "</div>"
      ],
      "text/plain": [
       "   Document_No  Dominant_Topic  Topic_Perc_Contrib  \\\n",
       "0            0             2.0              0.9421   \n",
       "1            1             1.0              0.7540   \n",
       "2            2             0.0              0.9554   \n",
       "3            3             1.0              0.9232   \n",
       "4            4             0.0              0.2500   \n",
       "5            5             1.0              0.6249   \n",
       "6            6             1.0              0.8497   \n",
       "7            7             1.0              0.6946   \n",
       "8            8             2.0              0.9065   \n",
       "9            9             0.0              0.2500   \n",
       "\n",
       "                                            Keywords  \\\n",
       "0  product, taste, order, review, different, comp...   \n",
       "1  bag, package, date, money, natural, time, enou...   \n",
       "2  food, disappointed, purchase, time, cake, fact...   \n",
       "3  bag, package, date, money, natural, time, enou...   \n",
       "4  food, disappointed, purchase, time, cake, fact...   \n",
       "5  bag, package, date, money, natural, time, enou...   \n",
       "6  bag, package, date, money, natural, time, enou...   \n",
       "7  bag, package, date, money, natural, time, enou...   \n",
       "8  product, taste, order, review, different, comp...   \n",
       "9  food, disappointed, purchase, time, cake, fact...   \n",
       "\n",
       "                                                Text  \n",
       "0  [product, peanut, peanut, small, sized, unsalt...  \n",
       "1       [secret, addition, root, beer, cherry, soda]  \n",
       "2  [cat, felidae, platinum, year, food, food, bow...  \n",
       "3  [love, looking, movie, sweet, transfer, lock, ...  \n",
       "4                                                 []  \n",
       "5                                             [soft]  \n",
       "6                         [arrived, day, stale, bag]  \n",
       "7  [hint, sweetness, various, sport, nutrition, p...  \n",
       "8  [buyer_beware, sugar, undigestible, body, shor...  \n",
       "9                                                 []  "
      ]
     },
     "execution_count": 72,
     "metadata": {},
     "output_type": "execute_result"
    }
   ],
   "source": [
    "df_topic_sents_keywords = format_topics_sentences(ldamodel=lda_model, corpus=corpus, texts=data_ready)\n",
    "\n",
    "# Format\n",
    "df_dominant_topic = df_topic_sents_keywords.reset_index()\n",
    "df_dominant_topic.columns = ['Document_No', 'Dominant_Topic', 'Topic_Perc_Contrib', 'Keywords', 'Text']\n",
    "df_dominant_topic.head(10)"
   ]
  },
  {
   "cell_type": "code",
   "execution_count": 28,
   "metadata": {},
   "outputs": [],
   "source": [
    "df_dominant_topic['ratings'] = df_bad_reviews['Score'].values"
   ]
  },
  {
   "cell_type": "code",
   "execution_count": 132,
   "metadata": {},
   "outputs": [],
   "source": [
    "#df_dominant_topic['Text'] = df_bad_reviews['Text'].values"
   ]
  },
  {
   "cell_type": "code",
   "execution_count": 29,
   "metadata": {},
   "outputs": [
    {
     "data": {
      "text/html": [
       "<div>\n",
       "<style scoped>\n",
       "    .dataframe tbody tr th:only-of-type {\n",
       "        vertical-align: middle;\n",
       "    }\n",
       "\n",
       "    .dataframe tbody tr th {\n",
       "        vertical-align: top;\n",
       "    }\n",
       "\n",
       "    .dataframe thead th {\n",
       "        text-align: right;\n",
       "    }\n",
       "</style>\n",
       "<table border=\"1\" class=\"dataframe\">\n",
       "  <thead>\n",
       "    <tr style=\"text-align: right;\">\n",
       "      <th></th>\n",
       "      <th>Document_No</th>\n",
       "      <th>Dominant_Topic</th>\n",
       "      <th>Topic_Perc_Contrib</th>\n",
       "      <th>Keywords</th>\n",
       "      <th>Text</th>\n",
       "      <th>ratings</th>\n",
       "    </tr>\n",
       "  </thead>\n",
       "  <tbody>\n",
       "    <tr>\n",
       "      <th>0</th>\n",
       "      <td>0</td>\n",
       "      <td>2.0</td>\n",
       "      <td>0.9421</td>\n",
       "      <td>product, taste, order, review, different, comp...</td>\n",
       "      <td>[product, peanut, peanut, small, sized, unsalt...</td>\n",
       "      <td>1</td>\n",
       "    </tr>\n",
       "    <tr>\n",
       "      <th>1</th>\n",
       "      <td>1</td>\n",
       "      <td>1.0</td>\n",
       "      <td>0.7540</td>\n",
       "      <td>bag, package, date, money, natural, time, enou...</td>\n",
       "      <td>[secret, addition, root, beer, cherry, soda]</td>\n",
       "      <td>2</td>\n",
       "    </tr>\n",
       "    <tr>\n",
       "      <th>2</th>\n",
       "      <td>2</td>\n",
       "      <td>0.0</td>\n",
       "      <td>0.9554</td>\n",
       "      <td>food, disappointed, purchase, time, cake, fact...</td>\n",
       "      <td>[cat, felidae, platinum, year, food, food, bow...</td>\n",
       "      <td>1</td>\n",
       "    </tr>\n",
       "    <tr>\n",
       "      <th>3</th>\n",
       "      <td>3</td>\n",
       "      <td>1.0</td>\n",
       "      <td>0.9232</td>\n",
       "      <td>bag, package, date, money, natural, time, enou...</td>\n",
       "      <td>[love, looking, movie, sweet, transfer, lock, ...</td>\n",
       "      <td>2</td>\n",
       "    </tr>\n",
       "    <tr>\n",
       "      <th>4</th>\n",
       "      <td>4</td>\n",
       "      <td>0.0</td>\n",
       "      <td>0.2500</td>\n",
       "      <td>food, disappointed, purchase, time, cake, fact...</td>\n",
       "      <td>[]</td>\n",
       "      <td>1</td>\n",
       "    </tr>\n",
       "  </tbody>\n",
       "</table>\n",
       "</div>"
      ],
      "text/plain": [
       "   Document_No  Dominant_Topic  Topic_Perc_Contrib  \\\n",
       "0            0             2.0              0.9421   \n",
       "1            1             1.0              0.7540   \n",
       "2            2             0.0              0.9554   \n",
       "3            3             1.0              0.9232   \n",
       "4            4             0.0              0.2500   \n",
       "\n",
       "                                            Keywords  \\\n",
       "0  product, taste, order, review, different, comp...   \n",
       "1  bag, package, date, money, natural, time, enou...   \n",
       "2  food, disappointed, purchase, time, cake, fact...   \n",
       "3  bag, package, date, money, natural, time, enou...   \n",
       "4  food, disappointed, purchase, time, cake, fact...   \n",
       "\n",
       "                                                Text  ratings  \n",
       "0  [product, peanut, peanut, small, sized, unsalt...        1  \n",
       "1       [secret, addition, root, beer, cherry, soda]        2  \n",
       "2  [cat, felidae, platinum, year, food, food, bow...        1  \n",
       "3  [love, looking, movie, sweet, transfer, lock, ...        2  \n",
       "4                                                 []        1  "
      ]
     },
     "execution_count": 29,
     "metadata": {},
     "output_type": "execute_result"
    }
   ],
   "source": [
    "df_dominant_topic.head()"
   ]
  },
  {
   "cell_type": "code",
   "execution_count": 30,
   "metadata": {},
   "outputs": [],
   "source": [
    "def commonWords(s0, s1):\n",
    "    s1 = ', '.join([str(elem) for elem in s1]) \n",
    "    s0 = s0.lower()\n",
    "    s1 = s1.lower()\n",
    "    s0List = s0.split(\",\")\n",
    "    s1List = s1.split(\",\")\n",
    "    return list(set(s0List)&set(s1List))"
   ]
  },
  {
   "cell_type": "code",
   "execution_count": 31,
   "metadata": {},
   "outputs": [],
   "source": [
    "dfNew = df_dominant_topic.apply(lambda x: commonWords(x.Keywords, x.Text), axis=1)"
   ]
  },
  {
   "cell_type": "code",
   "execution_count": 32,
   "metadata": {},
   "outputs": [],
   "source": [
    "finalTopicModeldf = df_dominant_topic.copy()"
   ]
  },
  {
   "cell_type": "code",
   "execution_count": 33,
   "metadata": {},
   "outputs": [
    {
     "data": {
      "text/html": [
       "<div>\n",
       "<style scoped>\n",
       "    .dataframe tbody tr th:only-of-type {\n",
       "        vertical-align: middle;\n",
       "    }\n",
       "\n",
       "    .dataframe tbody tr th {\n",
       "        vertical-align: top;\n",
       "    }\n",
       "\n",
       "    .dataframe thead th {\n",
       "        text-align: right;\n",
       "    }\n",
       "</style>\n",
       "<table border=\"1\" class=\"dataframe\">\n",
       "  <thead>\n",
       "    <tr style=\"text-align: right;\">\n",
       "      <th></th>\n",
       "      <th>Document_No</th>\n",
       "      <th>Dominant_Topic</th>\n",
       "      <th>Topic_Perc_Contrib</th>\n",
       "      <th>Keywords</th>\n",
       "      <th>Text</th>\n",
       "      <th>ratings</th>\n",
       "    </tr>\n",
       "  </thead>\n",
       "  <tbody>\n",
       "    <tr>\n",
       "      <th>0</th>\n",
       "      <td>0</td>\n",
       "      <td>2.0</td>\n",
       "      <td>0.9421</td>\n",
       "      <td>product, taste, order, review, different, comp...</td>\n",
       "      <td>[product, peanut, peanut, small, sized, unsalt...</td>\n",
       "      <td>1</td>\n",
       "    </tr>\n",
       "    <tr>\n",
       "      <th>1</th>\n",
       "      <td>1</td>\n",
       "      <td>1.0</td>\n",
       "      <td>0.7540</td>\n",
       "      <td>bag, package, date, money, natural, time, enou...</td>\n",
       "      <td>[secret, addition, root, beer, cherry, soda]</td>\n",
       "      <td>2</td>\n",
       "    </tr>\n",
       "    <tr>\n",
       "      <th>2</th>\n",
       "      <td>2</td>\n",
       "      <td>0.0</td>\n",
       "      <td>0.9554</td>\n",
       "      <td>food, disappointed, purchase, time, cake, fact...</td>\n",
       "      <td>[cat, felidae, platinum, year, food, food, bow...</td>\n",
       "      <td>1</td>\n",
       "    </tr>\n",
       "    <tr>\n",
       "      <th>3</th>\n",
       "      <td>3</td>\n",
       "      <td>1.0</td>\n",
       "      <td>0.9232</td>\n",
       "      <td>bag, package, date, money, natural, time, enou...</td>\n",
       "      <td>[love, looking, movie, sweet, transfer, lock, ...</td>\n",
       "      <td>2</td>\n",
       "    </tr>\n",
       "    <tr>\n",
       "      <th>4</th>\n",
       "      <td>4</td>\n",
       "      <td>0.0</td>\n",
       "      <td>0.2500</td>\n",
       "      <td>food, disappointed, purchase, time, cake, fact...</td>\n",
       "      <td>[]</td>\n",
       "      <td>1</td>\n",
       "    </tr>\n",
       "  </tbody>\n",
       "</table>\n",
       "</div>"
      ],
      "text/plain": [
       "   Document_No  Dominant_Topic  Topic_Perc_Contrib  \\\n",
       "0            0             2.0              0.9421   \n",
       "1            1             1.0              0.7540   \n",
       "2            2             0.0              0.9554   \n",
       "3            3             1.0              0.9232   \n",
       "4            4             0.0              0.2500   \n",
       "\n",
       "                                            Keywords  \\\n",
       "0  product, taste, order, review, different, comp...   \n",
       "1  bag, package, date, money, natural, time, enou...   \n",
       "2  food, disappointed, purchase, time, cake, fact...   \n",
       "3  bag, package, date, money, natural, time, enou...   \n",
       "4  food, disappointed, purchase, time, cake, fact...   \n",
       "\n",
       "                                                Text  ratings  \n",
       "0  [product, peanut, peanut, small, sized, unsalt...        1  \n",
       "1       [secret, addition, root, beer, cherry, soda]        2  \n",
       "2  [cat, felidae, platinum, year, food, food, bow...        1  \n",
       "3  [love, looking, movie, sweet, transfer, lock, ...        2  \n",
       "4                                                 []        1  "
      ]
     },
     "execution_count": 33,
     "metadata": {},
     "output_type": "execute_result"
    }
   ],
   "source": [
    "finalTopicModeldf.head()"
   ]
  },
  {
   "cell_type": "code",
   "execution_count": 34,
   "metadata": {},
   "outputs": [],
   "source": [
    "finalTopicModeldf['Keywords'] = dfNew"
   ]
  },
  {
   "cell_type": "code",
   "execution_count": 35,
   "metadata": {},
   "outputs": [],
   "source": [
    "finalTopicModeldf['Text'] = df_bad_reviews['Text'].values"
   ]
  },
  {
   "cell_type": "code",
   "execution_count": 36,
   "metadata": {},
   "outputs": [
    {
     "data": {
      "text/html": [
       "<div>\n",
       "<style scoped>\n",
       "    .dataframe tbody tr th:only-of-type {\n",
       "        vertical-align: middle;\n",
       "    }\n",
       "\n",
       "    .dataframe tbody tr th {\n",
       "        vertical-align: top;\n",
       "    }\n",
       "\n",
       "    .dataframe thead th {\n",
       "        text-align: right;\n",
       "    }\n",
       "</style>\n",
       "<table border=\"1\" class=\"dataframe\">\n",
       "  <thead>\n",
       "    <tr style=\"text-align: right;\">\n",
       "      <th></th>\n",
       "      <th>Document_No</th>\n",
       "      <th>Dominant_Topic</th>\n",
       "      <th>Topic_Perc_Contrib</th>\n",
       "      <th>Keywords</th>\n",
       "      <th>Text</th>\n",
       "      <th>ratings</th>\n",
       "    </tr>\n",
       "  </thead>\n",
       "  <tbody>\n",
       "    <tr>\n",
       "      <th>0</th>\n",
       "      <td>0</td>\n",
       "      <td>2.0</td>\n",
       "      <td>0.9421</td>\n",
       "      <td>[product]</td>\n",
       "      <td>Product arrived labeled as Jumbo Salted Peanut...</td>\n",
       "      <td>1</td>\n",
       "    </tr>\n",
       "    <tr>\n",
       "      <th>1</th>\n",
       "      <td>1</td>\n",
       "      <td>1.0</td>\n",
       "      <td>0.7540</td>\n",
       "      <td>[]</td>\n",
       "      <td>If you are looking for the secret ingredient i...</td>\n",
       "      <td>2</td>\n",
       "    </tr>\n",
       "    <tr>\n",
       "      <th>2</th>\n",
       "      <td>2</td>\n",
       "      <td>0.0</td>\n",
       "      <td>0.9554</td>\n",
       "      <td>[]</td>\n",
       "      <td>My cats have been happily eating Felidae Plati...</td>\n",
       "      <td>1</td>\n",
       "    </tr>\n",
       "    <tr>\n",
       "      <th>3</th>\n",
       "      <td>3</td>\n",
       "      <td>1.0</td>\n",
       "      <td>0.9232</td>\n",
       "      <td>[ time]</td>\n",
       "      <td>I love eating them and they are good for watch...</td>\n",
       "      <td>2</td>\n",
       "    </tr>\n",
       "    <tr>\n",
       "      <th>4</th>\n",
       "      <td>4</td>\n",
       "      <td>0.0</td>\n",
       "      <td>0.2500</td>\n",
       "      <td>[]</td>\n",
       "      <td>The candy is just red , No flavor . Just  plan...</td>\n",
       "      <td>1</td>\n",
       "    </tr>\n",
       "  </tbody>\n",
       "</table>\n",
       "</div>"
      ],
      "text/plain": [
       "   Document_No  Dominant_Topic  Topic_Perc_Contrib   Keywords  \\\n",
       "0            0             2.0              0.9421  [product]   \n",
       "1            1             1.0              0.7540         []   \n",
       "2            2             0.0              0.9554         []   \n",
       "3            3             1.0              0.9232    [ time]   \n",
       "4            4             0.0              0.2500         []   \n",
       "\n",
       "                                                Text  ratings  \n",
       "0  Product arrived labeled as Jumbo Salted Peanut...        1  \n",
       "1  If you are looking for the secret ingredient i...        2  \n",
       "2  My cats have been happily eating Felidae Plati...        1  \n",
       "3  I love eating them and they are good for watch...        2  \n",
       "4  The candy is just red , No flavor . Just  plan...        1  "
      ]
     },
     "execution_count": 36,
     "metadata": {},
     "output_type": "execute_result"
    }
   ],
   "source": [
    "finalTopicModeldf.head(5)"
   ]
  },
  {
   "cell_type": "code",
   "execution_count": 37,
   "metadata": {},
   "outputs": [],
   "source": [
    "finalTopicModeldf.to_csv(\"NounAdjective_Reviews_dominant_topic_Amazon_commonKeywords.csv\")"
   ]
  },
  {
   "cell_type": "code",
   "execution_count": 160,
   "metadata": {},
   "outputs": [],
   "source": []
  },
  {
   "cell_type": "code",
   "execution_count": 38,
   "metadata": {},
   "outputs": [],
   "source": [
    "from matplotlib import pyplot as plt\n",
    "from wordcloud import WordCloud, STOPWORDS\n",
    "import matplotlib.colors as mcolors"
   ]
  },
  {
   "cell_type": "code",
   "execution_count": 39,
   "metadata": {},
   "outputs": [
    {
     "name": "stderr",
     "output_type": "stream",
     "text": [
      "C:\\Users\\manik.hendre\\Anaconda3\\envs\\py3.5\\lib\\site-packages\\ipykernel_launcher.py:24: UserWarning: FixedFormatter should only be used together with FixedLocator\n",
      "C:\\Users\\manik.hendre\\Anaconda3\\envs\\py3.5\\lib\\site-packages\\ipykernel_launcher.py:24: UserWarning: FixedFormatter should only be used together with FixedLocator\n",
      "C:\\Users\\manik.hendre\\Anaconda3\\envs\\py3.5\\lib\\site-packages\\ipykernel_launcher.py:24: UserWarning: FixedFormatter should only be used together with FixedLocator\n",
      "C:\\Users\\manik.hendre\\Anaconda3\\envs\\py3.5\\lib\\site-packages\\ipykernel_launcher.py:24: UserWarning: FixedFormatter should only be used together with FixedLocator\n"
     ]
    },
    {
     "data": {
      "image/png": "[encoded data removed]",
      "text/plain": [
       "<Figure size 2560x1600 with 8 Axes>"
      ]
     },
     "metadata": {
      "needs_background": "light"
     },
     "output_type": "display_data"
    }
   ],
   "source": [
    "from collections import Counter\n",
    "topics = lda_model.show_topics(formatted=False)\n",
    "data_flat = [w for w_list in data_ready for w in w_list]\n",
    "counter = Counter(data_flat)\n",
    "\n",
    "out = []\n",
    "for i, topic in topics:\n",
    "    for word, weight in topic:\n",
    "        out.append([word, i , weight, counter[word]])\n",
    "\n",
    "df = pd.DataFrame(out, columns=['word', 'topic_id', 'importance', 'word_count'])        \n",
    "\n",
    "# Plot Word Count and Weights of Topic Keywords\n",
    "fig, axes = plt.subplots(2, 2, figsize=(16,10), sharey=True, dpi=160)\n",
    "cols = [color for name, color in mcolors.TABLEAU_COLORS.items()]\n",
    "for i, ax in enumerate(axes.flatten()):\n",
    "    ax.bar(x='word', height=\"word_count\", data=df.loc[df.topic_id==i, :], color=cols[i], width=0.5, alpha=0.3, label='Word Count')\n",
    "    ax_twin = ax.twinx()\n",
    "    ax_twin.bar(x='word', height=\"importance\", data=df.loc[df.topic_id==i, :], color=cols[i], width=0.2, label='Weights')\n",
    "    ax.set_ylabel('Word Count', color=cols[i])\n",
    "    ax_twin.set_ylim(0, 0.030); ax.set_ylim(0, 3500)\n",
    "    ax.set_title('Topic: ' + str(i), color=cols[i], fontsize=16)\n",
    "    ax.tick_params(axis='y', left=False)\n",
    "    ax.set_xticklabels(df.loc[df.topic_id==i, 'word'], rotation=30, horizontalalignment= 'right')\n",
    "    ax.legend(loc='upper left'); ax_twin.legend(loc='upper right')\n",
    "\n",
    "fig.tight_layout(w_pad=2)    \n",
    "fig.suptitle('Word Count and Importance of Topic Keywords', fontsize=22, y=1.05)    \n",
    "plt.show()"
   ]
  },
  {
   "cell_type": "code",
   "execution_count": 40,
   "metadata": {},
   "outputs": [
    {
     "name": "stdout",
     "output_type": "stream",
     "text": [
      "Requirement already satisfied: pyLDAvis in c:\\users\\manik.hendre\\anaconda3\\envs\\py3.5\\lib\\site-packages (3.2.2)\n",
      "Requirement already satisfied: numpy>=1.9.2 in c:\\users\\manik.hendre\\anaconda3\\envs\\py3.5\\lib\\site-packages (from pyLDAvis) (1.19.2)\n",
      "Requirement already satisfied: scipy>=0.18.0 in c:\\users\\manik.hendre\\anaconda3\\envs\\py3.5\\lib\\site-packages (from pyLDAvis) (1.5.2)\n",
      "Requirement already satisfied: numexpr in c:\\users\\manik.hendre\\anaconda3\\envs\\py3.5\\lib\\site-packages (from pyLDAvis) (2.7.3)\n",
      "Requirement already satisfied: pandas>=0.17.0 in c:\\users\\manik.hendre\\anaconda3\\envs\\py3.5\\lib\\site-packages (from pyLDAvis) (1.1.5)\n",
      "Requirement already satisfied: future in c:\\users\\manik.hendre\\anaconda3\\envs\\py3.5\\lib\\site-packages (from pyLDAvis) (0.18.2)\n",
      "Requirement already satisfied: jinja2>=2.7.2 in c:\\users\\manik.hendre\\anaconda3\\envs\\py3.5\\lib\\site-packages (from pyLDAvis) (2.11.2)\n",
      "Requirement already satisfied: joblib>=0.8.4 in c:\\users\\manik.hendre\\anaconda3\\envs\\py3.5\\lib\\site-packages (from pyLDAvis) (1.0.0)\n",
      "Requirement already satisfied: funcy in c:\\users\\manik.hendre\\anaconda3\\envs\\py3.5\\lib\\site-packages (from pyLDAvis) (1.15)\n",
      "Requirement already satisfied: wheel>=0.23.0 in c:\\users\\manik.hendre\\anaconda3\\envs\\py3.5\\lib\\site-packages (from pyLDAvis) (0.36.2)\n",
      "Requirement already satisfied: MarkupSafe>=0.23 in c:\\users\\manik.hendre\\anaconda3\\envs\\py3.5\\lib\\site-packages (from jinja2>=2.7.2->pyLDAvis) (1.1.1)\n",
      "Requirement already satisfied: pytz>=2017.2 in c:\\users\\manik.hendre\\anaconda3\\envs\\py3.5\\lib\\site-packages (from pandas>=0.17.0->pyLDAvis) (2020.5)\n",
      "Requirement already satisfied: python-dateutil>=2.7.3 in c:\\users\\manik.hendre\\anaconda3\\envs\\py3.5\\lib\\site-packages (from pandas>=0.17.0->pyLDAvis) (2.8.1)\n",
      "Requirement already satisfied: six>=1.5 in c:\\users\\manik.hendre\\anaconda3\\envs\\py3.5\\lib\\site-packages (from python-dateutil>=2.7.3->pandas>=0.17.0->pyLDAvis) (1.15.0)\n"
     ]
    }
   ],
   "source": [
    "!pip install pyLDAvis"
   ]
  },
  {
   "cell_type": "code",
   "execution_count": 68,
   "metadata": {},
   "outputs": [
    {
     "name": "stdout",
     "output_type": "stream",
     "text": [
      "Requirement already satisfied: matplotlib in c:\\users\\manik.hendre\\anaconda3\\envs\\py3.5\\lib\\site-packages (3.3.4)\n",
      "Requirement already satisfied: pyparsing!=2.0.4,!=2.1.2,!=2.1.6,>=2.0.3 in c:\\users\\manik.hendre\\anaconda3\\envs\\py3.5\\lib\\site-packages (from matplotlib) (2.4.7)\n",
      "Requirement already satisfied: numpy>=1.15 in c:\\users\\manik.hendre\\anaconda3\\envs\\py3.5\\lib\\site-packages (from matplotlib) (1.19.2)\n",
      "Requirement already satisfied: pillow>=6.2.0 in c:\\users\\manik.hendre\\anaconda3\\envs\\py3.5\\lib\\site-packages (from matplotlib) (8.1.0)\n",
      "Requirement already satisfied: python-dateutil>=2.1 in c:\\users\\manik.hendre\\anaconda3\\envs\\py3.5\\lib\\site-packages (from matplotlib) (2.8.1)\n",
      "Requirement already satisfied: cycler>=0.10 in c:\\users\\manik.hendre\\anaconda3\\envs\\py3.5\\lib\\site-packages (from matplotlib) (0.10.0)\n",
      "Requirement already satisfied: kiwisolver>=1.0.1 in c:\\users\\manik.hendre\\anaconda3\\envs\\py3.5\\lib\\site-packages (from matplotlib) (1.3.1)\n",
      "Requirement already satisfied: six in c:\\users\\manik.hendre\\anaconda3\\envs\\py3.5\\lib\\site-packages (from cycler>=0.10->matplotlib) (1.15.0)\n"
     ]
    }
   ],
   "source": [
    "!pip install matplotlib"
   ]
  },
  {
   "cell_type": "code",
   "execution_count": 41,
   "metadata": {},
   "outputs": [],
   "source": [
    "# Plotting tools\n",
    "import pyLDAvis\n",
    "import pyLDAvis.gensim  \n",
    "import matplotlib.pyplot as plt\n",
    "%matplotlib inline"
   ]
  },
  {
   "cell_type": "code",
   "execution_count": 42,
   "metadata": {},
   "outputs": [
    {
     "data": {
      "text/html": [
       "\n",
       "<link rel=\"stylesheet\" type=\"text/css\" href=\"https://cdn.jsdelivr.net/gh/bmabey/pyLDAvis@3.2.2/pyLDAvis/js/ldavis.v1.0.0.css\">\n",
       "\n",
       "\n",
       "<div id=\"ldavis_el1874817512596119283553192039\"></div>\n",
       "<script type=\"text/javascript\">\n",
       "\n",
       "var ldavis_el1874817512596119283553192039_data = {\"mdsDat\": {\"x\": [0.20732276454562998, -0.17732470799540287, -0.045478166789185946, 0.015480110238958763], \"y\": [0.08027322134655582, 0.13964791641319432, -0.18906314039456665, -0.030857997365183482], \"topics\": [1, 2, 3, 4], \"cluster\": [1, 1, 1, 1], \"Freq\": [37.40688100705273, 27.18627325478514, 20.587907570551618, 14.81893816761051]}, \"tinfo\": {\"Term\": [\"chip\", \"product\", \"flavor\", \"bag\", \"food\", \"taste\", \"package\", \"disappointed\", \"purchase\", \"order\", \"date\", \"cookie\", \"money\", \"ingredient\", \"time\", \"price\", \"natural\", \"cake\", \"tiny\", \"enough\", \"texture\", \"fact\", \"potato\", \"week\", \"review\", \"company\", \"case\", \"quality\", \"different\", \"one\", \"product\", \"taste\", \"order\", \"company\", \"coffee\", \"people\", \"healthy\", \"packaging\", \"high\", \"husband\", \"favorite\", \"coconut\", \"noodle\", \"great\", \"small\", \"sugar\", \"information\", \"chocolate\", \"family\", \"plastic\", \"bar\", \"first\", \"description\", \"black\", \"picture\", \"lollipop\", \"real\", \"bottom\", \"side\", \"treat\", \"different\", \"review\", \"little\", \"much\", \"food\", \"cheap\", \"thing\", \"size\", \"year\", \"chip\", \"flavor\", \"ingredient\", \"cookie\", \"texture\", \"tiny\", \"one\", \"case\", \"pack\", \"sodium\", \"awful\", \"potato_chip\", \"baked_lay\", \"single\", \"true\", \"cereal\", \"seasoning\", \"milk\", \"mouth\", \"popchip\", \"couple\", \"original\", \"idea\", \"ginger\", \"name\", \"whole\", \"powder\", \"box\", \"available\", \"gross\", \"alternative\", \"return\", \"price\", \"salt\", \"store\", \"love\", \"brand\", \"thing\", \"much\", \"stuff\", \"bag\", \"package\", \"date\", \"money\", \"potato\", \"natural\", \"enough\", \"week\", \"quality\", \"strong\", \"deal\", \"type\", \"vinegar\", \"stale\", \"sweet\", \"experience\", \"color\", \"terrible\", \"salty\", \"meal\", \"fresh\", \"mess\", \"sauce\", \"day\", \"flat\", \"soft\", \"spice\", \"smell\", \"nasty\", \"cheese\", \"candy\", \"item\", \"time\", \"price\", \"cheap\", \"disappointed\", \"purchase\", \"cake\", \"fact\", \"horrible\", \"frosting\", \"adult\", \"edible\", \"jar\", \"dog\", \"stick\", \"baby\", \"gold\", \"future\", \"look\", \"bland\", \"long\", \"piece\", \"worth\", \"disappointment\", \"individual\", \"liquid\", \"home\", \"rate\", \"change\", \"dinner\", \"sale\", \"bee\", \"cat\", \"white\", \"food\", \"time\", \"well\", \"regular\", \"store\", \"review\"], \"Freq\": [72.0, 89.0, 50.0, 34.0, 36.0, 44.0, 18.0, 13.0, 12.0, 26.0, 12.0, 15.0, 12.0, 14.0, 25.0, 21.0, 10.0, 8.0, 12.0, 9.0, 12.0, 7.0, 9.0, 9.0, 21.0, 16.0, 10.0, 8.0, 20.0, 10.0, 88.8845720376374, 44.37249606775465, 25.633174319346825, 15.473917107560647, 13.41917986251957, 13.768128111798537, 11.244857671873971, 10.955048650009394, 11.195742654953374, 10.288428109883636, 9.899248227938521, 8.792378700438082, 10.177712994162402, 9.36062010863988, 8.200629494520303, 8.294531918858208, 7.789645900522326, 7.972222527033293, 8.969770779980168, 7.965824110824929, 7.525267138016658, 7.957884261407371, 7.369917478063984, 7.578971062595697, 7.188184987668067, 7.544906668807565, 7.229360908191727, 6.975135122705875, 7.366516083923325, 6.666999084991096, 17.272582160555565, 18.298381488103967, 11.806606536289902, 12.785053668189189, 15.17356429097446, 10.147211893948235, 12.27109977554695, 8.470750039253671, 8.896769948992334, 72.01143721608078, 50.11624493164888, 14.014142564288163, 14.77207696127915, 11.671064298805863, 12.04712382898463, 10.090030460252184, 10.379112781652296, 8.896064026999172, 8.339544082472349, 7.66935909828691, 7.482063775298233, 8.582431528106095, 7.331948078653475, 7.078092161646895, 6.554865648712047, 6.672225884394482, 6.713499122447254, 6.205814652148725, 6.619606555706964, 6.032767068094303, 5.726605957844174, 5.996729603199096, 5.511134765173878, 5.847514720040004, 5.928448378805174, 4.982275705219312, 4.67691635180788, 4.328166356105503, 4.245489081444022, 4.566556027965293, 4.617911426673988, 15.979964957988011, 9.18738251115896, 9.446806944093021, 7.371082021496367, 8.295785671856757, 10.848367651122544, 7.902949448237505, 6.200839381554451, 33.400681806451445, 18.09226986398682, 11.695942067445287, 11.461718111212583, 8.70542082507829, 10.274742468565297, 9.289302625243725, 8.71819818431151, 7.865371000672349, 7.2798388779488, 6.91083263908247, 7.374704657182195, 6.55001211614917, 6.14888095200731, 6.132581219237823, 7.1293171930576325, 6.130215563496557, 6.1668347373457175, 5.43747464134228, 6.464256681082646, 4.984710180972348, 4.986270154379867, 4.987199755961448, 4.45066339738163, 4.222263645797141, 4.472108058387291, 4.248351341362961, 4.497810319503326, 4.111282562106251, 4.526022048999418, 4.346385557551854, 6.936990790407929, 9.672439388373974, 5.285124422265677, 4.945010018198771, 12.873212907914663, 11.870409254140505, 7.630570989864417, 7.079591300652079, 5.9813459214448805, 5.228355102747159, 4.769037212535358, 4.924097127334832, 4.378527347826025, 4.06272226544903, 4.342341361233378, 4.099711311149585, 4.586433145948948, 4.210971988430368, 4.243645337208895, 3.1441190011631552, 3.4047465843224205, 3.092831207631906, 4.503720742653176, 3.240485497485687, 2.767955614394941, 2.8061021152733128, 2.685334494935358, 2.7579519798761543, 2.244677138864158, 2.2563516255610248, 2.321573180734808, 2.1625467446023867, 2.059447767047755, 2.335241891107886, 20.70648413073373, 8.674654029639994, 3.271593298642261, 2.945112482129051, 3.059583605962323, 3.2393972509679876], \"Total\": [72.0, 89.0, 50.0, 34.0, 36.0, 44.0, 18.0, 13.0, 12.0, 26.0, 12.0, 15.0, 12.0, 14.0, 25.0, 21.0, 10.0, 8.0, 12.0, 9.0, 12.0, 7.0, 9.0, 9.0, 21.0, 16.0, 10.0, 8.0, 20.0, 10.0, 89.44317898244735, 44.956728007350804, 26.23391708868061, 16.009951190510233, 13.964926232341229, 14.346185987953271, 11.809536375737352, 11.51884837554173, 11.785249597927267, 10.841011906850076, 10.45393991779098, 9.31471190307415, 10.807449707938611, 9.944989904869534, 8.744834382501166, 8.846605854104919, 8.313763173160922, 8.510695632333093, 9.608315789990435, 8.533163864992423, 8.062707453834314, 8.53357524284282, 7.911646746536388, 8.159285813655497, 7.740354586934974, 8.128204527666057, 7.794861555569214, 7.52432039693484, 7.953838982429479, 7.2005211208238435, 20.29203932350474, 21.944724253262894, 17.262684939030116, 21.06963942466791, 36.25657538892058, 15.511328660510742, 23.50785137328861, 11.228951416260074, 13.200376726087077, 72.56499589012805, 50.695162151277266, 14.602168832493359, 15.410941308375014, 12.237034203049452, 12.648347651546894, 10.63982865927587, 10.95397317171203, 9.463130697334563, 8.917435130705604, 8.214754730520937, 8.032037266165057, 9.225089238970547, 7.8819823779354925, 7.630842759800009, 7.103794899878123, 7.232351256582649, 7.297562962109422, 6.762231149264604, 7.216275620477967, 6.579090416459829, 6.271383316013829, 6.5680601612737375, 6.058379497676813, 6.439443493541179, 6.532589261026694, 5.5677462235078705, 5.250679888218539, 4.8767204886701165, 4.79183573636673, 5.179984533997855, 5.2446426767748004, 21.670521166741686, 11.507730885858054, 14.881320367146674, 10.536506944814924, 13.166073883344867, 23.50785137328861, 21.06963942466791, 8.485711932382863, 34.174222130207966, 18.74136027824938, 12.25595243604202, 12.104660812149016, 9.287289081993853, 10.980912210977268, 9.945294328721005, 9.340744120403638, 8.43730621523798, 7.8608171909035995, 7.4779646066933045, 7.9947012843150045, 7.1092040485096, 6.708972670844913, 6.718917318102094, 7.819763071407474, 6.737339672535004, 6.788339385098843, 5.995052486030125, 7.129314407215832, 5.550904132351269, 5.563381643869798, 5.580721770912297, 5.011516409052208, 4.772706245245725, 5.055578345331541, 4.836605882516103, 5.131501127272079, 4.696786567396152, 5.174693056022847, 4.994828546517349, 11.32731842163816, 25.77012244417839, 21.670521166741686, 15.511328660510742, 13.487409488919871, 12.475971357489513, 8.17020512999126, 7.718868936403985, 6.577808684847921, 5.768274757913706, 5.328489191252084, 5.505713224213186, 4.945430102064748, 4.602254180079545, 4.927639222045636, 4.654068977881259, 5.221290779253436, 4.805434869534133, 4.845930732193926, 3.702774512146614, 4.010308956781806, 3.645898877669249, 5.315491410057924, 3.824880240270851, 3.3153656733271077, 3.3775729715163685, 3.2372864177953993, 3.359178869409989, 2.7892214839243605, 2.814246590950596, 2.909949210535144, 2.724436029742816, 2.5963133348930665, 2.949118102245495, 36.25657538892058, 25.77012244417839, 8.306546368076198, 8.736170310498508, 14.881320367146674, 21.944724253262894], \"Category\": [\"Default\", \"Default\", \"Default\", \"Default\", \"Default\", \"Default\", \"Default\", \"Default\", \"Default\", \"Default\", \"Default\", \"Default\", \"Default\", \"Default\", \"Default\", \"Default\", \"Default\", \"Default\", \"Default\", \"Default\", \"Default\", \"Default\", \"Default\", \"Default\", \"Default\", \"Default\", \"Default\", \"Default\", \"Default\", \"Default\", \"Topic1\", \"Topic1\", \"Topic1\", \"Topic1\", \"Topic1\", \"Topic1\", \"Topic1\", \"Topic1\", \"Topic1\", \"Topic1\", \"Topic1\", \"Topic1\", \"Topic1\", \"Topic1\", \"Topic1\", \"Topic1\", \"Topic1\", \"Topic1\", \"Topic1\", \"Topic1\", \"Topic1\", \"Topic1\", \"Topic1\", \"Topic1\", \"Topic1\", \"Topic1\", \"Topic1\", \"Topic1\", \"Topic1\", \"Topic1\", \"Topic1\", \"Topic1\", \"Topic1\", \"Topic1\", \"Topic1\", \"Topic1\", \"Topic1\", \"Topic1\", \"Topic1\", \"Topic2\", \"Topic2\", \"Topic2\", \"Topic2\", \"Topic2\", \"Topic2\", \"Topic2\", \"Topic2\", \"Topic2\", \"Topic2\", \"Topic2\", \"Topic2\", \"Topic2\", \"Topic2\", \"Topic2\", \"Topic2\", \"Topic2\", \"Topic2\", \"Topic2\", \"Topic2\", \"Topic2\", \"Topic2\", \"Topic2\", \"Topic2\", \"Topic2\", \"Topic2\", \"Topic2\", \"Topic2\", \"Topic2\", \"Topic2\", \"Topic2\", \"Topic2\", \"Topic2\", \"Topic2\", \"Topic2\", \"Topic2\", \"Topic2\", \"Topic2\", \"Topic2\", \"Topic2\", \"Topic3\", \"Topic3\", \"Topic3\", \"Topic3\", \"Topic3\", \"Topic3\", \"Topic3\", \"Topic3\", \"Topic3\", \"Topic3\", \"Topic3\", \"Topic3\", \"Topic3\", \"Topic3\", \"Topic3\", \"Topic3\", \"Topic3\", \"Topic3\", \"Topic3\", \"Topic3\", \"Topic3\", \"Topic3\", \"Topic3\", \"Topic3\", \"Topic3\", \"Topic3\", \"Topic3\", \"Topic3\", \"Topic3\", \"Topic3\", \"Topic3\", \"Topic3\", \"Topic3\", \"Topic3\", \"Topic3\", \"Topic4\", \"Topic4\", \"Topic4\", \"Topic4\", \"Topic4\", \"Topic4\", \"Topic4\", \"Topic4\", \"Topic4\", \"Topic4\", \"Topic4\", \"Topic4\", \"Topic4\", \"Topic4\", \"Topic4\", \"Topic4\", \"Topic4\", \"Topic4\", \"Topic4\", \"Topic4\", \"Topic4\", \"Topic4\", \"Topic4\", \"Topic4\", \"Topic4\", \"Topic4\", \"Topic4\", \"Topic4\", \"Topic4\", \"Topic4\", \"Topic4\", \"Topic4\", \"Topic4\", \"Topic4\", \"Topic4\", \"Topic4\"], \"logprob\": [30.0, 29.0, 28.0, 27.0, 26.0, 25.0, 24.0, 23.0, 22.0, 21.0, 20.0, 19.0, 18.0, 17.0, 16.0, 15.0, 14.0, 13.0, 12.0, 11.0, 10.0, 9.0, 8.0, 7.0, 6.0, 5.0, 4.0, 3.0, 2.0, 1.0, -2.9011, -3.5958, -4.1445, -4.6492, -4.7917, -4.766, -4.9685, -4.9946, -4.9729, -5.0574, -5.0959, -5.2145, -5.0682, -5.1519, -5.2842, -5.2728, -5.3356, -5.3124, -5.1945, -5.3132, -5.3701, -5.3142, -5.391, -5.363, -5.416, -5.3675, -5.4102, -5.446, -5.3914, -5.4912, -4.5393, -4.4816, -4.9197, -4.8401, -4.6688, -5.0712, -4.8811, -5.2518, -5.2027, -2.7924, -3.1549, -4.4292, -4.3765, -4.6121, -4.5804, -4.7577, -4.7295, -4.8836, -4.9482, -5.032, -5.0567, -4.9195, -5.077, -5.1122, -5.189, -5.1713, -5.1651, -5.2438, -5.1792, -5.272, -5.3241, -5.278, -5.3625, -5.3032, -5.2895, -5.4634, -5.5266, -5.6041, -5.6234, -5.5505, -5.5393, -4.2979, -4.8514, -4.8236, -5.0717, -4.9535, -4.6852, -5.002, -5.2446, -3.2827, -3.8958, -4.332, -4.3522, -4.6273, -4.4615, -4.5624, -4.6258, -4.7288, -4.8061, -4.8581, -4.7932, -4.9118, -4.975, -4.9776, -4.827, -4.978, -4.9721, -5.0979, -4.925, -5.1849, -5.1846, -5.1844, -5.2982, -5.3509, -5.2934, -5.3447, -5.2876, -5.3775, -5.2814, -5.3219, -4.8544, -4.522, -5.1263, -5.1929, -3.9073, -3.9884, -4.4303, -4.5052, -4.6738, -4.8083, -4.9003, -4.8683, -4.9857, -5.0606, -4.994, -5.0515, -4.9393, -5.0247, -5.017, -5.3169, -5.2373, -5.3334, -4.9575, -5.2867, -5.4443, -5.4306, -5.4746, -5.448, -5.6539, -5.6487, -5.6202, -5.6912, -5.74, -5.6143, -3.432, -4.302, -5.2772, -5.3823, -5.3442, -5.2871], \"loglift\": [30.0, 29.0, 28.0, 27.0, 26.0, 25.0, 24.0, 23.0, 22.0, 21.0, 20.0, 19.0, 18.0, 17.0, 16.0, 15.0, 14.0, 13.0, 12.0, 11.0, 10.0, 9.0, 8.0, 7.0, 6.0, 5.0, 4.0, 3.0, 2.0, 1.0, 0.9771, 0.9702, 0.9601, 0.9493, 0.9435, 0.9422, 0.9343, 0.9331, 0.932, 0.931, 0.9288, 0.9256, 0.9233, 0.9228, 0.9191, 0.9189, 0.9182, 0.918, 0.9145, 0.9145, 0.9143, 0.9135, 0.9124, 0.9095, 0.9093, 0.9088, 0.908, 0.9075, 0.9066, 0.9063, 0.8222, 0.8016, 0.6034, 0.4838, 0.1122, 0.5589, 0.3332, 0.7014, 0.5888, 1.2948, 1.291, 1.2614, 1.2601, 1.2551, 1.2538, 1.2494, 1.2486, 1.2407, 1.2355, 1.2338, 1.2315, 1.2302, 1.2301, 1.2273, 1.222, 1.2218, 1.219, 1.2166, 1.2162, 1.2158, 1.2116, 1.2115, 1.2078, 1.206, 1.2054, 1.1914, 1.1867, 1.1831, 1.1814, 1.1764, 1.1752, 0.9978, 1.0773, 0.848, 0.9452, 0.8406, 0.5291, 0.3219, 0.9888, 1.5576, 1.5452, 1.5337, 1.5259, 1.5158, 1.514, 1.5122, 1.5115, 1.5103, 1.5037, 1.5016, 1.4997, 1.4985, 1.4933, 1.4892, 1.488, 1.486, 1.4844, 1.4828, 1.4825, 1.4729, 1.4709, 1.468, 1.4618, 1.4579, 1.4578, 1.4508, 1.4487, 1.4473, 1.4465, 1.4414, 1.0901, 0.6005, 0.1694, 0.4373, 1.8627, 1.8595, 1.8409, 1.8228, 1.8142, 1.811, 1.7983, 1.7976, 1.7875, 1.7846, 1.7828, 1.7824, 1.7796, 1.7772, 1.7765, 1.7457, 1.7456, 1.7447, 1.7435, 1.7435, 1.7288, 1.7239, 1.7223, 1.7121, 1.6921, 1.6883, 1.6834, 1.6783, 1.6776, 1.6759, 1.3491, 0.8205, 0.9775, 0.8219, 0.3274, -0.0039]}, \"token.table\": {\"Topic\": [4, 2, 2, 2, 4, 3, 2, 1, 4, 1, 4, 1, 2, 1, 2, 4, 3, 2, 4, 2, 4, 1, 3, 3, 2, 1, 1, 1, 3, 1, 2, 2, 3, 3, 3, 1, 1, 4, 4, 4, 4, 4, 4, 3, 3, 4, 1, 1, 1, 3, 2, 1, 4, 3, 4, 4, 2, 4, 1, 2, 1, 1, 4, 4, 1, 2, 4, 1, 2, 2, 3, 4, 4, 1, 2, 1, 4, 4, 2, 3, 3, 3, 2, 3, 2, 1, 2, 2, 3, 3, 1, 2, 1, 2, 2, 3, 1, 1, 1, 4, 1, 2, 3, 2, 2, 2, 3, 1, 4, 3, 4, 1, 1, 4, 2, 1, 4, 4, 2, 3, 3, 3, 2, 1, 2, 1, 3, 1, 3, 2, 3, 3, 3, 4, 2, 3, 4, 3, 2, 4, 1, 3, 1, 3, 2, 1, 2, 1, 3, 4, 2, 1, 2, 3, 3, 3, 2, 4, 4, 2, 4, 1, 3, 4], \"Freq\": [0.9383522834593767, 0.965253847223566, 0.8202233466718125, 0.9738574385278915, 0.8594629815351339, 0.9656401212079082, 0.9756003185292043, 0.9922225314271458, 0.7340968839664032, 0.9804779710757388, 0.8102032651890559, 0.9303165775412181, 0.9522576326199178, 0.3797639329918252, 0.6076222927869204, 0.9791675818069158, 0.8008282892490886, 0.9129107624459398, 0.7703230473460452, 0.9853888095952906, 0.7170459612214277, 0.6446900983703823, 0.32234504918519113, 0.9662408853758927, 0.9922139334096634, 0.9399936674514711, 0.9662134581993583, 0.9309035925942404, 0.8905592253956269, 0.9369172848503827, 0.9733344446551302, 0.9119801705398306, 0.979116071363877, 0.7981616088844635, 0.9360835960275217, 0.8847715556896553, 0.8377669552566117, 0.1478412273982256, 0.7106697779900092, 0.9638618899114552, 0.7843382829125026, 0.8691393051069735, 0.908147554436881, 0.9049505929662544, 0.8951677865529083, 0.9068686173678074, 0.9366886139791373, 0.9565771449462376, 0.9374734237809254, 0.8380989305563384, 0.9862874064944726, 0.4137180591133203, 0.5792052827586485, 0.9007541619858754, 0.8668103046132326, 0.8323908467388683, 0.9903638427240816, 0.9576176105470462, 0.9049782942055253, 0.8347531551724023, 0.9314506217703397, 0.933370134302003, 0.9267020624152892, 0.9121578761968387, 0.9224231175026504, 0.9135117298981053, 0.9048775597019966, 0.9622597893846875, 0.958761685376943, 0.35312859152603554, 0.6179750351705623, 0.8088275271204369, 0.8882117500641722, 0.6951409958753616, 0.289642081614734, 0.9842272020555479, 0.748072039418988, 0.8254348279115944, 0.6643567964850762, 0.2847243413507469, 0.8415956510386451, 0.8987339571624429, 0.9592243378160031, 0.9087408702075892, 0.8872811158862121, 0.6170015413163579, 0.3796932561946818, 0.9317575355724536, 0.8516461079511128, 0.9106711544422802, 0.9252876738028678, 0.9398647591267305, 0.9910834097748391, 0.95672672162761, 0.9510594630733558, 0.960442557677642, 0.9549565756379419, 0.9758691272897222, 0.9043513344744404, 0.8228423499002365, 0.9375186187177602, 0.9700294678512235, 0.9690664219173658, 0.8715099006683507, 0.8980294358405274, 0.7383301895182668, 0.23072818422445834, 0.9950451338213916, 0.9618489539731285, 0.9481699248454212, 0.893075396287821, 0.8980274954336672, 0.5723331645665556, 0.3433998987399334, 0.9533537951292339, 0.8202427058213609, 0.13670711763689347, 0.6872972190577158, 0.7820829396575631, 0.1737962088127918, 0.8340210551369099, 0.8959414579778693, 0.9678733445957606, 0.8800781629428798, 0.8881014526999605, 0.7124440834622907, 0.17811102086557268, 0.9148257874395408, 0.7794990005441959, 0.897118945385251, 0.7912052245602542, 0.827026244677004, 0.8943247042984859, 0.8117477395878547, 0.6047850444688497, 0.13439667654863327, 0.2015950148229499, 0.8904926587149588, 0.7070709031617041, 0.23569030105390137, 0.9043016193931501, 0.8930010172672926, 0.9787189137253411, 0.8838685957821533, 0.9806297670565974, 0.5104677500911591, 0.4679287709168958, 0.27163239193616395, 0.3880462741945199, 0.3492416467750679, 0.9487405256869579, 0.9721518599197024, 0.9173298704143994, 0.8755799311393244, 0.9846390611713426, 0.9635206664467634, 0.6019348810494877, 0.3611609286296926, 0.6781688391784565, 0.9184719504402165, 0.9406468027657886, 0.6817987233814217, 0.07575541370904686, 0.22726624112714056], \"Term\": [\"adult\", \"alternative\", \"available\", \"awful\", \"baby\", \"bag\", \"baked_lay\", \"bar\", \"bee\", \"black\", \"bland\", \"bottom\", \"box\", \"brand\", \"brand\", \"cake\", \"candy\", \"case\", \"cat\", \"cereal\", \"change\", \"cheap\", \"cheap\", \"cheese\", \"chip\", \"chocolate\", \"coconut\", \"coffee\", \"color\", \"company\", \"cookie\", \"couple\", \"date\", \"day\", \"deal\", \"description\", \"different\", \"different\", \"dinner\", \"disappointed\", \"disappointment\", \"dog\", \"edible\", \"enough\", \"experience\", \"fact\", \"family\", \"favorite\", \"first\", \"flat\", \"flavor\", \"food\", \"food\", \"fresh\", \"frosting\", \"future\", \"ginger\", \"gold\", \"great\", \"gross\", \"healthy\", \"high\", \"home\", \"horrible\", \"husband\", \"idea\", \"individual\", \"information\", \"ingredient\", \"item\", \"item\", \"jar\", \"liquid\", \"little\", \"little\", \"lollipop\", \"long\", \"look\", \"love\", \"love\", \"meal\", \"mess\", \"milk\", \"money\", \"mouth\", \"much\", \"much\", \"name\", \"nasty\", \"natural\", \"noodle\", \"one\", \"order\", \"original\", \"pack\", \"package\", \"packaging\", \"people\", \"picture\", \"piece\", \"plastic\", \"popchip\", \"potato\", \"potato_chip\", \"powder\", \"price\", \"price\", \"product\", \"purchase\", \"quality\", \"rate\", \"real\", \"regular\", \"regular\", \"return\", \"review\", \"review\", \"sale\", \"salt\", \"salt\", \"salty\", \"sauce\", \"seasoning\", \"side\", \"single\", \"size\", \"size\", \"small\", \"smell\", \"sodium\", \"soft\", \"spice\", \"stale\", \"stick\", \"store\", \"store\", \"store\", \"strong\", \"stuff\", \"stuff\", \"sugar\", \"sweet\", \"taste\", \"terrible\", \"texture\", \"thing\", \"thing\", \"time\", \"time\", \"time\", \"tiny\", \"treat\", \"true\", \"type\", \"vinegar\", \"week\", \"well\", \"well\", \"white\", \"whole\", \"worth\", \"year\", \"year\", \"year\"]}, \"R\": 30, \"lambda.step\": 0.01, \"plot.opts\": {\"xlab\": \"PC1\", \"ylab\": \"PC2\"}, \"topic.order\": [3, 4, 2, 1]};\n",
       "\n",
       "function LDAvis_load_lib(url, callback){\n",
       "  var s = document.createElement('script');\n",
       "  s.src = url;\n",
       "  s.async = true;\n",
       "  s.onreadystatechange = s.onload = callback;\n",
       "  s.onerror = function(){console.warn(\"failed to load library \" + url);};\n",
       "  document.getElementsByTagName(\"head\")[0].appendChild(s);\n",
       "}\n",
       "\n",
       "if(typeof(LDAvis) !== \"undefined\"){\n",
       "   // already loaded: just create the visualization\n",
       "   !function(LDAvis){\n",
       "       new LDAvis(\"#\" + \"ldavis_el1874817512596119283553192039\", ldavis_el1874817512596119283553192039_data);\n",
       "   }(LDAvis);\n",
       "}else if(typeof define === \"function\" && define.amd){\n",
       "   // require.js is available: use it to load d3/LDAvis\n",
       "   require.config({paths: {d3: \"https://d3js.org/d3.v5\"}});\n",
       "   require([\"d3\"], function(d3){\n",
       "      window.d3 = d3;\n",
       "      LDAvis_load_lib(\"https://cdn.jsdelivr.net/gh/bmabey/pyLDAvis@3.2.2/pyLDAvis/js/ldavis.v3.0.0.js\", function(){\n",
       "        new LDAvis(\"#\" + \"ldavis_el1874817512596119283553192039\", ldavis_el1874817512596119283553192039_data);\n",
       "      });\n",
       "    });\n",
       "}else{\n",
       "    // require.js not available: dynamically load d3 & LDAvis\n",
       "    LDAvis_load_lib(\"https://d3js.org/d3.v5.js\", function(){\n",
       "         LDAvis_load_lib(\"https://cdn.jsdelivr.net/gh/bmabey/pyLDAvis@3.2.2/pyLDAvis/js/ldavis.v3.0.0.js\", function(){\n",
       "                 new LDAvis(\"#\" + \"ldavis_el1874817512596119283553192039\", ldavis_el1874817512596119283553192039_data);\n",
       "            })\n",
       "         });\n",
       "}\n",
       "</script>"
      ],
      "text/plain": [
       "PreparedData(topic_coordinates=              x         y  topics  cluster       Freq\n",
       "topic                                                \n",
       "2      0.207323  0.080273       1        1  37.406881\n",
       "3     -0.177325  0.139648       2        1  27.186273\n",
       "1     -0.045478 -0.189063       3        1  20.587908\n",
       "0      0.015480 -0.030858       4        1  14.818938, topic_info=        Term       Freq      Total Category  logprob  loglift\n",
       "377     chip  72.000000  72.000000  Default  30.0000  30.0000\n",
       "3    product  89.000000  89.000000  Default  29.0000  29.0000\n",
       "110   flavor  50.000000  50.000000  Default  28.0000  28.0000\n",
       "39       bag  34.000000  34.000000  Default  27.0000  27.0000\n",
       "20      food  36.000000  36.000000  Default  26.0000  26.0000\n",
       "..       ...        ...        ...      ...      ...      ...\n",
       "35      time   8.674654  25.770122   Topic4  -4.3020   0.8205\n",
       "158     well   3.271593   8.306546   Topic4  -5.2772   0.9775\n",
       "197  regular   2.945112   8.736170   Topic4  -5.3823   0.8219\n",
       "148    store   3.059584  14.881320   Topic4  -5.3442   0.3274\n",
       "25    review   3.239397  21.944724   Topic4  -5.2871  -0.0039\n",
       "\n",
       "[180 rows x 6 columns], token_table=      Topic      Freq         Term\n",
       "term                              \n",
       "960       4  0.938352        adult\n",
       "1355      2  0.965254  alternative\n",
       "1010      2  0.820223    available\n",
       "437       2  0.973857        awful\n",
       "947       4  0.859463         baby\n",
       "...     ...       ...          ...\n",
       "111       2  0.918472        whole\n",
       "1396      4  0.940647        worth\n",
       "27        1  0.681799         year\n",
       "27        3  0.075755         year\n",
       "27        4  0.227266         year\n",
       "\n",
       "[164 rows x 3 columns], R=30, lambda_step=0.01, plot_opts={'xlab': 'PC1', 'ylab': 'PC2'}, topic_order=[3, 4, 2, 1])"
      ]
     },
     "execution_count": 42,
     "metadata": {},
     "output_type": "execute_result"
    }
   ],
   "source": [
    "# Visualize the topics\n",
    "pyLDAvis.enable_notebook()\n",
    "vis = pyLDAvis.gensim.prepare(lda_model, corpus, id2word)\n",
    "vis"
   ]
  }
 ],
 "metadata": {
  "kernelspec": {
   "display_name": "Python 3",
   "language": "python",
   "name": "python3"
  },
  "language_info": {
   "codemirror_mode": {
    "name": "ipython",
    "version": 3
   },
   "file_extension": ".py",
   "mimetype": "text/x-python",
   "name": "python",
   "nbconvert_exporter": "python",
   "pygments_lexer": "ipython3",
   "version": "3.6.12"
  }
 },
 "nbformat": 4,
 "nbformat_minor": 4
}
