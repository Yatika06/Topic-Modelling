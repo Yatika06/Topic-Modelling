{
  "nbformat": 4,
  "nbformat_minor": 0,
  "metadata": {
    "colab": {
      "name": "Gensim basics.ipynb",
      "provenance": [],
      "collapsed_sections": []
    },
    "kernelspec": {
      "name": "python3",
      "display_name": "Python 3"
    }
  },
  "cells": [
    {
      "cell_type": "code",
      "metadata": {
        "colab": {
          "base_uri": "https://localhost:8080/"
        },
        "id": "r-So7maIIN7m",
        "outputId": "5c0f6e7d-6075-429b-c5b6-8170b5c7bfca"
      },
      "source": [
        "pip install pattern"
      ],
      "execution_count": 69,
      "outputs": [
        {
          "output_type": "stream",
          "text": [
            "Collecting pattern\n",
            "\u001b[?25l  Downloading https://files.pythonhosted.org/packages/1e/07/b0e61b6c818ed4b6145fe01d1c341223aa6cfbc3928538ad1f2b890924a3/Pattern-3.6.0.tar.gz (22.2MB)\n",
            "\u001b[K     |████████████████████████████████| 22.3MB 1.2MB/s \n",
            "\u001b[?25hRequirement already satisfied: future in /usr/local/lib/python3.7/dist-packages (from pattern) (0.16.0)\n",
            "Collecting backports.csv\n",
            "  Downloading https://files.pythonhosted.org/packages/8e/26/a6bd68f13e0f38fbb643d6e497fc3462be83a0b6c4d43425c78bb51a7291/backports.csv-1.0.7-py2.py3-none-any.whl\n",
            "Collecting mysqlclient\n",
            "\u001b[?25l  Downloading https://files.pythonhosted.org/packages/3c/df/59cd2fa5e48d0804d213bdcb1acb4d08c403b61c7ff7ed4dd4a6a2deb3f7/mysqlclient-2.0.3.tar.gz (88kB)\n",
            "\u001b[K     |████████████████████████████████| 92kB 8.1MB/s \n",
            "\u001b[?25hRequirement already satisfied: beautifulsoup4 in /usr/local/lib/python3.7/dist-packages (from pattern) (4.6.3)\n",
            "Requirement already satisfied: lxml in /usr/local/lib/python3.7/dist-packages (from pattern) (4.2.6)\n",
            "Collecting feedparser\n",
            "\u001b[?25l  Downloading https://files.pythonhosted.org/packages/1c/21/faf1bac028662cc8adb2b5ef7a6f3999a765baa2835331df365289b0ca56/feedparser-6.0.2-py3-none-any.whl (80kB)\n",
            "\u001b[K     |████████████████████████████████| 81kB 7.6MB/s \n",
            "\u001b[?25hCollecting pdfminer.six\n",
            "\u001b[?25l  Downloading https://files.pythonhosted.org/packages/93/f3/4fec7dabe8802ebec46141345bf714cd1fc7d93cb74ddde917e4b6d97d88/pdfminer.six-20201018-py3-none-any.whl (5.6MB)\n",
            "\u001b[K     |████████████████████████████████| 5.6MB 52.0MB/s \n",
            "\u001b[?25hRequirement already satisfied: numpy in /usr/local/lib/python3.7/dist-packages (from pattern) (1.19.5)\n",
            "Requirement already satisfied: scipy in /usr/local/lib/python3.7/dist-packages (from pattern) (1.4.1)\n",
            "Requirement already satisfied: nltk in /usr/local/lib/python3.7/dist-packages (from pattern) (3.2.5)\n",
            "Collecting python-docx\n",
            "\u001b[?25l  Downloading https://files.pythonhosted.org/packages/e4/83/c66a1934ed5ed8ab1dbb9931f1779079f8bca0f6bbc5793c06c4b5e7d671/python-docx-0.8.10.tar.gz (5.5MB)\n",
            "\u001b[K     |████████████████████████████████| 5.5MB 43.0MB/s \n",
            "\u001b[?25hCollecting cherrypy\n",
            "\u001b[?25l  Downloading https://files.pythonhosted.org/packages/a8/f9/e11f893dcabe6bc222a1442bf5e14f0322a2d363c92910ed41947078a35a/CherryPy-18.6.0-py2.py3-none-any.whl (419kB)\n",
            "\u001b[K     |████████████████████████████████| 419kB 46.8MB/s \n",
            "\u001b[?25hRequirement already satisfied: requests in /usr/local/lib/python3.7/dist-packages (from pattern) (2.23.0)\n",
            "Collecting sgmllib3k\n",
            "  Downloading https://files.pythonhosted.org/packages/9e/bd/3704a8c3e0942d711c1299ebf7b9091930adae6675d7c8f476a7ce48653c/sgmllib3k-1.0.0.tar.gz\n",
            "Requirement already satisfied: sortedcontainers in /usr/local/lib/python3.7/dist-packages (from pdfminer.six->pattern) (2.3.0)\n",
            "Collecting cryptography\n",
            "\u001b[?25l  Downloading https://files.pythonhosted.org/packages/f8/1f/acde6ff69864c5e78b56488e3afd93c1ccc8c2651186e2a5f93d93f64859/cryptography-3.4.6-cp36-abi3-manylinux2014_x86_64.whl (3.2MB)\n",
            "\u001b[K     |████████████████████████████████| 3.2MB 34.6MB/s \n",
            "\u001b[?25hRequirement already satisfied: chardet; python_version > \"3.0\" in /usr/local/lib/python3.7/dist-packages (from pdfminer.six->pattern) (3.0.4)\n",
            "Requirement already satisfied: six in /usr/local/lib/python3.7/dist-packages (from nltk->pattern) (1.15.0)\n",
            "Collecting cheroot>=8.2.1\n",
            "\u001b[?25l  Downloading https://files.pythonhosted.org/packages/46/95/86fe6480af78fea7b0e7e1bf02e6acd4cb9e561ea200bd6d6e1398fe5426/cheroot-8.5.2-py2.py3-none-any.whl (97kB)\n",
            "\u001b[K     |████████████████████████████████| 102kB 8.7MB/s \n",
            "\u001b[?25hRequirement already satisfied: more-itertools in /usr/local/lib/python3.7/dist-packages (from cherrypy->pattern) (8.7.0)\n",
            "Collecting jaraco.collections\n",
            "  Downloading https://files.pythonhosted.org/packages/7c/38/2b10ed4e0fbd1e12e98e9acb1e2ab942087ec911cfeaf302c14b39fce4f0/jaraco.collections-3.2.0-py3-none-any.whl\n",
            "Collecting zc.lockfile\n",
            "  Downloading https://files.pythonhosted.org/packages/6c/2a/268389776288f0f26c7272c70c36c96dcc0bdb88ab6216ea18e19df1fadd/zc.lockfile-2.0-py2.py3-none-any.whl\n",
            "Collecting portend>=2.1.1\n",
            "  Downloading https://files.pythonhosted.org/packages/b8/a1/fd29409cced540facdd29abb986d988cb1f22c8170d10022ea73af77fa55/portend-2.7.1-py3-none-any.whl\n",
            "Requirement already satisfied: idna<3,>=2.5 in /usr/local/lib/python3.7/dist-packages (from requests->pattern) (2.10)\n",
            "Requirement already satisfied: urllib3!=1.25.0,!=1.25.1,<1.26,>=1.21.1 in /usr/local/lib/python3.7/dist-packages (from requests->pattern) (1.24.3)\n",
            "Requirement already satisfied: certifi>=2017.4.17 in /usr/local/lib/python3.7/dist-packages (from requests->pattern) (2020.12.5)\n",
            "Requirement already satisfied: cffi>=1.12 in /usr/local/lib/python3.7/dist-packages (from cryptography->pdfminer.six->pattern) (1.14.5)\n",
            "Collecting jaraco.functools\n",
            "  Downloading https://files.pythonhosted.org/packages/44/de/f387dbe1a7738e97220e52934dd95fca9e2e7bc238cacd103de60c01a61f/jaraco.functools-3.2.1-py3-none-any.whl\n",
            "Collecting jaraco.classes\n",
            "  Downloading https://files.pythonhosted.org/packages/b8/74/bee5fc11594974746535117546404678fc7b899476e769c3c55bc0cfaa02/jaraco.classes-3.2.1-py3-none-any.whl\n",
            "Collecting jaraco.text\n",
            "  Downloading https://files.pythonhosted.org/packages/c1/74/2a3c4835c079df16db8a9c50263eebb0125849fee5b16de353a059b7545d/jaraco.text-3.5.0-py3-none-any.whl\n",
            "Requirement already satisfied: setuptools in /usr/local/lib/python3.7/dist-packages (from zc.lockfile->cherrypy->pattern) (54.0.0)\n",
            "Collecting tempora>=1.8\n",
            "  Downloading https://files.pythonhosted.org/packages/06/e0/b2a0c95bebd29c757b332a2a373e8cc0debcaba801ae5dc5b7d03db1979f/tempora-4.0.1-py3-none-any.whl\n",
            "Requirement already satisfied: pycparser in /usr/local/lib/python3.7/dist-packages (from cffi>=1.12->cryptography->pdfminer.six->pattern) (2.20)\n",
            "Requirement already satisfied: pytz in /usr/local/lib/python3.7/dist-packages (from tempora>=1.8->portend>=2.1.1->cherrypy->pattern) (2018.9)\n",
            "Building wheels for collected packages: pattern, mysqlclient, python-docx, sgmllib3k\n",
            "  Building wheel for pattern (setup.py) ... \u001b[?25l\u001b[?25hdone\n",
            "  Created wheel for pattern: filename=Pattern-3.6-cp37-none-any.whl size=22332724 sha256=a84db74675fd94eac142ea0d7aa33d8e6c601ca51525f02fe7e52975ae660f5b\n",
            "  Stored in directory: /root/.cache/pip/wheels/dc/9a/0e/5fb1a603ed4e3aa8722a88e9cf4a82da7d1b63e3d2cc34bee5\n",
            "  Building wheel for mysqlclient (setup.py) ... \u001b[?25l\u001b[?25hdone\n",
            "  Created wheel for mysqlclient: filename=mysqlclient-2.0.3-cp37-cp37m-linux_x86_64.whl size=100095 sha256=80eef8712cbe942a47cd73fe18c919e64d82995dbf81f89cf5c15eb633688b4a\n",
            "  Stored in directory: /root/.cache/pip/wheels/75/ca/e8/ad4e7ce3df18bcd91c7d84dd28c7c08db491a2a2360efed363\n",
            "  Building wheel for python-docx (setup.py) ... \u001b[?25l\u001b[?25hdone\n",
            "  Created wheel for python-docx: filename=python_docx-0.8.10-cp37-none-any.whl size=184491 sha256=8eb4cf0b3b7a04487b9a854c412c0e39adc2c3cf82beba8664d422de286ae7a0\n",
            "  Stored in directory: /root/.cache/pip/wheels/18/0b/a0/1dd62ff812c857c9e487f27d80d53d2b40531bec1acecfa47b\n",
            "  Building wheel for sgmllib3k (setup.py) ... \u001b[?25l\u001b[?25hdone\n",
            "  Created wheel for sgmllib3k: filename=sgmllib3k-1.0.0-cp37-none-any.whl size=6067 sha256=6dc25f20a12304cdb02fe2b450800e50cabd2c1284b0656f1cf251eefd25811e\n",
            "  Stored in directory: /root/.cache/pip/wheels/f1/80/5a/444ba08a550cdd241bd9baf8bae44be750efe370adb944506a\n",
            "Successfully built pattern mysqlclient python-docx sgmllib3k\n",
            "Installing collected packages: backports.csv, mysqlclient, sgmllib3k, feedparser, cryptography, pdfminer.six, python-docx, jaraco.functools, cheroot, jaraco.classes, jaraco.text, jaraco.collections, zc.lockfile, tempora, portend, cherrypy, pattern\n",
            "Successfully installed backports.csv-1.0.7 cheroot-8.5.2 cherrypy-18.6.0 cryptography-3.4.6 feedparser-6.0.2 jaraco.classes-3.2.1 jaraco.collections-3.2.0 jaraco.functools-3.2.1 jaraco.text-3.5.0 mysqlclient-2.0.3 pattern-3.6 pdfminer.six-20201018 portend-2.7.1 python-docx-0.8.10 sgmllib3k-1.0.0 tempora-4.0.1 zc.lockfile-2.0\n"
          ],
          "name": "stdout"
        }
      ]
    },
    {
      "cell_type": "code",
      "metadata": {
        "id": "cJwSUR0-dLn_"
      },
      "source": [
        "import gensim\r\n",
        "from gensim import corpora\r\n",
        "from pprint import pprint"
      ],
      "execution_count": 2,
      "outputs": []
    },
    {
      "cell_type": "code",
      "metadata": {
        "id": "HPwB6m0OddMA"
      },
      "source": [
        "documents = [\"The Saudis are preparing a report that will acknowledge that\", \r\n",
        "             \"Saudi journalist Jamal Khashoggi's death was the result of an\", \r\n",
        "             \"interrogation that went wrong, one that was intended to lead\", \r\n",
        "             \"to his abduction from Turkey, according to two sources.\"]\r\n",
        "\r\n",
        "documents_2 = [\"One source says the report will likely conclude that\", \r\n",
        "                \"the operation was carried out without clearance and\", \r\n",
        "                \"transparency and that those involved will be held\", \r\n",
        "                \"responsible. One of the sources acknowledged that the\", \r\n",
        "                \"report is still being prepared and cautioned that\", \r\n",
        "                \"things could change.\"]"
      ],
      "execution_count": 3,
      "outputs": []
    },
    {
      "cell_type": "code",
      "metadata": {
        "id": "AnzaIhWXdioN"
      },
      "source": [
        "#tokenize the sentence into words\r\n",
        "texts =  [[text for text in doc.split()] for doc in documents]"
      ],
      "execution_count": 5,
      "outputs": []
    },
    {
      "cell_type": "code",
      "metadata": {
        "colab": {
          "base_uri": "https://localhost:8080/"
        },
        "id": "0qZZzVdGdwyl",
        "outputId": "f8c01433-081d-41a8-8bfa-44ae18dfff70"
      },
      "source": [
        "texts[0]"
      ],
      "execution_count": 9,
      "outputs": [
        {
          "output_type": "execute_result",
          "data": {
            "text/plain": [
              "['The',\n",
              " 'Saudis',\n",
              " 'are',\n",
              " 'preparing',\n",
              " 'a',\n",
              " 'report',\n",
              " 'that',\n",
              " 'will',\n",
              " 'acknowledge',\n",
              " 'that']"
            ]
          },
          "metadata": {
            "tags": []
          },
          "execution_count": 9
        }
      ]
    },
    {
      "cell_type": "code",
      "metadata": {
        "id": "riNUm5P5d8CQ"
      },
      "source": [
        "dictionary = corpora.Dictionary(texts)"
      ],
      "execution_count": 10,
      "outputs": []
    },
    {
      "cell_type": "code",
      "metadata": {
        "colab": {
          "base_uri": "https://localhost:8080/"
        },
        "id": "Pcs5qW8ieN54",
        "outputId": "1d63603c-610c-43dc-a329-d838ae53f46b"
      },
      "source": [
        "print(dictionary)"
      ],
      "execution_count": 11,
      "outputs": [
        {
          "output_type": "stream",
          "text": [
            "Dictionary(33 unique tokens: ['Saudis', 'The', 'a', 'acknowledge', 'are']...)\n"
          ],
          "name": "stdout"
        }
      ]
    },
    {
      "cell_type": "code",
      "metadata": {
        "colab": {
          "base_uri": "https://localhost:8080/"
        },
        "id": "gOEXL_c9eRXu",
        "outputId": "ebd9be41-b0df-4309-a5a5-9c00572417cd"
      },
      "source": [
        "#token mapped to id\r\n",
        "print(dictionary.token2id)"
      ],
      "execution_count": 12,
      "outputs": [
        {
          "output_type": "stream",
          "text": [
            "{'Saudis': 0, 'The': 1, 'a': 2, 'acknowledge': 3, 'are': 4, 'preparing': 5, 'report': 6, 'that': 7, 'will': 8, 'Jamal': 9, \"Khashoggi's\": 10, 'Saudi': 11, 'an': 12, 'death': 13, 'journalist': 14, 'of': 15, 'result': 16, 'the': 17, 'was': 18, 'intended': 19, 'interrogation': 20, 'lead': 21, 'one': 22, 'to': 23, 'went': 24, 'wrong,': 25, 'Turkey,': 26, 'abduction': 27, 'according': 28, 'from': 29, 'his': 30, 'sources.': 31, 'two': 32}\n"
          ],
          "name": "stdout"
        }
      ]
    },
    {
      "cell_type": "markdown",
      "metadata": {
        "id": "reIZHsWif6uG"
      },
      "source": [
        "## reading file line by line and create dictionary out of it"
      ]
    },
    {
      "cell_type": "code",
      "metadata": {
        "id": "YVTx4d6QejSb"
      },
      "source": [
        "from gensim.utils import simple_preprocess\r\n",
        "from smart_open import smart_open\r\n",
        "import os"
      ],
      "execution_count": 13,
      "outputs": []
    },
    {
      "cell_type": "code",
      "metadata": {
        "id": "hqp-AB66gImP"
      },
      "source": [
        "#reading single txt file\r\n",
        "dictionary = corpora.Dictionary(simple_preprocess(line, deacc=True) for line in open('/content/resume.txt', encoding='utf-8'))"
      ],
      "execution_count": 14,
      "outputs": []
    },
    {
      "cell_type": "code",
      "metadata": {
        "colab": {
          "base_uri": "https://localhost:8080/"
        },
        "id": "iPAk2nDfgcSr",
        "outputId": "d23484d7-fdf2-4be3-cee2-1e3f61f625fd"
      },
      "source": [
        "dictionary.token2id"
      ],
      "execution_count": 15,
      "outputs": [
        {
          "output_type": "execute_result",
          "data": {
            "text/plain": [
              "{'accenture': 72,\n",
              " 'address': 10,\n",
              " 'advanced': 133,\n",
              " 'agra': 120,\n",
              " 'also': 56,\n",
              " 'analyst': 71,\n",
              " 'and': 26,\n",
              " 'api': 130,\n",
              " 'automated': 90,\n",
              " 'azure': 27,\n",
              " 'bachelors': 103,\n",
              " 'background': 57,\n",
              " 'birth': 7,\n",
              " 'board': 118,\n",
              " 'bots': 58,\n",
              " 'building': 28,\n",
              " 'built': 91,\n",
              " 'central': 119,\n",
              " 'certificate': 112,\n",
              " 'chatbots': 29,\n",
              " 'city': 11,\n",
              " 'class': 113,\n",
              " 'classification': 73,\n",
              " 'client': 59,\n",
              " 'clients': 60,\n",
              " 'cloud': 30,\n",
              " 'com': 17,\n",
              " 'consultancy': 87,\n",
              " 'created': 92,\n",
              " 'daffodils': 12,\n",
              " 'data': 2,\n",
              " 'date': 8,\n",
              " 'deep': 124,\n",
              " 'delhi': 89,\n",
              " 'delivered': 74,\n",
              " 'delivering': 61,\n",
              " 'developer': 85,\n",
              " 'dialogflow': 128,\n",
              " 'domain': 75,\n",
              " 'education': 102,\n",
              " 'email': 18,\n",
              " 'end': 31,\n",
              " 'experience': 32,\n",
              " 'faq': 62,\n",
              " 'finance': 76,\n",
              " 'for': 63,\n",
              " 'french': 134,\n",
              " 'from': 93,\n",
              " 'generating': 94,\n",
              " 'generation': 127,\n",
              " 'ghaziabad': 109,\n",
              " 'globant': 54,\n",
              " 'gmail': 19,\n",
              " 'google': 33,\n",
              " 'grades': 110,\n",
              " 'hands': 34,\n",
              " 'healthcare': 64,\n",
              " 'higher': 114,\n",
              " 'https': 20,\n",
              " 'in': 21,\n",
              " 'india': 55,\n",
              " 'indian': 5,\n",
              " 'insights': 95,\n",
              " 'involved': 96,\n",
              " 'it': 77,\n",
              " 'language': 35,\n",
              " 'languages': 132,\n",
              " 'learning': 36,\n",
              " 'like': 37,\n",
              " 'link': 22,\n",
              " 'linkedin': 23,\n",
              " 'machine': 38,\n",
              " 'magarpatta': 13,\n",
              " 'model': 39,\n",
              " 'nationality': 6,\n",
              " 'natural': 40,\n",
              " 'objective': 25,\n",
              " 'occupation': 3,\n",
              " 'of': 9,\n",
              " 'on': 41,\n",
              " 'out': 121,\n",
              " 'paliwal': 0,\n",
              " 'passionate': 42,\n",
              " 'performed': 78,\n",
              " 'phone': 16,\n",
              " 'pipelines': 43,\n",
              " 'platforms': 44,\n",
              " 'pradesh': 105,\n",
              " 'processing': 45,\n",
              " 'professional': 46,\n",
              " 'pune': 14,\n",
              " 'pyhton': 123,\n",
              " 'received': 79,\n",
              " 'regression': 80,\n",
              " 'reports': 97,\n",
              " 'required': 65,\n",
              " 'research': 98,\n",
              " 'responsible': 66,\n",
              " 'rest': 131,\n",
              " 'scheduled': 99,\n",
              " 'school': 115,\n",
              " 'science': 47,\n",
              " 'scientist': 4,\n",
              " 'secondary': 116,\n",
              " 'secured': 111,\n",
              " 'senior': 53,\n",
              " 'services': 67,\n",
              " 'skilled': 68,\n",
              " 'skills': 122,\n",
              " 'society': 15,\n",
              " 'software': 86,\n",
              " 'solid': 48,\n",
              " 'sql': 129,\n",
              " 'statistics': 125,\n",
              " 'tableau': 100,\n",
              " 'task': 81,\n",
              " 'tata': 88,\n",
              " 'technical': 106,\n",
              " 'technology': 104,\n",
              " 'text': 82,\n",
              " 'th': 117,\n",
              " 'that': 69,\n",
              " 'the': 83,\n",
              " 'to': 49,\n",
              " 'understanding': 126,\n",
              " 'university': 107,\n",
              " 'using': 50,\n",
              " 'uttar': 108,\n",
              " 'visualization': 101,\n",
              " 'was': 84,\n",
              " 'with': 51,\n",
              " 'worked': 70,\n",
              " 'www': 24,\n",
              " 'yatika': 1,\n",
              " 'year': 52}"
            ]
          },
          "metadata": {
            "tags": []
          },
          "execution_count": 15
        }
      ]
    },
    {
      "cell_type": "code",
      "metadata": {
        "id": "KQMZwxqbggGw"
      },
      "source": [
        "#reading multiple text file\r\n",
        "class ReadTxtFiles(object):\r\n",
        "    def __init__(self, dirname):\r\n",
        "        self.dirname = dirname\r\n",
        "\r\n",
        "    def __iter__(self):\r\n",
        "        for fname in os.listdir(self.dirname):\r\n",
        "            for line in open(os.path.join(self.dirname, fname), encoding='latin'):\r\n",
        "                yield simple_preprocess(line)\r\n",
        "\r\n",
        "path_to_text_directory = \"\"\r\n",
        "\r\n",
        "dictionary = corpora.Dictionary(ReadTxtFiles(path_to_text_directory))"
      ],
      "execution_count": null,
      "outputs": []
    },
    {
      "cell_type": "markdown",
      "metadata": {
        "id": "mz9BymNAhra9"
      },
      "source": [
        "## create bag of words corpus in gensim"
      ]
    },
    {
      "cell_type": "code",
      "metadata": {
        "id": "c-baPQ_Tg401"
      },
      "source": [
        "my_docs = [\"Who let the dogs out?\",\r\n",
        "           \"Who? Who? Who? Who?\"]"
      ],
      "execution_count": 16,
      "outputs": []
    },
    {
      "cell_type": "code",
      "metadata": {
        "id": "ydyEIevrhvv5"
      },
      "source": [
        "#tokenize the document\r\n",
        "tokenised_docs = [simple_preprocess(doc) for doc in my_docs]"
      ],
      "execution_count": 18,
      "outputs": []
    },
    {
      "cell_type": "code",
      "metadata": {
        "colab": {
          "base_uri": "https://localhost:8080/"
        },
        "id": "fMZaH2JVh3mC",
        "outputId": "9c02acab-3a49-43c0-a56b-b495e958b611"
      },
      "source": [
        "#create corpus\r\n",
        "mydict = corpora.Dictionary()\r\n",
        "mycorpus = [mydict.doc2bow(doc, allow_update = True) for doc in tokenised_docs]\r\n",
        "pprint(mycorpus)\r\n",
        "\r\n",
        "#The (0, 1) in line 1 means, the word with id=0 appears once in the 1st document.\r\n",
        "#Likewise, the (4, 4) in the second list item means the word with id 4 appears 4 times in the second document. And so on."
      ],
      "execution_count": 19,
      "outputs": [
        {
          "output_type": "stream",
          "text": [
            "[[(0, 1), (1, 1), (2, 1), (3, 1), (4, 1)], [(4, 4)]]\n"
          ],
          "name": "stdout"
        }
      ]
    },
    {
      "cell_type": "code",
      "metadata": {
        "id": "Mm07Lu_HiZhR"
      },
      "source": [
        "#lets get the original text back\r\n",
        "word_count = [[(mydict[id], count) for id, count in line] for line in mycorpus]"
      ],
      "execution_count": 20,
      "outputs": []
    },
    {
      "cell_type": "code",
      "metadata": {
        "colab": {
          "base_uri": "https://localhost:8080/"
        },
        "id": "ztujg_Wcj7EW",
        "outputId": "59681280-4bf8-4aaa-908e-4e5527b7092a"
      },
      "source": [
        "pprint(word_count)"
      ],
      "execution_count": 21,
      "outputs": [
        {
          "output_type": "stream",
          "text": [
            "[[('dogs', 1), ('let', 1), ('out', 1), ('the', 1), ('who', 1)], [('who', 4)]]\n"
          ],
          "name": "stdout"
        }
      ]
    },
    {
      "cell_type": "code",
      "metadata": {
        "colab": {
          "base_uri": "https://localhost:8080/"
        },
        "id": "fDd61ZN7j9ny",
        "outputId": "e1ca406b-df5c-4236-d1bb-f5767083d324"
      },
      "source": [
        "#create bag of words from text file\r\n",
        "import nltk\r\n",
        "nltk.download('stopwords')  # run once\r\n",
        "from nltk.corpus import stopwords\r\n",
        "stop_words = stopwords.words('english')"
      ],
      "execution_count": 23,
      "outputs": [
        {
          "output_type": "stream",
          "text": [
            "[nltk_data] Downloading package stopwords to /root/nltk_data...\n",
            "[nltk_data]   Unzipping corpora/stopwords.zip.\n"
          ],
          "name": "stdout"
        }
      ]
    },
    {
      "cell_type": "code",
      "metadata": {
        "colab": {
          "base_uri": "https://localhost:8080/"
        },
        "id": "MunHNQN-lnry",
        "outputId": "63c9ea7b-b423-4899-da58-f018ddda63b4"
      },
      "source": [
        "class BoWCorpus(object):\r\n",
        "  global mydict\r\n",
        "  def __init__(self, path, dictionary):\r\n",
        "    self.file_path = path\r\n",
        "    self.dictionary = dictionary\r\n",
        "\r\n",
        "  def __iter__(self):\r\n",
        "    for line in smart_open(self.file_path , encoding='utf-8'):\r\n",
        "      tokenised_list = simple_preprocess(line, deacc=True)\r\n",
        "\r\n",
        "      bow = self.dictionary.doc2bow(tokenised_list, allow_update = True)\r\n",
        "\r\n",
        "      mydict.merge_with(self.dictionary)\r\n",
        "\r\n",
        "      yield bow\r\n",
        "\r\n",
        "\r\n",
        "# Create the Dictionary\r\n",
        "mydict = corpora.Dictionary()\r\n",
        "\r\n",
        "# Create the Corpus\r\n",
        "bow_corpus = BoWCorpus('/content/resume.txt', dictionary=mydict)  # memory friendly\r\n",
        "\r\n",
        "# Print the token_id and count for each line.\r\n",
        "for line in bow_corpus:\r\n",
        "    print(line)"
      ],
      "execution_count": 28,
      "outputs": [
        {
          "output_type": "stream",
          "text": [
            "[]\n",
            "[(0, 1), (1, 1)]\n",
            "[]\n",
            "[(2, 1), (3, 1), (4, 1)]\n",
            "[(5, 1), (6, 1)]\n",
            "[(7, 1), (8, 1), (9, 1)]\n",
            "[(10, 1), (11, 1), (12, 1), (13, 1), (14, 1), (15, 1)]\n",
            "[(16, 1)]\n",
            "[(0, 1), (1, 1), (17, 1), (18, 1), (19, 1)]\n",
            "[(0, 1), (1, 1), (17, 1), (20, 1), (21, 1), (22, 1), (23, 1), (24, 1)]\n",
            "[]\n",
            "[]\n",
            "[(25, 1)]\n",
            "[]\n",
            "[(2, 1), (9, 1), (21, 1), (26, 2), (27, 1), (28, 2), (29, 1), (30, 2), (31, 2), (32, 1), (33, 1), (34, 1), (35, 1), (36, 1), (37, 1), (38, 1), (39, 1), (40, 1), (41, 1), (42, 1), (43, 1), (44, 1), (45, 1), (46, 1), (47, 1), (48, 1), (49, 1), (50, 1), (51, 1), (52, 1)]\n",
            "[]\n",
            "[(32, 1)]\n",
            "[]\n",
            "[(2, 1), (4, 1), (53, 1)]\n",
            "[(54, 1), (55, 1)]\n",
            "[(14, 1), (55, 1)]\n",
            "[]\n",
            "[(9, 1), (21, 1), (26, 4), (27, 1), (28, 2), (30, 2), (32, 1), (33, 1), (35, 1), (36, 1), (38, 1), (39, 1), (40, 1), (41, 2), (43, 1), (44, 1), (45, 1), (48, 1), (49, 1), (51, 1), (56, 1), (57, 1), (58, 1), (59, 1), (60, 1), (61, 1), (62, 1), (63, 1), (64, 1), (65, 1), (66, 1), (67, 2), (68, 1), (69, 1), (70, 2)]\n",
            "[]\n",
            "[(71, 1)]\n",
            "[(55, 1), (72, 1)]\n",
            "[(14, 1), (55, 1)]\n",
            "[]\n",
            "[(21, 1), (26, 1), (28, 1), (35, 1), (39, 2), (40, 1), (41, 1), (45, 1), (56, 1), (59, 1), (63, 2), (64, 1), (66, 1), (69, 1), (70, 1), (73, 1), (74, 1), (75, 1), (76, 1), (77, 1), (78, 1), (79, 1), (80, 1), (81, 1), (82, 1), (83, 1), (84, 1)]\n",
            "[]\n",
            "[(85, 1), (86, 1)]\n",
            "[(55, 1), (67, 1), (87, 1), (88, 1)]\n",
            "[(55, 1), (89, 1)]\n",
            "[]\n",
            "[(2, 3), (26, 1), (31, 2), (36, 1), (38, 1), (39, 1), (41, 2), (49, 1), (50, 2), (56, 1), (59, 1), (63, 1), (64, 1), (69, 1), (70, 1), (73, 1), (90, 1), (91, 1), (92, 1), (93, 1), (94, 1), (95, 1), (96, 1), (97, 1), (98, 1), (99, 1), (100, 2), (101, 1)]\n",
            "[]\n",
            "[(102, 1)]\n",
            "[]\n",
            "[(21, 1), (103, 1), (104, 1)]\n",
            "[(55, 1), (105, 1), (106, 1), (107, 1), (108, 1)]\n",
            "[(55, 1), (109, 1)]\n",
            "[(110, 1), (111, 1)]\n",
            "[]\n",
            "[(112, 1), (113, 1), (114, 1), (115, 1), (116, 1), (117, 1)]\n",
            "[(9, 1), (102, 1), (116, 1), (118, 1), (119, 1)]\n",
            "[(55, 1), (120, 1)]\n",
            "[(9, 1), (110, 1), (111, 1), (121, 1)]\n",
            "[]\n",
            "[(112, 1), (113, 1), (115, 1), (116, 1), (117, 1)]\n",
            "[(9, 1), (102, 1), (116, 1), (118, 1), (119, 1)]\n",
            "[(55, 1), (120, 1)]\n",
            "[(9, 1), (110, 1), (111, 1), (121, 1)]\n",
            "[]\n",
            "[(122, 1)]\n",
            "[]\n",
            "[(36, 1), (38, 1)]\n",
            "[]\n",
            "[(123, 1)]\n",
            "[]\n",
            "[(36, 1), (124, 1)]\n",
            "[]\n",
            "[(125, 1)]\n",
            "[]\n",
            "[(35, 1), (40, 1), (45, 1)]\n",
            "[]\n",
            "[(35, 1), (40, 1), (126, 1)]\n",
            "[]\n",
            "[(35, 1), (40, 1), (127, 1)]\n",
            "[]\n",
            "[(27, 1), (30, 1), (67, 1)]\n",
            "[]\n",
            "[(33, 1), (128, 1)]\n",
            "[]\n",
            "[(100, 1)]\n",
            "[]\n",
            "[(129, 1)]\n",
            "[]\n",
            "[(130, 1), (131, 1)]\n",
            "[]\n",
            "[(132, 1)]\n",
            "[]\n",
            "[(133, 1), (134, 1)]\n",
            "[]\n"
          ],
          "name": "stdout"
        }
      ]
    },
    {
      "cell_type": "markdown",
      "metadata": {
        "id": "DNG0797No-Si"
      },
      "source": [
        "## Save dictionary and corpus to the disk"
      ]
    },
    {
      "cell_type": "code",
      "metadata": {
        "id": "KF-Hk4uznJP_"
      },
      "source": [
        "mydict.save('mydict.dict')"
      ],
      "execution_count": 32,
      "outputs": []
    },
    {
      "cell_type": "code",
      "metadata": {
        "id": "fERB6iPLoxfQ"
      },
      "source": [
        "corpora.MmCorpus.serialize('bow_corpus.mm', bow_corpus)"
      ],
      "execution_count": 33,
      "outputs": []
    },
    {
      "cell_type": "code",
      "metadata": {
        "id": "k1JBbcnMppYM"
      },
      "source": [
        "#load them back into memory\r\n",
        "loaded_dict = corpora.Dictionary.load('mydict.dict')"
      ],
      "execution_count": 34,
      "outputs": []
    },
    {
      "cell_type": "code",
      "metadata": {
        "id": "OlRQvWyMpyRR"
      },
      "source": [
        "corpus = corpora.MmCorpus('bow_corpus.mm')"
      ],
      "execution_count": 35,
      "outputs": []
    },
    {
      "cell_type": "code",
      "metadata": {
        "colab": {
          "base_uri": "https://localhost:8080/"
        },
        "id": "55h_Fd1wp5hc",
        "outputId": "782cb7fb-0877-4238-c229-d55a88ccd8c5"
      },
      "source": [
        "for line in corpus:\r\n",
        "  print(line)"
      ],
      "execution_count": 36,
      "outputs": [
        {
          "output_type": "stream",
          "text": [
            "[]\n",
            "[(0, 1.0), (1, 1.0)]\n",
            "[]\n",
            "[(2, 1.0), (3, 1.0), (4, 1.0)]\n",
            "[(5, 1.0), (6, 1.0)]\n",
            "[(7, 1.0), (8, 1.0), (9, 1.0)]\n",
            "[(10, 1.0), (11, 1.0), (12, 1.0), (13, 1.0), (14, 1.0), (15, 1.0)]\n",
            "[(16, 1.0)]\n",
            "[(0, 1.0), (1, 1.0), (17, 1.0), (18, 1.0), (19, 1.0)]\n",
            "[(0, 1.0), (1, 1.0), (17, 1.0), (20, 1.0), (21, 1.0), (22, 1.0), (23, 1.0), (24, 1.0)]\n",
            "[]\n",
            "[]\n",
            "[(25, 1.0)]\n",
            "[]\n",
            "[(2, 1.0), (9, 1.0), (21, 1.0), (26, 2.0), (27, 1.0), (28, 2.0), (29, 1.0), (30, 2.0), (31, 2.0), (32, 1.0), (33, 1.0), (34, 1.0), (35, 1.0), (36, 1.0), (37, 1.0), (38, 1.0), (39, 1.0), (40, 1.0), (41, 1.0), (42, 1.0), (43, 1.0), (44, 1.0), (45, 1.0), (46, 1.0), (47, 1.0), (48, 1.0), (49, 1.0), (50, 1.0), (51, 1.0), (52, 1.0)]\n",
            "[]\n",
            "[(32, 1.0)]\n",
            "[]\n",
            "[(2, 1.0), (4, 1.0), (53, 1.0)]\n",
            "[(54, 1.0), (55, 1.0)]\n",
            "[(14, 1.0), (55, 1.0)]\n",
            "[]\n",
            "[(9, 1.0), (21, 1.0), (26, 4.0), (27, 1.0), (28, 2.0), (30, 2.0), (32, 1.0), (33, 1.0), (35, 1.0), (36, 1.0), (38, 1.0), (39, 1.0), (40, 1.0), (41, 2.0), (43, 1.0), (44, 1.0), (45, 1.0), (48, 1.0), (49, 1.0), (51, 1.0), (56, 1.0), (57, 1.0), (58, 1.0), (59, 1.0), (60, 1.0), (61, 1.0), (62, 1.0), (63, 1.0), (64, 1.0), (65, 1.0), (66, 1.0), (67, 2.0), (68, 1.0), (69, 1.0), (70, 2.0)]\n",
            "[]\n",
            "[(71, 1.0)]\n",
            "[(55, 1.0), (72, 1.0)]\n",
            "[(14, 1.0), (55, 1.0)]\n",
            "[]\n",
            "[(21, 1.0), (26, 1.0), (28, 1.0), (35, 1.0), (39, 2.0), (40, 1.0), (41, 1.0), (45, 1.0), (56, 1.0), (59, 1.0), (63, 2.0), (64, 1.0), (66, 1.0), (69, 1.0), (70, 1.0), (73, 1.0), (74, 1.0), (75, 1.0), (76, 1.0), (77, 1.0), (78, 1.0), (79, 1.0), (80, 1.0), (81, 1.0), (82, 1.0), (83, 1.0), (84, 1.0)]\n",
            "[]\n",
            "[(85, 1.0), (86, 1.0)]\n",
            "[(55, 1.0), (67, 1.0), (87, 1.0), (88, 1.0)]\n",
            "[(55, 1.0), (89, 1.0)]\n",
            "[]\n",
            "[(2, 3.0), (26, 1.0), (31, 2.0), (36, 1.0), (38, 1.0), (39, 1.0), (41, 2.0), (49, 1.0), (50, 2.0), (56, 1.0), (59, 1.0), (63, 1.0), (64, 1.0), (69, 1.0), (70, 1.0), (73, 1.0), (90, 1.0), (91, 1.0), (92, 1.0), (93, 1.0), (94, 1.0), (95, 1.0), (96, 1.0), (97, 1.0), (98, 1.0), (99, 1.0), (100, 2.0), (101, 1.0)]\n",
            "[]\n",
            "[(102, 1.0)]\n",
            "[]\n",
            "[(21, 1.0), (103, 1.0), (104, 1.0)]\n",
            "[(55, 1.0), (105, 1.0), (106, 1.0), (107, 1.0), (108, 1.0)]\n",
            "[(55, 1.0), (109, 1.0)]\n",
            "[(110, 1.0), (111, 1.0)]\n",
            "[]\n",
            "[(112, 1.0), (113, 1.0), (114, 1.0), (115, 1.0), (116, 1.0), (117, 1.0)]\n",
            "[(9, 1.0), (102, 1.0), (116, 1.0), (118, 1.0), (119, 1.0)]\n",
            "[(55, 1.0), (120, 1.0)]\n",
            "[(9, 1.0), (110, 1.0), (111, 1.0), (121, 1.0)]\n",
            "[]\n",
            "[(112, 1.0), (113, 1.0), (115, 1.0), (116, 1.0), (117, 1.0)]\n",
            "[(9, 1.0), (102, 1.0), (116, 1.0), (118, 1.0), (119, 1.0)]\n",
            "[(55, 1.0), (120, 1.0)]\n",
            "[(9, 1.0), (110, 1.0), (111, 1.0), (121, 1.0)]\n",
            "[]\n",
            "[(122, 1.0)]\n",
            "[]\n",
            "[(36, 1.0), (38, 1.0)]\n",
            "[]\n",
            "[(123, 1.0)]\n",
            "[]\n",
            "[(36, 1.0), (124, 1.0)]\n",
            "[]\n",
            "[(125, 1.0)]\n",
            "[]\n",
            "[(35, 1.0), (40, 1.0), (45, 1.0)]\n",
            "[]\n",
            "[(35, 1.0), (40, 1.0), (126, 1.0)]\n",
            "[]\n",
            "[(35, 1.0), (40, 1.0), (127, 1.0)]\n",
            "[]\n",
            "[(27, 1.0), (30, 1.0), (67, 1.0)]\n",
            "[]\n",
            "[(33, 1.0), (128, 1.0)]\n",
            "[]\n",
            "[(100, 1.0)]\n",
            "[]\n",
            "[(129, 1.0)]\n",
            "[]\n",
            "[(130, 1.0), (131, 1.0)]\n",
            "[]\n",
            "[(132, 1.0)]\n",
            "[]\n",
            "[(133, 1.0), (134, 1.0)]\n",
            "[]\n"
          ],
          "name": "stdout"
        }
      ]
    },
    {
      "cell_type": "markdown",
      "metadata": {
        "id": "UNzpzyDtqZhZ"
      },
      "source": [
        "##Create TFIDF matrix corpus in gensim"
      ]
    },
    {
      "cell_type": "code",
      "metadata": {
        "id": "DtbavhA4p9k4"
      },
      "source": [
        "from gensim import models\r\n",
        "import numpy as np"
      ],
      "execution_count": 37,
      "outputs": []
    },
    {
      "cell_type": "code",
      "metadata": {
        "id": "pgMMMBJjqpP0"
      },
      "source": [
        "documents = [\"This is the first line\",\r\n",
        "             \"This is the second sentence\",\r\n",
        "             \"This third document\"]"
      ],
      "execution_count": 38,
      "outputs": []
    },
    {
      "cell_type": "code",
      "metadata": {
        "id": "pulqo0TNqrI6"
      },
      "source": [
        "#create dictionary and corpus\r\n",
        "mydict = corpora.Dictionary()\r\n",
        "corpus = [mydict.doc2bow(simple_preprocess(docs), allow_update=True) for docs in documents]"
      ],
      "execution_count": 49,
      "outputs": []
    },
    {
      "cell_type": "code",
      "metadata": {
        "colab": {
          "base_uri": "https://localhost:8080/"
        },
        "id": "8p1tMYPUrR9u",
        "outputId": "30d8b32f-c5d7-423c-f966-8012e56fbc1e"
      },
      "source": [
        "# Show the Word Weights in Corpus\r\n",
        "for doc in corpus:\r\n",
        "    print([[mydict[id], freq] for id, freq in doc])"
      ],
      "execution_count": 50,
      "outputs": [
        {
          "output_type": "stream",
          "text": [
            "[['first', 1], ['is', 1], ['line', 1], ['the', 1], ['this', 1]]\n",
            "[['is', 1], ['the', 1], ['this', 1], ['second', 1], ['sentence', 1]]\n",
            "[['this', 1], ['document', 1], ['third', 1]]\n"
          ],
          "name": "stdout"
        }
      ]
    },
    {
      "cell_type": "code",
      "metadata": {
        "id": "BJq6X3HTsBwf"
      },
      "source": [
        "#create tfidf model\r\n",
        "tfidf = models.TfidfModel(corpus, smartirs='ntc')"
      ],
      "execution_count": 51,
      "outputs": []
    },
    {
      "cell_type": "code",
      "metadata": {
        "colab": {
          "base_uri": "https://localhost:8080/"
        },
        "id": "X7O5DEt1tRLw",
        "outputId": "ed4930de-f036-40c1-b2fe-873dfc658870"
      },
      "source": [
        "for doc in tfidf[corpus]:\r\n",
        "  print([[mydict[id], np.around(freq, decimals=2)] for id, freq in doc])"
      ],
      "execution_count": 52,
      "outputs": [
        {
          "output_type": "stream",
          "text": [
            "[['first', 0.66], ['is', 0.24], ['line', 0.66], ['the', 0.24]]\n",
            "[['is', 0.24], ['the', 0.24], ['second', 0.66], ['sentence', 0.66]]\n",
            "[['document', 0.71], ['third', 0.71]]\n"
          ],
          "name": "stdout"
        }
      ]
    },
    {
      "cell_type": "markdown",
      "metadata": {
        "id": "PqZCAirZ-hxi"
      },
      "source": [
        "## create bigrams and trigrams using Phraser model of gensim"
      ]
    },
    {
      "cell_type": "code",
      "metadata": {
        "id": "S09wOPnEtZAX"
      },
      "source": [
        "import gensim.downloader as api"
      ],
      "execution_count": 53,
      "outputs": []
    },
    {
      "cell_type": "code",
      "metadata": {
        "id": "TPnxgB5T-zcR"
      },
      "source": [
        "dataset = api.load('text8')\r\n",
        "dataset = [wd for wd in dataset]"
      ],
      "execution_count": 56,
      "outputs": []
    },
    {
      "cell_type": "code",
      "metadata": {
        "id": "rM760k-W_EmV"
      },
      "source": [
        "dct = corpora.Dictionary(dataset)\r\n",
        "corps = [dct.doc2bow(line) for line in dataset]"
      ],
      "execution_count": 58,
      "outputs": []
    },
    {
      "cell_type": "code",
      "metadata": {
        "id": "cxI14JnQ_0eY"
      },
      "source": [
        "#build bigrams model\r\n",
        "bigram = gensim.models.phrases.Phrases(dataset, min_count=3, threshold=10)"
      ],
      "execution_count": 59,
      "outputs": []
    },
    {
      "cell_type": "code",
      "metadata": {
        "colab": {
          "base_uri": "https://localhost:8080/"
        },
        "id": "FINwdOq9AMcq",
        "outputId": "70dfc3de-fadc-4087-d5da-b958e306a8dc"
      },
      "source": [
        "#Construct bigram\r\n",
        "print(bigram[dataset[0]])"
      ],
      "execution_count": 60,
      "outputs": [
        {
          "output_type": "stream",
          "text": [
            "['anarchism', 'originated', 'as', 'a', 'term', 'of', 'abuse', 'first', 'used', 'against', 'early', 'working_class', 'radicals', 'including', 'the', 'diggers', 'of', 'the', 'english', 'revolution', 'and', 'the', 'sans_culottes', 'of', 'the', 'french_revolution', 'whilst', 'the', 'term', 'is', 'still', 'used', 'in', 'a', 'pejorative_way', 'to', 'describe', 'any', 'act', 'that', 'used', 'violent', 'means', 'to', 'destroy', 'the', 'organization', 'of', 'society', 'it', 'has', 'also', 'been', 'taken_up', 'as', 'a', 'positive', 'label', 'by', 'self', 'defined', 'anarchists', 'the', 'word', 'anarchism', 'is', 'derived_from', 'the', 'greek', 'without', 'archons', 'ruler', 'chief', 'king', 'anarchism', 'as', 'a', 'political_philosophy', 'is', 'the', 'belief_that', 'rulers', 'are', 'unnecessary', 'and', 'should_be', 'abolished', 'although', 'there_are', 'differing_interpretations', 'of', 'what', 'this', 'means', 'anarchism', 'also', 'refers_to', 'related', 'social_movements', 'that', 'advocate', 'the', 'elimination', 'of', 'authoritarian', 'institutions', 'particularly', 'the', 'state', 'the', 'word', 'anarchy', 'as', 'most', 'anarchists', 'use', 'it', 'does_not', 'imply', 'chaos', 'nihilism', 'or', 'anomie', 'but_rather', 'a', 'harmonious', 'anti_authoritarian', 'society', 'in', 'place', 'of', 'what', 'are', 'regarded_as', 'authoritarian', 'political', 'structures', 'and', 'coercive', 'economic', 'institutions', 'anarchists', 'advocate', 'social', 'relations', 'based_upon', 'voluntary_association', 'of', 'autonomous', 'individuals', 'mutual_aid', 'and', 'self_governance', 'while', 'anarchism', 'is', 'most', 'easily', 'defined', 'by', 'what', 'it', 'is', 'against', 'anarchists', 'also', 'offer', 'positive', 'visions', 'of', 'what', 'they_believe', 'to', 'be', 'a', 'truly', 'free', 'society', 'however', 'ideas_about', 'how', 'an', 'anarchist_society', 'might', 'work', 'vary_considerably', 'especially', 'with_respect', 'to', 'economics', 'there', 'is', 'also', 'disagreement_about', 'how', 'a', 'free', 'society', 'might_be', 'brought_about', 'origins', 'and', 'predecessors', 'kropotkin', 'and', 'others_argue', 'that', 'before', 'recorded_history', 'human', 'society', 'was', 'organized', 'on', 'anarchist_principles', 'most', 'anthropologists', 'follow', 'kropotkin', 'and', 'engels', 'in', 'believing_that', 'hunter_gatherer', 'bands', 'were', 'egalitarian', 'and', 'lacked', 'division', 'of', 'labour', 'accumulated_wealth', 'or', 'decreed', 'law', 'and', 'had', 'equal', 'access', 'to', 'resources', 'william_godwin', 'anarchists', 'including', 'the', 'the', 'anarchy', 'organisation', 'and', 'rothbard', 'find', 'anarchist', 'attitudes', 'in', 'taoism', 'from', 'ancient', 'china', 'kropotkin', 'found', 'similar', 'ideas', 'in', 'stoic', 'zeno', 'of', 'citium', 'according_to', 'kropotkin', 'zeno', 'repudiated', 'the', 'omnipotence', 'of', 'the', 'state', 'its', 'intervention', 'and', 'regimentation', 'and', 'proclaimed', 'the', 'sovereignty', 'of', 'the', 'moral', 'law', 'of', 'the', 'individual', 'the', 'anabaptists', 'of', 'one', 'six', 'th_century', 'europe', 'are', 'sometimes_considered', 'to', 'be', 'religious', 'forerunners', 'of', 'modern', 'anarchism', 'bertrand_russell', 'in', 'his', 'history', 'of', 'western_philosophy', 'writes', 'that', 'the', 'anabaptists', 'repudiated', 'all', 'law', 'since', 'they', 'held', 'that', 'the', 'good', 'man', 'will_be', 'guided', 'at', 'every', 'moment', 'by', 'the', 'holy_spirit', 'from', 'this', 'premise', 'they', 'arrive_at', 'communism', 'the', 'diggers', 'or', 'true', 'levellers', 'were', 'an', 'early', 'communistic', 'movement', 'during', 'the', 'time', 'of', 'the', 'english_civil', 'war', 'and', 'are', 'considered', 'by', 'some', 'as', 'forerunners', 'of', 'modern', 'anarchism', 'in', 'the', 'modern_era', 'the', 'first', 'to', 'use', 'the', 'term', 'to', 'mean', 'something', 'other', 'than', 'chaos', 'was', 'louis', 'armand', 'baron_de', 'lahontan', 'in', 'his', 'nouveaux', 'voyages', 'dans_l', 'am_rique', 'septentrionale', 'one', 'seven', 'zero', 'three', 'where', 'he', 'described', 'the', 'indigenous', 'american', 'society', 'which', 'had', 'no', 'state', 'laws', 'prisons', 'priests', 'or', 'private_property', 'as', 'being', 'in', 'anarchy', 'russell', 'means', 'a', 'libertarian', 'and', 'leader', 'in', 'the', 'american', 'indian', 'movement', 'has', 'repeatedly_stated', 'that', 'he', 'is', 'an', 'anarchist', 'and', 'so', 'are', 'all', 'his', 'ancestors', 'in', 'one', 'seven', 'nine', 'three', 'in', 'the', 'thick', 'of', 'the', 'french_revolution', 'william_godwin', 'published', 'an_enquiry', 'concerning', 'political', 'justice', 'although', 'godwin', 'did_not', 'use', 'the', 'word', 'anarchism', 'many', 'later', 'anarchists', 'have', 'regarded', 'this', 'book', 'as', 'the', 'first', 'major', 'anarchist', 'text', 'and', 'godwin', 'as', 'the', 'founder', 'of', 'philosophical_anarchism', 'but', 'at', 'this', 'point', 'no', 'anarchist_movement', 'yet', 'existed', 'and', 'the', 'term', 'anarchiste', 'was', 'known', 'mainly', 'as', 'an_insult', 'hurled', 'by', 'the', 'bourgeois', 'girondins', 'at', 'more_radical', 'elements', 'in', 'the', 'french_revolution', 'the', 'first', 'self', 'labelled', 'anarchist', 'pierre_joseph', 'proudhon', 'it', 'is', 'commonly', 'held', 'that', 'it_wasn', 't', 'until', 'pierre_joseph', 'proudhon', 'published', 'what', 'is', 'property', 'in', 'one', 'eight', 'four', 'zero', 'that', 'the', 'term', 'anarchist', 'was', 'adopted', 'as', 'a', 'self', 'description', 'it', 'is', 'for', 'this_reason', 'that', 'some', 'claim', 'proudhon', 'as', 'the', 'founder', 'of', 'modern', 'anarchist', 'theory', 'in', 'what', 'is', 'property', 'proudhon', 'answers', 'with', 'the', 'famous', 'accusation', 'property', 'is', 'theft', 'in', 'this', 'work', 'he', 'opposed', 'the', 'institution', 'of', 'decreed', 'property', 'propri_t', 'where', 'owners', 'have', 'complete', 'rights', 'to', 'use', 'and', 'abuse', 'their', 'property', 'as', 'they_wish', 'such_as', 'exploiting', 'workers', 'for', 'profit', 'in', 'its', 'place', 'proudhon', 'supported', 'what', 'he', 'called', 'possession', 'individuals', 'can', 'have', 'limited', 'rights', 'to', 'use', 'resources', 'capital', 'and', 'goods', 'in_accordance', 'with', 'principles', 'of', 'equality', 'and', 'justice', 'proudhon', 's', 'vision', 'of', 'anarchy', 'which', 'he', 'called', 'mutualism', 'mutuellisme', 'involved', 'an', 'exchange', 'economy', 'where', 'individuals', 'and', 'groups', 'could', 'trade', 'the', 'products', 'of', 'their', 'labor', 'using', 'labor', 'notes', 'which', 'represented', 'the', 'amount', 'of', 'working', 'time', 'involved', 'in', 'production', 'this', 'would', 'ensure_that', 'no', 'one', 'would', 'profit', 'from', 'the', 'labor', 'of', 'others', 'workers', 'could', 'freely', 'join_together', 'in', 'co_operative', 'workshops', 'an', 'interest', 'free', 'bank', 'would_be', 'set_up', 'to', 'provide', 'everyone', 'with', 'access', 'to', 'the', 'means', 'of', 'production', 'proudhon', 's', 'ideas', 'were', 'influential', 'within', 'french', 'working_class', 'movements', 'and', 'his_followers', 'were', 'active', 'in', 'the', 'revolution', 'of', 'one', 'eight', 'four', 'eight', 'in', 'france', 'proudhon', 's', 'philosophy', 'of', 'property', 'is', 'complex', 'it', 'was', 'developed', 'in', 'a', 'number', 'of', 'works', 'over', 'his_lifetime', 'and', 'there_are', 'differing_interpretations', 'of', 'some', 'of', 'his', 'ideas', 'for', 'more_detailed', 'discussion', 'see', 'here', 'max_stirner', 's', 'egoism', 'in', 'his', 'the', 'ego', 'and', 'its_own', 'stirner', 'argued_that', 'most_commonly', 'accepted', 'social_institutions', 'including', 'the', 'notion', 'of', 'state', 'property', 'as', 'a', 'right', 'natural', 'rights', 'in', 'general', 'and', 'the', 'very', 'notion', 'of', 'society', 'were', 'mere', 'illusions', 'or', 'ghosts', 'in', 'the', 'mind', 'saying', 'of', 'society', 'that', 'the', 'individuals', 'are', 'its', 'reality', 'he', 'advocated', 'egoism', 'and', 'a', 'form', 'of', 'amoralism', 'in', 'which', 'individuals', 'would', 'unite', 'in', 'associations', 'of', 'egoists', 'only', 'when', 'it', 'was', 'in', 'their', 'self_interest', 'to', 'do_so', 'for', 'him', 'property', 'simply', 'comes', 'about', 'through', 'might', 'whoever', 'knows_how', 'to', 'take', 'to', 'defend', 'the', 'thing', 'to', 'him', 'belongs', 'property', 'and', 'what', 'i', 'have', 'in', 'my', 'power', 'that', 'is', 'my_own', 'so', 'long', 'as', 'i', 'assert', 'myself', 'as', 'holder', 'i_am', 'the', 'proprietor', 'of', 'the', 'thing', 'stirner', 'never', 'called', 'himself', 'an', 'anarchist', 'he', 'accepted', 'only', 'the', 'label', 'egoist', 'nevertheless', 'his', 'ideas', 'were', 'influential', 'on', 'many', 'individualistically', 'inclined', 'anarchists', 'although', 'interpretations', 'of', 'his', 'thought', 'are', 'diverse', 'american_individualist', 'anarchism', 'benjamin_tucker', 'in', 'one', 'eight', 'two', 'five', 'josiah_warren', 'had', 'participated', 'in', 'a', 'communitarian', 'experiment', 'headed_by', 'robert_owen', 'called', 'new', 'harmony', 'which', 'failed', 'in', 'a', 'few_years', 'amidst', 'much', 'internal_conflict', 'warren', 'blamed', 'the', 'community', 's', 'failure', 'on', 'a', 'lack', 'of', 'individual', 'sovereignty', 'and', 'a', 'lack', 'of', 'private_property', 'warren', 'proceeded', 'to', 'organise', 'experimenal', 'anarchist', 'communities', 'which', 'respected', 'what', 'he', 'called', 'the', 'sovereignty', 'of', 'the', 'individual', 'at', 'utopia', 'and', 'modern_times', 'in', 'one', 'eight', 'three', 'three', 'warren', 'wrote', 'and', 'published', 'the', 'peaceful', 'revolutionist', 'which', 'some', 'have', 'noted', 'to', 'be', 'the', 'first', 'anarchist_periodical', 'ever', 'published', 'benjamin_tucker', 'says_that', 'warren', 'was', 'the', 'first', 'man', 'to', 'expound', 'and', 'formulate', 'the', 'doctrine', 'now_known', 'as', 'anarchism', 'liberty', 'xiv', 'december', 'one', 'nine', 'zero', 'zero', 'one', 'benjamin_tucker', 'became_interested', 'in', 'anarchism', 'through', 'meeting', 'josiah_warren', 'and', 'william', 'b_greene', 'he', 'edited', 'and', 'published', 'liberty', 'from', 'august', 'one', 'eight', 'eight', 'one', 'to', 'april', 'one', 'nine', 'zero', 'eight', 'it', 'is', 'widely_considered', 'to', 'be', 'the', 'finest', 'individualist_anarchist', 'periodical', 'ever', 'issued', 'in', 'the', 'english_language', 'tucker', 's', 'conception', 'of', 'individualist_anarchism', 'incorporated', 'the', 'ideas', 'of', 'a', 'variety', 'of', 'theorists', 'greene', 's', 'ideas', 'on', 'mutual', 'banking', 'warren', 's', 'ideas', 'on', 'cost', 'as', 'the', 'limit', 'of', 'price', 'a', 'heterodox', 'variety', 'of', 'labour', 'theory', 'of', 'value', 'proudhon', 's', 'market_anarchism', 'max_stirner', 's', 'egoism', 'and', 'herbert_spencer', 's', 'law', 'of', 'equal', 'freedom', 'tucker', 'strongly_supported', 'the', 'individual', 's', 'right', 'to', 'own', 'the', 'product', 'of', 'his', 'or', 'her', 'labour', 'as', 'private_property', 'and', 'believed', 'in', 'a', 'market_economy', 'for', 'trading', 'this', 'property', 'he', 'argued_that', 'in', 'a', 'truly', 'free_market', 'system', 'without', 'the', 'state', 'the', 'abundance', 'of', 'competition', 'would', 'eliminate', 'profits', 'and', 'ensure_that', 'all', 'workers', 'received', 'the', 'full', 'value', 'of', 'their', 'labor', 'other', 'one', 'nine', 'th_century', 'individualists', 'included', 'lysander_spooner', 'stephen_pearl', 'andrews', 'and', 'victor', 'yarros', 'the', 'first', 'international', 'mikhail_bakunin', 'one', 'eight', 'one', 'four', 'one', 'eight', 'seven', 'six', 'in', 'europe', 'harsh', 'reaction', 'followed', 'the', 'revolutions', 'of', 'one', 'eight', 'four', 'eight', 'twenty_years', 'later', 'in', 'one', 'eight', 'six', 'four', 'the', 'international_workingmen', 's', 'association', 'sometimes_called', 'the', 'first', 'international', 'united', 'some', 'diverse', 'european', 'revolutionary', 'currents', 'including', 'anarchism', 'due_to', 'its', 'genuine', 'links', 'to', 'active', 'workers', 'movements', 'the', 'international', 'became', 'signficiant', 'from', 'the', 'start', 'karl_marx', 'was', 'a', 'leading_figure', 'in', 'the', 'international', 'he', 'was', 'elected', 'to', 'every', 'succeeding', 'general', 'council', 'of', 'the', 'association', 'the', 'first', 'objections', 'to', 'marx', 'came', 'from', 'the', 'mutualists', 'who', 'opposed_communism', 'and', 'statism', 'shortly_after', 'mikhail_bakunin', 'and', 'his_followers', 'joined', 'in', 'one', 'eight', 'six', 'eight', 'the', 'first', 'international', 'became', 'polarised', 'into', 'two', 'camps', 'with', 'marx', 'and', 'bakunin', 'as', 'their_respective', 'figureheads', 'the', 'clearest', 'difference_between', 'the', 'camps', 'was', 'over', 'strategy', 'the', 'anarchists', 'around', 'bakunin', 'favoured', 'in', 'kropotkin', 's', 'words', 'direct', 'economical', 'struggle_against', 'capitalism', 'without_interfering', 'in', 'the', 'political', 'parliamentary', 'agitation', 'at', 'that', 'time', 'marx', 'and', 'his_followers', 'focused_on', 'parliamentary', 'activity', 'bakunin', 'characterised', 'marx', 's', 'ideas', 'as', 'authoritarian', 'and', 'predicted', 'that', 'if', 'a', 'marxist', 'party', 'gained', 'to', 'power', 'its', 'leaders', 'would', 'end', 'up', 'as', 'bad', 'as', 'the', 'ruling_class', 'they', 'had', 'fought_against', 'in', 'one', 'eight', 'seven', 'two', 'the', 'conflict', 'climaxed', 'with', 'a', 'final', 'split_between', 'the', 'two', 'groups', 'at', 'the', 'hague', 'congress', 'this', 'is', 'often_cited', 'as', 'the', 'origin', 'of', 'the', 'conflict_between', 'anarchists', 'and', 'marxists', 'from', 'this', 'moment', 'the', 'social_democratic', 'and', 'libertarian', 'currents', 'of', 'socialism', 'had', 'distinct', 'organisations', 'including', 'rival', 'internationals', 'anarchist_communism', 'peter_kropotkin', 'proudhon', 'and', 'bakunin', 'both', 'opposed_communism', 'associating', 'it', 'with', 'statism', 'however', 'in', 'the', 'one', 'eight', 'seven', 'zero', 's', 'many', 'anarchists', 'moved_away', 'from', 'bakunin', 's', 'economic', 'thinking', 'called', 'collectivism', 'and', 'embraced', 'communist', 'concepts', 'communists', 'believed', 'the', 'means', 'of', 'production', 'should_be', 'owned', 'collectively', 'and', 'that', 'goods', 'be', 'distributed', 'by', 'need', 'not', 'labor', 'an', 'early', 'anarchist', 'communist', 'was', 'joseph', 'd', 'jacque', 'the', 'first_person', 'to', 'describe', 'himself', 'as', 'libertarian', 'unlike', 'proudhon', 'he', 'argued_that', 'it', 'is', 'not', 'the', 'product', 'of', 'his', 'or', 'her', 'labor', 'that', 'the', 'worker', 'has', 'a', 'right', 'to', 'but', 'to', 'the', 'satisfaction', 'of', 'his', 'or', 'her', 'needs', 'whatever', 'may_be', 'their', 'nature', 'he', 'announced', 'his', 'ideas', 'in', 'his', 'us', 'published', 'journal', 'le', 'libertaire', 'one', 'eight', 'five', 'eight', 'one', 'eight', 'six', 'one', 'peter_kropotkin', 'often_seen', 'as', 'the', 'most_important', 'theorist', 'outlined', 'his', 'economic', 'ideas', 'in', 'the', 'conquest', 'of', 'bread', 'and', 'fields', 'factories', 'and', 'workshops', 'he_felt', 'co_operation', 'is', 'more', 'beneficial', 'than', 'competition', 'illustrated', 'in', 'nature', 'in', 'mutual_aid', 'a', 'factor', 'of', 'evolution', 'one', 'eight', 'nine', 'seven', 'subsequent', 'anarchist_communists', 'include', 'emma_goldman', 'and', 'alexander_berkman', 'many', 'in', 'the', 'anarcho_syndicalist', 'movements', 'see_below', 'saw', 'anarchist_communism', 'as', 'their', 'objective', 'isaac', 'puente', 's', 'one', 'nine', 'three', 'two', 'comunismo', 'libertario', 'was', 'adopted', 'by', 'the', 'spanish', 'cnt', 'as', 'its', 'manifesto', 'for', 'a', 'post', 'revolutionary', 'society', 'some', 'anarchists', 'disliked', 'merging', 'communism', 'with', 'anarchism', 'several', 'individualist_anarchists', 'maintained', 'that', 'abolition', 'of', 'private_property', 'was', 'not', 'consistent_with', 'liberty', 'for_example', 'benjamin_tucker', 'whilst', 'professing', 'respect', 'for', 'kropotkin', 'and', 'publishing', 'his', 'work', 'described', 'communist', 'anarchism', 'as', 'pseudo', 'anarchism', 'propaganda', 'of', 'the', 'deed', 'johann', 'most', 'was', 'an_outspoken', 'advocate', 'of', 'violence', 'anarchists', 'have', 'often', 'been', 'portrayed', 'as', 'dangerous', 'and', 'violent', 'due', 'mainly', 'to', 'a', 'number', 'of', 'high_profile', 'violent_acts', 'including', 'riots', 'assassinations', 'insurrections', 'and', 'terrorism', 'by', 'some', 'anarchists', 'some', 'revolutionaries', 'of', 'the', 'late', 'one', 'nine', 'th_century', 'encouraged', 'acts', 'of', 'political', 'violence', 'such_as', 'bombings', 'and', 'the', 'assassinations', 'of', 'heads', 'of', 'state', 'to', 'further', 'anarchism', 'such', 'actions', 'have', 'sometimes', 'been', 'called', 'propaganda', 'by', 'the', 'deed', 'one', 'of', 'the', 'more', 'outspoken', 'advocates', 'of', 'this', 'strategy', 'was', 'johann', 'most', 'who', 'said', 'the', 'existing', 'system', 'will_be', 'quickest', 'and', 'most', 'radically', 'overthrown_by', 'the', 'annihilation', 'of', 'its', 'exponents', 'therefore', 'massacres', 'of', 'the', 'enemies', 'of', 'the', 'people', 'must_be', 'set', 'in', 'motion', 'most', 's', 'preferred_method', 'of', 'terrorism', 'dynamite', 'earned_him', 'the', 'moniker', 'dynamost', 'however', 'there', 'is', 'no_consensus', 'on', 'the', 'legitimacy', 'or', 'utility', 'of', 'violence', 'in', 'general', 'mikhail_bakunin', 'and', 'errico_malatesta', 'for_example', 'wrote', 'of', 'violence', 'as', 'a', 'necessary', 'and', 'sometimes', 'desirable', 'force', 'in', 'revolutionary', 'settings', 'but', 'at', 'the', 'same_time', 'they', 'denounced', 'acts', 'of', 'individual', 'terrorism', 'malatesta', 'in', 'on', 'violence', 'and', 'bakunin', 'when', 'he', 'refuted', 'nechaev', 'other', 'anarchists', 'sometimes', 'identified', 'as', 'pacifist', 'anarchists', 'advocated', 'complete', 'nonviolence', 'leo_tolstoy', 'whose', 'philosophy', 'is', 'often', 'viewed_as', 'a', 'form', 'of', 'christian_anarchism', 'see_below', 'was', 'a', 'notable', 'exponent', 'of', 'nonviolent_resistance', 'anarchism', 'in', 'the', 'labour_movement', 'the', 'red', 'and', 'black_flag', 'coming', 'from', 'the', 'experience', 'of', 'anarchists', 'in', 'the', 'labour_movement', 'is', 'particularly', 'associated_with', 'anarcho_syndicalism', 'anarcho_syndicalism', 'was', 'an', 'early', 'two', 'zero', 'th_century', 'working_class', 'movement', 'seeking', 'to', 'overthrow', 'capitalism', 'and', 'the', 'state', 'to', 'institute', 'a', 'worker', 'controlled', 'society', 'the', 'movement', 'pursued', 'industrial', 'actions', 'such_as', 'general_strike', 'as', 'a', 'primary', 'strategy', 'many', 'anarcho_syndicalists', 'believed', 'in', 'anarchist_communism', 'though', 'not', 'all', 'communists', 'believed', 'in', 'syndicalism', 'after', 'the', 'one', 'eight', 'seven', 'one', 'repression', 'french', 'anarchism', 'reemerged', 'influencing', 'the', 'bourses', 'de', 'travails', 'of', 'autonomous', 'workers', 'groups', 'and', 'trade_unions', 'from', 'this', 'movement', 'the', 'conf', 'd_ration', 'g', 'n_rale', 'du_travail', 'general', 'confederation', 'of', 'work', 'cgt', 'was', 'formed', 'in', 'one', 'eight', 'nine', 'five', 'as', 'the', 'first', 'major', 'anarcho_syndicalist', 'movement', 'emile', 'pataud', 'and', 'emile', 'pouget', 's', 'writing', 'for', 'the', 'cgt', 'saw', 'libertarian_communism', 'developing', 'from', 'a', 'general_strike', 'after', 'one', 'nine', 'one', 'four', 'the', 'cgt', 'moved_away', 'from', 'anarcho_syndicalism', 'due_to', 'the', 'appeal', 'of', 'bolshevism', 'french', 'style', 'syndicalism', 'was', 'a', 'significant', 'movement', 'in', 'europe', 'prior_to', 'one', 'nine', 'two', 'one', 'and', 'remained', 'a', 'significant', 'movement', 'in', 'spain', 'until', 'the', 'mid', 'one', 'nine', 'four', 'zero', 's', 'the', 'industrial_workers', 'of', 'the', 'world', 'iww', 'founded', 'in', 'one', 'nine', 'zero', 'five', 'in', 'the', 'us', 'espoused', 'unionism', 'and', 'sought', 'a', 'general_strike', 'to', 'usher', 'in', 'a', 'stateless', 'society', 'in', 'one', 'nine', 'two', 'three', 'one', 'zero', 'zero', 'zero', 'zero', 'zero', 'members', 'existed', 'with', 'the', 'support', 'of', 'up', 'to', 'three', 'zero', 'zero', 'zero', 'zero', 'zero', 'though', 'not', 'explicitly', 'anarchist', 'they', 'organized', 'by', 'rank', 'and', 'file', 'democracy', 'embodying', 'a', 'spirit', 'of', 'resistance', 'that', 'has', 'inspired', 'many', 'anglophone', 'syndicalists', 'cnt', 'propaganda', 'from', 'april', 'two', 'zero', 'zero', 'four', 'reads', 'don_t', 'let', 'the', 'politicians', 'rule', 'our_lives', 'you', 'vote', 'and', 'they', 'decide', 'don_t', 'allow', 'it', 'unity', 'action', 'self', 'management', 'spanish', 'anarchist', 'trade_union', 'federations', 'were', 'formed', 'in', 'the', 'one', 'eight', 'seven', 'zero', 's', 'one', 'nine', 'zero', 'zero', 'and', 'one', 'nine', 'one', 'zero', 'the', 'most_successful', 'was', 'the', 'confederaci_n', 'nacional_del', 'trabajo', 'national', 'confederation', 'of', 'labour', 'cnt', 'founded', 'in', 'one', 'nine', 'one', 'zero', 'prior_to', 'the', 'one', 'nine', 'four', 'zero', 's', 'the', 'cnt', 'was', 'the', 'major', 'force', 'in', 'spanish', 'working_class', 'politics', 'with', 'a', 'membership', 'of', 'one', 'five', 'eight', 'million', 'in', 'one', 'nine', 'three', 'four', 'the', 'cnt', 'played', 'a', 'major_role', 'in', 'the', 'spanish_civil', 'war', 'see_also', 'anarchism', 'in', 'spain', 'syndicalists', 'like', 'ricardo', 'flores', 'mag', 'n', 'were', 'key_figures', 'in', 'the', 'mexican_revolution', 'latin', 'american', 'anarchism', 'was', 'strongly_influenced', 'extending', 'to', 'the', 'zapatista', 'rebellion', 'and', 'the', 'factory', 'occupation', 'movements', 'in', 'argentina', 'in', 'berlin', 'in', 'one', 'nine', 'two', 'two', 'the', 'cnt', 'was', 'joined', 'with', 'the', 'international', 'workers', 'association', 'an', 'anarcho_syndicalist', 'successor', 'to', 'the', 'first', 'international', 'contemporary', 'anarcho_syndicalism', 'continues', 'as', 'a', 'minor', 'force', 'in', 'many', 'socities', 'much_smaller', 'than', 'in', 'the', 'one', 'nine', 'one', 'zero', 's', 'two', 'zero', 's', 'and', 'three', 'zero', 's', 'the', 'largest', 'organised', 'anarchist_movement', 'today', 'is', 'in', 'spain', 'in', 'the', 'form', 'of', 'the', 'confederaci_n', 'general', 'del_trabajo', 'and', 'the', 'cnt', 'the', 'cgt', 'claims', 'a', 'paid', 'up', 'membership', 'of', 'six', 'zero', 'zero', 'zero', 'zero', 'and', 'received', 'over', 'a', 'million', 'votes', 'in', 'spanish', 'syndical', 'elections', 'other', 'active', 'syndicalist', 'movements', 'include', 'the', 'us', 'workers_solidarity', 'alliance', 'and', 'the', 'uk', 'solidarity', 'federation', 'the', 'revolutionary', 'industrial', 'unionist', 'industrial_workers', 'of', 'the', 'world', 'also', 'exists', 'claiming', 'two', 'zero', 'zero', 'zero', 'paid', 'members', 'contemporary', 'critics', 'of', 'anarcho_syndicalism', 'and', 'revolutionary', 'industrial_unionism', 'claim_that', 'they', 'are', 'workerist', 'and', 'fail', 'to', 'deal_with', 'economic', 'life', 'outside', 'work', 'post', 'leftist', 'critics', 'such_as', 'bob', 'black', 'claim', 'anarcho_syndicalism', 'advocates', 'oppressive_social', 'structures', 'such_as', 'work', 'and', 'the', 'workplace', 'anarcho_syndicalists', 'in', 'general', 'uphold', 'principles', 'of', 'workers_solidarity', 'direct_action', 'and', 'self', 'management', 'the', 'russian_revolution', 'the', 'russian_revolution', 'of', 'one', 'nine', 'one', 'seven', 'was', 'a', 'seismic', 'event', 'in', 'the', 'development', 'of', 'anarchism', 'as', 'a', 'movement', 'and', 'as', 'a', 'philosophy', 'anarchists', 'participated', 'alongside', 'the', 'bolsheviks', 'in', 'both', 'february', 'and', 'october', 'revolutions', 'many', 'anarchists', 'initially', 'supporting', 'the', 'bolshevik', 'coup', 'however', 'the', 'bolsheviks', 'soon', 'turned', 'against', 'the', 'anarchists', 'and', 'other', 'left_wing', 'opposition', 'a', 'conflict', 'which_culminated', 'in', 'the', 'one', 'nine', 'one', 'eight', 'kronstadt_rebellion', 'anarchists', 'in', 'central', 'russia', 'were', 'imprisoned', 'or', 'driven_underground', 'or', 'joined', 'the', 'victorious', 'bolsheviks', 'in', 'ukraine', 'anarchists', 'fought', 'in', 'the', 'civil_war', 'against', 'both', 'whites', 'and', 'bolsheviks', 'within', 'the', 'makhnovshchina', 'peasant', 'army', 'led', 'by', 'nestor_makhno', 'expelled', 'american', 'anarchists', 'emma_goldman', 'and', 'alexander_berkman', 'before_leaving', 'russia', 'were', 'amongst', 'those', 'agitating', 'in', 'response', 'to', 'bolshevik', 'policy', 'and', 'the', 'suppression', 'of', 'the', 'kronstadt', 'uprising', 'both', 'wrote', 'classic', 'accounts', 'of', 'their', 'experiences', 'in', 'russia', 'aiming', 'to', 'expose', 'the', 'reality', 'of', 'bolshevik', 'control', 'for', 'them', 'bakunin', 's', 'predictions_about', 'the', 'consequences', 'of', 'marxist', 'rule', 'had', 'proved', 'all', 'too', 'true', 'the', 'victory', 'of', 'the', 'bolsheviks', 'in', 'the', 'october_revolution', 'and', 'the', 'resulting', 'russian_civil', 'war', 'did', 'serious_damage', 'to', 'anarchist', 'movements', 'internationally', 'many', 'workers', 'and', 'activists', 'saw', 'bolshevik', 'success', 'as', 'setting', 'an', 'example', 'communist_parties', 'grew', 'at', 'the', 'expense', 'of', 'anarchism', 'and', 'other', 'socialist_movements', 'in', 'france', 'and', 'the', 'us', 'for_example', 'the', 'major', 'syndicalist', 'movements', 'of', 'the', 'cgt', 'and', 'iww', 'began', 'to', 'realign', 'themselves', 'away_from', 'anarchism', 'and', 'towards', 'the', 'communist', 'international', 'in', 'paris', 'the', 'dielo', 'truda', 'group', 'of', 'russian', 'anarchist', 'exiles', 'which', 'included', 'nestor_makhno', 'concluded_that', 'anarchists', 'needed', 'to', 'develop', 'new', 'forms', 'of', 'organisation', 'in', 'response', 'to', 'the', 'structures', 'of', 'bolshevism', 'their', 'one', 'nine', 'two', 'six', 'manifesto', 'known_as', 'the', 'organisational', 'platform', 'of', 'the', 'libertarian_communists', 'was', 'supported_by', 'some', 'communist_anarchists', 'though', 'opposed', 'by', 'many', 'others', 'the', 'platform', 'continues', 'to', 'inspire', 'some', 'contemporary', 'anarchist', 'groups', 'who', 'believe', 'in', 'an', 'anarchist_movement', 'organised_around', 'its', 'principles', 'of', 'theoretical', 'unity', 'tactical', 'unity', 'collective_responsibility', 'and', 'federalism', 'platformist', 'groups', 'today', 'include', 'the', 'workers_solidarity', 'movement', 'in', 'ireland', 'the', 'uk', 's', 'anarchist', 'federation', 'and', 'the', 'late', 'north_eastern', 'federation', 'of', 'anarchist_communists', 'in', 'the', 'northeastern_united', 'states', 'and', 'bordering', 'canada', 'the', 'fight_against', 'fascism', 'spain', 'one', 'nine', 'three', 'six', 'members', 'of', 'the', 'cnt', 'construct', 'armoured_cars', 'to', 'fight_against', 'the', 'fascists', 'in', 'one', 'of', 'the', 'collectivised', 'factories', 'in', 'the', 'one', 'nine', 'two', 'zero', 's', 'and', 'one', 'nine', 'three', 'zero', 's', 'the', 'familiar', 'dynamics', 'of', 'anarchism', 's', 'conflict', 'with', 'the', 'state', 'were', 'transformed', 'by', 'the', 'rise', 'of', 'fascism', 'in', 'europe', 'in', 'many_cases', 'european', 'anarchists', 'faced', 'difficult', 'choices', 'should', 'they', 'join', 'in', 'popular', 'fronts', 'with', 'reformist', 'democrats', 'and', 'soviet', 'led', 'communists', 'against', 'a', 'common', 'fascist', 'enemy', 'luigi', 'fabbri', 'an', 'exile', 'from', 'italian_fascism', 'was', 'amongst', 'those', 'arguing_that', 'fascism', 'was', 'something', 'different', 'fascism', 'is', 'not', 'just', 'another', 'form', 'of', 'government', 'which', 'like', 'all', 'others', 'uses', 'violence', 'it', 'is', 'the', 'most', 'authoritarian', 'and', 'the', 'most', 'violent', 'form', 'of', 'government', 'imaginable', 'it', 'represents', 'the', 'utmost', 'glorification', 'of', 'the', 'theory', 'and', 'practice', 'of', 'the', 'principle', 'of', 'authority', 'in', 'france', 'where', 'the', 'fascists', 'came_close', 'to', 'insurrection', 'in', 'the', 'february', 'one', 'nine', 'three', 'four', 'riots', 'anarchists', 'divided', 'over', 'a', 'united', 'front', 'policy', 'in', 'spain', 'the', 'cnt', 'initially_refused', 'to', 'join', 'a', 'popular_front', 'electoral', 'alliance', 'and', 'abstention', 'by', 'cnt', 'supporters', 'led', 'to', 'a', 'right_wing', 'election_victory', 'but', 'in', 'one', 'nine', 'three', 'six', 'the', 'cnt', 'changed', 'its', 'policy', 'and', 'anarchist', 'votes', 'helped_bring', 'the', 'popular_front', 'back', 'to', 'power', 'months_later', 'the', 'ruling_class', 'responded', 'with', 'an', 'attempted_coup', 'and', 'the', 'spanish_civil', 'war', 'one', 'nine', 'three', 'six', 'three', 'nine', 'was', 'underway', 'in', 'reponse', 'to', 'the', 'army', 'rebellion', 'an', 'anarchist', 'inspired', 'movement', 'of', 'peasants', 'and', 'workers', 'supported_by', 'armed', 'militias', 'took_control', 'of', 'the', 'major', 'city', 'of', 'barcelona', 'and', 'of', 'large_areas', 'of', 'rural', 'spain', 'where', 'they', 'collectivized', 'the', 'land', 'but', 'even', 'before', 'the', 'eventual', 'fascist', 'victory', 'in', 'one', 'nine', 'three', 'nine', 'the', 'anarchists', 'were', 'losing_ground', 'in', 'a', 'bitter_struggle', 'with', 'the', 'stalinists', 'the', 'cnt', 'leadership', 'often', 'appeared', 'confused', 'and', 'divided', 'with', 'some', 'members', 'controversially', 'entering', 'the', 'government', 'stalinist', 'led', 'troops', 'suppressed', 'the', 'collectives', 'and', 'persecuted', 'both', 'dissident', 'marxists', 'and', 'anarchists', 'since', 'the', 'late', 'one', 'nine', 'seven', 'zero', 's', 'anarchists', 'have_been', 'involved', 'in', 'fighting', 'the', 'rise', 'of', 'neo_fascist', 'groups', 'in', 'germany', 'and', 'the', 'united_kingdom', 'some', 'anarchists', 'worked', 'within', 'militant', 'anti_fascist', 'groups', 'alongside', 'members', 'of', 'the', 'marxist', 'left', 'they', 'advocated', 'directly', 'combating', 'fascists', 'with', 'physical', 'force', 'rather_than', 'relying_on', 'the', 'state', 'since', 'the', 'late', 'one', 'nine', 'nine', 'zero', 's', 'a', 'similar', 'tendency', 'has', 'developed', 'within', 'us', 'anarchism', 'see_also', 'anti_racist', 'action', 'us', 'anti_fascist', 'action', 'uk', 'antifa', 'religious', 'anarchism', 'leo_tolstoy', 'one', 'eight', 'two', 'eight', 'one', 'nine', 'one', 'zero', 'most', 'anarchist', 'culture', 'tends_to', 'be', 'secular', 'if', 'not', 'outright', 'anti', 'religious', 'however', 'the', 'combination', 'of', 'religious', 'social', 'conscience', 'historical', 'religiousity', 'amongst', 'oppressed', 'social_classes', 'and', 'the', 'compatibility', 'of', 'some', 'interpretations', 'of', 'religious_traditions', 'with', 'anarchism', 'has_resulted', 'in', 'religious', 'anarchism', 'christian', 'anarchists', 'believe_that', 'there', 'is', 'no', 'higher', 'authority', 'than', 'god', 'and', 'oppose', 'earthly', 'authority', 'such_as', 'government', 'and', 'established', 'churches', 'they_believe', 'that', 'jesus_teachings', 'were', 'clearly', 'anarchistic', 'but', 'were', 'corrupted', 'when', 'christianity', 'was', 'declared', 'the', 'official', 'religion', 'of', 'rome', 'christian', 'anarchists', 'who', 'follow', 'jesus', 'directive', 'to', 'turn', 'the', 'other', 'cheek', 'are', 'strict', 'pacifists', 'the', 'most_famous', 'advocate', 'of', 'christian_anarchism', 'was', 'leo_tolstoy', 'author', 'of', 'the', 'kingdom', 'of', 'god', 'is', 'within', 'you', 'who', 'called', 'for', 'a', 'society', 'based_on', 'compassion', 'nonviolent', 'principles', 'and', 'freedom', 'christian', 'anarchists', 'tend_to', 'form', 'experimental', 'communities', 'they', 'also', 'occasionally', 'resist', 'taxation', 'many', 'christian', 'anarchists', 'are', 'vegetarian', 'or', 'vegan', 'christian', 'anarchy', 'can_be', 'said', 'to', 'have', 'roots', 'as', 'old', 'as', 'the', 'religion', 's', 'birth', 'as', 'the', 'early', 'church', 'exhibits', 'many', 'anarchistic', 'tendencies', 'such_as', 'communal', 'goods', 'and', 'wealth', 'by', 'aiming', 'to', 'obey', 'utterly', 'certain', 'of', 'the', 'bible', 's', 'teachings', 'certain', 'anabaptist_groups', 'of', 'sixteenth_century', 'europe', 'attempted', 'to', 'emulate', 'the', 'early', 'church', 's', 'social', 'economic', 'organisation', 'and', 'philosophy', 'by', 'regarding', 'it', 'as', 'the', 'only', 'social_structure', 'capable', 'of', 'true', 'obediance', 'to', 'jesus_teachings', 'and', 'utterly', 'rejected', 'in', 'theory', 'all', 'earthly', 'hierarchies', 'and', 'authority', 'and', 'indeed', 'non', 'anabaptists', 'in', 'general', 'and', 'violence', 'as', 'ungodly', 'such', 'groups', 'for_example', 'the', 'hutterites', 'typically', 'went', 'from', 'initially', 'anarchistic', 'beginnings', 'to', 'as', 'their', 'movements', 'stabalised', 'more', 'authoritarian', 'social', 'models', 'chinese', 'anarchism', 'was', 'most_influential', 'in', 'the', 'one', 'nine', 'two', 'zero', 's', 'strands', 'of', 'chinese', 'anarchism', 'included', 'tai', 'xu', 's', 'buddhist', 'anarchism', 'which', 'was', 'influenced_by', 'tolstoy', 'and', 'the', 'well', 'field', 'system', 'neopaganism', 'with', 'its', 'focus_on', 'the', 'environment', 'and', 'equality', 'along_with', 'its', 'often', 'decentralized_nature', 'has', 'lead', 'to', 'a', 'number', 'of', 'neopagan', 'anarchists', 'one', 'of', 'the', 'most_prominent', 'is', 'starhawk', 'who', 'writes', 'extensively', 'about', 'both', 'spirituality', 'and', 'activism', 'anarchism', 'and', 'feminism', 'emma_goldman', 'early', 'french', 'feminists', 'such_as', 'jenny', 'd', 'h', 'ricourt', 'and', 'juliette', 'adam', 'criticised', 'the', 'mysogyny', 'in', 'the', 'anarchism', 'of', 'proudhon', 'during', 'the', 'one', 'eight', 'five', 'zero', 's', 'anarcha_feminism', 'is', 'a', 'kind', 'of', 'radical_feminism', 'that', 'espouses', 'the', 'belief_that', 'patriarchy', 'is', 'a', 'fundamental', 'problem', 'in', 'society', 'while', 'anarchist', 'feminism', 'has', 'existed', 'for', 'more_than', 'a', 'hundred_years', 'its', 'explicit', 'formulation', 'as', 'anarcha_feminism', 'dates_back', 'to', 'the', 'early', 'seven', 'zero', 's', 'during', 'the', 'second_wave', 'feminist_movement', 'anarcha_feminism', 'views', 'patriarchy', 'as', 'the', 'first', 'manifestation', 'of', 'hierarchy', 'in', 'human', 'history', 'thus', 'the', 'first', 'form', 'of', 'oppression', 'occurred', 'in', 'the', 'dominance', 'of', 'male', 'over', 'female', 'anarcha', 'feminists', 'then', 'conclude_that', 'if', 'feminists', 'are', 'against', 'patriarchy', 'they', 'must', 'also', 'be', 'against', 'all', 'forms', 'of', 'hierarchy', 'and', 'therefore', 'must', 'reject', 'the', 'authoritarian', 'nature', 'of', 'the', 'state', 'and', 'capitalism_anarcho', 'primitivists', 'see', 'the', 'creation', 'of', 'gender_roles', 'and', 'patriarchy', 'a', 'creation', 'of', 'the', 'start', 'of', 'civilization', 'and', 'therefore', 'consider', 'primitivism', 'to', 'also', 'be', 'an', 'anarchist', 'school', 'of', 'thought', 'that', 'addresses', 'feminist', 'concerns', 'eco', 'feminism', 'is', 'often_considered', 'a', 'feminist', 'variant', 'of', 'green', 'anarchist', 'feminist', 'thought', 'anarcha_feminism', 'is', 'most', 'often_associated', 'with', 'early', 'two', 'zero', 'th_century', 'authors', 'and', 'theorists', 'such_as', 'emma_goldman', 'and', 'voltairine_de', 'cleyre', 'although', 'even', 'early', 'first', 'wave_feminist', 'mary_wollstonecraft', 'held', 'proto', 'anarchist', 'views', 'and', 'william_godwin', 'is', 'often_considered', 'a', 'feminist', 'anarchist', 'precursor', 'it', 'should_be', 'noted_that', 'goldman', 'and', 'de_cleyre', 'though', 'they', 'both', 'opposed', 'the', 'state', 'had', 'opposing', 'philosophies', 'as', 'de_cleyre', 'explains', 'miss', 'goldman', 'is', 'a', 'communist', 'i_am', 'an', 'individualist', 'she', 'wishes', 'to', 'destroy', 'the', 'right', 'of', 'property', 'i_wish', 'to', 'assert', 'it', 'i', 'make', 'my', 'war', 'upon', 'privilege', 'and', 'authority', 'whereby', 'the', 'right', 'of', 'property', 'the', 'true', 'right', 'in', 'that', 'which', 'is', 'proper', 'to', 'the', 'individual', 'is', 'annihilated', 'she_believes', 'that', 'co_operation', 'would', 'entirely', 'supplant', 'competition', 'i', 'hold', 'that', 'competition', 'in', 'one', 'form', 'or', 'another', 'will_always', 'exist', 'and', 'that', 'it', 'is', 'highly_desirable', 'it', 'should', 'in', 'the', 'spanish_civil', 'war', 'an', 'anarcha', 'feminist', 'group', 'free', 'women', 'organized', 'to', 'defend', 'both', 'anarchist', 'and', 'feminist_ideas', 'in', 'the', 'modern_day', 'anarchist_movement', 'many', 'anarchists', 'male', 'or', 'female', 'consider_themselves', 'feminists', 'and', 'anarcha', 'feminist_ideas', 'are', 'growing', 'the', 'publishing', 'of', 'quiet', 'rumors', 'an', 'anarcha', 'feminist', 'reader', 'has', 'helped', 'to', 'spread', 'various_kinds', 'of', 'anti_authoritarian', 'and', 'anarchist', 'feminist_ideas', 'to', 'the', 'broader', 'movement', 'wendy_mcelroy', 'has', 'popularized', 'an', 'individualist_anarchism', 'take', 'on', 'feminism', 'in', 'her', 'books', 'articles', 'and', 'individualist', 'feminist', 'website', 'anarcho_capitalism', 'murray_rothbard', 'one', 'nine', 'two', 'six', 'one', 'nine', 'nine', 'five', 'anarcho_capitalism', 'is', 'a', 'predominantly', 'united_states', 'based', 'theoretical', 'tradition', 'that', 'desires', 'a', 'stateless', 'society', 'with', 'the', 'economic', 'system', 'of', 'free_market', 'capitalism', 'unlike', 'other', 'branches', 'of', 'anarchism', 'it', 'does_not', 'oppose', 'profit', 'or', 'capitalism', 'consequently', 'most', 'anarchists', 'do_not', 'recognise', 'anarcho_capitalism', 'as', 'a', 'form', 'of', 'anarchism', 'murray_rothbard', 's', 'synthesis', 'of', 'classical_liberalism', 'and', 'austrian_economics', 'was', 'germinal', 'for', 'the', 'development', 'of', 'contemporary', 'anarcho_capitalist', 'theory', 'he', 'defines', 'anarcho_capitalism', 'in', 'terms', 'of', 'the', 'non_aggression', 'principle', 'based_on', 'the', 'concept', 'of', 'natural_law', 'competiting', 'theorists', 'use', 'egoism', 'utilitarianism', 'used', 'by', 'david_friedman', 'or', 'contractarianism', 'used', 'by', 'jan', 'narveson', 'some', 'minarchists', 'such_as', 'ayn_rand', 'robert_nozick', 'and', 'robert', 'a', 'heinlein', 'have', 'influenced', 'anarcho_capitalism', 'some', 'anarcho_capitalists', 'along_with', 'some', 'right_wing', 'libertarian', 'historians', 'such_as', 'david', 'hart', 'and', 'ralph', 'raico', 'considered', 'similar', 'philosophies', 'existing', 'prior_to', 'rothbard', 'to', 'be', 'anarcho_capitalist', 'such_as', 'those', 'of', 'gustave_de', 'molinari', 'and', 'auberon_herbert', 'opponents', 'of', 'anarcho_capitalists', 'dispute', 'these', 'claims', 'the', 'place', 'of', 'anarcho_capitalism', 'within', 'anarchism', 'and', 'indeed', 'whether', 'it', 'is', 'a', 'form', 'of', 'anarchism', 'at', 'all', 'is', 'highly_controversial', 'for', 'more', 'on', 'this', 'debate', 'see', 'anarchism', 'and', 'anarcho_capitalism', 'anarchism', 'and', 'the', 'environment', 'since', 'the', 'late', 'one', 'nine', 'seven', 'zero', 's', 'anarchists', 'in', 'anglophone', 'and', 'european_countries', 'have_been', 'taking', 'action', 'for', 'the', 'natural_environment', 'eco_anarchists', 'or', 'green', 'anarchists', 'believe', 'in', 'deep_ecology', 'this', 'is', 'a', 'worldview', 'that', 'embraces', 'biodiversity', 'and', 'sustainability', 'eco_anarchists', 'often', 'use', 'direct_action', 'against', 'what', 'they', 'see', 'as', 'earth', 'destroying', 'institutions', 'of', 'particular_importance', 'is', 'the', 'earth', 'first', 'movement', 'that', 'takes', 'action', 'such_as', 'tree', 'sitting', 'another', 'important_component', 'is', 'ecofeminism', 'which', 'sees', 'the', 'domination', 'of', 'nature', 'as', 'a', 'metaphor', 'for', 'the', 'domination', 'of', 'women', 'green_anarchism', 'also', 'involves', 'a', 'critique', 'of', 'industrial_capitalism', 'and', 'for', 'some', 'green', 'anarchists', 'civilization', 'itself', 'primitivism', 'is', 'a', 'predominantly', 'western_philosophy', 'that', 'advocates', 'a', 'return', 'to', 'a', 'pre_industrial', 'and', 'usually', 'pre', 'agricultural', 'society', 'it', 'develops', 'a', 'critique', 'of', 'industrial', 'civilization', 'in', 'this', 'critique', 'technology', 'and', 'development', 'have', 'alienated', 'people', 'from', 'the', 'natural', 'world', 'this', 'philosophy', 'develops', 'themes', 'present', 'in', 'the', 'political', 'action', 'of', 'the', 'luddites', 'and', 'the', 'writings', 'of', 'jean_jacques', 'rousseau', 'primitivism', 'developed', 'in', 'the', 'context', 'of', 'the', 'reclaim', 'the', 'streets', 'earth', 'first', 'and', 'the', 'earth_liberation', 'front', 'movements', 'john_zerzan', 'wrote', 'that', 'civilization', 'not', 'just', 'the', 'state', 'would', 'need', 'to', 'fall', 'for', 'anarchy', 'to', 'be_achieved', 'anarcho', 'primitivists', 'point', 'to', 'the', 'anti_authoritarian', 'nature', 'of', 'many', 'primitive', 'or', 'hunter_gatherer', 'societies', 'throughout', 'the', 'world', 's', 'history', 'as', 'examples', 'of', 'anarchist', 'societies', 'other', 'branches', 'and', 'offshoots', 'anarchism', 'generates', 'many', 'eclectic', 'and', 'syncretic', 'philosophies', 'and', 'movements', 'since', 'the', 'western', 'social', 'formet', 'in', 'the', 'one', 'nine', 'six', 'zero', 's', 'and', 'one', 'nine', 'seven', 'zero', 's', 'a', 'number', 'new', 'of', 'movements', 'and', 'schools', 'have', 'appeared', 'most', 'of', 'these', 'stances', 'are', 'limited', 'to', 'even', 'smaller', 'numbers', 'than', 'the', 'schools', 'and', 'movements', 'listed_above', 'hakim_bey', 'post', 'left_anarchy', 'post', 'left_anarchy', 'also', 'called', 'egoist', 'anarchism', 'seeks', 'to', 'distance', 'itself', 'from', 'the', 'traditional', 'left', 'communists', 'liberals', 'social_democrats', 'etc', 'and', 'to', 'escape', 'the', 'confines', 'of', 'ideology', 'in', 'general', 'post', 'leftists', 'argue_that', 'anarchism', 'has_been', 'weakened', 'by', 'its', 'long', 'attachment', 'to', 'contrary', 'leftist', 'movements', 'and', 'single', 'issue', 'causes', 'anti', 'war', 'anti', 'nuclear', 'etc', 'it', 'calls', 'for', 'a', 'synthesis', 'of', 'anarchist', 'thought', 'and', 'a', 'specifically', 'anti_authoritarian', 'revolutionary_movement', 'outside', 'of', 'the', 'leftist', 'milieu', 'it', 'often', 'focuses_on', 'the', 'individual', 'rather_than', 'speaking', 'in', 'terms', 'of', 'class', 'or', 'other', 'broad', 'generalizations', 'and', 'shuns', 'organizational', 'tendencies', 'in', 'favor', 'of', 'the', 'complete_absence', 'of', 'explicit', 'hierarchy', 'important', 'groups', 'and', 'individuals', 'associated_with', 'post', 'left_anarchy', 'include', 'crimethinc', 'the', 'magazine', 'anarchy', 'a', 'journal', 'of', 'desire', 'armed', 'and', 'its', 'editor', 'jason', 'mcquinn', 'bob', 'black', 'hakim_bey', 'and', 'others', 'for', 'more', 'information', 'see', 'infoshop_org', 's', 'anarchy', 'after', 'leftism', 'section', 'and', 'the', 'post', 'left', 'section', 'on', 'anarchism', 'ws', 'see_also', 'post', 'left_anarchy', 'post_structuralism', 'the', 'term', 'postanarchism', 'was', 'originated', 'by', 'saul', 'newman', 'first', 'receiving', 'popular', 'attention', 'in', 'his', 'book', 'from', 'bakunin', 'to', 'lacan', 'to', 'refer_to', 'a', 'theoretical', 'move_towards', 'a', 'synthesis', 'of', 'classical', 'anarchist', 'theory', 'and', 'poststructuralist', 'thought', 'subsequent', 'to', 'newman', 's', 'use', 'of', 'the', 'term', 'however', 'it', 'has', 'taken', 'on', 'a', 'life', 'of', 'its_own', 'and', 'a', 'wide_range', 'of', 'ideas', 'including', 'autonomism', 'post', 'left_anarchy', 'situationism', 'post', 'colonialism', 'and', 'zapatismo', 'by', 'its', 'very', 'nature', 'post', 'anarchism', 'rejects', 'the', 'idea', 'that', 'it', 'should_be', 'a', 'coherent', 'set', 'of', 'doctrines', 'and', 'beliefs', 'as', 'such', 'it', 'is', 'difficult', 'if', 'not', 'impossible', 'to', 'state', 'with', 'any', 'degree', 'of', 'certainty', 'who', 'should', 'or', 'shouldn_t', 'be', 'grouped_under', 'the', 'rubric', 'nonetheless', 'key', 'thinkers', 'associated_with', 'post', 'anarchism', 'include', 'saul', 'newman', 'todd', 'may', 'gilles_deleuze', 'and', 'f_lix', 'guattari', 'external', 'reference', 'postanarchism', 'clearinghouse', 'see_also', 'post', 'anarchism', 'insurrectionary', 'anarchism', 'insurrectionary', 'anarchism', 'is', 'a', 'form', 'of', 'revolutionary', 'anarchism', 'critical', 'of', 'formal', 'anarchist', 'labor_unions', 'and', 'federations', 'insurrectionary', 'anarchists', 'advocate', 'informal', 'organization', 'including', 'small', 'affinity', 'groups', 'carrying_out', 'acts', 'of', 'resistance', 'in', 'various', 'struggles', 'and', 'mass', 'organizations', 'called', 'base', 'structures', 'which', 'can', 'include', 'exploited', 'individuals_who', 'are', 'not', 'anarchists', 'proponents', 'include', 'wolfi', 'landstreicher', 'and', 'alfredo', 'm', 'bonanno', 'author', 'of', 'works', 'including', 'armed', 'joy', 'and', 'the', 'anarchist', 'tension', 'this', 'tendency', 'is', 'represented', 'in', 'the', 'us', 'in', 'magazines', 'such_as', 'willful', 'disobedience', 'and', 'killing', 'king', 'abacus', 'see_also', 'insurrectionary', 'anarchism', 'small', 'a', 'anarchism', 'small', 'a', 'anarchism', 'is', 'a', 'term', 'used', 'in', 'two', 'different', 'but', 'not', 'unconnected', 'contexts', 'dave', 'neal', 'posited', 'the', 'term', 'in', 'opposition', 'to', 'big', 'a', 'anarchism', 'in', 'the', 'article', 'anarchism', 'ideology', 'or', 'methodology', 'while', 'big', 'a', 'anarchism', 'referred_to', 'ideological', 'anarchists', 'small', 'a', 'anarchism', 'was', 'applied', 'to', 'their', 'methodological', 'counterparts', 'those_who', 'viewed', 'anarchism', 'as', 'a', 'way', 'of', 'acting', 'or', 'a', 'historical', 'tendency', 'against', 'illegitimate', 'authority', 'as', 'an', 'anti', 'ideological', 'position', 'small', 'a', 'anarchism', 'shares', 'some', 'similarities', 'with', 'post', 'left_anarchy', 'david', 'graeber', 'and', 'andrej', 'grubacic', 'offer', 'an_alternative', 'use', 'of', 'the', 'term', 'applying', 'it', 'to', 'groups', 'and', 'movements', 'organising', 'according_to', 'or', 'acting', 'in', 'a', 'manner_consistent', 'with', 'anarchist_principles', 'of', 'decentralisation', 'voluntary_association', 'mutual_aid', 'the', 'network', 'model', 'and', 'crucially', 'the', 'rejection', 'of', 'any', 'idea', 'that', 'the', 'end', 'justifies', 'the', 'means', 'let_alone', 'that', 'the', 'business', 'of', 'a', 'revolutionary', 'is', 'to', 'seize', 'state', 'power', 'and', 'then', 'begin', 'imposing', 'one', 's', 'vision', 'at', 'the', 'point', 'of', 'a', 'gun', 'other', 'issues', 'conceptions', 'of', 'an', 'anarchist_society', 'many', 'political', 'philosophers', 'justify', 'support', 'of', 'the', 'state', 'as', 'a', 'means', 'of', 'regulating', 'violence', 'so', 'that', 'the', 'destruction', 'caused_by', 'human', 'conflict', 'is', 'minimized', 'and', 'fair', 'relationships', 'are', 'established', 'anarchists', 'argue_that', 'pursuit', 'of', 'these', 'ends', 'does_not', 'justify', 'the', 'establishment', 'of', 'a', 'state', 'many', 'argue_that', 'the', 'state', 'is', 'incompatible_with', 'those', 'goals', 'and', 'the', 'cause', 'of', 'chaos', 'violence', 'and', 'war', 'anarchists', 'argue_that', 'the', 'state', 'helps', 'to', 'create', 'a', 'monopoly', 'on', 'violence', 'and', 'uses', 'violence', 'to', 'advance', 'elite', 'interests', 'much', 'effort', 'has_been', 'dedicated', 'to', 'explaining_how', 'anarchist', 'societies', 'would', 'handle', 'criminality', 'see_also', 'anarchism', 'and', 'society', 'civil_rights', 'and', 'cultural', 'sovereignty', 'black', 'anarchism', 'opposes', 'the', 'existence', 'of', 'a', 'state', 'capitalism', 'and', 'subjugation', 'and', 'domination', 'of', 'people', 'of', 'color', 'and', 'favors', 'a', 'non', 'hierarchical_organization', 'of', 'society', 'theorists', 'include', 'ashanti', 'alston', 'lorenzo', 'komboa', 'ervin', 'and', 'sam', 'mbah', 'anarchist', 'people', 'of', 'color', 'was', 'created', 'as', 'a', 'forum', 'for', 'non', 'caucasian', 'anarchists', 'to', 'express', 'their', 'thoughts', 'about', 'racial', 'issues', 'within', 'the', 'anarchist_movement', 'particularly', 'within', 'the', 'united_states', 'national', 'anarchism', 'is', 'a', 'political', 'view', 'which', 'seeks', 'to', 'unite', 'cultural', 'or', 'ethnic', 'preservation', 'with', 'anarchist', 'views', 'its_adherents', 'propose', 'that', 'those', 'preventing', 'ethnic_groups', 'or', 'races', 'from', 'living', 'in', 'separate', 'autonomous', 'groupings', 'should_be', 'resisted', 'anti_racist', 'action', 'is', 'not', 'an', 'anarchist', 'group', 'but', 'many', 'anarchists', 'are', 'involved', 'it', 'focuses_on', 'publicly', 'confronting', 'racist', 'agitators', 'the', 'zapatista', 'movement', 'of', 'chiapas_mexico', 'is', 'a', 'cultural', 'sovereignty', 'group', 'with', 'some', 'anarchist', 'proclivities', 'neocolonialism', 'and', 'globalization', 'nearly_all', 'anarchists', 'oppose', 'neocolonialism', 'as', 'an_attempt', 'to', 'use', 'economic_coercion', 'on', 'a', 'global_scale', 'carried_out', 'through', 'state', 'institutions', 'such_as', 'the', 'world_bank', 'world_trade', 'organization', 'group', 'of', 'eight', 'and', 'the', 'world', 'economic_forum', 'globalization', 'is', 'an', 'ambiguous', 'term', 'that', 'has', 'different_meanings', 'to', 'different', 'anarchist', 'factions', 'most', 'anarchists', 'use', 'the', 'term', 'to', 'mean', 'neocolonialism', 'and', 'or', 'cultural_imperialism', 'which', 'they', 'may', 'see', 'as', 'related', 'many', 'are', 'active', 'in', 'the', 'anti_globalization', 'movement', 'others', 'particularly', 'anarcho_capitalists', 'use', 'globalization', 'to', 'mean', 'the', 'worldwide', 'expansion', 'of', 'the', 'division', 'of', 'labor', 'and', 'trade', 'which', 'they', 'see', 'as', 'beneficial', 'so', 'long', 'as', 'governments', 'do_not', 'intervene', 'parallel', 'structures', 'many', 'anarchists', 'try', 'to', 'set_up', 'alternatives', 'to', 'state', 'supported', 'institutions', 'and', 'outposts', 'such_as', 'food', 'not', 'bombs', 'infoshops', 'educational', 'systems', 'such_as', 'home_schooling', 'neighborhood', 'mediation_arbitration', 'groups', 'and', 'so', 'on', 'the', 'idea', 'is', 'to', 'create', 'the', 'structures', 'for', 'a', 'new', 'anti_authoritarian', 'society', 'in', 'the', 'shell', 'of', 'the', 'old', 'authoritarian', 'one', 'technology', 'recent', 'technological_developments', 'have', 'made', 'the', 'anarchist', 'cause', 'both', 'easier', 'to', 'advance', 'and', 'more', 'conceivable', 'to', 'people', 'many', 'people', 'use', 'the', 'internet', 'to', 'form', 'on', 'line', 'communities', 'intellectual_property', 'is', 'undermined', 'and', 'a', 'gift', 'culture', 'supported_by', 'sharing', 'music', 'files', 'open_source', 'programming', 'and', 'the', 'free_software', 'movement', 'these', 'cyber', 'communities', 'include', 'the', 'gnu_linux', 'indymedia', 'and', 'wiki', 'some', 'anarchists', 'see', 'information_technology', 'as', 'the', 'best', 'weapon', 'to', 'defeat', 'authoritarianism', 'some', 'even', 'think', 'the', 'information', 'age', 'makes', 'eventual', 'anarchy', 'inevitable', 'see_also', 'crypto_anarchism', 'and', 'cypherpunk', 'pacifism', 'some', 'anarchists', 'consider', 'pacifism', 'opposition', 'to', 'war', 'to', 'be', 'inherent', 'in', 'their', 'philosophy', 'anarcho', 'pacifists', 'take', 'it', 'further', 'and', 'follow', 'leo_tolstoy', 's', 'belief', 'in', 'non_violence', 'anarchists', 'see', 'war', 'as', 'an', 'activity', 'in', 'which', 'the', 'state', 'seeks', 'to', 'gain', 'and', 'consolidate_power', 'both', 'domestically', 'and', 'in', 'foreign', 'lands', 'and', 'subscribe', 'to', 'randolph', 'bourne', 's', 'view', 'that', 'war', 'is', 'the', 'health', 'of', 'the', 'state', 'a_lot', 'of', 'anarchist', 'activity', 'has_been', 'anti', 'war', 'based', 'parliamentarianism', 'in', 'general', 'terms', 'the', 'anarchist', 'ethos', 'opposes', 'voting', 'in', 'elections', 'because', 'voting', 'amounts', 'to', 'condoning', 'the', 'state', 'voluntaryism', 'is', 'an', 'anarchist', 'school', 'of', 'thought', 'which', 'emphasizes', 'tending', 'your_own', 'garden', 'and', 'neither', 'ballots', 'nor', 'bullets', 'the', 'anarchist', 'case', 'against', 'voting', 'is', 'explained', 'in', 'the', 'ethics', 'of', 'voting', 'by', 'george_h', 'smith', 'also', 'see', 'voting', 'anarchists', 'an_oxymoron', 'or', 'what', 'by', 'joe', 'peacott', 'and', 'writings', 'by', 'fred', 'woodworth', 'sectarianism', 'most', 'anarchist', 'schools', 'of', 'thought', 'are', 'to', 'some_degree', 'sectarian', 'there', 'is', 'often', 'a', 'difference', 'of', 'opinion', 'within', 'each', 'school', 'about', 'how', 'to', 'react', 'to', 'or', 'interact_with', 'other', 'schools', 'some', 'such_as', 'panarchists', 'believe_that', 'it', 'is', 'possible', 'for', 'a', 'variety', 'of', 'modes', 'of', 'social', 'life', 'to', 'coexist', 'and', 'compete', 'some', 'anarchists', 'view', 'opposing', 'schools', 'as', 'a', 'social', 'impossibility', 'and', 'resist', 'interaction', 'others', 'see', 'opportunities_for', 'coalition', 'building', 'or', 'at_least', 'temporary', 'alliances', 'for', 'specific_purposes', 'see', 'anarchism', 'without', 'adjectives', 'criticisms', 'of', 'anarchism', 'main_article', 'criticisms', 'of', 'anarchism', 'violence', 'since', 'anarchism', 'has', 'often', 'been', 'associated_with', 'violence', 'and', 'destruction', 'some', 'people', 'have', 'seen', 'it', 'as', 'being', 'too', 'violent', 'on', 'the', 'other_hand', 'hand', 'frederick_engels', 'criticsed', 'anarchists', 'for', 'not', 'being', 'violent', 'enough', 'a', 'revolution', 'is', 'certainly', 'the', 'most', 'authoritarian', 'thing', 'there', 'is', 'it', 'is', 'the', 'act', 'whereby', 'one', 'part', 'of', 'the', 'population', 'imposes', 'its', 'will', 'upon', 'the', 'other', 'part', 'by', 'means', 'of', 'rifles', 'bayonets', 'and', 'cannon', 'authoritarian', 'means', 'if', 'such', 'there', 'be', 'at', 'all', 'and', 'if', 'the', 'victorious', 'party', 'does_not', 'want', 'to', 'have', 'fought', 'in', 'vain', 'it', 'must', 'maintain', 'this', 'rule', 'by', 'means', 'of', 'the', 'terror', 'which', 'its', 'arms', 'inspire', 'in', 'the', 'reactionists', 'would', 'the', 'paris_commune', 'have', 'lasted', 'a', 'single', 'day', 'if', 'it', 'had', 'not', 'made', 'use', 'of', 'this', 'authority', 'of', 'the', 'armed', 'people', 'against', 'the', 'bourgeois', 'utopianism', 'anarchism', 'is', 'often_criticised', 'as', 'unfeasible', 'or', 'plain', 'utopian', 'even', 'by', 'many', 'who', 'agree_that', 'it', 's', 'a', 'nice', 'idea', 'in', 'principle', 'for_example', 'carl', 'landauer', 'in', 'his', 'book', 'european', 'socialism', 'criticizes', 'anarchism', 'as', 'being', 'unrealistically', 'utopian', 'and', 'holds_that', 'government', 'is', 'a', 'lesser', 'evil', 'than', 'a', 'society', 'without', 'repressive', 'force', 'he', 'holds_that', 'the', 'belief_that', 'ill', 'intentions', 'will_cease', 'if', 'repressive', 'force', 'disappears', 'is', 'an', 'absurdity', 'however', 'it', 'must_be', 'noted_that', 'not', 'all', 'anarchists', 'have', 'such', 'a', 'utopian', 'view', 'of', 'anarchism', 'for_example', 'some', 'such_as', 'benjamin_tucker', 'advocate', 'privately_funded', 'institutions', 'that', 'defend', 'individual_liberty', 'and', 'property', 'however', 'other', 'anarchists', 'such_as', 'sir_herbert', 'read', 'proudly', 'accept', 'the', 'characterization', 'utopian', 'class', 'character', 'marxists', 'have', 'characterised', 'anarchism', 'as', 'an', 'expression', 'of', 'the', 'class', 'interests', 'of', 'the', 'petite', 'bourgeoisie', 'or', 'perhaps', 'the', 'lumpenproletariat', 'see', 'e_g', 'plekhanov', 'for', 'a', 'marxist_critique', 'of', 'one', 'eight', 'nine', 'five', 'anarchists', 'have', 'also', 'been', 'characterised', 'as', 'spoilt', 'middle_class', 'dilettantes', 'most_recently', 'in', 'relation', 'to', 'anti_capitalist', 'protesters', 'tacit', 'authoritarianism', 'in', 'recent_decades', 'anarchism', 'has_been', 'criticised', 'by', 'situationists', 'post', 'anarchists', 'and', 'others', 'of', 'preserving', 'tacitly', 'statist', 'authoritarian', 'or', 'bureaucratic', 'tendencies', 'behind', 'a', 'dogmatic', 'facade', 'hypocrisy', 'some_critics', 'point', 'to', 'the', 'sexist', 'and', 'racist_views', 'of', 'some', 'prominent', 'anarchists', 'notably', 'proudhon', 'and', 'bakunin', 'as', 'examples', 'of', 'hypocrisy', 'inherent', 'within', 'anarchism', 'while', 'many', 'anarchists', 'however', 'dismiss', 'that', 'the', 'personal', 'prejudices', 'of', 'one', 'nine', 'th_century', 'theorists', 'influence', 'the', 'beliefs', 'of', 'present_day', 'anarchists', 'others', 'criticise', 'modern', 'anarchism', 'for', 'continuing', 'to', 'be', 'eurocentric', 'and', 'reference', 'the', 'impact', 'of', 'anarchist', 'thinkers', 'like', 'proudhon', 'on', 'fascism', 'through', 'groups', 'like', 'cercle', 'proudhon', 'anarcho_capitalist', 'bryan', 'caplan', 'argues_that', 'the', 'treatment', 'of', 'fascists', 'and', 'suspected', 'fascist', 'sympathizers', 'by', 'spanish', 'anarchists', 'in', 'the', 'spanish_civil', 'war', 'was', 'a', 'form', 'of', 'illegitimate', 'coercion', 'making', 'the', 'proffessed', 'anarchists', 'ultimately', 'just', 'a', 'third', 'faction', 'of', 'totalitarians', 'alongside', 'the', 'communists', 'and', 'fascists', 'he', 'also', 'criticizes', 'the', 'willingness', 'of', 'the', 'cnt', 'to', 'join', 'the', 'statist', 'republican', 'government', 'during', 'the', 'civil_war', 'and', 'references', 'stanley', 'g', 'payne', 's', 'book', 'on', 'the', 'franco_regime', 'which', 'claims', 'that', 'the', 'cnt', 'entered', 'negotiations', 'with', 'the', 'fascist', 'government', 'six', 'years', 'after', 'the', 'war', 'cultural', 'phenomena', 'noam_chomsky', 'one', 'nine', 'two', 'eight', 'the', 'kind', 'of', 'anarchism', 'that', 'is', 'most', 'easily', 'encountered', 'in', 'popular_culture', 'is', 'represented_by', 'celebrities', 'who', 'publicly', 'identify_themselves', 'as', 'anarchists', 'although', 'some', 'anarchists', 'reject_any', 'focus_on', 'such', 'famous', 'living', 'individuals', 'as', 'inherently', 'litist', 'the', 'following', 'figures', 'are', 'examples', 'of', 'prominent', 'publicly', 'self', 'avowed', 'anarchists', 'the', 'mit', 'professor', 'of', 'linguistics', 'noam_chomsky', 'the', 'science_fiction', 'author', 'ursula_k', 'le_guin', 'the', 'social', 'historian', 'howard_zinn', 'entertainer', 'and', 'author', 'hans', 'alfredsson', 'the', 'avant_garde', 'artist', 'nicol', 's', 'rossell', 'in', 'denmark', 'the', 'freetown', 'christiania', 'was', 'created', 'in', 'downtown', 'copenhagen', 'the', 'housing', 'and', 'employment', 'crisis', 'in', 'most', 'of', 'western_europe', 'led', 'to', 'the', 'formation', 'of', 'communes', 'and', 'squatter', 'movements', 'like', 'the', 'one', 'still', 'thriving', 'in', 'barcelona', 'in', 'catalonia', 'militant', 'resistance', 'to', 'neo_nazi', 'groups', 'in', 'places', 'like', 'germany', 'and', 'the', 'uprisings', 'of', 'autonomous', 'marxism', 'situationist', 'and', 'autonomist', 'groups', 'in', 'france', 'and', 'italy', 'also', 'helped', 'to', 'give', 'popularity', 'to', 'anti_authoritarian', 'non', 'capitalist', 'ideas', 'in', 'various', 'musical_styles', 'anarchism', 'rose', 'in', 'popularity', 'most_famous', 'for', 'the', 'linking', 'of', 'anarchist_ideas', 'and', 'music', 'has_been', 'punk_rock', 'although', 'in', 'the', 'modern', 'age', 'hip_hop', 'and', 'folk_music', 'are', 'also', 'becoming', 'important', 'mediums', 'for', 'the', 'spreading', 'of', 'the', 'anarchist', 'message', 'in', 'the', 'uk', 'this', 'was', 'associated_with', 'the', 'punk_rock', 'movement', 'the', 'band_crass', 'is', 'celebrated', 'for', 'its', 'anarchist', 'and', 'pacifist', 'ideas', 'the', 'dutch', 'punk_band', 'the', 'ex', 'further', 'exemplifies', 'this', 'expression', 'for', 'further_details', 'see', 'anarcho_punk', 'see_also', 'there_are', 'many', 'concepts', 'relevant', 'to', 'the', 'topic', 'of', 'anarchism', 'this', 'is', 'a', 'brief_summary', 'there', 'is', 'also', 'a', 'more', 'extensive', 'list', 'of', 'anarchist', 'concepts', 'individualist_anarchism', 'anarcho_communism', 'anarcho_syndicalism', 'anarcho_capitalism', 'mutualism', 'christian_anarchism', 'anarcha_feminism', 'green_anarchism', 'nihilist', 'anarchism_anarcho', 'nationalism', 'black', 'anarchism', 'national', 'anarchism', 'post', 'anarchism', 'post', 'left', 'anarchism', 'libertarian_socialism', 'anarchist', 'symbolism', 'list', 'of', 'anarchism', 'links', 'list', 'of', 'anarchists', 'list', 'of', 'anarchist_organizations', 'major', 'conflicts', 'within', 'anarchist', 'thought', 'past', 'and', 'present', 'anarchist', 'communities', 'historical_events', 'paris_commune', 'one', 'eight', 'seven', 'one', 'haymarket_riot', 'one', 'eight', 'eight', 'six', 'the', 'makhnovschina', 'one', 'nine', 'one', 'seven', 'one', 'nine', 'two', 'one', 'kronstadt_rebellion', 'one', 'nine', 'two', 'one', 'spanish', 'revolution', 'one', 'nine', 'three', 'six', 'see', 'anarchism', 'in', 'spain', 'and', 'spanish', 'revolution', 'may', 'one', 'nine', 'six', 'eight', 'france', 'one', 'nine', 'six', 'eight', 'wto', 'meeting', 'in', 'seattle', 'one', 'nine', 'nine', 'nine', 'books', 'the', 'following', 'is', 'a', 'sample', 'of', 'books', 'that', 'have_been', 'referenced', 'in', 'this', 'page', 'a', 'more', 'complete_list', 'can_be', 'found', 'at', 'the', 'list', 'of', 'anarchist', 'books', 'mikhail_bakunin', 'god', 'and', 'the', 'state', 'emma_goldman', 'anarchism', 'other', 'essays', 'peter_kropotkin', 'mutual_aid', 'pierre_joseph', 'proudhon', 'what', 'is', 'property', 'rudolf_rocker', 'anarcho_syndicalism', 'murray_rothbard', 'the', 'ethics', 'of', 'liberty', 'max_stirner', 'the', 'ego', 'and', 'its_own', 'leo_tolstoy', 'the', 'kingdom', 'of', 'god', 'is', 'within', 'you', 'anarchism', 'by', 'region', 'culture', 'african', 'anarchism', 'anarchism', 'in', 'spain', 'anarchism', 'in', 'the', 'english', 'tradition', 'chinese', 'anarchism', 'references', 'these', 'notes', 'have', 'no', 'corresponding', 'reference', 'in', 'the', 'article', 'they', 'might_be', 're', 'used', 'against', 'politics', 'appleton', 'boston', 'anarchists', 'yarros', 'victor', 'liberty', 'vii', 'january', 'two', 'one', 'eight', 'nine', 'two', 'noam_chomsky', 'on', 'anarchism', 'by', 'noam_chomsky', 'external_links', 'the', 'overwhelming', 'diversity', 'and', 'number', 'of', 'links', 'relating_to', 'anarchism', 'is', 'extensively_covered', 'on', 'the', 'links', 'subpage', 'anarchoblogs', 'blogs', 'by', 'anarchists', 'anarchy', 'archives', 'extensively', 'archives', 'information', 'relating_to', 'famous', 'anarchists', 'this', 'includes', 'many', 'of', 'their', 'books', 'and', 'other', 'publications', 'hundreds', 'of', 'anarchists', 'are_listed', 'with', 'short', 'bios', 'links', 'dedicated', 'pages', 'at', 'the', 'daily', 'bleed', 's', 'anarchist', 'encyclopedia', 'infoshop_org', 'wikipedia_page', 'industrial_workers', 'of', 'the', 'world', 'anarchism', 'forms', 'of', 'government', 'political_ideology', 'entry', 'points', 'political', 'theories', 'social', 'philosophy', 'autism', 'is', 'classified_as', 'a', 'neurodevelopmental', 'disorder', 'that', 'manifests_itself', 'in', 'markedly', 'abnormal', 'social_interaction', 'communication', 'ability', 'patterns', 'of', 'interests', 'and', 'patterns', 'of', 'behavior', 'although', 'the', 'specific', 'etiology', 'of', 'autism', 'is', 'unknown', 'many', 'researchers', 'suspect', 'that', 'autism', 'results', 'from', 'genetically', 'mediated', 'vulnerabilities', 'to', 'environmental', 'triggers', 'and', 'while', 'there', 'is', 'disagreement_about', 'the', 'magnitude', 'nature', 'and', 'mechanisms', 'for', 'such', 'environmental_factors', 'researchers_have', 'found', 'at_least', 'seven', 'major', 'genes', 'prevalent_among', 'individuals', 'diagnosed', 'as', 'autistic', 'some', 'estimate', 'that', 'autism', 'occurs', 'in', 'as', 'many', 'as', 'one', 'united_states', 'child', 'in', 'one', 'six', 'six', 'however', 'the', 'national_institute', 'of', 'mental_health', 'gives', 'a', 'more', 'conservative_estimate', 'of', 'one', 'in', 'one', 'zero', 'zero', 'zero', 'for', 'families', 'that', 'already', 'have', 'one', 'autistic_child', 'the', 'odds', 'of', 'a', 'second', 'autistic_child', 'may_be', 'as', 'high', 'as', 'one', 'in', 'twenty', 'diagnosis', 'is', 'based_on', 'a', 'list', 'of', 'psychiatric', 'criteria', 'and', 'a', 'series', 'of', 'standardized', 'clinical_tests', 'may', 'also', 'be', 'used', 'autism', 'may', 'not', 'be', 'physiologically', 'obvious', 'a', 'complete', 'physical', 'and', 'neurological', 'evaluation', 'will', 'typically', 'be', 'part', 'of', 'diagnosing', 'autism', 'some', 'now', 'speculate_that', 'autism', 'is', 'not', 'a', 'single', 'condition', 'but', 'a', 'group', 'of', 'several', 'distinct', 'conditions', 'that', 'manifest', 'in', 'similar', 'ways', 'by', 'definition', 'autism', 'must', 'manifest', 'delays', 'in', 'social_interaction', 'language', 'as', 'used', 'in', 'social', 'communication', 'or', 'symbolic', 'or', 'imaginative', 'play', 'with', 'onset', 'prior_to', 'age', 'three', 'years', 'according_to', 'the', 'diagnostic', 'and', 'statistical_manual', 'of', 'mental_disorders', 'the', 'icd', 'one', 'zero', 'also', 'says_that', 'symptoms', 'must', 'manifest', 'before', 'the', 'age', 'of', 'three', 'years', 'there', 'have_been', 'large', 'increases', 'in', 'the', 'reported', 'incidence', 'of', 'autism', 'for', 'reasons', 'that', 'are', 'heavily_debated', 'by', 'researchers', 'in', 'psychology', 'and', 'related_fields', 'within', 'the', 'scientific_community', 'some', 'children', 'with', 'autism', 'have', 'improved', 'their', 'social', 'and', 'other', 'skills', 'to', 'the', 'point', 'where', 'they', 'can', 'fully', 'participate', 'in', 'mainstream', 'education', 'and', 'social', 'events', 'but', 'there_are', 'lingering', 'concerns', 'that', 'an', 'absolute', 'cure', 'from', 'autism', 'is', 'impossible', 'with', 'current', 'technology', 'however', 'many', 'autistic_children', 'and', 'adults', 'who', 'are', 'able_to', 'communicate', 'at_least', 'in', 'writing', 'are', 'opposed', 'to', 'attempts', 'to', 'cure', 'their', 'conditions', 'and', 'see', 'such', 'conditions', 'as', 'part', 'of', 'who', 'they', 'are', 'history', 'dr', 'hans_asperger', 'described', 'a', 'form', 'of', 'autism', 'in', 'the', 'one', 'nine', 'four', 'zero', 's', 'that', 'later_became', 'known_as', 'asperger_s', 'syndrome', 'the', 'word', 'autism', 'was', 'first', 'used', 'in', 'the', 'english_language', 'by', 'swiss_psychiatrist', 'eugene_bleuler', 'in', 'a', 'one', 'nine', 'one', 'two', 'number', 'of', 'the', 'american', 'journal', 'of', 'insanity', 'it', 'comes_from', 'the', 'greek_word', 'for', 'self', 'however', 'the', 'classification', 'of', 'autism', 'did_not', 'occur', 'until', 'the', 'middle', 'of', 'the', 'twentieth_century', 'when', 'in', 'one', 'nine', 'four', 'three', 'psychiatrist_dr', 'leo', 'kanner', 'of', 'the', 'johns_hopkins', 'hospital', 'in', 'baltimore', 'reported', 'on', 'one', 'one', 'child', 'patients', 'with', 'striking', 'behavioral', 'similarities', 'and', 'introduced', 'the', 'label', 'early_infantile', 'autism', 'he', 'suggested', 'autism', 'from', 'the', 'greek', 'autos', 'meaning', 'self', 'to', 'describe', 'the', 'fact_that', 'the', 'children', 'seemed', 'to', 'lack', 'interest', 'in', 'other', 'people', 'although', 'kanner', 's', 'first', 'paper', 'on', 'the', 'subject', 'was', 'published', 'in', 'a', 'now_defunct', 'journal', 'the', 'nervous', 'child', 'almost_every', 'characteristic', 'he', 'originally', 'described', 'is', 'still', 'regarded_as', 'typical', 'of', 'the', 'autistic_spectrum', 'of', 'disorders', 'at', 'the', 'same_time', 'an', 'austrian', 'scientist', 'dr', 'hans_asperger', 'described', 'a', 'different', 'form', 'of', 'autism', 'that', 'became_known', 'as', 'asperger_s', 'syndrome', 'but', 'the', 'widespread', 'recognition', 'of', 'asperger_s', 'work', 'was', 'delayed', 'by', 'world_war', 'ii', 'in', 'germany', 'and', 'by', 'the', 'fact_that', 'his', 'seminal', 'paper', 'wasn_t', 'translated_into', 'english', 'for', 'almost', 'five', 'zero', 'years', 'the', 'majority', 'of', 'his', 'work', 'wasn_t', 'widely_read', 'until', 'one', 'nine', 'nine', 'seven', 'thus', 'these', 'two', 'conditions', 'were', 'described', 'and', 'are', 'today', 'listed', 'in', 'the', 'diagnostic', 'and', 'statistical_manual', 'of', 'mental_disorders', 'dsm_iv', 'tr', 'fourth_edition', 'text', 'revision', 'one', 'as', 'two', 'of', 'the', 'five', 'pervasive_developmental', 'disorders', 'pdd', 'more', 'often_referred', 'to', 'today', 'as', 'autism_spectrum', 'disorders', 'asd', 'all', 'of', 'these', 'conditions', 'are', 'characterized_by', 'varying_degrees', 'of', 'difference', 'in', 'communication_skills', 'social_interactions', 'and', 'restricted', 'repetitive', 'and', 'stereotyped', 'patterns', 'of', 'behavior', 'few', 'clinicians', 'today', 'solely', 'use', 'the', 'dsm_iv', 'criteria_for', 'determining', 'a', 'diagnosis', 'of', 'autism', 'which', 'are', 'based_on', 'the', 'absence', 'or', 'delay', 'of', 'certain', 'developmental', 'milestones', 'many', 'clinicians', 'instead', 'use', 'an_alternate', 'means', 'or', 'a', 'combination_thereof', 'to', 'more_accurately', 'determine', 'a', 'diagnosis', 'terminology', 'when_referring', 'to', 'someone', 'diagnosed_with', 'autism', 'the', 'term', 'autistic', 'is', 'often_used', 'however', 'the', 'term', 'person', 'with', 'autism', 'can_be', 'used', 'instead', 'this', 'is', 'referred_to', 'as', 'person', 'first', 'terminology', 'the', 'autistic', 'community', 'generally', 'prefers', 'the', 'term', 'autistic', 'for', 'reasons', 'that', 'are', 'fairly', 'controversial', 'this_article', 'uses', 'the', 'term', 'autistic', 'see', 'talk_page', 'characteristics', 'dr_leo', 'kanner', 'introduced', 'the', 'label', 'early_infantile', 'autism', 'in', 'one', 'nine', 'four', 'three', 'there', 'is', 'a', 'great_diversity', 'in', 'the', 'skills', 'and', 'behaviors', 'of', 'individuals', 'diagnosed', 'as', 'autistic', 'and', 'physicians', 'will', 'often', 'arrive_at', 'different', 'conclusions_about', 'the', 'appropriate', 'diagnosis', 'much', 'of', 'this', 'is', 'due_to', 'the', 'sensory', 'system', 'of', 'an', 'autistic', 'which', 'is', 'quite_different', 'from', 'the', 'sensory', 'system', 'of', 'other', 'people', 'since', 'certain', 'stimulations', 'can_affect', 'an', 'autistic', 'differently', 'than', 'a', 'non_autistic', 'and', 'the', 'degree', 'to', 'which', 'the', 'sensory', 'system', 'is', 'affected', 'varies_wildly', 'from', 'one', 'autistic', 'person', 'to', 'another', 'nevertheless', 'professionals', 'within', 'pediatric', 'care', 'and', 'development', 'often', 'look', 'for', 'early', 'indicators', 'of', 'autism', 'in', 'order', 'to', 'initiate', 'treatment', 'as', 'early', 'as', 'possible', 'however', 'some', 'people', 'do_not', 'believe', 'in', 'treatment', 'for', 'autism', 'either', 'because_they', 'do_not', 'believe', 'autism', 'is', 'a', 'disorder', 'or', 'because_they', 'believe', 'treatment', 'can', 'do', 'more', 'harm', 'than', 'good', 'social', 'development', 'typically', 'developing', 'infants', 'are', 'social', 'beings', 'early', 'in', 'life', 'they_do', 'such', 'things', 'as', 'gaze', 'at', 'people', 'turn', 'toward', 'voices', 'grasp', 'a', 'finger', 'and', 'even', 'smile', 'in', 'contrast', 'most', 'autistic_children', 'prefer', 'objects', 'to', 'faces', 'and', 'seem', 'to', 'have', 'tremendous', 'difficulty_learning', 'to', 'engage', 'in', 'the', 'give', 'and', 'take', 'of', 'everyday', 'human_interaction', 'even', 'in', 'the', 'first', 'few_months', 'of', 'life', 'many', 'seem', 'indifferent', 'to', 'other', 'people', 'because_they', 'avoid', 'eye_contact', 'and', 'do_not', 'interact_with', 'them', 'as', 'often', 'as', 'non_autistic', 'children', 'children', 'with', 'autism', 'often', 'appear', 'to', 'prefer', 'being', 'alone', 'to', 'the', 'company', 'of', 'others', 'and', 'may', 'passively', 'accept', 'such', 'things', 'as', 'hugs', 'and', 'cuddling', 'without', 'reciprocating', 'or', 'resist', 'attention', 'altogether', 'later', 'they', 'seldom', 'seek', 'comfort', 'from', 'others', 'or', 'respond', 'to', 'parents', 'displays', 'of', 'anger', 'or', 'affection', 'in', 'a', 'typical', 'way', 'research', 'has', 'suggested_that', 'although', 'autistic_children', 'are', 'attached', 'to', 'their', 'parents', 'their', 'expression', 'of', 'this', 'attachment', 'is', 'unusual', 'and', 'difficult', 'to', 'interpret', 'parents', 'who', 'looked_forward', 'to', 'the', 'joys', 'of', 'cuddling', 'teaching', 'and', 'playing', 'with', 'their', 'child', 'may', 'feel', 'crushed', 'by', 'this', 'lack', 'of', 'expected', 'attachment', 'behavior', 'children', 'with', 'autism', 'appear', 'to', 'lack', 'theory', 'of', 'mind', 'the', 'ability', 'to', 'see', 'things', 'from', 'another_person', 's', 'perspective', 'a', 'behavior', 'cited', 'as', 'exclusive', 'to', 'human_beings', 'above', 'the', 'age', 'of', 'five', 'and', 'possibly', 'other', 'higher', 'primates', 'such_as', 'adult', 'gorillas', 'chimpanzees', 'and', 'bonobos', 'typical', 'five', 'year_olds', 'can', 'develop', 'insights_into', 'other', 'people', 's', 'different', 'knowledge', 'feelings', 'and', 'intentions', 'interpretations', 'based_upon', 'social', 'cues', 'e_g', 'gestures', 'facial_expressions', 'an_individual', 'with', 'autism', 'seems', 'to', 'lack', 'these', 'interpretation', 'skills', 'an', 'inability', 'that', 'leaves', 'them', 'unable_to', 'predict', 'or', 'understand', 'other', 'people', 's', 'actions', 'the', 'social', 'alienation', 'of', 'autistic', 'and', 'asperger_s', 'people', 'is', 'so', 'intense', 'from', 'childhood', 'that', 'many', 'of', 'them', 'have', 'imaginary_friends', 'as', 'companionship', 'however', 'having', 'an_imaginary', 'friend', 'is', 'not_necessarily', 'a', 'sign', 'of', 'autism', 'and', 'also', 'occurs', 'in', 'non_autistic', 'children', 'although', 'not', 'universal', 'it', 'is', 'common', 'for', 'autistic_people', 'to', 'not', 'regulate', 'their', 'behavior', 'this', 'can', 'take', 'the', 'form', 'of', 'crying', 'or', 'verbal', 'outbursts', 'that', 'may_seem', 'out', 'of', 'proportion', 'to', 'the', 'situation', 'individuals', 'with', 'autism', 'generally', 'prefer', 'consistent', 'routines', 'and', 'environments', 'they', 'may', 'react', 'negatively', 'to', 'changes', 'in', 'them', 'it', 'is', 'not_uncommon', 'for', 'these', 'individuals', 'to', 'exhibit', 'aggression', 'increased', 'levels', 'of', 'self', 'stimulatory', 'behavior', 'self', 'injury', 'or', 'extensive', 'withdrawal', 'in', 'overwhelming', 'situations', 'sensory', 'system', 'a', 'key', 'indicator', 'to', 'clinicians', 'making', 'a', 'proper', 'assessment', 'for', 'autism', 'would', 'include', 'looking', 'for', 'symptoms', 'much_like', 'those', 'found', 'in', 'sensory', 'integration', 'dysfunction', 'children', 'will', 'exhibit', 'problems', 'coping_with', 'the', 'normal', 'sensory_input', 'indicators', 'of', 'this', 'disorder', 'include', 'oversensitivity', 'or', 'underreactivity', 'to', 'touch', 'movement', 'sights', 'or', 'sounds', 'physical', 'clumsiness', 'or', 'carelessness', 'poor', 'body', 'awareness', 'a', 'tendency', 'to', 'be', 'easily', 'distracted', 'impulsive', 'physical', 'or', 'verbal_behavior', 'an', 'activity', 'level', 'that', 'is', 'unusually_high', 'or', 'low', 'not', 'unwinding', 'or', 'calming', 'oneself', 'difficulty_learning', 'new', 'movements', 'difficulty', 'in', 'making', 'transitions', 'from', 'one', 'situation', 'to', 'another', 'social', 'and', 'or', 'emotional_problems', 'delays', 'in', 'speech', 'language', 'or', 'motor_skills', 'specific', 'learning_difficulties', 'delays', 'in', 'academic_achievement', 'one', 'common', 'example', 'is', 'an_individual', 'with', 'autism', 'hearing', 'a', 'person', 'with', 'autism', 'may_have', 'trouble', 'hearing', 'certain', 'people', 'while', 'other', 'people', 'are', 'louder_than', 'usual', 'or', 'the', 'person', 'with', 'autism', 'may_be', 'unable_to', 'filter', 'out', 'sounds', 'in', 'certain_situations', 'such_as', 'in', 'a', 'large', 'crowd', 'of', 'people', 'see', 'cocktail', 'party', 'effect', 'however', 'this', 'is', 'perhaps', 'the', 'part', 'of', 'the', 'autism', 'that', 'tends_to', 'vary', 'the', 'most', 'from', 'person', 'to', 'person', 'so', 'these', 'examples', 'may', 'not_apply', 'to', 'every', 'autistic', 'it', 'should_be', 'noted_that', 'sensory', 'difficulties', 'although', 'reportedly', 'common', 'in', 'autistics', 'are', 'not', 'part', 'of', 'the', 'dsm_iv', 'diagnostic_criteria', 'for', 'autistic', 'disorder', 'communication', 'difficulties', 'by', 'age', 'three', 'typical', 'children', 'have', 'passed', 'predictable', 'language', 'learning', 'milestones', 'one', 'of', 'the', 'earliest', 'is', 'babbling', 'by', 'the', 'first', 'birthday', 'a', 'typical', 'toddler', 'says', 'words', 'turns', 'when', 'he', 'or', 'she', 'hears', 'his', 'or', 'her', 'name', 'points', 'when', 'he', 'or', 'she_wants', 'a', 'toy', 'and', 'when', 'offered', 'something', 'distasteful', 'makes', 'it', 'clear', 'that', 'the', 'answer', 'is', 'no', 'speech', 'development', 'in', 'people', 'with', 'autism', 'takes', 'different_paths', 'some', 'remain', 'mute', 'throughout', 'their_lives', 'while', 'being', 'fully', 'literate', 'and', 'able_to', 'communicate', 'in', 'other', 'ways', 'images', 'sign_language', 'and', 'typing', 'are', 'far_more', 'natural', 'to', 'them', 'some', 'infants', 'who', 'later', 'show_signs', 'of', 'autism', 'coo', 'and', 'babble', 'during', 'the', 'first', 'few_months', 'of', 'life', 'but', 'stop', 'soon_afterwards', 'others', 'may_be', 'delayed', 'developing', 'language', 'as', 'late', 'as', 'the', 'teenage_years', 'still', 'inability_to', 'speak', 'does_not', 'mean', 'that', 'people', 'with', 'autism', 'are', 'unintelligent', 'or', 'unaware', 'once', 'given', 'appropriate', 'accommodations', 'many', 'will', 'happily', 'converse', 'for', 'hours', 'and', 'can', 'often', 'be_found', 'in', 'online_chat', 'rooms', 'discussion_boards', 'or', 'websites', 'and', 'even', 'using', 'communication', 'devices', 'at', 'autism', 'community', 'social', 'events', 'such_as', 'autreat', 'those_who', 'do', 'speak', 'often', 'use', 'language', 'in', 'unusual', 'ways', 'retaining', 'features', 'of', 'earlier_stages', 'of', 'language', 'development', 'for', 'long_periods', 'or', 'throughout', 'their_lives', 'some', 'speak', 'only', 'single', 'words', 'while_others', 'repeat', 'the', 'same', 'phrase', 'over', 'and', 'over', 'some', 'repeat', 'what', 'they', 'hear', 'a', 'condition', 'called', 'echolalia', 'sing', 'song', 'repetitions', 'in', 'particular', 'are', 'a', 'calming', 'joyous', 'activity', 'that', 'many', 'autistic_adults', 'engage', 'in', 'many', 'people', 'with', 'autism', 'have', 'a', 'strong', 'tonal', 'sense', 'and', 'can', 'often', 'understand', 'spoken_language', 'some', 'children', 'may', 'exhibit', 'only', 'slight', 'delays', 'in', 'language', 'or', 'even', 'seem', 'to', 'have', 'precocious', 'language', 'and', 'unusually_large', 'vocabularies', 'but', 'have', 'great_difficulty', 'in', 'sustaining', 'typical', 'conversations', 'the', 'give', 'and', 'take', 'of', 'non_autistic', 'conversation', 'is', 'hard', 'for', 'them', 'although', 'they', 'often', 'carry', 'on', 'a', 'monologue', 'on', 'a', 'favorite', 'subject', 'giving', 'no', 'one', 'else', 'an_opportunity', 'to', 'comment', 'when', 'given', 'the', 'chance', 'to', 'converse', 'with', 'other', 'autistics', 'they', 'comfortably', 'do_so', 'in', 'parallel', 'monologue', 'taking_turns', 'expressing', 'views', 'and', 'information', 'just', 'as', 'neurotypicals', 'people', 'without', 'autism', 'have', 'trouble_understanding', 'autistic', 'body', 'languages', 'vocal', 'tones', 'or', 'phraseology', 'people', 'with', 'autism', 'similarly', 'have', 'trouble', 'with', 'such', 'things', 'in', 'people', 'without', 'autism', 'in', 'particular', 'autistic', 'language', 'abilities', 'tend_to', 'be', 'highly', 'literal', 'people', 'without', 'autism', 'often', 'inappropriately', 'attribute', 'hidden_meaning', 'to', 'what', 'people', 'with', 'autism', 'say', 'or', 'expect', 'the', 'person', 'with', 'autism', 'to', 'sense', 'such', 'unstated', 'meaning', 'in', 'their_own', 'words', 'the', 'body', 'language', 'of', 'people', 'with', 'autism', 'can_be', 'difficult', 'for', 'other', 'people', 'to', 'understand', 'facial_expressions', 'movements', 'and', 'gestures', 'may_be', 'easily_understood', 'by', 'some', 'other', 'people', 'with', 'autism', 'but', 'do_not', 'match', 'those', 'used', 'by', 'other', 'people', 'also', 'their', 'tone', 'of', 'voice', 'has', 'a', 'much_more', 'subtle', 'inflection', 'in', 'reflecting', 'their', 'feelings', 'and', 'the', 'auditory', 'system', 'of', 'a', 'person', 'without', 'autism', 'often', 'cannot', 'sense', 'the', 'fluctuations', 'what', 'seems', 'to', 'non_autistic', 'people', 'like', 'a', 'high_pitched', 'sing', 'song', 'or', 'flat', 'robot', 'like', 'voice', 'is', 'common', 'in', 'autistic_children', 'some', 'autistic_children', 'with', 'relatively', 'good', 'language', 'skills', 'speak', 'like', 'little', 'adults', 'rather_than', 'communicating', 'at', 'their', 'current', 'age', 'level', 'which', 'is', 'one', 'of', 'the', 'things', 'that', 'can_lead', 'to', 'problems', 'since', 'non_autistic', 'people', 'are', 'often', 'unfamiliar_with', 'the', 'autistic', 'body', 'language', 'and', 'since', 'autistic', 'natural', 'language', 'may', 'not', 'tend_towards', 'speech', 'autistic_people', 'often', 'struggle', 'to', 'let', 'other', 'people', 'know_what', 'they', 'need', 'as', 'anybody', 'might', 'do', 'in', 'such', 'a', 'situation', 'they', 'may', 'scream', 'in', 'frustration', 'or', 'resort', 'to', 'grabbing', 'what', 'they_want', 'while_waiting', 'for', 'non_autistic', 'people', 'to', 'learn', 'to', 'communicate_with', 'them', 'people', 'with', 'autism', 'do_whatever', 'they', 'can', 'to', 'get', 'through', 'to', 'them', 'communication', 'difficulties', 'may', 'contribute', 'to', 'autistic_people', 'becoming', 'socially', 'anxious', 'or', 'depressed', 'repetitive', 'behaviors', 'although', 'people', 'with', 'autism', 'usually', 'appear', 'physically', 'normal', 'and', 'have', 'good', 'muscle', 'control', 'unusual', 'repetitive', 'motions', 'known_as', 'self', 'stimulation', 'or', 'stimming', 'may', 'set', 'them', 'apart', 'these', 'behaviors', 'might_be', 'extreme', 'and', 'highly', 'apparent', 'or', 'more_subtle', 'some', 'children', 'and', 'older', 'individuals', 'spend', 'a_lot', 'of', 'time', 'repeatedly', 'flapping', 'their', 'arms', 'or', 'wiggling', 'their', 'toes', 'others', 'suddenly', 'freeze', 'in', 'position', 'as', 'children', 'they', 'might', 'spend_hours', 'lining_up', 'their', 'cars', 'and', 'trains', 'in', 'a', 'certain', 'way', 'not', 'using', 'them', 'for', 'pretend', 'play', 'if_someone', 'accidentally', 'moves', 'one', 'of', 'these', 'toys', 'the', 'child', 'may_be', 'tremendously', 'upset', 'autistic_children', 'often', 'need', 'and', 'demand', 'absolute', 'consistency', 'in', 'their', 'environment', 'a', 'slight', 'change', 'in', 'any', 'routine', 'in', 'mealtimes', 'dressing', 'taking', 'a', 'bath', 'or', 'going', 'to', 'school', 'at', 'a', 'certain', 'time', 'and', 'by', 'the', 'same', 'route', 'can_be', 'extremely', 'disturbing', 'people', 'with', 'autism', 'sometimes', 'have', 'a', 'persistent', 'intense', 'preoccupation', 'for_example', 'the', 'child', 'might_be', 'obsessed_with', 'learning', 'all', 'about', 'vacuum_cleaners', 'train', 'schedules', 'or', 'lighthouses', 'often', 'they', 'show', 'great', 'interest', 'in', 'different', 'languages', 'numbers', 'symbols', 'or', 'science', 'topics', 'repetitive', 'behaviors', 'can', 'also', 'extend', 'into', 'the', 'spoken_word', 'as_well', 'perseveration', 'of', 'a', 'single', 'word', 'or', 'phrase', 'even', 'for', 'a', 'specific', 'number', 'of', 'times', 'can', 'also', 'become', 'a', 'part', 'of', 'the', 'child', 's', 'daily_routine', 'effects', 'in', 'education', 'children', 'with', 'autism', 'are', 'affected', 'with', 'these', 'symptoms', 'every_day', 'these', 'unusual', 'characteristics', 'set', 'them', 'apart_from', 'the', 'everyday', 'normal', 'student', 'because_they', 'have', 'trouble_understanding', 'people', 's', 'thoughts', 'and', 'feelings', 'they', 'have', 'trouble_understanding', 'what', 'their', 'teacher', 'may_be', 'telling_them', 'they_do', 'not', 'understand', 'that', 'facial_expressions', 'and', 'vocal', 'variations', 'hold', 'meanings', 'and', 'may', 'misinterpret', 'what', 'emotion', 'their', 'instructor', 'is', 'displaying', 'this', 'inability_to', 'fully', 'decipher', 'the', 'world', 'around', 'them', 'makes', 'education', 'stressful', 'teachers', 'need', 'to', 'be', 'aware', 'of', 'a', 'student', 's', 'disorder', 'so', 'that', 'they', 'are', 'able_to', 'help', 'the', 'student', 'get', 'the', 'best', 'out', 'of', 'the', 'lessons', 'being', 'taught', 'some', 'students', 'learn', 'better', 'with', 'visual', 'aids', 'as', 'they', 'are', 'better', 'able_to', 'understand', 'material', 'presented', 'this', 'way', 'because', 'of', 'this', 'many', 'teachers', 'create', 'visual', 'schedules', 'for', 'their', 'autistic', 'students', 'this', 'allows', 'the', 'student', 'to', 'know_what', 'is', 'going', 'on', 'throughout', 'the', 'day', 'so', 'they', 'know_what', 'to', 'prepare', 'for', 'and', 'what', 'activity', 'they', 'will_be', 'doing', 'next', 'some', 'autistic_children', 'have', 'trouble', 'going', 'from', 'one', 'activity', 'to', 'the', 'next', 'so', 'this', 'visual', 'schedule', 'can', 'help', 'to', 'reduce', 'stress', 'research', 'has', 'shown', 'that', 'working', 'in', 'pairs', 'may_be', 'beneficial', 'to', 'autistic_children', 'autistic', 'students', 'have', 'problems', 'in', 'schools', 'not', 'only', 'with', 'language', 'and', 'communication', 'but', 'with', 'socialization', 'as_well', 'they', 'feel', 'self_conscious', 'about', 'themselves', 'and', 'many', 'feel', 'that', 'they', 'will_always', 'be', 'outcasts', 'by', 'allowing_them', 'to', 'work', 'with', 'peers', 'they', 'can', 'make', 'friends', 'which', 'in', 'turn', 'can', 'help', 'them', 'cope_with', 'the', 'problems', 'that', 'arise', 'by', 'doing_so', 'they', 'can', 'become', 'more', 'integrated_into', 'the', 'mainstream', 'environment', 'of', 'the', 'classroom', 'a', 'teacher', 's', 'aide', 'can', 'also', 'be', 'useful', 'to', 'the', 'student', 'the', 'aide', 'is', 'able_to', 'give', 'more_elaborate', 'directions', 'that', 'the', 'teacher', 'may', 'not', 'have', 'time', 'to', 'explain', 'to', 'the', 'autistic_child', 'the', 'aide', 'can', 'also', 'facilitate', 'the', 'autistic_child', 'in', 'such', 'a', 'way', 'as', 'to', 'allow_them', 'to', 'stay', 'at', 'a', 'similar', 'level', 'to', 'the', 'rest', 'of', 'the', 'class', 'this', 'allows', 'a', 'partially', 'one', 'on', 'one', 'lesson', 'structure', 'so', 'that', 'the', 'child', 'is', 'still', 'able_to', 'stay', 'in', 'a', 'normal', 'classroom', 'but', 'be', 'given', 'the', 'extra', 'help', 'that', 'they', 'need', 'there_are', 'many', 'different', 'techniques', 'that', 'teachers', 'can', 'use', 'to', 'assist', 'their', 'students', 'a', 'teacher', 'needs', 'to', 'become_familiar', 'with', 'the', 'child', 's', 'disorder', 'to', 'know_what', 'will', 'work', 'best', 'with', 'that', 'particular', 'child', 'every', 'child', 'is', 'going', 'to', 'be', 'different', 'and', 'teachers', 'have', 'to', 'be_able', 'to', 'adjust', 'with', 'every', 'one', 'of', 'them', 'students', 'with', 'autism_spectrum', 'disorders', 'typically', 'have', 'high_levels', 'of', 'anxiety', 'and', 'stress', 'particularly', 'in', 'social', 'environments', 'like', 'school', 'if', 'a', 'student', 'exhibits', 'aggressive', 'or', 'explosive', 'behavior', 'it', 'is', 'important', 'for', 'educational', 'teams', 'to', 'recognize', 'the', 'impact', 'of', 'stress', 'and', 'anxiety', 'preparing', 'students', 'for', 'new', 'situations', 'by', 'writing', 'social', 'stories', 'can', 'lower', 'anxiety', 'teaching', 'social', 'and', 'emotional', 'concepts', 'using', 'systematic', 'teaching', 'approaches', 'such_as', 'the', 'incredible', 'five', 'point', 'scale', 'or', 'other', 'cognitive_behavioral', 'strategies', 'can', 'increase', 'a', 'student', 's', 'ability', 'to', 'control', 'excessive', 'behavioral', 'reactions', 'dsm', 'definition', 'autism', 'is', 'defined', 'in', 'section', 'two', 'nine', 'nine', 'zero', 'zero', 'of', 'the', 'diagnostic', 'and', 'statistical_manual', 'of', 'mental_disorders', 'dsm_iv', 'as', 'a', 'total', 'of', 'six', 'or', 'more', 'items', 'from', 'one', 'two', 'and', 'three', 'with', 'at_least', 'two', 'from', 'one', 'and', 'one', 'each', 'from', 'two', 'and', 'three', 'qualitative', 'impairment', 'in', 'social_interaction', 'as', 'manifested', 'by', 'at_least', 'two', 'of', 'the', 'following', 'marked_impairment', 'in', 'the', 'use', 'of', 'multiple', 'nonverbal', 'behaviors', 'such_as', 'eye', 'to', 'eye', 'gaze', 'facial_expression', 'body', 'postures', 'and', 'gestures', 'to', 'regulate', 'social_interaction', 'failure', 'to', 'develop', 'peer', 'relationships', 'appropriate', 'to', 'developmental', 'level', 'a', 'lack', 'of', 'spontaneous', 'seeking', 'to', 'share', 'enjoyment', 'interests', 'or', 'achievements', 'with', 'other', 'people', 'e_g', 'by', 'a', 'lack', 'of', 'showing', 'bringing', 'or', 'pointing_out', 'objects', 'of', 'interest', 'lack', 'of', 'social', 'or', 'emotional']\n"
          ],
          "name": "stdout"
        },
        {
          "output_type": "stream",
          "text": [
            "/usr/local/lib/python3.7/dist-packages/gensim/models/phrases.py:598: UserWarning: For a faster implementation, use the gensim.models.phrases.Phraser class\n",
            "  warnings.warn(\"For a faster implementation, use the gensim.models.phrases.Phraser class\")\n"
          ],
          "name": "stderr"
        }
      ]
    },
    {
      "cell_type": "code",
      "metadata": {
        "colab": {
          "base_uri": "https://localhost:8080/"
        },
        "id": "5Gi6oTj_AbVQ",
        "outputId": "d4c5d2a2-0dfc-450f-adbc-b4e3d1c640c1"
      },
      "source": [
        "#build trigrams model\r\n",
        "trigram = gensim.models.phrases.Phrases(bigram[dataset], threshold=10)"
      ],
      "execution_count": 64,
      "outputs": [
        {
          "output_type": "stream",
          "text": [
            "/usr/local/lib/python3.7/dist-packages/gensim/models/phrases.py:598: UserWarning: For a faster implementation, use the gensim.models.phrases.Phraser class\n",
            "  warnings.warn(\"For a faster implementation, use the gensim.models.phrases.Phraser class\")\n"
          ],
          "name": "stderr"
        }
      ]
    },
    {
      "cell_type": "code",
      "metadata": {
        "colab": {
          "base_uri": "https://localhost:8080/"
        },
        "id": "78IHpQZVA2ZX",
        "outputId": "ef0b3c53-6d02-4fcb-cb0e-66672315aed8"
      },
      "source": [
        "print(trigram[bigram[dataset[0]]])"
      ],
      "execution_count": 65,
      "outputs": [
        {
          "output_type": "stream",
          "text": [
            "['anarchism', 'originated', 'as', 'a', 'term', 'of', 'abuse', 'first', 'used', 'against', 'early', 'working_class', 'radicals', 'including', 'the', 'diggers', 'of', 'the', 'english', 'revolution', 'and', 'the', 'sans_culottes', 'of', 'the', 'french_revolution', 'whilst', 'the', 'term', 'is', 'still', 'used', 'in', 'a', 'pejorative_way', 'to_describe', 'any', 'act', 'that', 'used', 'violent', 'means', 'to', 'destroy', 'the', 'organization', 'of', 'society', 'it', 'has', 'also_been', 'taken_up', 'as', 'a', 'positive', 'label', 'by', 'self', 'defined', 'anarchists', 'the', 'word', 'anarchism', 'is', 'derived_from', 'the', 'greek', 'without', 'archons', 'ruler', 'chief', 'king', 'anarchism', 'as', 'a', 'political_philosophy', 'is', 'the', 'belief_that', 'rulers', 'are', 'unnecessary', 'and', 'should_be', 'abolished', 'although', 'there_are', 'differing_interpretations', 'of', 'what', 'this', 'means', 'anarchism', 'also', 'refers_to', 'related', 'social_movements', 'that', 'advocate', 'the', 'elimination', 'of', 'authoritarian', 'institutions', 'particularly', 'the', 'state', 'the', 'word', 'anarchy', 'as', 'most', 'anarchists', 'use', 'it', 'does_not_imply', 'chaos', 'nihilism', 'or', 'anomie', 'but_rather', 'a', 'harmonious', 'anti_authoritarian', 'society', 'in', 'place', 'of', 'what', 'are', 'regarded_as', 'authoritarian', 'political', 'structures', 'and', 'coercive', 'economic', 'institutions', 'anarchists', 'advocate', 'social_relations', 'based_upon', 'voluntary_association', 'of', 'autonomous', 'individuals', 'mutual_aid', 'and', 'self_governance', 'while', 'anarchism', 'is', 'most', 'easily', 'defined_by', 'what', 'it', 'is', 'against', 'anarchists', 'also', 'offer', 'positive', 'visions', 'of', 'what_they_believe', 'to_be', 'a', 'truly', 'free', 'society', 'however', 'ideas_about', 'how', 'an', 'anarchist_society', 'might', 'work', 'vary_considerably', 'especially', 'with_respect_to', 'economics', 'there_is', 'also', 'disagreement_about', 'how', 'a', 'free', 'society', 'might_be', 'brought_about', 'origins', 'and', 'predecessors', 'kropotkin', 'and', 'others_argue_that', 'before', 'recorded_history', 'human_society', 'was', 'organized', 'on', 'anarchist_principles', 'most', 'anthropologists', 'follow', 'kropotkin', 'and', 'engels', 'in', 'believing_that', 'hunter_gatherer', 'bands', 'were', 'egalitarian', 'and', 'lacked', 'division', 'of', 'labour', 'accumulated_wealth', 'or', 'decreed', 'law', 'and', 'had', 'equal', 'access', 'to', 'resources', 'william_godwin', 'anarchists', 'including', 'the', 'the', 'anarchy', 'organisation', 'and', 'rothbard', 'find', 'anarchist', 'attitudes', 'in', 'taoism', 'from', 'ancient_china', 'kropotkin', 'found', 'similar', 'ideas', 'in', 'stoic', 'zeno', 'of', 'citium', 'according_to', 'kropotkin', 'zeno', 'repudiated', 'the', 'omnipotence', 'of', 'the', 'state', 'its', 'intervention', 'and', 'regimentation', 'and', 'proclaimed', 'the', 'sovereignty', 'of', 'the', 'moral_law', 'of', 'the', 'individual', 'the', 'anabaptists', 'of', 'one', 'six', 'th_century', 'europe', 'are', 'sometimes_considered', 'to_be', 'religious', 'forerunners', 'of', 'modern', 'anarchism', 'bertrand_russell', 'in', 'his', 'history', 'of', 'western_philosophy', 'writes_that', 'the', 'anabaptists', 'repudiated', 'all', 'law', 'since', 'they', 'held', 'that', 'the', 'good', 'man', 'will_be', 'guided', 'at', 'every', 'moment', 'by', 'the', 'holy_spirit', 'from', 'this', 'premise', 'they', 'arrive_at', 'communism', 'the', 'diggers', 'or', 'true', 'levellers', 'were', 'an', 'early', 'communistic', 'movement', 'during', 'the', 'time', 'of', 'the', 'english_civil_war', 'and', 'are', 'considered', 'by', 'some', 'as', 'forerunners', 'of', 'modern', 'anarchism', 'in', 'the', 'modern_era', 'the', 'first', 'to', 'use', 'the', 'term', 'to', 'mean', 'something', 'other_than', 'chaos', 'was', 'louis', 'armand', 'baron_de', 'lahontan', 'in', 'his', 'nouveaux', 'voyages', 'dans_l', 'am_rique', 'septentrionale', 'one', 'seven', 'zero', 'three', 'where_he', 'described', 'the', 'indigenous', 'american_society', 'which', 'had', 'no', 'state', 'laws', 'prisons', 'priests', 'or', 'private_property', 'as', 'being', 'in', 'anarchy', 'russell', 'means', 'a', 'libertarian', 'and', 'leader', 'in', 'the', 'american_indian', 'movement', 'has', 'repeatedly_stated', 'that', 'he', 'is', 'an_anarchist', 'and', 'so', 'are', 'all', 'his', 'ancestors', 'in', 'one', 'seven', 'nine', 'three', 'in', 'the', 'thick', 'of', 'the', 'french_revolution', 'william_godwin', 'published', 'an_enquiry', 'concerning', 'political', 'justice', 'although', 'godwin', 'did_not', 'use', 'the', 'word', 'anarchism', 'many', 'later', 'anarchists', 'have', 'regarded', 'this', 'book', 'as', 'the', 'first', 'major', 'anarchist', 'text', 'and', 'godwin', 'as', 'the', 'founder', 'of', 'philosophical_anarchism', 'but', 'at', 'this', 'point', 'no', 'anarchist_movement', 'yet', 'existed', 'and', 'the', 'term', 'anarchiste', 'was', 'known', 'mainly', 'as_an_insult', 'hurled', 'by', 'the', 'bourgeois', 'girondins', 'at', 'more_radical', 'elements', 'in', 'the', 'french_revolution', 'the', 'first', 'self', 'labelled', 'anarchist', 'pierre_joseph_proudhon', 'it', 'is', 'commonly_held', 'that', 'it_wasn_t', 'until', 'pierre_joseph_proudhon', 'published', 'what', 'is', 'property', 'in', 'one', 'eight', 'four', 'zero', 'that', 'the', 'term', 'anarchist', 'was', 'adopted', 'as', 'a', 'self_description', 'it', 'is', 'for_this_reason', 'that', 'some', 'claim', 'proudhon', 'as', 'the', 'founder', 'of', 'modern', 'anarchist', 'theory', 'in', 'what', 'is', 'property', 'proudhon', 'answers', 'with', 'the', 'famous', 'accusation', 'property', 'is', 'theft', 'in', 'this', 'work', 'he', 'opposed', 'the', 'institution', 'of', 'decreed', 'property', 'propri_t', 'where', 'owners', 'have', 'complete', 'rights', 'to', 'use', 'and', 'abuse', 'their', 'property', 'as', 'they_wish', 'such_as', 'exploiting', 'workers', 'for', 'profit', 'in', 'its', 'place', 'proudhon', 'supported', 'what', 'he', 'called', 'possession', 'individuals', 'can', 'have', 'limited', 'rights', 'to', 'use', 'resources', 'capital', 'and', 'goods', 'in_accordance_with', 'principles', 'of', 'equality', 'and', 'justice', 'proudhon', 's', 'vision', 'of', 'anarchy', 'which', 'he', 'called', 'mutualism', 'mutuellisme', 'involved', 'an', 'exchange', 'economy', 'where', 'individuals', 'and', 'groups', 'could', 'trade', 'the', 'products', 'of', 'their', 'labor', 'using', 'labor', 'notes', 'which', 'represented', 'the', 'amount', 'of', 'working', 'time', 'involved', 'in', 'production', 'this', 'would_ensure_that', 'no', 'one', 'would', 'profit', 'from', 'the', 'labor', 'of', 'others', 'workers', 'could', 'freely', 'join_together', 'in', 'co_operative', 'workshops', 'an', 'interest', 'free', 'bank', 'would_be', 'set_up', 'to', 'provide', 'everyone', 'with', 'access', 'to', 'the', 'means', 'of', 'production', 'proudhon', 's', 'ideas', 'were', 'influential', 'within', 'french', 'working_class', 'movements', 'and', 'his_followers', 'were', 'active', 'in', 'the', 'revolution', 'of', 'one', 'eight', 'four', 'eight', 'in', 'france', 'proudhon', 's', 'philosophy', 'of', 'property', 'is', 'complex', 'it', 'was', 'developed', 'in', 'a', 'number', 'of', 'works', 'over', 'his_lifetime', 'and', 'there_are', 'differing_interpretations', 'of', 'some', 'of', 'his', 'ideas', 'for', 'more_detailed_discussion', 'see', 'here', 'max_stirner', 's', 'egoism', 'in', 'his', 'the', 'ego', 'and', 'its_own', 'stirner', 'argued_that', 'most_commonly_accepted', 'social_institutions', 'including', 'the', 'notion', 'of', 'state', 'property', 'as', 'a', 'right', 'natural_rights', 'in', 'general', 'and', 'the', 'very', 'notion', 'of', 'society', 'were', 'mere', 'illusions', 'or', 'ghosts', 'in', 'the', 'mind', 'saying', 'of', 'society', 'that', 'the', 'individuals', 'are', 'its', 'reality', 'he', 'advocated', 'egoism', 'and', 'a', 'form', 'of', 'amoralism', 'in', 'which', 'individuals', 'would', 'unite', 'in', 'associations', 'of', 'egoists', 'only', 'when', 'it', 'was', 'in', 'their', 'self_interest', 'to_do_so', 'for', 'him', 'property', 'simply', 'comes', 'about', 'through', 'might', 'whoever', 'knows_how', 'to', 'take', 'to_defend', 'the', 'thing', 'to', 'him', 'belongs', 'property', 'and', 'what', 'i', 'have', 'in', 'my', 'power', 'that', 'is', 'my_own', 'so_long', 'as', 'i', 'assert', 'myself', 'as', 'holder', 'i_am', 'the', 'proprietor', 'of', 'the', 'thing', 'stirner', 'never', 'called', 'himself', 'an_anarchist', 'he', 'accepted', 'only', 'the', 'label', 'egoist', 'nevertheless', 'his', 'ideas', 'were', 'influential', 'on', 'many', 'individualistically', 'inclined', 'anarchists', 'although', 'interpretations', 'of', 'his', 'thought', 'are', 'diverse', 'american_individualist_anarchism', 'benjamin_tucker', 'in', 'one', 'eight', 'two', 'five', 'josiah_warren', 'had', 'participated_in', 'a', 'communitarian', 'experiment', 'headed_by', 'robert_owen', 'called', 'new', 'harmony', 'which', 'failed', 'in', 'a_few_years', 'amidst', 'much', 'internal_conflict', 'warren', 'blamed', 'the', 'community', 's', 'failure', 'on', 'a', 'lack', 'of', 'individual', 'sovereignty', 'and', 'a', 'lack', 'of', 'private_property', 'warren', 'proceeded', 'to', 'organise', 'experimenal', 'anarchist', 'communities', 'which', 'respected', 'what', 'he', 'called', 'the', 'sovereignty', 'of', 'the', 'individual', 'at', 'utopia', 'and', 'modern_times', 'in', 'one', 'eight', 'three', 'three', 'warren', 'wrote', 'and', 'published', 'the', 'peaceful', 'revolutionist', 'which', 'some', 'have', 'noted', 'to_be', 'the', 'first', 'anarchist_periodical', 'ever', 'published', 'benjamin_tucker', 'says_that', 'warren', 'was', 'the', 'first', 'man', 'to', 'expound', 'and', 'formulate', 'the', 'doctrine', 'now_known_as', 'anarchism', 'liberty', 'xiv', 'december', 'one', 'nine', 'zero', 'zero', 'one', 'benjamin_tucker', 'became_interested_in', 'anarchism', 'through', 'meeting', 'josiah_warren', 'and', 'william_b_greene', 'he', 'edited', 'and', 'published', 'liberty', 'from', 'august', 'one', 'eight', 'eight', 'one', 'to', 'april', 'one', 'nine', 'zero', 'eight', 'it', 'is_widely_considered', 'to_be', 'the', 'finest', 'individualist_anarchist', 'periodical', 'ever', 'issued', 'in', 'the', 'english_language', 'tucker', 's', 'conception', 'of', 'individualist_anarchism', 'incorporated', 'the', 'ideas', 'of', 'a_variety', 'of', 'theorists', 'greene', 's', 'ideas', 'on', 'mutual', 'banking', 'warren', 's', 'ideas', 'on', 'cost', 'as', 'the', 'limit', 'of', 'price', 'a', 'heterodox', 'variety', 'of', 'labour', 'theory', 'of', 'value', 'proudhon', 's', 'market_anarchism', 'max_stirner', 's', 'egoism', 'and', 'herbert_spencer', 's', 'law', 'of', 'equal', 'freedom', 'tucker', 'strongly_supported', 'the', 'individual', 's', 'right', 'to', 'own', 'the', 'product', 'of', 'his', 'or', 'her', 'labour', 'as', 'private_property', 'and', 'believed', 'in', 'a', 'market_economy', 'for', 'trading', 'this', 'property', 'he', 'argued_that', 'in', 'a', 'truly', 'free_market', 'system', 'without', 'the', 'state', 'the', 'abundance', 'of', 'competition', 'would_eliminate', 'profits', 'and', 'ensure_that', 'all', 'workers', 'received', 'the', 'full', 'value', 'of', 'their', 'labor', 'other', 'one', 'nine', 'th_century', 'individualists', 'included', 'lysander_spooner', 'stephen_pearl', 'andrews', 'and', 'victor', 'yarros', 'the', 'first', 'international', 'mikhail_bakunin', 'one', 'eight', 'one', 'four', 'one', 'eight', 'seven', 'six', 'in', 'europe', 'harsh', 'reaction', 'followed', 'the', 'revolutions', 'of', 'one', 'eight', 'four', 'eight', 'twenty_years_later', 'in', 'one', 'eight', 'six', 'four', 'the', 'international_workingmen', 's', 'association', 'sometimes_called', 'the', 'first', 'international', 'united', 'some', 'diverse', 'european', 'revolutionary', 'currents', 'including', 'anarchism', 'due_to_its', 'genuine', 'links', 'to', 'active', 'workers', 'movements', 'the', 'international', 'became', 'signficiant', 'from', 'the', 'start', 'karl_marx', 'was', 'a', 'leading_figure', 'in', 'the', 'international', 'he', 'was_elected', 'to', 'every', 'succeeding', 'general_council', 'of', 'the', 'association', 'the', 'first', 'objections', 'to', 'marx', 'came_from', 'the', 'mutualists', 'who', 'opposed_communism', 'and', 'statism', 'shortly_after', 'mikhail_bakunin', 'and', 'his_followers', 'joined', 'in', 'one', 'eight', 'six', 'eight', 'the', 'first', 'international', 'became', 'polarised', 'into', 'two', 'camps', 'with', 'marx', 'and', 'bakunin', 'as', 'their_respective', 'figureheads', 'the', 'clearest', 'difference_between', 'the', 'camps', 'was', 'over', 'strategy', 'the', 'anarchists', 'around', 'bakunin', 'favoured', 'in', 'kropotkin', 's', 'words', 'direct', 'economical', 'struggle_against', 'capitalism', 'without_interfering', 'in', 'the', 'political', 'parliamentary', 'agitation', 'at', 'that', 'time', 'marx', 'and', 'his_followers', 'focused_on', 'parliamentary', 'activity', 'bakunin', 'characterised', 'marx_s', 'ideas', 'as', 'authoritarian', 'and', 'predicted', 'that', 'if', 'a', 'marxist', 'party', 'gained', 'to', 'power', 'its', 'leaders', 'would', 'end', 'up', 'as', 'bad', 'as', 'the', 'ruling_class', 'they', 'had', 'fought_against', 'in', 'one', 'eight', 'seven', 'two', 'the', 'conflict', 'climaxed', 'with', 'a', 'final', 'split_between', 'the', 'two', 'groups', 'at', 'the', 'hague', 'congress', 'this', 'is_often_cited', 'as', 'the', 'origin', 'of', 'the', 'conflict_between', 'anarchists', 'and', 'marxists', 'from', 'this', 'moment', 'the', 'social_democratic', 'and', 'libertarian', 'currents', 'of', 'socialism', 'had', 'distinct', 'organisations', 'including', 'rival', 'internationals', 'anarchist_communism', 'peter_kropotkin', 'proudhon', 'and', 'bakunin', 'both', 'opposed_communism', 'associating', 'it', 'with', 'statism', 'however', 'in', 'the', 'one', 'eight', 'seven', 'zero', 's', 'many', 'anarchists', 'moved_away_from', 'bakunin', 's', 'economic', 'thinking', 'called', 'collectivism', 'and', 'embraced', 'communist', 'concepts', 'communists', 'believed', 'the', 'means', 'of', 'production', 'should_be', 'owned', 'collectively', 'and', 'that', 'goods', 'be', 'distributed', 'by', 'need_not', 'labor', 'an', 'early', 'anarchist', 'communist', 'was', 'joseph', 'd', 'jacque', 'the', 'first_person', 'to_describe', 'himself', 'as', 'libertarian', 'unlike', 'proudhon', 'he', 'argued_that', 'it', 'is', 'not', 'the', 'product', 'of', 'his', 'or', 'her', 'labor', 'that', 'the', 'worker', 'has', 'a', 'right', 'to', 'but', 'to', 'the', 'satisfaction', 'of', 'his', 'or', 'her', 'needs', 'whatever', 'may_be', 'their', 'nature', 'he', 'announced', 'his', 'ideas', 'in', 'his', 'us', 'published', 'journal', 'le', 'libertaire', 'one', 'eight', 'five', 'eight', 'one', 'eight', 'six', 'one', 'peter_kropotkin', 'often_seen_as', 'the', 'most_important', 'theorist', 'outlined', 'his', 'economic', 'ideas', 'in', 'the', 'conquest', 'of', 'bread', 'and', 'fields', 'factories', 'and', 'workshops', 'he_felt', 'co_operation', 'is', 'more', 'beneficial', 'than', 'competition', 'illustrated', 'in', 'nature', 'in', 'mutual_aid', 'a', 'factor', 'of', 'evolution', 'one', 'eight', 'nine', 'seven', 'subsequent', 'anarchist_communists', 'include', 'emma_goldman', 'and', 'alexander_berkman', 'many', 'in', 'the', 'anarcho_syndicalist', 'movements', 'see_below', 'saw', 'anarchist_communism', 'as', 'their', 'objective', 'isaac', 'puente', 's', 'one', 'nine', 'three', 'two', 'comunismo', 'libertario', 'was', 'adopted', 'by', 'the', 'spanish', 'cnt', 'as', 'its', 'manifesto', 'for', 'a', 'post', 'revolutionary', 'society', 'some', 'anarchists', 'disliked', 'merging', 'communism', 'with', 'anarchism', 'several', 'individualist_anarchists', 'maintained', 'that', 'abolition', 'of', 'private_property', 'was', 'not', 'consistent_with', 'liberty', 'for_example', 'benjamin_tucker', 'whilst', 'professing', 'respect', 'for', 'kropotkin', 'and', 'publishing', 'his', 'work', 'described', 'communist', 'anarchism', 'as', 'pseudo', 'anarchism', 'propaganda', 'of', 'the', 'deed', 'johann', 'most', 'was', 'an_outspoken', 'advocate', 'of', 'violence', 'anarchists', 'have', 'often_been', 'portrayed_as', 'dangerous', 'and', 'violent', 'due_mainly', 'to', 'a', 'number', 'of', 'high_profile', 'violent_acts', 'including', 'riots', 'assassinations', 'insurrections', 'and', 'terrorism', 'by', 'some', 'anarchists', 'some', 'revolutionaries', 'of', 'the', 'late', 'one', 'nine', 'th_century', 'encouraged', 'acts', 'of', 'political_violence', 'such_as', 'bombings', 'and', 'the', 'assassinations', 'of', 'heads', 'of', 'state', 'to', 'further', 'anarchism', 'such', 'actions', 'have', 'sometimes', 'been', 'called', 'propaganda', 'by', 'the', 'deed', 'one', 'of', 'the', 'more', 'outspoken', 'advocates', 'of', 'this', 'strategy', 'was', 'johann', 'most', 'who', 'said', 'the', 'existing', 'system', 'will_be', 'quickest', 'and', 'most', 'radically', 'overthrown_by', 'the', 'annihilation', 'of', 'its', 'exponents', 'therefore', 'massacres', 'of', 'the', 'enemies', 'of', 'the', 'people', 'must_be', 'set', 'in', 'motion', 'most', 's', 'preferred_method', 'of', 'terrorism', 'dynamite', 'earned_him', 'the', 'moniker', 'dynamost', 'however', 'there_is', 'no_consensus_on', 'the', 'legitimacy', 'or', 'utility', 'of', 'violence', 'in', 'general', 'mikhail_bakunin', 'and', 'errico_malatesta', 'for_example', 'wrote', 'of', 'violence', 'as', 'a', 'necessary', 'and', 'sometimes', 'desirable', 'force', 'in', 'revolutionary', 'settings', 'but', 'at', 'the', 'same_time', 'they', 'denounced', 'acts', 'of', 'individual', 'terrorism', 'malatesta', 'in', 'on', 'violence', 'and', 'bakunin', 'when', 'he', 'refuted', 'nechaev', 'other', 'anarchists', 'sometimes_identified', 'as', 'pacifist', 'anarchists', 'advocated', 'complete', 'nonviolence', 'leo_tolstoy', 'whose', 'philosophy', 'is', 'often_viewed_as', 'a', 'form', 'of', 'christian_anarchism', 'see_below', 'was', 'a', 'notable', 'exponent', 'of', 'nonviolent_resistance', 'anarchism', 'in', 'the', 'labour_movement', 'the', 'red', 'and', 'black_flag', 'coming_from', 'the', 'experience', 'of', 'anarchists', 'in', 'the', 'labour_movement', 'is', 'particularly', 'associated_with', 'anarcho_syndicalism', 'anarcho_syndicalism', 'was', 'an', 'early', 'two', 'zero', 'th_century', 'working_class', 'movement', 'seeking', 'to', 'overthrow', 'capitalism', 'and', 'the', 'state', 'to', 'institute', 'a', 'worker', 'controlled', 'society', 'the', 'movement', 'pursued', 'industrial', 'actions', 'such_as', 'general_strike', 'as', 'a', 'primary', 'strategy', 'many', 'anarcho_syndicalists', 'believed', 'in', 'anarchist_communism', 'though', 'not', 'all', 'communists', 'believed', 'in', 'syndicalism', 'after', 'the', 'one', 'eight', 'seven', 'one', 'repression', 'french', 'anarchism', 'reemerged', 'influencing', 'the', 'bourses', 'de', 'travails', 'of', 'autonomous', 'workers', 'groups', 'and', 'trade_unions', 'from', 'this', 'movement', 'the', 'conf', 'd_ration', 'g_n_rale', 'du_travail', 'general', 'confederation', 'of', 'work', 'cgt', 'was', 'formed', 'in', 'one', 'eight', 'nine', 'five', 'as', 'the', 'first', 'major', 'anarcho_syndicalist', 'movement', 'emile', 'pataud', 'and', 'emile', 'pouget', 's', 'writing', 'for', 'the', 'cgt', 'saw', 'libertarian_communism', 'developing', 'from', 'a', 'general_strike', 'after', 'one', 'nine', 'one', 'four', 'the', 'cgt', 'moved_away_from', 'anarcho_syndicalism', 'due_to', 'the', 'appeal', 'of', 'bolshevism', 'french', 'style', 'syndicalism', 'was', 'a', 'significant', 'movement', 'in', 'europe', 'prior_to', 'one', 'nine', 'two', 'one', 'and', 'remained', 'a', 'significant', 'movement', 'in', 'spain', 'until', 'the', 'mid', 'one', 'nine', 'four', 'zero', 's', 'the', 'industrial_workers', 'of', 'the', 'world', 'iww', 'founded', 'in', 'one', 'nine', 'zero', 'five', 'in', 'the', 'us', 'espoused', 'unionism', 'and', 'sought', 'a', 'general_strike', 'to', 'usher', 'in', 'a', 'stateless', 'society', 'in', 'one', 'nine', 'two', 'three', 'one', 'zero', 'zero', 'zero', 'zero', 'zero', 'members', 'existed', 'with', 'the', 'support', 'of', 'up', 'to', 'three', 'zero', 'zero', 'zero', 'zero', 'zero', 'though', 'not', 'explicitly', 'anarchist', 'they', 'organized', 'by', 'rank', 'and', 'file', 'democracy', 'embodying', 'a', 'spirit', 'of', 'resistance', 'that', 'has_inspired', 'many', 'anglophone', 'syndicalists', 'cnt', 'propaganda', 'from', 'april', 'two', 'zero', 'zero', 'four', 'reads', 'don_t_let', 'the', 'politicians', 'rule', 'our_lives', 'you', 'vote', 'and', 'they', 'decide', 'don_t', 'allow', 'it', 'unity', 'action', 'self_management', 'spanish', 'anarchist', 'trade_union', 'federations', 'were', 'formed', 'in', 'the', 'one', 'eight', 'seven', 'zero', 's', 'one', 'nine', 'zero', 'zero', 'and', 'one', 'nine', 'one', 'zero', 'the', 'most_successful', 'was', 'the', 'confederaci_n', 'nacional_del', 'trabajo', 'national', 'confederation', 'of', 'labour', 'cnt', 'founded', 'in', 'one', 'nine', 'one', 'zero', 'prior_to', 'the', 'one', 'nine', 'four', 'zero', 's', 'the', 'cnt', 'was', 'the', 'major', 'force', 'in', 'spanish', 'working_class', 'politics', 'with', 'a', 'membership', 'of', 'one', 'five', 'eight', 'million', 'in', 'one', 'nine', 'three', 'four', 'the', 'cnt', 'played', 'a_major_role', 'in', 'the', 'spanish_civil_war', 'see_also', 'anarchism', 'in', 'spain', 'syndicalists', 'like', 'ricardo', 'flores', 'mag', 'n', 'were', 'key_figures', 'in', 'the', 'mexican_revolution', 'latin_american', 'anarchism', 'was_strongly_influenced', 'extending', 'to', 'the', 'zapatista', 'rebellion', 'and', 'the', 'factory', 'occupation', 'movements', 'in', 'argentina', 'in', 'berlin', 'in', 'one', 'nine', 'two', 'two', 'the', 'cnt', 'was', 'joined', 'with', 'the', 'international', 'workers', 'association', 'an', 'anarcho_syndicalist', 'successor', 'to', 'the', 'first', 'international', 'contemporary', 'anarcho_syndicalism', 'continues', 'as', 'a', 'minor', 'force', 'in', 'many', 'socities', 'much_smaller_than', 'in', 'the', 'one', 'nine', 'one', 'zero', 's', 'two', 'zero', 's', 'and', 'three', 'zero', 's', 'the', 'largest', 'organised', 'anarchist_movement', 'today', 'is', 'in', 'spain', 'in', 'the', 'form', 'of', 'the', 'confederaci_n', 'general', 'del_trabajo', 'and', 'the', 'cnt', 'the', 'cgt', 'claims', 'a', 'paid', 'up', 'membership', 'of', 'six', 'zero', 'zero', 'zero', 'zero', 'and', 'received', 'over', 'a', 'million', 'votes', 'in', 'spanish', 'syndical', 'elections', 'other', 'active', 'syndicalist', 'movements', 'include', 'the', 'us', 'workers_solidarity', 'alliance', 'and', 'the', 'uk', 'solidarity', 'federation', 'the', 'revolutionary', 'industrial', 'unionist', 'industrial_workers', 'of', 'the', 'world', 'also', 'exists', 'claiming', 'two', 'zero', 'zero', 'zero', 'paid', 'members', 'contemporary', 'critics', 'of', 'anarcho_syndicalism', 'and', 'revolutionary', 'industrial_unionism', 'claim_that', 'they_are', 'workerist', 'and', 'fail', 'to', 'deal_with', 'economic', 'life', 'outside', 'work', 'post', 'leftist', 'critics', 'such_as', 'bob', 'black', 'claim', 'anarcho_syndicalism', 'advocates', 'oppressive_social', 'structures', 'such_as', 'work', 'and', 'the', 'workplace', 'anarcho_syndicalists', 'in', 'general', 'uphold', 'principles', 'of', 'workers_solidarity', 'direct_action', 'and', 'self_management', 'the', 'russian_revolution', 'the', 'russian_revolution', 'of', 'one', 'nine', 'one', 'seven', 'was', 'a', 'seismic', 'event', 'in', 'the', 'development', 'of', 'anarchism', 'as', 'a', 'movement', 'and', 'as', 'a', 'philosophy', 'anarchists', 'participated', 'alongside', 'the', 'bolsheviks', 'in', 'both', 'february', 'and', 'october', 'revolutions', 'many', 'anarchists', 'initially', 'supporting', 'the', 'bolshevik', 'coup', 'however', 'the', 'bolsheviks', 'soon_turned', 'against', 'the', 'anarchists', 'and', 'other', 'left_wing_opposition', 'a', 'conflict', 'which_culminated_in', 'the', 'one', 'nine', 'one', 'eight', 'kronstadt_rebellion', 'anarchists', 'in', 'central', 'russia', 'were', 'imprisoned', 'or', 'driven_underground', 'or', 'joined', 'the', 'victorious', 'bolsheviks', 'in', 'ukraine', 'anarchists', 'fought', 'in', 'the', 'civil_war', 'against', 'both', 'whites', 'and', 'bolsheviks', 'within', 'the', 'makhnovshchina', 'peasant', 'army', 'led_by', 'nestor_makhno', 'expelled', 'american', 'anarchists', 'emma_goldman', 'and', 'alexander_berkman', 'before_leaving', 'russia', 'were', 'amongst', 'those', 'agitating', 'in', 'response', 'to', 'bolshevik', 'policy', 'and', 'the', 'suppression', 'of', 'the', 'kronstadt', 'uprising', 'both', 'wrote', 'classic', 'accounts', 'of', 'their', 'experiences', 'in', 'russia', 'aiming', 'to', 'expose', 'the', 'reality', 'of', 'bolshevik', 'control', 'for', 'them', 'bakunin', 's', 'predictions_about', 'the', 'consequences', 'of', 'marxist', 'rule', 'had', 'proved', 'all', 'too', 'true', 'the', 'victory', 'of', 'the', 'bolsheviks', 'in', 'the', 'october_revolution', 'and', 'the', 'resulting', 'russian_civil_war', 'did', 'serious_damage', 'to', 'anarchist', 'movements', 'internationally', 'many', 'workers', 'and', 'activists', 'saw', 'bolshevik', 'success', 'as', 'setting', 'an_example', 'communist_parties', 'grew', 'at', 'the', 'expense', 'of', 'anarchism', 'and', 'other', 'socialist_movements', 'in', 'france', 'and', 'the', 'us', 'for_example', 'the', 'major', 'syndicalist', 'movements', 'of', 'the', 'cgt', 'and', 'iww', 'began', 'to', 'realign', 'themselves', 'away_from', 'anarchism', 'and', 'towards', 'the', 'communist_international', 'in', 'paris', 'the', 'dielo', 'truda', 'group', 'of', 'russian', 'anarchist', 'exiles', 'which', 'included', 'nestor_makhno', 'concluded_that', 'anarchists', 'needed', 'to', 'develop', 'new', 'forms', 'of', 'organisation', 'in', 'response', 'to', 'the', 'structures', 'of', 'bolshevism', 'their', 'one', 'nine', 'two', 'six', 'manifesto', 'known_as', 'the', 'organisational', 'platform', 'of', 'the', 'libertarian_communists', 'was', 'supported_by', 'some', 'communist_anarchists', 'though', 'opposed', 'by', 'many_others', 'the', 'platform', 'continues_to', 'inspire', 'some', 'contemporary', 'anarchist', 'groups', 'who', 'believe', 'in', 'an', 'anarchist_movement', 'organised_around', 'its', 'principles', 'of', 'theoretical', 'unity', 'tactical', 'unity', 'collective_responsibility', 'and', 'federalism', 'platformist', 'groups', 'today', 'include', 'the', 'workers_solidarity', 'movement', 'in', 'ireland', 'the', 'uk', 's', 'anarchist', 'federation', 'and', 'the', 'late', 'north_eastern', 'federation', 'of', 'anarchist_communists', 'in', 'the', 'northeastern_united_states', 'and', 'bordering', 'canada', 'the', 'fight_against', 'fascism', 'spain', 'one', 'nine', 'three', 'six', 'members', 'of', 'the', 'cnt', 'construct', 'armoured_cars', 'to', 'fight_against', 'the', 'fascists', 'in', 'one', 'of', 'the', 'collectivised', 'factories', 'in', 'the', 'one', 'nine', 'two', 'zero', 's', 'and', 'one', 'nine', 'three', 'zero', 's', 'the', 'familiar', 'dynamics', 'of', 'anarchism', 's', 'conflict_with', 'the', 'state', 'were', 'transformed', 'by', 'the', 'rise', 'of', 'fascism', 'in', 'europe', 'in_many_cases', 'european', 'anarchists', 'faced', 'difficult', 'choices', 'should', 'they', 'join', 'in', 'popular', 'fronts', 'with', 'reformist', 'democrats', 'and', 'soviet', 'led', 'communists', 'against', 'a', 'common', 'fascist', 'enemy', 'luigi', 'fabbri', 'an', 'exile', 'from', 'italian_fascism', 'was', 'amongst', 'those', 'arguing_that', 'fascism', 'was', 'something', 'different', 'fascism', 'is', 'not_just', 'another', 'form', 'of', 'government', 'which', 'like', 'all', 'others', 'uses', 'violence', 'it', 'is', 'the', 'most', 'authoritarian', 'and', 'the', 'most', 'violent', 'form', 'of', 'government', 'imaginable', 'it', 'represents', 'the', 'utmost', 'glorification', 'of', 'the', 'theory', 'and', 'practice', 'of', 'the', 'principle', 'of', 'authority', 'in', 'france', 'where', 'the', 'fascists', 'came_close_to', 'insurrection', 'in', 'the', 'february', 'one', 'nine', 'three', 'four', 'riots', 'anarchists', 'divided', 'over', 'a', 'united_front', 'policy', 'in', 'spain', 'the', 'cnt', 'initially_refused', 'to_join', 'a', 'popular_front', 'electoral', 'alliance', 'and', 'abstention', 'by', 'cnt', 'supporters', 'led', 'to', 'a', 'right_wing', 'election_victory', 'but', 'in', 'one', 'nine', 'three', 'six', 'the', 'cnt', 'changed', 'its', 'policy', 'and', 'anarchist', 'votes', 'helped_bring', 'the', 'popular_front', 'back', 'to', 'power', 'months_later', 'the', 'ruling_class', 'responded_with', 'an', 'attempted_coup', 'and', 'the', 'spanish_civil_war', 'one', 'nine', 'three', 'six', 'three', 'nine', 'was', 'underway', 'in', 'reponse', 'to', 'the', 'army', 'rebellion', 'an_anarchist', 'inspired', 'movement', 'of', 'peasants', 'and', 'workers', 'supported_by', 'armed', 'militias', 'took_control', 'of', 'the', 'major', 'city', 'of', 'barcelona', 'and', 'of', 'large_areas', 'of', 'rural', 'spain', 'where', 'they', 'collectivized', 'the', 'land', 'but', 'even', 'before', 'the', 'eventual', 'fascist', 'victory', 'in', 'one', 'nine', 'three', 'nine', 'the', 'anarchists', 'were', 'losing_ground', 'in', 'a', 'bitter_struggle', 'with', 'the', 'stalinists', 'the', 'cnt', 'leadership', 'often', 'appeared', 'confused', 'and', 'divided', 'with', 'some', 'members', 'controversially', 'entering', 'the', 'government', 'stalinist', 'led', 'troops', 'suppressed', 'the', 'collectives', 'and', 'persecuted', 'both', 'dissident', 'marxists', 'and', 'anarchists', 'since', 'the', 'late', 'one', 'nine', 'seven', 'zero', 's', 'anarchists', 'have_been', 'involved', 'in', 'fighting', 'the', 'rise', 'of', 'neo_fascist', 'groups', 'in', 'germany', 'and', 'the', 'united_kingdom', 'some', 'anarchists', 'worked', 'within', 'militant', 'anti_fascist', 'groups', 'alongside', 'members', 'of', 'the', 'marxist', 'left', 'they', 'advocated', 'directly', 'combating', 'fascists', 'with', 'physical_force', 'rather_than_relying_on', 'the', 'state', 'since', 'the', 'late', 'one', 'nine', 'nine', 'zero', 's', 'a', 'similar', 'tendency', 'has', 'developed', 'within', 'us', 'anarchism', 'see_also', 'anti_racist', 'action', 'us', 'anti_fascist', 'action', 'uk', 'antifa', 'religious', 'anarchism', 'leo_tolstoy', 'one', 'eight', 'two', 'eight', 'one', 'nine', 'one', 'zero', 'most', 'anarchist', 'culture', 'tends_to_be', 'secular', 'if', 'not', 'outright', 'anti', 'religious', 'however', 'the', 'combination', 'of', 'religious', 'social', 'conscience', 'historical', 'religiousity', 'amongst', 'oppressed', 'social_classes', 'and', 'the', 'compatibility', 'of', 'some', 'interpretations', 'of', 'religious_traditions', 'with', 'anarchism', 'has_resulted_in', 'religious', 'anarchism', 'christian', 'anarchists', 'believe_that', 'there_is', 'no', 'higher', 'authority', 'than', 'god', 'and', 'oppose', 'earthly', 'authority', 'such_as', 'government', 'and', 'established', 'churches', 'they_believe_that', 'jesus_teachings', 'were', 'clearly', 'anarchistic', 'but', 'were', 'corrupted', 'when', 'christianity', 'was', 'declared', 'the', 'official_religion', 'of', 'rome', 'christian', 'anarchists', 'who', 'follow', 'jesus', 'directive', 'to', 'turn', 'the', 'other', 'cheek', 'are', 'strict', 'pacifists', 'the', 'most_famous', 'advocate', 'of', 'christian_anarchism', 'was', 'leo_tolstoy', 'author', 'of', 'the', 'kingdom', 'of', 'god', 'is', 'within', 'you', 'who', 'called', 'for', 'a', 'society', 'based_on', 'compassion', 'nonviolent', 'principles', 'and', 'freedom', 'christian', 'anarchists', 'tend_to', 'form', 'experimental', 'communities', 'they', 'also', 'occasionally', 'resist', 'taxation', 'many', 'christian', 'anarchists', 'are', 'vegetarian', 'or', 'vegan', 'christian', 'anarchy', 'can_be', 'said', 'to', 'have', 'roots', 'as', 'old', 'as', 'the', 'religion', 's', 'birth', 'as', 'the', 'early', 'church', 'exhibits', 'many', 'anarchistic', 'tendencies', 'such_as', 'communal', 'goods', 'and', 'wealth', 'by', 'aiming', 'to', 'obey', 'utterly', 'certain', 'of', 'the', 'bible', 's', 'teachings', 'certain', 'anabaptist_groups', 'of', 'sixteenth_century', 'europe', 'attempted_to', 'emulate', 'the', 'early', 'church', 's', 'social_economic', 'organisation', 'and', 'philosophy', 'by', 'regarding', 'it', 'as', 'the', 'only', 'social_structure', 'capable', 'of', 'true', 'obediance', 'to', 'jesus_teachings', 'and', 'utterly', 'rejected', 'in', 'theory', 'all', 'earthly', 'hierarchies', 'and', 'authority', 'and', 'indeed', 'non', 'anabaptists', 'in', 'general', 'and', 'violence', 'as', 'ungodly', 'such', 'groups', 'for_example', 'the', 'hutterites', 'typically', 'went', 'from', 'initially', 'anarchistic', 'beginnings', 'to', 'as', 'their', 'movements', 'stabalised', 'more', 'authoritarian', 'social', 'models', 'chinese', 'anarchism', 'was', 'most_influential', 'in', 'the', 'one', 'nine', 'two', 'zero', 's', 'strands', 'of', 'chinese', 'anarchism', 'included', 'tai', 'xu', 's', 'buddhist', 'anarchism', 'which', 'was', 'influenced_by', 'tolstoy', 'and', 'the', 'well', 'field', 'system', 'neopaganism', 'with', 'its', 'focus_on', 'the', 'environment', 'and', 'equality', 'along_with', 'its', 'often', 'decentralized_nature', 'has', 'lead', 'to', 'a', 'number', 'of', 'neopagan', 'anarchists', 'one', 'of', 'the', 'most_prominent', 'is', 'starhawk', 'who', 'writes', 'extensively', 'about', 'both', 'spirituality', 'and', 'activism', 'anarchism', 'and', 'feminism', 'emma_goldman', 'early', 'french', 'feminists', 'such_as', 'jenny', 'd', 'h', 'ricourt', 'and', 'juliette', 'adam', 'criticised', 'the', 'mysogyny', 'in', 'the', 'anarchism', 'of', 'proudhon', 'during', 'the', 'one', 'eight', 'five', 'zero', 's', 'anarcha_feminism', 'is', 'a', 'kind', 'of', 'radical_feminism', 'that', 'espouses', 'the', 'belief_that', 'patriarchy', 'is', 'a', 'fundamental', 'problem', 'in', 'society', 'while', 'anarchist', 'feminism', 'has_existed', 'for', 'more_than', 'a', 'hundred_years', 'its', 'explicit', 'formulation', 'as', 'anarcha_feminism', 'dates_back_to', 'the', 'early', 'seven', 'zero', 's', 'during', 'the', 'second_wave', 'feminist_movement', 'anarcha_feminism', 'views', 'patriarchy', 'as', 'the', 'first', 'manifestation', 'of', 'hierarchy', 'in', 'human', 'history', 'thus', 'the', 'first', 'form', 'of', 'oppression', 'occurred', 'in', 'the', 'dominance', 'of', 'male', 'over', 'female', 'anarcha', 'feminists', 'then', 'conclude_that', 'if', 'feminists', 'are', 'against', 'patriarchy', 'they', 'must', 'also', 'be', 'against', 'all', 'forms', 'of', 'hierarchy', 'and', 'therefore', 'must', 'reject', 'the', 'authoritarian', 'nature', 'of', 'the', 'state', 'and', 'capitalism_anarcho', 'primitivists', 'see', 'the', 'creation', 'of', 'gender_roles', 'and', 'patriarchy', 'a', 'creation', 'of', 'the', 'start', 'of', 'civilization', 'and', 'therefore', 'consider', 'primitivism', 'to', 'also', 'be', 'an_anarchist', 'school', 'of', 'thought', 'that', 'addresses', 'feminist', 'concerns', 'eco', 'feminism', 'is_often_considered', 'a', 'feminist', 'variant', 'of', 'green', 'anarchist', 'feminist', 'thought', 'anarcha_feminism', 'is', 'most_often_associated', 'with', 'early', 'two', 'zero', 'th_century', 'authors', 'and', 'theorists_such_as', 'emma_goldman', 'and', 'voltairine_de', 'cleyre', 'although', 'even', 'early', 'first', 'wave_feminist', 'mary_wollstonecraft', 'held', 'proto', 'anarchist', 'views', 'and', 'william_godwin', 'is_often_considered', 'a', 'feminist', 'anarchist', 'precursor', 'it_should_be', 'noted_that', 'goldman', 'and', 'de_cleyre', 'though', 'they', 'both', 'opposed', 'the', 'state', 'had', 'opposing', 'philosophies', 'as', 'de_cleyre', 'explains', 'miss', 'goldman', 'is', 'a', 'communist', 'i_am', 'an_individualist', 'she', 'wishes', 'to', 'destroy', 'the', 'right', 'of', 'property', 'i_wish', 'to', 'assert', 'it', 'i', 'make', 'my', 'war', 'upon', 'privilege', 'and', 'authority', 'whereby', 'the', 'right', 'of', 'property', 'the', 'true', 'right', 'in', 'that', 'which', 'is', 'proper', 'to', 'the', 'individual', 'is', 'annihilated', 'she_believes', 'that', 'co_operation', 'would', 'entirely', 'supplant', 'competition', 'i', 'hold', 'that', 'competition', 'in', 'one', 'form', 'or', 'another', 'will_always', 'exist', 'and', 'that', 'it', 'is', 'highly_desirable', 'it', 'should', 'in', 'the', 'spanish_civil_war', 'an', 'anarcha', 'feminist', 'group', 'free', 'women', 'organized', 'to_defend', 'both', 'anarchist', 'and', 'feminist_ideas', 'in', 'the', 'modern_day', 'anarchist_movement', 'many', 'anarchists', 'male', 'or', 'female', 'consider_themselves', 'feminists', 'and', 'anarcha', 'feminist_ideas', 'are', 'growing', 'the', 'publishing', 'of', 'quiet', 'rumors', 'an', 'anarcha', 'feminist', 'reader', 'has', 'helped', 'to', 'spread', 'various_kinds', 'of', 'anti_authoritarian', 'and', 'anarchist', 'feminist_ideas', 'to', 'the', 'broader', 'movement', 'wendy_mcelroy', 'has', 'popularized', 'an', 'individualist_anarchism', 'take', 'on', 'feminism', 'in', 'her', 'books', 'articles', 'and', 'individualist', 'feminist', 'website', 'anarcho_capitalism', 'murray_rothbard', 'one', 'nine', 'two', 'six', 'one', 'nine', 'nine', 'five', 'anarcho_capitalism', 'is', 'a', 'predominantly', 'united_states', 'based', 'theoretical', 'tradition', 'that', 'desires', 'a', 'stateless', 'society', 'with', 'the', 'economic_system', 'of', 'free_market_capitalism', 'unlike_other', 'branches', 'of', 'anarchism', 'it', 'does_not', 'oppose', 'profit', 'or', 'capitalism', 'consequently', 'most', 'anarchists', 'do_not', 'recognise', 'anarcho_capitalism', 'as', 'a', 'form', 'of', 'anarchism', 'murray_rothbard', 's', 'synthesis', 'of', 'classical_liberalism', 'and', 'austrian_economics', 'was', 'germinal', 'for', 'the', 'development', 'of', 'contemporary', 'anarcho_capitalist', 'theory', 'he', 'defines', 'anarcho_capitalism', 'in', 'terms', 'of', 'the', 'non_aggression', 'principle', 'based_on', 'the', 'concept', 'of', 'natural_law', 'competiting', 'theorists', 'use', 'egoism', 'utilitarianism', 'used', 'by', 'david_friedman', 'or', 'contractarianism', 'used', 'by', 'jan', 'narveson', 'some', 'minarchists', 'such_as', 'ayn_rand', 'robert_nozick', 'and', 'robert', 'a_heinlein', 'have_influenced', 'anarcho_capitalism', 'some', 'anarcho_capitalists', 'along_with', 'some', 'right_wing', 'libertarian', 'historians', 'such_as', 'david', 'hart', 'and', 'ralph', 'raico', 'considered', 'similar', 'philosophies', 'existing', 'prior_to', 'rothbard', 'to_be', 'anarcho_capitalist', 'such_as', 'those', 'of', 'gustave_de_molinari', 'and', 'auberon_herbert', 'opponents', 'of', 'anarcho_capitalists', 'dispute', 'these', 'claims', 'the', 'place', 'of', 'anarcho_capitalism', 'within', 'anarchism', 'and', 'indeed', 'whether', 'it', 'is', 'a', 'form', 'of', 'anarchism', 'at', 'all', 'is', 'highly_controversial', 'for', 'more', 'on', 'this', 'debate', 'see', 'anarchism', 'and', 'anarcho_capitalism', 'anarchism', 'and', 'the', 'environment', 'since', 'the', 'late', 'one', 'nine', 'seven', 'zero', 's', 'anarchists', 'in', 'anglophone', 'and', 'european_countries', 'have_been', 'taking', 'action', 'for', 'the', 'natural_environment', 'eco_anarchists', 'or', 'green', 'anarchists', 'believe', 'in', 'deep_ecology', 'this', 'is', 'a', 'worldview', 'that', 'embraces', 'biodiversity', 'and', 'sustainability', 'eco_anarchists', 'often', 'use', 'direct_action', 'against', 'what', 'they', 'see', 'as', 'earth', 'destroying', 'institutions', 'of', 'particular_importance', 'is', 'the', 'earth', 'first', 'movement', 'that', 'takes', 'action', 'such_as', 'tree', 'sitting', 'another', 'important_component', 'is', 'ecofeminism', 'which', 'sees', 'the', 'domination', 'of', 'nature', 'as', 'a', 'metaphor', 'for', 'the', 'domination', 'of', 'women', 'green_anarchism', 'also', 'involves', 'a', 'critique', 'of', 'industrial_capitalism', 'and', 'for', 'some', 'green', 'anarchists', 'civilization', 'itself', 'primitivism', 'is', 'a', 'predominantly', 'western_philosophy', 'that', 'advocates', 'a', 'return', 'to', 'a', 'pre_industrial', 'and', 'usually', 'pre', 'agricultural', 'society', 'it', 'develops', 'a', 'critique', 'of', 'industrial', 'civilization', 'in', 'this', 'critique', 'technology', 'and', 'development', 'have', 'alienated', 'people', 'from', 'the', 'natural', 'world', 'this', 'philosophy', 'develops', 'themes', 'present', 'in', 'the', 'political', 'action', 'of', 'the', 'luddites', 'and', 'the', 'writings', 'of', 'jean_jacques_rousseau', 'primitivism', 'developed', 'in', 'the', 'context', 'of', 'the', 'reclaim', 'the', 'streets', 'earth', 'first', 'and', 'the', 'earth_liberation_front', 'movements', 'john_zerzan', 'wrote', 'that', 'civilization', 'not_just', 'the', 'state', 'would_need', 'to', 'fall', 'for', 'anarchy', 'to', 'be_achieved', 'anarcho', 'primitivists', 'point', 'to', 'the', 'anti_authoritarian', 'nature', 'of', 'many', 'primitive', 'or', 'hunter_gatherer_societies', 'throughout', 'the', 'world', 's', 'history', 'as', 'examples', 'of', 'anarchist', 'societies', 'other_branches', 'and', 'offshoots', 'anarchism', 'generates', 'many', 'eclectic', 'and', 'syncretic', 'philosophies', 'and', 'movements', 'since', 'the', 'western', 'social', 'formet', 'in', 'the', 'one', 'nine', 'six', 'zero', 's', 'and', 'one', 'nine', 'seven', 'zero', 's', 'a', 'number', 'new', 'of', 'movements', 'and', 'schools', 'have', 'appeared', 'most', 'of', 'these', 'stances', 'are', 'limited', 'to', 'even', 'smaller_numbers', 'than', 'the', 'schools', 'and', 'movements', 'listed_above', 'hakim_bey', 'post_left_anarchy', 'post_left_anarchy', 'also', 'called', 'egoist', 'anarchism', 'seeks_to', 'distance', 'itself', 'from', 'the', 'traditional', 'left', 'communists', 'liberals', 'social_democrats', 'etc', 'and', 'to', 'escape', 'the', 'confines', 'of', 'ideology', 'in', 'general', 'post', 'leftists', 'argue_that', 'anarchism', 'has_been', 'weakened', 'by', 'its', 'long', 'attachment', 'to', 'contrary', 'leftist', 'movements', 'and', 'single', 'issue', 'causes', 'anti_war', 'anti_nuclear', 'etc', 'it', 'calls_for', 'a', 'synthesis', 'of', 'anarchist', 'thought', 'and', 'a', 'specifically', 'anti_authoritarian', 'revolutionary_movement', 'outside', 'of', 'the', 'leftist', 'milieu', 'it', 'often', 'focuses_on', 'the', 'individual', 'rather_than', 'speaking', 'in', 'terms', 'of', 'class', 'or', 'other', 'broad', 'generalizations', 'and', 'shuns', 'organizational', 'tendencies', 'in', 'favor', 'of', 'the', 'complete_absence', 'of', 'explicit', 'hierarchy', 'important', 'groups', 'and', 'individuals', 'associated_with', 'post_left_anarchy', 'include', 'crimethinc', 'the', 'magazine', 'anarchy', 'a', 'journal', 'of', 'desire', 'armed', 'and', 'its', 'editor', 'jason', 'mcquinn', 'bob', 'black', 'hakim_bey', 'and', 'others', 'for', 'more_information', 'see', 'infoshop_org', 's', 'anarchy', 'after', 'leftism', 'section', 'and', 'the', 'post', 'left', 'section', 'on', 'anarchism', 'ws', 'see_also', 'post_left_anarchy', 'post_structuralism', 'the', 'term', 'postanarchism', 'was', 'originated', 'by', 'saul', 'newman', 'first', 'receiving', 'popular', 'attention', 'in', 'his', 'book', 'from', 'bakunin', 'to', 'lacan', 'to', 'refer_to', 'a', 'theoretical', 'move_towards', 'a', 'synthesis', 'of', 'classical', 'anarchist', 'theory', 'and', 'poststructuralist', 'thought', 'subsequent', 'to', 'newman', 's', 'use', 'of', 'the', 'term', 'however', 'it', 'has', 'taken', 'on', 'a', 'life', 'of', 'its_own', 'and', 'a_wide_range', 'of', 'ideas', 'including', 'autonomism', 'post_left_anarchy', 'situationism', 'post', 'colonialism', 'and', 'zapatismo', 'by', 'its', 'very', 'nature', 'post', 'anarchism', 'rejects', 'the', 'idea_that', 'it_should_be', 'a', 'coherent', 'set', 'of', 'doctrines', 'and', 'beliefs', 'as', 'such', 'it', 'is', 'difficult', 'if', 'not', 'impossible', 'to', 'state', 'with', 'any', 'degree', 'of', 'certainty', 'who', 'should', 'or', 'shouldn_t_be', 'grouped_under', 'the', 'rubric', 'nonetheless', 'key', 'thinkers', 'associated_with', 'post', 'anarchism', 'include', 'saul', 'newman', 'todd', 'may', 'gilles_deleuze', 'and', 'f_lix_guattari', 'external', 'reference', 'postanarchism', 'clearinghouse', 'see_also', 'post', 'anarchism', 'insurrectionary', 'anarchism', 'insurrectionary', 'anarchism', 'is', 'a', 'form', 'of', 'revolutionary', 'anarchism', 'critical', 'of', 'formal', 'anarchist', 'labor_unions', 'and', 'federations', 'insurrectionary', 'anarchists', 'advocate', 'informal', 'organization', 'including', 'small', 'affinity', 'groups', 'carrying_out', 'acts', 'of', 'resistance', 'in', 'various', 'struggles', 'and', 'mass', 'organizations', 'called', 'base', 'structures', 'which', 'can', 'include', 'exploited', 'individuals_who_are', 'not', 'anarchists', 'proponents', 'include', 'wolfi', 'landstreicher', 'and', 'alfredo', 'm', 'bonanno', 'author', 'of', 'works', 'including', 'armed', 'joy', 'and', 'the', 'anarchist', 'tension', 'this', 'tendency', 'is', 'represented', 'in', 'the', 'us', 'in', 'magazines', 'such_as', 'willful', 'disobedience', 'and', 'killing', 'king', 'abacus', 'see_also', 'insurrectionary', 'anarchism', 'small', 'a', 'anarchism', 'small', 'a', 'anarchism', 'is', 'a', 'term', 'used', 'in', 'two', 'different', 'but', 'not', 'unconnected', 'contexts', 'dave', 'neal', 'posited', 'the', 'term', 'in', 'opposition', 'to', 'big', 'a', 'anarchism', 'in', 'the', 'article', 'anarchism', 'ideology', 'or', 'methodology', 'while', 'big', 'a', 'anarchism', 'referred_to', 'ideological', 'anarchists', 'small', 'a', 'anarchism', 'was', 'applied', 'to', 'their', 'methodological', 'counterparts', 'those_who', 'viewed', 'anarchism', 'as', 'a', 'way', 'of', 'acting', 'or', 'a', 'historical', 'tendency', 'against', 'illegitimate', 'authority', 'as', 'an', 'anti', 'ideological', 'position', 'small', 'a', 'anarchism', 'shares', 'some', 'similarities', 'with', 'post_left_anarchy', 'david', 'graeber', 'and', 'andrej', 'grubacic', 'offer', 'an_alternative', 'use', 'of', 'the', 'term', 'applying', 'it', 'to', 'groups', 'and', 'movements', 'organising', 'according_to', 'or', 'acting', 'in', 'a', 'manner_consistent_with', 'anarchist_principles', 'of', 'decentralisation', 'voluntary_association', 'mutual_aid', 'the', 'network', 'model', 'and', 'crucially', 'the', 'rejection', 'of', 'any', 'idea_that', 'the', 'end', 'justifies', 'the', 'means', 'let_alone', 'that', 'the', 'business', 'of', 'a', 'revolutionary', 'is', 'to_seize', 'state', 'power', 'and', 'then', 'begin', 'imposing', 'one', 's', 'vision', 'at', 'the', 'point', 'of', 'a', 'gun', 'other', 'issues', 'conceptions', 'of', 'an', 'anarchist_society', 'many', 'political', 'philosophers', 'justify', 'support', 'of', 'the', 'state', 'as', 'a', 'means', 'of', 'regulating', 'violence', 'so', 'that', 'the', 'destruction', 'caused_by', 'human', 'conflict', 'is', 'minimized', 'and', 'fair', 'relationships', 'are', 'established', 'anarchists', 'argue_that', 'pursuit', 'of', 'these', 'ends', 'does_not', 'justify', 'the', 'establishment', 'of', 'a', 'state', 'many', 'argue_that', 'the', 'state', 'is', 'incompatible_with', 'those', 'goals', 'and', 'the', 'cause', 'of', 'chaos', 'violence', 'and', 'war', 'anarchists', 'argue_that', 'the', 'state', 'helps', 'to_create', 'a', 'monopoly', 'on', 'violence', 'and', 'uses', 'violence', 'to', 'advance', 'elite', 'interests', 'much', 'effort', 'has_been', 'dedicated', 'to', 'explaining_how', 'anarchist', 'societies', 'would', 'handle', 'criminality', 'see_also', 'anarchism', 'and', 'society', 'civil_rights', 'and', 'cultural', 'sovereignty', 'black', 'anarchism', 'opposes', 'the', 'existence', 'of', 'a', 'state', 'capitalism', 'and', 'subjugation', 'and', 'domination', 'of', 'people', 'of', 'color', 'and', 'favors', 'a', 'non', 'hierarchical_organization', 'of', 'society', 'theorists', 'include', 'ashanti', 'alston', 'lorenzo', 'komboa', 'ervin', 'and', 'sam', 'mbah', 'anarchist', 'people', 'of', 'color', 'was', 'created', 'as', 'a', 'forum', 'for', 'non', 'caucasian', 'anarchists', 'to', 'express', 'their', 'thoughts', 'about', 'racial', 'issues', 'within', 'the', 'anarchist_movement', 'particularly', 'within', 'the', 'united_states', 'national', 'anarchism', 'is', 'a', 'political', 'view', 'which', 'seeks_to', 'unite', 'cultural', 'or', 'ethnic', 'preservation', 'with', 'anarchist', 'views', 'its_adherents', 'propose', 'that', 'those', 'preventing', 'ethnic_groups', 'or', 'races', 'from', 'living', 'in', 'separate', 'autonomous', 'groupings', 'should_be', 'resisted', 'anti_racist', 'action', 'is', 'not', 'an_anarchist', 'group', 'but', 'many', 'anarchists', 'are', 'involved', 'it', 'focuses_on', 'publicly', 'confronting', 'racist', 'agitators', 'the', 'zapatista', 'movement', 'of', 'chiapas_mexico', 'is', 'a', 'cultural', 'sovereignty', 'group', 'with', 'some', 'anarchist', 'proclivities', 'neocolonialism', 'and', 'globalization', 'nearly_all', 'anarchists', 'oppose', 'neocolonialism', 'as', 'an_attempt_to', 'use', 'economic_coercion', 'on', 'a', 'global_scale', 'carried_out', 'through', 'state', 'institutions', 'such_as', 'the', 'world_bank', 'world_trade_organization', 'group', 'of', 'eight', 'and', 'the', 'world_economic_forum', 'globalization', 'is', 'an', 'ambiguous', 'term', 'that', 'has', 'different_meanings', 'to', 'different', 'anarchist', 'factions', 'most', 'anarchists', 'use', 'the', 'term', 'to', 'mean', 'neocolonialism', 'and', 'or', 'cultural_imperialism', 'which', 'they', 'may', 'see', 'as', 'related', 'many', 'are', 'active', 'in', 'the', 'anti_globalization_movement', 'others', 'particularly', 'anarcho_capitalists', 'use', 'globalization', 'to', 'mean', 'the', 'worldwide', 'expansion', 'of', 'the', 'division', 'of', 'labor', 'and', 'trade', 'which', 'they', 'see', 'as', 'beneficial', 'so_long', 'as', 'governments', 'do_not', 'intervene', 'parallel', 'structures', 'many', 'anarchists', 'try_to', 'set_up', 'alternatives', 'to', 'state', 'supported', 'institutions', 'and', 'outposts', 'such_as', 'food', 'not', 'bombs', 'infoshops', 'educational', 'systems', 'such_as', 'home_schooling', 'neighborhood', 'mediation_arbitration', 'groups', 'and', 'so', 'on', 'the', 'idea', 'is', 'to_create', 'the', 'structures', 'for', 'a', 'new', 'anti_authoritarian', 'society', 'in', 'the', 'shell', 'of', 'the', 'old', 'authoritarian', 'one', 'technology', 'recent', 'technological_developments', 'have', 'made', 'the', 'anarchist', 'cause', 'both', 'easier', 'to', 'advance', 'and', 'more', 'conceivable', 'to', 'people', 'many', 'people', 'use', 'the', 'internet', 'to', 'form', 'on', 'line', 'communities', 'intellectual_property', 'is', 'undermined', 'and', 'a', 'gift', 'culture', 'supported_by', 'sharing', 'music', 'files', 'open_source', 'programming', 'and', 'the', 'free_software_movement', 'these', 'cyber', 'communities', 'include', 'the', 'gnu_linux', 'indymedia', 'and', 'wiki', 'some', 'anarchists', 'see', 'information_technology', 'as', 'the', 'best', 'weapon', 'to', 'defeat', 'authoritarianism', 'some', 'even', 'think', 'the', 'information', 'age', 'makes', 'eventual', 'anarchy', 'inevitable', 'see_also', 'crypto_anarchism', 'and', 'cypherpunk', 'pacifism', 'some', 'anarchists', 'consider', 'pacifism', 'opposition', 'to', 'war', 'to_be', 'inherent', 'in', 'their', 'philosophy', 'anarcho', 'pacifists', 'take', 'it', 'further', 'and', 'follow', 'leo_tolstoy', 's', 'belief', 'in', 'non_violence', 'anarchists', 'see', 'war', 'as', 'an', 'activity', 'in', 'which', 'the', 'state', 'seeks_to', 'gain', 'and', 'consolidate_power', 'both', 'domestically', 'and', 'in', 'foreign', 'lands', 'and', 'subscribe_to', 'randolph', 'bourne', 's', 'view', 'that', 'war', 'is', 'the', 'health', 'of', 'the', 'state', 'a_lot', 'of', 'anarchist', 'activity', 'has_been', 'anti_war', 'based', 'parliamentarianism', 'in', 'general', 'terms', 'the', 'anarchist', 'ethos', 'opposes', 'voting', 'in', 'elections', 'because', 'voting', 'amounts', 'to', 'condoning', 'the', 'state', 'voluntaryism', 'is', 'an_anarchist', 'school', 'of', 'thought', 'which', 'emphasizes', 'tending', 'your_own', 'garden', 'and', 'neither', 'ballots', 'nor', 'bullets', 'the', 'anarchist', 'case', 'against', 'voting', 'is', 'explained', 'in', 'the', 'ethics', 'of', 'voting', 'by', 'george_h', 'smith', 'also', 'see', 'voting', 'anarchists', 'an_oxymoron', 'or', 'what', 'by', 'joe', 'peacott', 'and', 'writings', 'by', 'fred', 'woodworth', 'sectarianism', 'most', 'anarchist', 'schools', 'of', 'thought', 'are', 'to_some_degree', 'sectarian', 'there_is', 'often', 'a', 'difference', 'of', 'opinion', 'within', 'each', 'school', 'about', 'how', 'to', 'react', 'to', 'or', 'interact_with', 'other', 'schools', 'some', 'such_as', 'panarchists', 'believe_that', 'it', 'is', 'possible', 'for', 'a_variety', 'of', 'modes', 'of', 'social', 'life', 'to', 'coexist', 'and', 'compete', 'some', 'anarchists', 'view', 'opposing', 'schools', 'as', 'a', 'social', 'impossibility', 'and', 'resist', 'interaction', 'others', 'see', 'opportunities_for', 'coalition', 'building', 'or', 'at_least', 'temporary', 'alliances', 'for_specific_purposes', 'see', 'anarchism', 'without', 'adjectives', 'criticisms', 'of', 'anarchism', 'main_article', 'criticisms', 'of', 'anarchism', 'violence', 'since', 'anarchism', 'has', 'often_been', 'associated_with', 'violence', 'and', 'destruction', 'some', 'people', 'have_seen', 'it', 'as', 'being', 'too', 'violent', 'on', 'the', 'other_hand', 'hand', 'frederick_engels', 'criticsed', 'anarchists', 'for', 'not', 'being', 'violent', 'enough', 'a', 'revolution', 'is', 'certainly', 'the', 'most', 'authoritarian', 'thing', 'there_is', 'it', 'is', 'the', 'act', 'whereby', 'one', 'part', 'of', 'the', 'population', 'imposes', 'its', 'will', 'upon', 'the', 'other', 'part', 'by', 'means', 'of', 'rifles', 'bayonets', 'and', 'cannon', 'authoritarian', 'means', 'if', 'such', 'there', 'be', 'at', 'all', 'and', 'if', 'the', 'victorious', 'party', 'does_not_want', 'to', 'have', 'fought', 'in', 'vain', 'it', 'must_maintain', 'this', 'rule', 'by', 'means', 'of', 'the', 'terror', 'which', 'its', 'arms', 'inspire', 'in', 'the', 'reactionists', 'would', 'the', 'paris_commune', 'have', 'lasted', 'a', 'single', 'day', 'if', 'it', 'had', 'not', 'made', 'use', 'of', 'this', 'authority', 'of', 'the', 'armed', 'people', 'against', 'the', 'bourgeois', 'utopianism', 'anarchism', 'is', 'often_criticised', 'as', 'unfeasible', 'or', 'plain', 'utopian', 'even', 'by', 'many', 'who', 'agree_that', 'it', 's', 'a', 'nice', 'idea', 'in', 'principle', 'for_example', 'carl', 'landauer', 'in', 'his', 'book', 'european', 'socialism', 'criticizes', 'anarchism', 'as', 'being', 'unrealistically', 'utopian', 'and', 'holds_that', 'government', 'is', 'a', 'lesser', 'evil', 'than', 'a', 'society', 'without', 'repressive', 'force', 'he', 'holds_that', 'the', 'belief_that', 'ill', 'intentions', 'will_cease', 'if', 'repressive', 'force', 'disappears', 'is', 'an', 'absurdity', 'however', 'it', 'must_be_noted_that', 'not', 'all', 'anarchists', 'have', 'such', 'a', 'utopian', 'view', 'of', 'anarchism', 'for_example', 'some', 'such_as', 'benjamin_tucker', 'advocate', 'privately_funded', 'institutions', 'that', 'defend', 'individual_liberty', 'and', 'property', 'however', 'other', 'anarchists', 'such_as', 'sir_herbert', 'read', 'proudly', 'accept', 'the', 'characterization', 'utopian', 'class', 'character', 'marxists', 'have', 'characterised', 'anarchism', 'as', 'an_expression', 'of', 'the', 'class', 'interests', 'of', 'the', 'petite', 'bourgeoisie', 'or', 'perhaps', 'the', 'lumpenproletariat', 'see', 'e_g', 'plekhanov', 'for', 'a', 'marxist_critique', 'of', 'one', 'eight', 'nine', 'five', 'anarchists', 'have', 'also_been', 'characterised_as', 'spoilt', 'middle_class', 'dilettantes', 'most_recently', 'in', 'relation', 'to', 'anti_capitalist', 'protesters', 'tacit', 'authoritarianism', 'in_recent_decades', 'anarchism', 'has_been_criticised', 'by', 'situationists', 'post', 'anarchists', 'and', 'others', 'of', 'preserving', 'tacitly', 'statist', 'authoritarian', 'or', 'bureaucratic', 'tendencies', 'behind', 'a', 'dogmatic', 'facade', 'hypocrisy', 'some_critics', 'point', 'to', 'the', 'sexist', 'and', 'racist_views', 'of', 'some', 'prominent', 'anarchists', 'notably', 'proudhon', 'and', 'bakunin', 'as', 'examples', 'of', 'hypocrisy', 'inherent', 'within', 'anarchism', 'while', 'many', 'anarchists', 'however', 'dismiss', 'that', 'the', 'personal', 'prejudices', 'of', 'one', 'nine', 'th_century', 'theorists', 'influence', 'the', 'beliefs', 'of', 'present_day', 'anarchists', 'others', 'criticise', 'modern', 'anarchism', 'for', 'continuing', 'to_be', 'eurocentric', 'and', 'reference', 'the', 'impact', 'of', 'anarchist', 'thinkers', 'like', 'proudhon', 'on', 'fascism', 'through', 'groups', 'like', 'cercle', 'proudhon', 'anarcho_capitalist', 'bryan', 'caplan', 'argues_that', 'the', 'treatment', 'of', 'fascists', 'and', 'suspected', 'fascist', 'sympathizers', 'by', 'spanish', 'anarchists', 'in', 'the', 'spanish_civil_war', 'was', 'a', 'form', 'of', 'illegitimate', 'coercion', 'making', 'the', 'proffessed', 'anarchists', 'ultimately', 'just', 'a', 'third', 'faction', 'of', 'totalitarians', 'alongside', 'the', 'communists', 'and', 'fascists', 'he', 'also', 'criticizes', 'the', 'willingness', 'of', 'the', 'cnt', 'to_join', 'the', 'statist', 'republican_government', 'during', 'the', 'civil_war', 'and', 'references', 'stanley', 'g', 'payne', 's', 'book', 'on', 'the', 'franco_regime', 'which', 'claims_that', 'the', 'cnt', 'entered', 'negotiations_with', 'the', 'fascist_government', 'six', 'years_after', 'the', 'war', 'cultural', 'phenomena', 'noam_chomsky', 'one', 'nine', 'two', 'eight', 'the', 'kind', 'of', 'anarchism', 'that', 'is', 'most', 'easily', 'encountered', 'in', 'popular_culture', 'is', 'represented_by', 'celebrities', 'who', 'publicly', 'identify_themselves_as', 'anarchists', 'although', 'some', 'anarchists', 'reject_any', 'focus_on', 'such', 'famous', 'living', 'individuals', 'as', 'inherently', 'litist', 'the', 'following', 'figures', 'are', 'examples', 'of', 'prominent', 'publicly', 'self', 'avowed', 'anarchists', 'the', 'mit', 'professor', 'of', 'linguistics', 'noam_chomsky', 'the', 'science_fiction_author', 'ursula_k_le_guin', 'the', 'social', 'historian', 'howard_zinn', 'entertainer', 'and', 'author', 'hans', 'alfredsson', 'the', 'avant_garde', 'artist', 'nicol', 's', 'rossell', 'in', 'denmark', 'the', 'freetown', 'christiania', 'was', 'created', 'in', 'downtown', 'copenhagen', 'the', 'housing', 'and', 'employment', 'crisis', 'in', 'most', 'of', 'western_europe', 'led', 'to', 'the', 'formation', 'of', 'communes', 'and', 'squatter', 'movements', 'like', 'the', 'one', 'still', 'thriving', 'in', 'barcelona', 'in', 'catalonia', 'militant', 'resistance', 'to', 'neo_nazi_groups', 'in', 'places_like', 'germany', 'and', 'the', 'uprisings', 'of', 'autonomous', 'marxism', 'situationist', 'and', 'autonomist', 'groups', 'in', 'france', 'and', 'italy', 'also', 'helped', 'to', 'give', 'popularity', 'to', 'anti_authoritarian', 'non', 'capitalist', 'ideas', 'in', 'various', 'musical_styles', 'anarchism', 'rose', 'in', 'popularity', 'most_famous', 'for', 'the', 'linking', 'of', 'anarchist_ideas', 'and', 'music', 'has_been', 'punk_rock', 'although', 'in', 'the', 'modern', 'age', 'hip_hop', 'and', 'folk_music', 'are', 'also', 'becoming', 'important', 'mediums', 'for', 'the', 'spreading', 'of', 'the', 'anarchist', 'message', 'in', 'the', 'uk', 'this', 'was', 'associated_with', 'the', 'punk_rock', 'movement', 'the', 'band_crass', 'is', 'celebrated', 'for', 'its', 'anarchist', 'and', 'pacifist', 'ideas', 'the', 'dutch', 'punk_band', 'the', 'ex', 'further', 'exemplifies', 'this', 'expression', 'for_further_details', 'see', 'anarcho_punk', 'see_also', 'there_are_many', 'concepts', 'relevant', 'to', 'the', 'topic', 'of', 'anarchism', 'this', 'is', 'a', 'brief_summary', 'there_is', 'also', 'a', 'more_extensive', 'list', 'of', 'anarchist', 'concepts', 'individualist_anarchism', 'anarcho_communism', 'anarcho_syndicalism', 'anarcho_capitalism', 'mutualism', 'christian_anarchism', 'anarcha_feminism', 'green_anarchism', 'nihilist', 'anarchism_anarcho', 'nationalism', 'black', 'anarchism', 'national', 'anarchism', 'post', 'anarchism', 'post', 'left', 'anarchism', 'libertarian_socialism', 'anarchist', 'symbolism', 'list', 'of', 'anarchism', 'links', 'list', 'of', 'anarchists', 'list', 'of', 'anarchist_organizations', 'major', 'conflicts', 'within', 'anarchist', 'thought', 'past', 'and', 'present', 'anarchist', 'communities', 'historical_events', 'paris_commune', 'one', 'eight', 'seven', 'one', 'haymarket_riot', 'one', 'eight', 'eight', 'six', 'the', 'makhnovschina', 'one', 'nine', 'one', 'seven', 'one', 'nine', 'two', 'one', 'kronstadt_rebellion', 'one', 'nine', 'two', 'one', 'spanish', 'revolution', 'one', 'nine', 'three', 'six', 'see', 'anarchism', 'in', 'spain', 'and', 'spanish', 'revolution', 'may', 'one', 'nine', 'six', 'eight', 'france', 'one', 'nine', 'six', 'eight', 'wto', 'meeting', 'in', 'seattle', 'one', 'nine', 'nine', 'nine', 'books', 'the', 'following', 'is', 'a', 'sample', 'of', 'books', 'that', 'have_been', 'referenced', 'in', 'this', 'page', 'a', 'more_complete_list', 'can_be_found', 'at', 'the', 'list', 'of', 'anarchist', 'books', 'mikhail_bakunin', 'god', 'and', 'the', 'state', 'emma_goldman', 'anarchism', 'other', 'essays', 'peter_kropotkin', 'mutual_aid', 'pierre_joseph_proudhon', 'what', 'is', 'property', 'rudolf_rocker', 'anarcho_syndicalism', 'murray_rothbard', 'the', 'ethics', 'of', 'liberty', 'max_stirner', 'the', 'ego', 'and', 'its_own', 'leo_tolstoy', 'the', 'kingdom', 'of', 'god', 'is', 'within', 'you', 'anarchism', 'by', 'region', 'culture', 'african', 'anarchism', 'anarchism', 'in', 'spain', 'anarchism', 'in', 'the', 'english', 'tradition', 'chinese', 'anarchism', 'references', 'these', 'notes', 'have', 'no', 'corresponding', 'reference', 'in', 'the', 'article', 'they', 'might_be', 're', 'used', 'against', 'politics', 'appleton', 'boston', 'anarchists', 'yarros', 'victor', 'liberty', 'vii', 'january', 'two', 'one', 'eight', 'nine', 'two', 'noam_chomsky', 'on', 'anarchism', 'by', 'noam_chomsky', 'external_links', 'the', 'overwhelming', 'diversity', 'and', 'number', 'of', 'links', 'relating_to', 'anarchism', 'is', 'extensively_covered', 'on', 'the', 'links', 'subpage', 'anarchoblogs', 'blogs', 'by', 'anarchists', 'anarchy', 'archives', 'extensively', 'archives', 'information', 'relating_to', 'famous', 'anarchists', 'this', 'includes', 'many', 'of', 'their', 'books', 'and', 'other', 'publications', 'hundreds', 'of', 'anarchists', 'are_listed', 'with', 'short', 'bios', 'links', 'dedicated', 'pages', 'at', 'the', 'daily', 'bleed', 's', 'anarchist', 'encyclopedia', 'infoshop_org', 'wikipedia_page', 'industrial_workers', 'of', 'the', 'world', 'anarchism', 'forms', 'of', 'government', 'political_ideology', 'entry', 'points', 'political_theories', 'social_philosophy', 'autism', 'is', 'classified_as', 'a', 'neurodevelopmental', 'disorder', 'that', 'manifests_itself', 'in', 'markedly', 'abnormal', 'social_interaction', 'communication', 'ability', 'patterns', 'of', 'interests', 'and', 'patterns', 'of', 'behavior', 'although', 'the', 'specific', 'etiology', 'of', 'autism', 'is', 'unknown', 'many', 'researchers', 'suspect', 'that', 'autism', 'results', 'from', 'genetically', 'mediated', 'vulnerabilities', 'to', 'environmental', 'triggers', 'and', 'while', 'there_is', 'disagreement_about', 'the', 'magnitude', 'nature', 'and', 'mechanisms', 'for', 'such', 'environmental_factors', 'researchers_have', 'found', 'at_least', 'seven', 'major', 'genes', 'prevalent_among', 'individuals', 'diagnosed', 'as', 'autistic', 'some', 'estimate', 'that', 'autism', 'occurs', 'in', 'as', 'many', 'as', 'one', 'united_states', 'child', 'in', 'one', 'six', 'six', 'however', 'the', 'national_institute', 'of', 'mental_health', 'gives', 'a', 'more', 'conservative_estimate', 'of', 'one', 'in', 'one', 'zero', 'zero', 'zero', 'for', 'families', 'that', 'already', 'have', 'one', 'autistic_child', 'the', 'odds', 'of', 'a', 'second', 'autistic_child', 'may_be', 'as', 'high', 'as', 'one', 'in', 'twenty', 'diagnosis', 'is', 'based_on', 'a', 'list', 'of', 'psychiatric', 'criteria', 'and', 'a', 'series', 'of', 'standardized', 'clinical_tests', 'may_also', 'be', 'used', 'autism', 'may_not', 'be', 'physiologically', 'obvious', 'a', 'complete', 'physical', 'and', 'neurological', 'evaluation', 'will', 'typically', 'be', 'part', 'of', 'diagnosing', 'autism', 'some', 'now', 'speculate_that', 'autism', 'is', 'not', 'a', 'single', 'condition', 'but', 'a', 'group', 'of', 'several', 'distinct', 'conditions', 'that', 'manifest', 'in', 'similar', 'ways', 'by', 'definition', 'autism', 'must', 'manifest', 'delays', 'in', 'social_interaction', 'language', 'as', 'used', 'in', 'social', 'communication', 'or', 'symbolic', 'or', 'imaginative', 'play', 'with', 'onset', 'prior_to', 'age', 'three', 'years', 'according_to', 'the', 'diagnostic', 'and', 'statistical_manual', 'of', 'mental_disorders', 'the', 'icd', 'one', 'zero', 'also', 'says_that', 'symptoms', 'must', 'manifest', 'before', 'the', 'age', 'of', 'three', 'years', 'there_have_been', 'large', 'increases', 'in', 'the', 'reported', 'incidence', 'of', 'autism', 'for', 'reasons', 'that', 'are', 'heavily_debated', 'by', 'researchers', 'in', 'psychology', 'and', 'related_fields', 'within', 'the', 'scientific_community', 'some', 'children', 'with', 'autism', 'have', 'improved', 'their', 'social', 'and', 'other', 'skills', 'to', 'the', 'point_where', 'they', 'can', 'fully', 'participate_in', 'mainstream', 'education', 'and', 'social_events', 'but', 'there_are', 'lingering', 'concerns', 'that', 'an_absolute', 'cure', 'from', 'autism', 'is', 'impossible', 'with', 'current', 'technology', 'however', 'many', 'autistic_children', 'and', 'adults', 'who', 'are', 'able_to_communicate', 'at_least', 'in', 'writing', 'are', 'opposed', 'to', 'attempts_to', 'cure', 'their', 'conditions', 'and', 'see', 'such', 'conditions', 'as', 'part', 'of', 'who', 'they_are', 'history', 'dr', 'hans_asperger', 'described', 'a', 'form', 'of', 'autism', 'in', 'the', 'one', 'nine', 'four', 'zero', 's', 'that', 'later_became_known_as', 'asperger_s_syndrome', 'the', 'word', 'autism', 'was', 'first', 'used', 'in', 'the', 'english_language', 'by', 'swiss_psychiatrist', 'eugene_bleuler', 'in', 'a', 'one', 'nine', 'one', 'two', 'number', 'of', 'the', 'american_journal', 'of', 'insanity', 'it', 'comes_from', 'the', 'greek_word_for', 'self', 'however', 'the', 'classification', 'of', 'autism', 'did_not_occur', 'until', 'the', 'middle', 'of', 'the', 'twentieth_century', 'when', 'in', 'one', 'nine', 'four', 'three', 'psychiatrist_dr', 'leo', 'kanner', 'of', 'the', 'johns_hopkins', 'hospital', 'in', 'baltimore', 'reported', 'on', 'one', 'one', 'child', 'patients_with', 'striking', 'behavioral', 'similarities', 'and', 'introduced', 'the', 'label', 'early_infantile', 'autism', 'he', 'suggested', 'autism', 'from', 'the', 'greek', 'autos', 'meaning', 'self', 'to_describe', 'the', 'fact_that', 'the', 'children', 'seemed', 'to', 'lack', 'interest', 'in', 'other', 'people', 'although', 'kanner', 's', 'first', 'paper', 'on', 'the', 'subject', 'was', 'published', 'in', 'a', 'now_defunct', 'journal', 'the', 'nervous', 'child', 'almost_every', 'characteristic', 'he', 'originally', 'described', 'is', 'still', 'regarded_as', 'typical', 'of', 'the', 'autistic_spectrum', 'of', 'disorders', 'at', 'the', 'same_time', 'an', 'austrian', 'scientist', 'dr', 'hans_asperger', 'described', 'a', 'different', 'form', 'of', 'autism', 'that', 'became_known_as', 'asperger_s_syndrome', 'but', 'the', 'widespread', 'recognition', 'of', 'asperger_s', 'work', 'was', 'delayed', 'by', 'world_war_ii', 'in', 'germany', 'and', 'by', 'the', 'fact_that', 'his', 'seminal', 'paper', 'wasn_t', 'translated_into_english', 'for', 'almost', 'five', 'zero', 'years', 'the', 'majority', 'of', 'his', 'work', 'wasn_t', 'widely_read', 'until', 'one', 'nine', 'nine', 'seven', 'thus', 'these', 'two', 'conditions', 'were', 'described', 'and', 'are', 'today', 'listed', 'in', 'the', 'diagnostic', 'and', 'statistical_manual', 'of', 'mental_disorders', 'dsm_iv_tr', 'fourth_edition', 'text', 'revision', 'one', 'as', 'two', 'of', 'the', 'five', 'pervasive_developmental_disorders', 'pdd', 'more', 'often_referred_to', 'today', 'as', 'autism_spectrum', 'disorders', 'asd', 'all', 'of', 'these', 'conditions', 'are', 'characterized_by', 'varying_degrees', 'of', 'difference', 'in', 'communication_skills', 'social_interactions', 'and', 'restricted', 'repetitive', 'and', 'stereotyped', 'patterns', 'of', 'behavior', 'few', 'clinicians', 'today', 'solely', 'use', 'the', 'dsm_iv', 'criteria_for', 'determining', 'a', 'diagnosis', 'of', 'autism', 'which', 'are', 'based_on', 'the', 'absence', 'or', 'delay', 'of', 'certain', 'developmental', 'milestones', 'many', 'clinicians', 'instead', 'use', 'an_alternate', 'means', 'or', 'a', 'combination_thereof', 'to', 'more_accurately', 'determine', 'a', 'diagnosis', 'terminology', 'when_referring_to', 'someone', 'diagnosed_with', 'autism', 'the', 'term', 'autistic', 'is_often_used', 'however', 'the', 'term', 'person', 'with', 'autism', 'can_be_used', 'instead', 'this', 'is', 'referred_to_as', 'person', 'first', 'terminology', 'the', 'autistic', 'community', 'generally', 'prefers', 'the', 'term', 'autistic', 'for', 'reasons', 'that', 'are', 'fairly', 'controversial', 'this_article', 'uses', 'the', 'term', 'autistic', 'see', 'talk_page', 'characteristics', 'dr_leo', 'kanner', 'introduced', 'the', 'label', 'early_infantile', 'autism', 'in', 'one', 'nine', 'four', 'three', 'there_is', 'a', 'great_diversity', 'in', 'the', 'skills', 'and', 'behaviors', 'of', 'individuals', 'diagnosed', 'as', 'autistic', 'and', 'physicians', 'will', 'often', 'arrive_at', 'different', 'conclusions_about', 'the', 'appropriate', 'diagnosis', 'much', 'of', 'this', 'is', 'due_to', 'the', 'sensory', 'system', 'of', 'an', 'autistic', 'which', 'is', 'quite_different_from', 'the', 'sensory', 'system', 'of', 'other', 'people', 'since', 'certain', 'stimulations', 'can_affect', 'an', 'autistic', 'differently_than', 'a', 'non_autistic', 'and', 'the', 'degree', 'to', 'which', 'the', 'sensory', 'system', 'is', 'affected', 'varies_wildly', 'from', 'one', 'autistic', 'person', 'to', 'another', 'nevertheless', 'professionals', 'within', 'pediatric', 'care', 'and', 'development', 'often', 'look', 'for', 'early', 'indicators', 'of', 'autism', 'in', 'order', 'to', 'initiate', 'treatment', 'as', 'early', 'as', 'possible', 'however', 'some', 'people', 'do_not_believe', 'in', 'treatment', 'for', 'autism', 'either', 'because_they_do_not', 'believe', 'autism', 'is', 'a', 'disorder', 'or', 'because_they_believe', 'treatment', 'can_do', 'more', 'harm', 'than', 'good', 'social_development', 'typically', 'developing', 'infants', 'are', 'social', 'beings', 'early', 'in', 'life', 'they_do', 'such_things', 'as', 'gaze', 'at', 'people', 'turn', 'toward', 'voices', 'grasp', 'a', 'finger', 'and', 'even', 'smile', 'in', 'contrast', 'most', 'autistic_children', 'prefer', 'objects', 'to', 'faces', 'and', 'seem_to', 'have', 'tremendous', 'difficulty_learning', 'to', 'engage', 'in', 'the', 'give', 'and', 'take', 'of', 'everyday', 'human_interaction', 'even', 'in', 'the', 'first', 'few_months', 'of', 'life', 'many', 'seem', 'indifferent', 'to', 'other', 'people', 'because_they', 'avoid', 'eye_contact', 'and', 'do_not', 'interact_with', 'them', 'as', 'often', 'as', 'non_autistic', 'children', 'children', 'with', 'autism', 'often', 'appear', 'to', 'prefer', 'being', 'alone', 'to', 'the', 'company', 'of', 'others', 'and', 'may', 'passively', 'accept', 'such_things', 'as', 'hugs', 'and', 'cuddling', 'without', 'reciprocating', 'or', 'resist', 'attention', 'altogether', 'later', 'they', 'seldom', 'seek', 'comfort', 'from', 'others', 'or', 'respond', 'to', 'parents', 'displays', 'of', 'anger', 'or', 'affection', 'in', 'a', 'typical', 'way', 'research', 'has_suggested_that', 'although', 'autistic_children', 'are', 'attached_to', 'their_parents', 'their', 'expression', 'of', 'this', 'attachment', 'is', 'unusual', 'and', 'difficult', 'to', 'interpret', 'parents', 'who', 'looked_forward_to', 'the', 'joys', 'of', 'cuddling', 'teaching', 'and', 'playing', 'with', 'their', 'child', 'may', 'feel', 'crushed', 'by', 'this', 'lack', 'of', 'expected', 'attachment', 'behavior', 'children', 'with', 'autism', 'appear', 'to', 'lack', 'theory', 'of', 'mind', 'the', 'ability_to', 'see', 'things', 'from', 'another_person', 's', 'perspective', 'a', 'behavior', 'cited', 'as', 'exclusive', 'to', 'human_beings', 'above', 'the', 'age', 'of', 'five', 'and', 'possibly', 'other', 'higher', 'primates', 'such_as', 'adult', 'gorillas', 'chimpanzees', 'and', 'bonobos', 'typical', 'five', 'year_olds', 'can', 'develop', 'insights_into', 'other', 'people', 's', 'different', 'knowledge', 'feelings', 'and', 'intentions', 'interpretations', 'based_upon', 'social', 'cues', 'e_g', 'gestures', 'facial_expressions', 'an_individual', 'with', 'autism', 'seems_to', 'lack', 'these', 'interpretation', 'skills', 'an', 'inability', 'that', 'leaves', 'them', 'unable_to', 'predict', 'or', 'understand', 'other', 'people', 's', 'actions', 'the', 'social', 'alienation', 'of', 'autistic', 'and', 'asperger_s', 'people', 'is', 'so', 'intense', 'from', 'childhood', 'that', 'many', 'of', 'them', 'have', 'imaginary_friends', 'as', 'companionship', 'however', 'having', 'an_imaginary', 'friend', 'is', 'not_necessarily', 'a', 'sign', 'of', 'autism', 'and', 'also', 'occurs', 'in', 'non_autistic', 'children', 'although', 'not', 'universal', 'it', 'is', 'common', 'for', 'autistic_people', 'to', 'not', 'regulate', 'their', 'behavior', 'this', 'can_take', 'the', 'form', 'of', 'crying', 'or', 'verbal', 'outbursts', 'that', 'may_seem', 'out', 'of', 'proportion', 'to', 'the', 'situation', 'individuals', 'with', 'autism', 'generally', 'prefer', 'consistent', 'routines', 'and', 'environments', 'they', 'may', 'react', 'negatively', 'to', 'changes', 'in', 'them', 'it', 'is_not_uncommon', 'for', 'these', 'individuals', 'to', 'exhibit', 'aggression', 'increased', 'levels', 'of', 'self', 'stimulatory', 'behavior', 'self', 'injury', 'or', 'extensive', 'withdrawal', 'in', 'overwhelming', 'situations', 'sensory', 'system', 'a', 'key', 'indicator', 'to', 'clinicians', 'making', 'a', 'proper', 'assessment', 'for', 'autism', 'would', 'include', 'looking_for', 'symptoms', 'much_like', 'those', 'found', 'in', 'sensory', 'integration', 'dysfunction', 'children', 'will', 'exhibit', 'problems', 'coping_with', 'the', 'normal', 'sensory_input', 'indicators', 'of', 'this', 'disorder', 'include', 'oversensitivity', 'or', 'underreactivity', 'to', 'touch', 'movement', 'sights', 'or', 'sounds', 'physical', 'clumsiness', 'or', 'carelessness', 'poor', 'body', 'awareness', 'a', 'tendency', 'to_be', 'easily', 'distracted', 'impulsive', 'physical', 'or', 'verbal_behavior', 'an', 'activity', 'level', 'that', 'is', 'unusually_high', 'or', 'low', 'not', 'unwinding', 'or', 'calming', 'oneself', 'difficulty_learning', 'new', 'movements', 'difficulty', 'in', 'making', 'transitions', 'from', 'one', 'situation', 'to', 'another', 'social', 'and', 'or', 'emotional_problems', 'delays', 'in', 'speech', 'language', 'or', 'motor_skills', 'specific', 'learning_difficulties', 'delays', 'in', 'academic_achievement', 'one', 'common', 'example', 'is', 'an_individual', 'with', 'autism', 'hearing', 'a', 'person', 'with', 'autism', 'may_have', 'trouble', 'hearing', 'certain', 'people', 'while', 'other', 'people', 'are', 'louder_than', 'usual', 'or', 'the', 'person', 'with', 'autism', 'may_be', 'unable_to', 'filter_out', 'sounds', 'in', 'certain_situations', 'such_as', 'in', 'a', 'large', 'crowd', 'of', 'people', 'see', 'cocktail', 'party', 'effect', 'however', 'this', 'is', 'perhaps', 'the', 'part', 'of', 'the', 'autism', 'that', 'tends_to', 'vary', 'the', 'most', 'from', 'person', 'to', 'person', 'so', 'these', 'examples', 'may', 'not_apply', 'to', 'every', 'autistic', 'it_should_be', 'noted_that', 'sensory', 'difficulties', 'although', 'reportedly', 'common', 'in', 'autistics', 'are', 'not', 'part', 'of', 'the', 'dsm_iv', 'diagnostic_criteria', 'for', 'autistic', 'disorder', 'communication', 'difficulties', 'by', 'age', 'three', 'typical', 'children', 'have', 'passed', 'predictable', 'language_learning', 'milestones', 'one', 'of', 'the', 'earliest', 'is', 'babbling', 'by', 'the', 'first', 'birthday', 'a', 'typical', 'toddler', 'says', 'words', 'turns', 'when', 'he', 'or', 'she', 'hears', 'his', 'or', 'her', 'name', 'points', 'when', 'he', 'or_she_wants', 'a', 'toy', 'and', 'when', 'offered', 'something', 'distasteful', 'makes_it', 'clear', 'that', 'the', 'answer', 'is', 'no', 'speech', 'development', 'in', 'people', 'with', 'autism', 'takes', 'different_paths', 'some', 'remain', 'mute', 'throughout_their_lives', 'while', 'being', 'fully', 'literate', 'and', 'able_to_communicate', 'in', 'other', 'ways', 'images', 'sign_language', 'and', 'typing', 'are', 'far_more', 'natural', 'to', 'them', 'some', 'infants', 'who', 'later', 'show_signs', 'of', 'autism', 'coo', 'and', 'babble', 'during', 'the', 'first', 'few_months', 'of', 'life', 'but', 'stop', 'soon_afterwards', 'others', 'may_be', 'delayed', 'developing', 'language', 'as', 'late', 'as', 'the', 'teenage_years', 'still', 'inability_to', 'speak', 'does_not_mean', 'that', 'people', 'with', 'autism', 'are', 'unintelligent', 'or', 'unaware', 'once', 'given', 'appropriate', 'accommodations', 'many', 'will', 'happily', 'converse', 'for', 'hours', 'and', 'can', 'often', 'be_found', 'in', 'online_chat', 'rooms', 'discussion_boards', 'or', 'websites', 'and', 'even', 'using', 'communication', 'devices', 'at', 'autism', 'community', 'social_events', 'such_as', 'autreat', 'those_who', 'do', 'speak', 'often', 'use', 'language', 'in', 'unusual', 'ways', 'retaining', 'features', 'of', 'earlier_stages', 'of', 'language', 'development', 'for_long_periods', 'or', 'throughout_their_lives', 'some', 'speak', 'only', 'single', 'words', 'while_others', 'repeat', 'the', 'same', 'phrase', 'over', 'and', 'over', 'some', 'repeat', 'what', 'they', 'hear', 'a', 'condition', 'called', 'echolalia', 'sing', 'song', 'repetitions', 'in', 'particular', 'are', 'a', 'calming', 'joyous', 'activity', 'that', 'many', 'autistic_adults', 'engage', 'in', 'many', 'people', 'with', 'autism', 'have', 'a', 'strong', 'tonal', 'sense', 'and', 'can', 'often', 'understand', 'spoken_language', 'some', 'children', 'may', 'exhibit', 'only', 'slight', 'delays', 'in', 'language', 'or', 'even', 'seem_to', 'have', 'precocious', 'language', 'and', 'unusually_large', 'vocabularies', 'but', 'have', 'great_difficulty', 'in', 'sustaining', 'typical', 'conversations', 'the', 'give', 'and', 'take', 'of', 'non_autistic', 'conversation', 'is', 'hard', 'for', 'them', 'although', 'they', 'often', 'carry', 'on', 'a', 'monologue', 'on', 'a', 'favorite', 'subject', 'giving', 'no', 'one', 'else', 'an_opportunity_to', 'comment', 'when', 'given', 'the', 'chance', 'to', 'converse', 'with', 'other', 'autistics', 'they', 'comfortably', 'do_so', 'in', 'parallel', 'monologue', 'taking_turns', 'expressing', 'views', 'and', 'information', 'just', 'as', 'neurotypicals', 'people', 'without', 'autism', 'have', 'trouble_understanding', 'autistic', 'body', 'languages', 'vocal', 'tones', 'or', 'phraseology', 'people', 'with', 'autism', 'similarly', 'have', 'trouble', 'with', 'such_things', 'in', 'people', 'without', 'autism', 'in', 'particular', 'autistic', 'language', 'abilities', 'tend_to_be', 'highly', 'literal', 'people', 'without', 'autism', 'often', 'inappropriately', 'attribute', 'hidden_meaning', 'to', 'what', 'people', 'with', 'autism', 'say', 'or', 'expect', 'the', 'person', 'with', 'autism', 'to', 'sense', 'such', 'unstated', 'meaning', 'in', 'their_own', 'words', 'the', 'body', 'language', 'of', 'people', 'with', 'autism', 'can_be_difficult', 'for', 'other', 'people', 'to', 'understand', 'facial_expressions', 'movements', 'and', 'gestures', 'may_be', 'easily_understood', 'by', 'some', 'other', 'people', 'with', 'autism', 'but', 'do_not_match', 'those', 'used', 'by', 'other', 'people', 'also', 'their', 'tone', 'of', 'voice', 'has', 'a', 'much_more', 'subtle', 'inflection', 'in', 'reflecting', 'their', 'feelings', 'and', 'the', 'auditory', 'system', 'of', 'a', 'person', 'without', 'autism', 'often', 'cannot', 'sense', 'the', 'fluctuations', 'what', 'seems_to', 'non_autistic', 'people', 'like', 'a', 'high_pitched', 'sing', 'song', 'or', 'flat', 'robot', 'like', 'voice', 'is', 'common', 'in', 'autistic_children', 'some', 'autistic_children', 'with', 'relatively_good', 'language', 'skills', 'speak', 'like', 'little', 'adults', 'rather_than', 'communicating', 'at', 'their', 'current', 'age', 'level', 'which', 'is', 'one', 'of', 'the', 'things', 'that', 'can_lead_to', 'problems', 'since', 'non_autistic', 'people', 'are', 'often', 'unfamiliar_with', 'the', 'autistic', 'body', 'language', 'and', 'since', 'autistic', 'natural_language', 'may_not', 'tend_towards', 'speech', 'autistic_people', 'often', 'struggle', 'to', 'let', 'other', 'people', 'know_what', 'they', 'need', 'as', 'anybody', 'might', 'do', 'in', 'such', 'a', 'situation', 'they', 'may', 'scream', 'in', 'frustration', 'or', 'resort', 'to', 'grabbing', 'what_they_want', 'while_waiting_for', 'non_autistic', 'people', 'to', 'learn', 'to', 'communicate_with', 'them', 'people', 'with', 'autism', 'do_whatever', 'they', 'can', 'to', 'get', 'through', 'to', 'them', 'communication', 'difficulties', 'may_contribute', 'to', 'autistic_people', 'becoming', 'socially', 'anxious', 'or', 'depressed', 'repetitive', 'behaviors', 'although', 'people', 'with', 'autism', 'usually', 'appear', 'physically', 'normal', 'and', 'have', 'good', 'muscle', 'control', 'unusual', 'repetitive', 'motions', 'known_as', 'self', 'stimulation', 'or', 'stimming', 'may', 'set', 'them', 'apart', 'these', 'behaviors', 'might_be', 'extreme', 'and', 'highly', 'apparent', 'or', 'more_subtle', 'some', 'children', 'and', 'older', 'individuals', 'spend_a_lot', 'of', 'time', 'repeatedly', 'flapping', 'their', 'arms', 'or', 'wiggling', 'their', 'toes', 'others', 'suddenly', 'freeze', 'in', 'position', 'as', 'children', 'they', 'might', 'spend_hours', 'lining_up', 'their', 'cars', 'and', 'trains', 'in', 'a', 'certain', 'way', 'not', 'using', 'them', 'for', 'pretend', 'play', 'if_someone', 'accidentally', 'moves', 'one', 'of', 'these', 'toys', 'the', 'child', 'may_be', 'tremendously', 'upset', 'autistic_children', 'often', 'need', 'and', 'demand', 'absolute', 'consistency', 'in', 'their', 'environment', 'a', 'slight', 'change', 'in', 'any', 'routine', 'in', 'mealtimes', 'dressing', 'taking', 'a', 'bath', 'or', 'going', 'to', 'school', 'at', 'a', 'certain', 'time', 'and', 'by', 'the', 'same', 'route', 'can_be', 'extremely', 'disturbing', 'people', 'with', 'autism', 'sometimes', 'have', 'a', 'persistent', 'intense', 'preoccupation', 'for_example', 'the', 'child', 'might_be', 'obsessed_with', 'learning', 'all', 'about', 'vacuum_cleaners', 'train', 'schedules', 'or', 'lighthouses', 'often', 'they', 'show', 'great_interest', 'in', 'different_languages', 'numbers', 'symbols', 'or', 'science', 'topics', 'repetitive', 'behaviors', 'can_also', 'extend', 'into', 'the', 'spoken_word', 'as_well', 'perseveration', 'of', 'a', 'single', 'word', 'or', 'phrase', 'even', 'for', 'a', 'specific', 'number', 'of', 'times', 'can_also', 'become', 'a', 'part', 'of', 'the', 'child', 's', 'daily_routine', 'effects', 'in', 'education', 'children', 'with', 'autism', 'are', 'affected', 'with', 'these', 'symptoms', 'every_day', 'these', 'unusual', 'characteristics', 'set', 'them', 'apart_from', 'the', 'everyday', 'normal', 'student', 'because_they_have', 'trouble_understanding', 'people', 's', 'thoughts', 'and', 'feelings', 'they', 'have', 'trouble_understanding', 'what', 'their', 'teacher', 'may_be', 'telling_them', 'they_do_not', 'understand', 'that', 'facial_expressions', 'and', 'vocal', 'variations', 'hold', 'meanings', 'and', 'may', 'misinterpret', 'what', 'emotion', 'their', 'instructor', 'is', 'displaying', 'this', 'inability_to', 'fully', 'decipher', 'the', 'world', 'around', 'them', 'makes', 'education', 'stressful', 'teachers', 'need', 'to_be', 'aware', 'of', 'a', 'student', 's', 'disorder', 'so', 'that', 'they_are', 'able_to', 'help', 'the', 'student', 'get', 'the', 'best', 'out', 'of', 'the', 'lessons', 'being', 'taught', 'some', 'students', 'learn', 'better', 'with', 'visual', 'aids', 'as', 'they_are', 'better_able_to', 'understand', 'material', 'presented', 'this', 'way', 'because', 'of', 'this', 'many', 'teachers', 'create', 'visual', 'schedules', 'for', 'their', 'autistic', 'students', 'this_allows', 'the', 'student', 'to', 'know_what', 'is', 'going', 'on', 'throughout', 'the', 'day', 'so', 'they', 'know_what', 'to_prepare', 'for', 'and', 'what', 'activity', 'they', 'will_be', 'doing', 'next', 'some', 'autistic_children', 'have', 'trouble', 'going', 'from', 'one', 'activity', 'to', 'the', 'next', 'so', 'this', 'visual', 'schedule', 'can_help', 'to_reduce', 'stress', 'research', 'has_shown', 'that', 'working', 'in', 'pairs', 'may_be', 'beneficial', 'to', 'autistic_children', 'autistic', 'students', 'have', 'problems', 'in', 'schools', 'not_only', 'with', 'language', 'and', 'communication', 'but', 'with', 'socialization', 'as_well', 'they_feel', 'self_conscious', 'about', 'themselves', 'and', 'many', 'feel_that', 'they', 'will_always_be', 'outcasts', 'by', 'allowing_them_to', 'work', 'with', 'peers', 'they', 'can_make', 'friends', 'which', 'in', 'turn', 'can_help', 'them', 'cope_with', 'the', 'problems', 'that', 'arise', 'by', 'doing_so', 'they', 'can_become', 'more', 'integrated_into', 'the', 'mainstream', 'environment', 'of', 'the', 'classroom', 'a', 'teacher', 's', 'aide', 'can_also', 'be', 'useful', 'to', 'the', 'student', 'the', 'aide', 'is', 'able_to_give', 'more_elaborate', 'directions', 'that', 'the', 'teacher', 'may_not', 'have', 'time', 'to_explain', 'to', 'the', 'autistic_child', 'the', 'aide', 'can_also', 'facilitate', 'the', 'autistic_child', 'in', 'such', 'a', 'way', 'as', 'to', 'allow_them_to', 'stay', 'at', 'a', 'similar', 'level', 'to', 'the', 'rest', 'of', 'the', 'class', 'this_allows', 'a', 'partially', 'one', 'on', 'one', 'lesson', 'structure', 'so', 'that', 'the', 'child', 'is', 'still', 'able_to', 'stay', 'in', 'a', 'normal', 'classroom', 'but', 'be', 'given', 'the', 'extra', 'help', 'that', 'they', 'need', 'there_are_many', 'different', 'techniques', 'that', 'teachers', 'can', 'use', 'to_assist', 'their', 'students', 'a', 'teacher', 'needs', 'to', 'become_familiar', 'with', 'the', 'child', 's', 'disorder', 'to', 'know_what', 'will', 'work', 'best', 'with', 'that', 'particular', 'child', 'every', 'child', 'is', 'going', 'to_be', 'different', 'and', 'teachers', 'have', 'to', 'be_able_to', 'adjust', 'with', 'every', 'one', 'of', 'them', 'students', 'with', 'autism_spectrum', 'disorders', 'typically', 'have', 'high_levels', 'of', 'anxiety', 'and', 'stress', 'particularly', 'in', 'social', 'environments', 'like', 'school', 'if', 'a', 'student', 'exhibits', 'aggressive', 'or', 'explosive', 'behavior', 'it', 'is', 'important', 'for', 'educational', 'teams', 'to', 'recognize', 'the', 'impact', 'of', 'stress', 'and', 'anxiety', 'preparing', 'students', 'for', 'new', 'situations', 'by', 'writing', 'social', 'stories', 'can', 'lower', 'anxiety', 'teaching', 'social', 'and', 'emotional', 'concepts', 'using', 'systematic', 'teaching', 'approaches', 'such_as', 'the', 'incredible', 'five', 'point', 'scale', 'or', 'other', 'cognitive_behavioral', 'strategies', 'can', 'increase', 'a', 'student', 's', 'ability_to', 'control', 'excessive', 'behavioral', 'reactions', 'dsm', 'definition', 'autism', 'is', 'defined', 'in', 'section', 'two', 'nine', 'nine', 'zero', 'zero', 'of', 'the', 'diagnostic', 'and', 'statistical_manual', 'of', 'mental_disorders', 'dsm_iv', 'as', 'a', 'total', 'of', 'six', 'or', 'more', 'items', 'from', 'one', 'two', 'and', 'three', 'with', 'at_least', 'two', 'from', 'one', 'and', 'one', 'each', 'from', 'two', 'and', 'three', 'qualitative', 'impairment', 'in', 'social_interaction', 'as', 'manifested', 'by', 'at_least', 'two', 'of', 'the', 'following', 'marked_impairment', 'in', 'the', 'use', 'of', 'multiple', 'nonverbal', 'behaviors', 'such_as', 'eye', 'to', 'eye', 'gaze', 'facial_expression', 'body', 'postures', 'and', 'gestures', 'to', 'regulate', 'social_interaction', 'failure', 'to', 'develop', 'peer', 'relationships', 'appropriate', 'to', 'developmental', 'level', 'a', 'lack', 'of', 'spontaneous', 'seeking', 'to', 'share', 'enjoyment', 'interests', 'or', 'achievements', 'with', 'other', 'people', 'e_g', 'by', 'a', 'lack', 'of', 'showing', 'bringing', 'or', 'pointing_out', 'objects', 'of', 'interest', 'lack', 'of', 'social', 'or', 'emotional']\n"
          ],
          "name": "stdout"
        },
        {
          "output_type": "stream",
          "text": [
            "/usr/local/lib/python3.7/dist-packages/gensim/models/phrases.py:598: UserWarning: For a faster implementation, use the gensim.models.phrases.Phraser class\n",
            "  warnings.warn(\"For a faster implementation, use the gensim.models.phrases.Phraser class\")\n"
          ],
          "name": "stderr"
        }
      ]
    },
    {
      "cell_type": "markdown",
      "metadata": {
        "id": "_vtIScpPEbhV"
      },
      "source": [
        "## Create topic models with LDA"
      ]
    },
    {
      "cell_type": "code",
      "metadata": {
        "id": "PWfzxZcGBPQm"
      },
      "source": [
        "from gensim.models import LdaModel, LdaMulticore\r\n",
        "import gensim.downloader as api\r\n",
        "from gensim.utils import simple_preprocess, lemmatize\r\n",
        "from nltk.corpus import stopwords\r\n",
        "import re\r\n",
        "from nltk.stem import WordNetLemmatizer\r\n",
        "import logging\r\n",
        "logging.basicConfig(format='%(asctime)s : %(levelname)s : %(message)s')\r\n",
        "logging.root.setLevel(level=logging.INFO)\r\n",
        "stop_words = stopwords.words('english')\r\n",
        "stop_words = stop_words + ['com', 'edu', 'subject', 'lines', 'organization', 'would', 'article', 'could']"
      ],
      "execution_count": 73,
      "outputs": []
    },
    {
      "cell_type": "code",
      "metadata": {
        "id": "YNUbrAZ4Gaxc"
      },
      "source": [
        "#import the dataset\r\n",
        "dataset = api.load('text8')\r\n",
        "data = [d for d in dataset]"
      ],
      "execution_count": 67,
      "outputs": []
    },
    {
      "cell_type": "code",
      "metadata": {
        "colab": {
          "base_uri": "https://localhost:8080/"
        },
        "id": "9HZKl9MAGr4m",
        "outputId": "beff2841-ebc6-4d44-e15e-cebd6a21857f"
      },
      "source": [
        "# Step 2: Prepare Data (Remove stopwords and lemmatize)\r\n",
        "data_processed = []\r\n",
        "\r\n",
        "for i, doc in enumerate(data[:100]):\r\n",
        "    doc_out = []\r\n",
        "    for wd in doc:\r\n",
        "        if wd not in stop_words:  # remove stopwords\r\n",
        "            lemmatized_word = lemmatize(wd, allowed_tags=re.compile('(NN|JJ|RB)'))  # lemmatize\r\n",
        "            if lemmatized_word:\r\n",
        "                doc_out = doc_out + [lemmatized_word[0].split(b'/')[0].decode('utf-8')]\r\n",
        "        else:\r\n",
        "            continue\r\n",
        "    data_processed.append(doc_out)\r\n",
        "\r\n",
        "# Print a small sample    \r\n",
        "print(data_processed[0][:5]) \r\n",
        "#> ['anarchism', 'originated', 'term', 'abuse', 'first']"
      ],
      "execution_count": 80,
      "outputs": [
        {
          "output_type": "stream",
          "text": [
            "['anarchism', 'originated', 'term', 'abuse', 'first']\n"
          ],
          "name": "stdout"
        }
      ]
    },
    {
      "cell_type": "code",
      "metadata": {
        "colab": {
          "base_uri": "https://localhost:8080/"
        },
        "id": "Erv9tWAIH_2n",
        "outputId": "c9a91651-f439-4272-f96f-d2ed8cab93d9"
      },
      "source": [
        "#create input to the model i.e dictionary and corpus\r\n",
        "dct = corpora.Dictionary(data_processed)\r\n",
        "cps = [dct.doc2bow(line)for line in data_processed]"
      ],
      "execution_count": 81,
      "outputs": [
        {
          "output_type": "stream",
          "text": [
            "2021-03-15 09:29:55,183 : INFO : adding document #0 to Dictionary(0 unique tokens: [])\n",
            "2021-03-15 09:29:55,544 : INFO : built Dictionary(40074 unique tokens: ['ability', 'able', 'abnormal', 'abolition', 'absence']...) from 100 documents (total 425549 corpus positions)\n"
          ],
          "name": "stderr"
        }
      ]
    },
    {
      "cell_type": "code",
      "metadata": {
        "colab": {
          "base_uri": "https://localhost:8080/"
        },
        "id": "Xj4LlTSuOHBL",
        "outputId": "b30397c2-564e-4feb-c91a-24acc7d16363"
      },
      "source": [
        "#train the model\r\n",
        "lda_model = LdaMulticore(corpus=cps, num_topics= 7, id2word=dct, passes=10, random_state=100,\r\n",
        "                         chunksize=1000,\r\n",
        "                         batch=False,\r\n",
        "                         alpha='asymmetric',\r\n",
        "                         decay=0.5,\r\n",
        "                         offset=64,\r\n",
        "                         eta=None,\r\n",
        "                         eval_every=0,\r\n",
        "                         iterations=100,\r\n",
        "                         gamma_threshold=0.001,\r\n",
        "                         per_word_topics=True)"
      ],
      "execution_count": 83,
      "outputs": [
        {
          "output_type": "stream",
          "text": [
            "2021-03-15 09:32:08,740 : INFO : using asymmetric alpha [0.26219156, 0.19027454, 0.14931786, 0.12287004, 0.104381524, 0.090729296, 0.080235206]\n",
            "2021-03-15 09:32:08,742 : INFO : using symmetric eta at 0.14285714285714285\n",
            "2021-03-15 09:32:08,753 : INFO : using serial LDA version on this node\n",
            "2021-03-15 09:32:08,796 : INFO : running online LDA training, 7 topics, 10 passes over the supplied corpus of 100 documents, updating every 1000 documents, evaluating every ~0 documents, iterating 100x with a convergence threshold of 0.001000\n",
            "2021-03-15 09:32:08,798 : INFO : training LDA model using 1 processes\n",
            "2021-03-15 09:32:08,843 : INFO : PROGRESS: pass 0, dispatched chunk #0 = documents up to #100/100, outstanding queue size 1\n",
            "2021-03-15 09:32:10,458 : INFO : topic #6 (0.080): 0.001*\"also\" + 0.001*\"american\" + 0.001*\"state\" + 0.001*\"person\" + 0.001*\"time\" + 0.001*\"world\" + 0.001*\"year\" + 0.001*\"war\" + 0.001*\"many\" + 0.001*\"first\"\n",
            "2021-03-15 09:32:10,460 : INFO : topic #5 (0.091): 0.001*\"also\" + 0.001*\"first\" + 0.001*\"american\" + 0.001*\"state\" + 0.001*\"many\" + 0.000*\"year\" + 0.000*\"war\" + 0.000*\"time\" + 0.000*\"person\" + 0.000*\"new\"\n",
            "2021-03-15 09:32:10,467 : INFO : topic #2 (0.149): 0.001*\"also\" + 0.001*\"first\" + 0.001*\"american\" + 0.001*\"time\" + 0.001*\"year\" + 0.001*\"state\" + 0.001*\"many\" + 0.001*\"number\" + 0.001*\"new\" + 0.001*\"world\"\n",
            "2021-03-15 09:32:10,470 : INFO : topic #1 (0.190): 0.001*\"also\" + 0.001*\"state\" + 0.001*\"first\" + 0.001*\"american\" + 0.001*\"many\" + 0.000*\"war\" + 0.000*\"time\" + 0.000*\"year\" + 0.000*\"system\" + 0.000*\"new\"\n",
            "2021-03-15 09:32:10,473 : INFO : topic #0 (0.262): 0.001*\"also\" + 0.001*\"first\" + 0.000*\"state\" + 0.000*\"american\" + 0.000*\"time\" + 0.000*\"year\" + 0.000*\"book\" + 0.000*\"many\" + 0.000*\"person\" + 0.000*\"new\"\n",
            "2021-03-15 09:32:10,476 : INFO : topic diff=0.180403, rho=0.125000\n",
            "2021-03-15 09:32:12,147 : INFO : -10.354 per-word bound, 1308.8 perplexity estimate based on a held-out corpus of 100 documents with 425549 words\n",
            "2021-03-15 09:32:12,149 : INFO : PROGRESS: pass 1, dispatched chunk #0 = documents up to #100/100, outstanding queue size 1\n",
            "2021-03-15 09:32:13,576 : INFO : topic #6 (0.080): 0.003*\"also\" + 0.002*\"state\" + 0.002*\"american\" + 0.002*\"time\" + 0.002*\"person\" + 0.002*\"many\" + 0.001*\"world\" + 0.001*\"first\" + 0.001*\"war\" + 0.001*\"history\"\n",
            "2021-03-15 09:32:13,578 : INFO : topic #5 (0.091): 0.001*\"also\" + 0.001*\"abortion\" + 0.001*\"first\" + 0.001*\"american\" + 0.001*\"state\" + 0.001*\"many\" + 0.000*\"year\" + 0.000*\"time\" + 0.000*\"war\" + 0.000*\"person\"\n",
            "2021-03-15 09:32:13,580 : INFO : topic #2 (0.149): 0.003*\"also\" + 0.003*\"american\" + 0.002*\"first\" + 0.002*\"state\" + 0.002*\"year\" + 0.002*\"time\" + 0.002*\"many\" + 0.002*\"new\" + 0.001*\"war\" + 0.001*\"world\"\n",
            "2021-03-15 09:32:13,582 : INFO : topic #1 (0.190): 0.001*\"also\" + 0.001*\"state\" + 0.001*\"first\" + 0.001*\"many\" + 0.001*\"american\" + 0.000*\"war\" + 0.000*\"time\" + 0.000*\"year\" + 0.000*\"ammonia\" + 0.000*\"name\"\n",
            "2021-03-15 09:32:13,586 : INFO : topic #0 (0.262): 0.001*\"also\" + 0.001*\"first\" + 0.000*\"state\" + 0.000*\"american\" + 0.000*\"time\" + 0.000*\"book\" + 0.000*\"year\" + 0.000*\"many\" + 0.000*\"person\" + 0.000*\"new\"\n",
            "2021-03-15 09:32:13,589 : INFO : topic diff=0.156076, rho=0.123939\n",
            "2021-03-15 09:32:15,152 : INFO : -9.746 per-word bound, 858.4 perplexity estimate based on a held-out corpus of 100 documents with 425549 words\n",
            "2021-03-15 09:32:15,161 : INFO : PROGRESS: pass 2, dispatched chunk #0 = documents up to #100/100, outstanding queue size 1\n",
            "2021-03-15 09:32:16,334 : INFO : topic #6 (0.080): 0.003*\"also\" + 0.002*\"state\" + 0.002*\"time\" + 0.002*\"american\" + 0.002*\"first\" + 0.002*\"person\" + 0.002*\"many\" + 0.002*\"world\" + 0.002*\"language\" + 0.002*\"history\"\n",
            "2021-03-15 09:32:16,345 : INFO : topic #5 (0.091): 0.001*\"also\" + 0.001*\"abortion\" + 0.001*\"first\" + 0.001*\"american\" + 0.001*\"state\" + 0.001*\"many\" + 0.000*\"year\" + 0.000*\"time\" + 0.000*\"war\" + 0.000*\"person\"\n",
            "2021-03-15 09:32:16,351 : INFO : topic #2 (0.149): 0.004*\"also\" + 0.003*\"american\" + 0.003*\"state\" + 0.003*\"first\" + 0.003*\"year\" + 0.002*\"time\" + 0.002*\"many\" + 0.002*\"new\" + 0.002*\"war\" + 0.002*\"person\"\n",
            "2021-03-15 09:32:16,357 : INFO : topic #1 (0.190): 0.001*\"also\" + 0.001*\"state\" + 0.001*\"first\" + 0.001*\"ammonia\" + 0.001*\"many\" + 0.001*\"american\" + 0.000*\"war\" + 0.000*\"time\" + 0.000*\"year\" + 0.000*\"name\"\n",
            "2021-03-15 09:32:16,362 : INFO : topic #0 (0.262): 0.001*\"also\" + 0.001*\"first\" + 0.000*\"state\" + 0.000*\"american\" + 0.000*\"time\" + 0.000*\"book\" + 0.000*\"year\" + 0.000*\"many\" + 0.000*\"person\" + 0.000*\"new\"\n",
            "2021-03-15 09:32:16,369 : INFO : topic diff=0.121607, rho=0.122998\n",
            "2021-03-15 09:32:17,892 : INFO : PROGRESS: pass 3, dispatched chunk #0 = documents up to #100/100, outstanding queue size 1\n",
            "2021-03-15 09:32:18,991 : INFO : topic #6 (0.080): 0.004*\"also\" + 0.002*\"time\" + 0.002*\"first\" + 0.002*\"state\" + 0.002*\"american\" + 0.002*\"person\" + 0.002*\"many\" + 0.002*\"world\" + 0.002*\"language\" + 0.002*\"apollo\"\n",
            "2021-03-15 09:32:18,993 : INFO : topic #5 (0.091): 0.001*\"also\" + 0.001*\"abortion\" + 0.001*\"first\" + 0.001*\"american\" + 0.001*\"state\" + 0.001*\"many\" + 0.000*\"year\" + 0.000*\"time\" + 0.000*\"war\" + 0.000*\"person\"\n",
            "2021-03-15 09:32:18,996 : INFO : topic #2 (0.149): 0.005*\"also\" + 0.004*\"american\" + 0.003*\"state\" + 0.003*\"first\" + 0.003*\"year\" + 0.003*\"time\" + 0.003*\"many\" + 0.002*\"new\" + 0.002*\"war\" + 0.002*\"person\"\n",
            "2021-03-15 09:32:18,999 : INFO : topic #1 (0.190): 0.001*\"also\" + 0.001*\"state\" + 0.001*\"ammonia\" + 0.001*\"first\" + 0.001*\"many\" + 0.001*\"american\" + 0.000*\"war\" + 0.000*\"time\" + 0.000*\"year\" + 0.000*\"name\"\n",
            "2021-03-15 09:32:19,002 : INFO : topic #0 (0.262): 0.001*\"also\" + 0.001*\"first\" + 0.000*\"state\" + 0.000*\"american\" + 0.000*\"time\" + 0.000*\"book\" + 0.000*\"year\" + 0.000*\"many\" + 0.000*\"person\" + 0.000*\"new\"\n",
            "2021-03-15 09:32:19,004 : INFO : topic diff=0.111788, rho=0.122078\n",
            "2021-03-15 09:32:20,481 : INFO : -9.451 per-word bound, 699.7 perplexity estimate based on a held-out corpus of 100 documents with 425549 words\n",
            "2021-03-15 09:32:20,482 : INFO : PROGRESS: pass 4, dispatched chunk #0 = documents up to #100/100, outstanding queue size 1\n",
            "2021-03-15 09:32:21,507 : INFO : topic #6 (0.080): 0.004*\"also\" + 0.003*\"first\" + 0.003*\"time\" + 0.003*\"state\" + 0.002*\"many\" + 0.002*\"american\" + 0.002*\"person\" + 0.002*\"world\" + 0.002*\"language\" + 0.002*\"apollo\"\n",
            "2021-03-15 09:32:21,513 : INFO : topic #5 (0.091): 0.001*\"also\" + 0.001*\"abortion\" + 0.001*\"first\" + 0.001*\"american\" + 0.001*\"state\" + 0.001*\"many\" + 0.000*\"year\" + 0.000*\"time\" + 0.000*\"war\" + 0.000*\"person\"\n",
            "2021-03-15 09:32:21,519 : INFO : topic #2 (0.149): 0.005*\"also\" + 0.004*\"american\" + 0.004*\"state\" + 0.003*\"first\" + 0.003*\"year\" + 0.003*\"many\" + 0.003*\"time\" + 0.002*\"new\" + 0.002*\"war\" + 0.002*\"person\"\n",
            "2021-03-15 09:32:21,525 : INFO : topic #1 (0.190): 0.001*\"also\" + 0.001*\"state\" + 0.001*\"ammonia\" + 0.001*\"first\" + 0.001*\"many\" + 0.001*\"american\" + 0.000*\"war\" + 0.000*\"time\" + 0.000*\"year\" + 0.000*\"name\"\n",
            "2021-03-15 09:32:21,531 : INFO : topic #0 (0.262): 0.001*\"also\" + 0.001*\"first\" + 0.000*\"state\" + 0.000*\"american\" + 0.000*\"time\" + 0.000*\"book\" + 0.000*\"year\" + 0.000*\"many\" + 0.000*\"person\" + 0.000*\"new\"\n",
            "2021-03-15 09:32:21,537 : INFO : topic diff=0.110059, rho=0.121179\n",
            "2021-03-15 09:32:23,013 : INFO : -9.380 per-word bound, 666.5 perplexity estimate based on a held-out corpus of 100 documents with 425549 words\n",
            "2021-03-15 09:32:23,015 : INFO : PROGRESS: pass 5, dispatched chunk #0 = documents up to #100/100, outstanding queue size 1\n",
            "2021-03-15 09:32:24,088 : INFO : topic #6 (0.080): 0.004*\"also\" + 0.003*\"first\" + 0.003*\"time\" + 0.003*\"state\" + 0.003*\"many\" + 0.003*\"american\" + 0.003*\"person\" + 0.003*\"world\" + 0.002*\"apollo\" + 0.002*\"language\"\n",
            "2021-03-15 09:32:24,091 : INFO : topic #5 (0.091): 0.001*\"also\" + 0.001*\"abortion\" + 0.001*\"first\" + 0.001*\"american\" + 0.000*\"state\" + 0.000*\"many\" + 0.000*\"year\" + 0.000*\"time\" + 0.000*\"war\" + 0.000*\"person\"\n",
            "2021-03-15 09:32:24,093 : INFO : topic #2 (0.149): 0.005*\"also\" + 0.004*\"american\" + 0.004*\"state\" + 0.004*\"first\" + 0.003*\"year\" + 0.003*\"many\" + 0.003*\"time\" + 0.002*\"new\" + 0.002*\"war\" + 0.002*\"person\"\n",
            "2021-03-15 09:32:24,095 : INFO : topic #1 (0.190): 0.001*\"also\" + 0.001*\"state\" + 0.001*\"ammonia\" + 0.001*\"first\" + 0.001*\"many\" + 0.000*\"american\" + 0.000*\"war\" + 0.000*\"time\" + 0.000*\"year\" + 0.000*\"name\"\n",
            "2021-03-15 09:32:24,097 : INFO : topic #0 (0.262): 0.001*\"also\" + 0.001*\"first\" + 0.000*\"state\" + 0.000*\"american\" + 0.000*\"time\" + 0.000*\"book\" + 0.000*\"year\" + 0.000*\"many\" + 0.000*\"person\" + 0.000*\"new\"\n",
            "2021-03-15 09:32:24,099 : INFO : topic diff=0.111581, rho=0.120299\n",
            "2021-03-15 09:32:25,561 : INFO : -9.326 per-word bound, 641.8 perplexity estimate based on a held-out corpus of 100 documents with 425549 words\n",
            "2021-03-15 09:32:25,562 : INFO : PROGRESS: pass 6, dispatched chunk #0 = documents up to #100/100, outstanding queue size 1\n",
            "2021-03-15 09:32:26,613 : INFO : topic #6 (0.080): 0.005*\"also\" + 0.003*\"first\" + 0.003*\"time\" + 0.003*\"many\" + 0.003*\"state\" + 0.003*\"american\" + 0.003*\"person\" + 0.003*\"world\" + 0.002*\"apollo\" + 0.002*\"language\"\n",
            "2021-03-15 09:32:26,620 : INFO : topic #5 (0.091): 0.001*\"also\" + 0.001*\"abortion\" + 0.001*\"first\" + 0.001*\"american\" + 0.000*\"state\" + 0.000*\"many\" + 0.000*\"year\" + 0.000*\"time\" + 0.000*\"war\" + 0.000*\"person\"\n",
            "2021-03-15 09:32:26,626 : INFO : topic #2 (0.149): 0.005*\"also\" + 0.004*\"american\" + 0.004*\"state\" + 0.004*\"first\" + 0.003*\"year\" + 0.003*\"many\" + 0.003*\"time\" + 0.003*\"new\" + 0.002*\"war\" + 0.002*\"person\"\n",
            "2021-03-15 09:32:26,633 : INFO : topic #1 (0.190): 0.001*\"also\" + 0.001*\"state\" + 0.001*\"ammonia\" + 0.001*\"first\" + 0.000*\"many\" + 0.000*\"american\" + 0.000*\"war\" + 0.000*\"time\" + 0.000*\"year\" + 0.000*\"name\"\n",
            "2021-03-15 09:32:26,639 : INFO : topic #0 (0.262): 0.001*\"also\" + 0.001*\"first\" + 0.000*\"state\" + 0.000*\"american\" + 0.000*\"time\" + 0.000*\"book\" + 0.000*\"year\" + 0.000*\"many\" + 0.000*\"person\" + 0.000*\"new\"\n",
            "2021-03-15 09:32:26,645 : INFO : topic diff=0.114682, rho=0.119438\n",
            "2021-03-15 09:32:28,205 : INFO : -9.281 per-word bound, 622.1 perplexity estimate based on a held-out corpus of 100 documents with 425549 words\n",
            "2021-03-15 09:32:28,207 : INFO : PROGRESS: pass 7, dispatched chunk #0 = documents up to #100/100, outstanding queue size 1\n",
            "2021-03-15 09:32:29,190 : INFO : topic #6 (0.080): 0.005*\"also\" + 0.003*\"first\" + 0.003*\"time\" + 0.003*\"many\" + 0.003*\"state\" + 0.003*\"american\" + 0.003*\"person\" + 0.003*\"world\" + 0.003*\"apollo\" + 0.003*\"language\"\n",
            "2021-03-15 09:32:29,195 : INFO : topic #5 (0.091): 0.001*\"also\" + 0.001*\"abortion\" + 0.001*\"first\" + 0.001*\"american\" + 0.000*\"state\" + 0.000*\"many\" + 0.000*\"year\" + 0.000*\"time\" + 0.000*\"war\" + 0.000*\"person\"\n",
            "2021-03-15 09:32:29,200 : INFO : topic #2 (0.149): 0.005*\"also\" + 0.004*\"american\" + 0.004*\"state\" + 0.004*\"first\" + 0.003*\"year\" + 0.003*\"many\" + 0.003*\"time\" + 0.003*\"new\" + 0.003*\"war\" + 0.002*\"person\"\n",
            "2021-03-15 09:32:29,206 : INFO : topic #1 (0.190): 0.001*\"also\" + 0.001*\"state\" + 0.001*\"ammonia\" + 0.001*\"first\" + 0.000*\"many\" + 0.000*\"american\" + 0.000*\"war\" + 0.000*\"time\" + 0.000*\"year\" + 0.000*\"name\"\n",
            "2021-03-15 09:32:29,210 : INFO : topic #0 (0.262): 0.001*\"also\" + 0.001*\"first\" + 0.000*\"state\" + 0.000*\"american\" + 0.000*\"time\" + 0.000*\"book\" + 0.000*\"year\" + 0.000*\"many\" + 0.000*\"person\" + 0.000*\"new\"\n",
            "2021-03-15 09:32:29,215 : INFO : topic diff=0.118597, rho=0.118595\n",
            "2021-03-15 09:32:30,669 : INFO : -9.242 per-word bound, 605.6 perplexity estimate based on a held-out corpus of 100 documents with 425549 words\n",
            "2021-03-15 09:32:30,673 : INFO : PROGRESS: pass 8, dispatched chunk #0 = documents up to #100/100, outstanding queue size 1\n",
            "2021-03-15 09:32:31,769 : INFO : topic #6 (0.080): 0.005*\"also\" + 0.004*\"first\" + 0.003*\"time\" + 0.003*\"many\" + 0.003*\"state\" + 0.003*\"american\" + 0.003*\"world\" + 0.003*\"person\" + 0.003*\"apollo\" + 0.003*\"language\"\n",
            "2021-03-15 09:32:31,771 : INFO : topic #5 (0.091): 0.001*\"also\" + 0.001*\"abortion\" + 0.001*\"first\" + 0.001*\"american\" + 0.000*\"state\" + 0.000*\"many\" + 0.000*\"year\" + 0.000*\"time\" + 0.000*\"war\" + 0.000*\"person\"\n",
            "2021-03-15 09:32:31,776 : INFO : topic #2 (0.149): 0.005*\"also\" + 0.004*\"american\" + 0.004*\"state\" + 0.004*\"first\" + 0.003*\"year\" + 0.003*\"many\" + 0.003*\"time\" + 0.003*\"new\" + 0.003*\"war\" + 0.003*\"person\"\n",
            "2021-03-15 09:32:31,779 : INFO : topic #1 (0.190): 0.001*\"also\" + 0.001*\"state\" + 0.001*\"ammonia\" + 0.001*\"first\" + 0.000*\"many\" + 0.000*\"american\" + 0.000*\"war\" + 0.000*\"time\" + 0.000*\"year\" + 0.000*\"name\"\n",
            "2021-03-15 09:32:31,782 : INFO : topic #0 (0.262): 0.001*\"also\" + 0.000*\"first\" + 0.000*\"state\" + 0.000*\"american\" + 0.000*\"time\" + 0.000*\"book\" + 0.000*\"year\" + 0.000*\"many\" + 0.000*\"person\" + 0.000*\"new\"\n",
            "2021-03-15 09:32:31,785 : INFO : topic diff=0.122891, rho=0.117769\n",
            "2021-03-15 09:32:33,265 : INFO : -9.208 per-word bound, 591.4 perplexity estimate based on a held-out corpus of 100 documents with 425549 words\n",
            "2021-03-15 09:32:33,267 : INFO : PROGRESS: pass 9, dispatched chunk #0 = documents up to #100/100, outstanding queue size 1\n",
            "2021-03-15 09:32:34,299 : INFO : topic #6 (0.080): 0.005*\"also\" + 0.004*\"first\" + 0.003*\"time\" + 0.003*\"many\" + 0.003*\"state\" + 0.003*\"world\" + 0.003*\"american\" + 0.003*\"person\" + 0.003*\"apollo\" + 0.003*\"language\"\n",
            "2021-03-15 09:32:34,301 : INFO : topic #5 (0.091): 0.001*\"also\" + 0.001*\"abortion\" + 0.001*\"first\" + 0.001*\"american\" + 0.000*\"state\" + 0.000*\"many\" + 0.000*\"year\" + 0.000*\"time\" + 0.000*\"war\" + 0.000*\"person\"\n",
            "2021-03-15 09:32:34,306 : INFO : topic #2 (0.149): 0.005*\"also\" + 0.004*\"american\" + 0.004*\"state\" + 0.004*\"first\" + 0.003*\"year\" + 0.003*\"many\" + 0.003*\"time\" + 0.003*\"new\" + 0.003*\"war\" + 0.003*\"person\"\n",
            "2021-03-15 09:32:34,309 : INFO : topic #1 (0.190): 0.001*\"also\" + 0.001*\"state\" + 0.001*\"ammonia\" + 0.000*\"first\" + 0.000*\"many\" + 0.000*\"american\" + 0.000*\"war\" + 0.000*\"time\" + 0.000*\"year\" + 0.000*\"name\"\n",
            "2021-03-15 09:32:34,312 : INFO : topic #0 (0.262): 0.001*\"also\" + 0.000*\"first\" + 0.000*\"state\" + 0.000*\"american\" + 0.000*\"time\" + 0.000*\"book\" + 0.000*\"year\" + 0.000*\"many\" + 0.000*\"person\" + 0.000*\"new\"\n",
            "2021-03-15 09:32:34,318 : INFO : topic diff=0.127224, rho=0.116961\n",
            "2021-03-15 09:32:35,805 : INFO : -9.178 per-word bound, 579.1 perplexity estimate based on a held-out corpus of 100 documents with 425549 words\n"
          ],
          "name": "stderr"
        }
      ]
    },
    {
      "cell_type": "code",
      "metadata": {
        "colab": {
          "base_uri": "https://localhost:8080/"
        },
        "id": "iuSH682HOmE8",
        "outputId": "108e5591-a744-453a-b628-aaa2efbbc7f9"
      },
      "source": [
        "#save the model\r\n",
        "lda_model.save('lda_model.model')"
      ],
      "execution_count": 84,
      "outputs": [
        {
          "output_type": "stream",
          "text": [
            "2021-03-15 09:33:12,637 : INFO : saving LdaState object under lda_model.model.state, separately None\n",
            "2021-03-15 09:33:12,651 : INFO : saved lda_model.model.state\n",
            "2021-03-15 09:33:12,676 : INFO : saving LdaMulticore object under lda_model.model, separately ['expElogbeta', 'sstats']\n",
            "2021-03-15 09:33:12,677 : INFO : storing np array 'expElogbeta' to lda_model.model.expElogbeta.npy\n",
            "2021-03-15 09:33:12,680 : INFO : not storing attribute dispatcher\n",
            "2021-03-15 09:33:12,681 : INFO : not storing attribute state\n",
            "2021-03-15 09:33:12,682 : INFO : not storing attribute id2word\n",
            "2021-03-15 09:33:12,684 : INFO : saved lda_model.model\n"
          ],
          "name": "stderr"
        }
      ]
    },
    {
      "cell_type": "code",
      "metadata": {
        "colab": {
          "base_uri": "https://localhost:8080/"
        },
        "id": "0NhsvO40O3A0",
        "outputId": "bee21813-8be4-4ce8-e982-e7a9ade3f9ed"
      },
      "source": [
        "lda_model.print_topics(-1)"
      ],
      "execution_count": 85,
      "outputs": [
        {
          "output_type": "stream",
          "text": [
            "2021-03-15 09:33:22,404 : INFO : topic #0 (0.262): 0.001*\"also\" + 0.000*\"first\" + 0.000*\"state\" + 0.000*\"american\" + 0.000*\"time\" + 0.000*\"book\" + 0.000*\"year\" + 0.000*\"many\" + 0.000*\"person\" + 0.000*\"new\"\n",
            "2021-03-15 09:33:22,410 : INFO : topic #1 (0.190): 0.001*\"also\" + 0.001*\"state\" + 0.001*\"ammonia\" + 0.000*\"first\" + 0.000*\"many\" + 0.000*\"american\" + 0.000*\"war\" + 0.000*\"time\" + 0.000*\"year\" + 0.000*\"name\"\n",
            "2021-03-15 09:33:22,415 : INFO : topic #2 (0.149): 0.005*\"also\" + 0.004*\"american\" + 0.004*\"state\" + 0.004*\"first\" + 0.003*\"year\" + 0.003*\"many\" + 0.003*\"time\" + 0.003*\"new\" + 0.003*\"war\" + 0.003*\"person\"\n",
            "2021-03-15 09:33:22,419 : INFO : topic #3 (0.123): 0.001*\"atheism\" + 0.001*\"also\" + 0.001*\"first\" + 0.001*\"atheist\" + 0.001*\"american\" + 0.000*\"god\" + 0.000*\"state\" + 0.000*\"many\" + 0.000*\"new\" + 0.000*\"year\"\n",
            "2021-03-15 09:33:22,422 : INFO : topic #4 (0.104): 0.001*\"state\" + 0.001*\"also\" + 0.001*\"many\" + 0.000*\"world\" + 0.000*\"agave\" + 0.000*\"time\" + 0.000*\"new\" + 0.000*\"war\" + 0.000*\"god\" + 0.000*\"person\"\n",
            "2021-03-15 09:33:22,425 : INFO : topic #5 (0.091): 0.001*\"also\" + 0.001*\"abortion\" + 0.001*\"first\" + 0.001*\"american\" + 0.000*\"state\" + 0.000*\"many\" + 0.000*\"year\" + 0.000*\"time\" + 0.000*\"war\" + 0.000*\"person\"\n",
            "2021-03-15 09:33:22,428 : INFO : topic #6 (0.080): 0.005*\"also\" + 0.004*\"first\" + 0.003*\"time\" + 0.003*\"many\" + 0.003*\"state\" + 0.003*\"world\" + 0.003*\"american\" + 0.003*\"person\" + 0.003*\"apollo\" + 0.003*\"language\"\n"
          ],
          "name": "stderr"
        },
        {
          "output_type": "execute_result",
          "data": {
            "text/plain": [
              "[(0,\n",
              "  '0.001*\"also\" + 0.000*\"first\" + 0.000*\"state\" + 0.000*\"american\" + 0.000*\"time\" + 0.000*\"book\" + 0.000*\"year\" + 0.000*\"many\" + 0.000*\"person\" + 0.000*\"new\"'),\n",
              " (1,\n",
              "  '0.001*\"also\" + 0.001*\"state\" + 0.001*\"ammonia\" + 0.000*\"first\" + 0.000*\"many\" + 0.000*\"american\" + 0.000*\"war\" + 0.000*\"time\" + 0.000*\"year\" + 0.000*\"name\"'),\n",
              " (2,\n",
              "  '0.005*\"also\" + 0.004*\"american\" + 0.004*\"state\" + 0.004*\"first\" + 0.003*\"year\" + 0.003*\"many\" + 0.003*\"time\" + 0.003*\"new\" + 0.003*\"war\" + 0.003*\"person\"'),\n",
              " (3,\n",
              "  '0.001*\"atheism\" + 0.001*\"also\" + 0.001*\"first\" + 0.001*\"atheist\" + 0.001*\"american\" + 0.000*\"god\" + 0.000*\"state\" + 0.000*\"many\" + 0.000*\"new\" + 0.000*\"year\"'),\n",
              " (4,\n",
              "  '0.001*\"state\" + 0.001*\"also\" + 0.001*\"many\" + 0.000*\"world\" + 0.000*\"agave\" + 0.000*\"time\" + 0.000*\"new\" + 0.000*\"war\" + 0.000*\"god\" + 0.000*\"person\"'),\n",
              " (5,\n",
              "  '0.001*\"also\" + 0.001*\"abortion\" + 0.001*\"first\" + 0.001*\"american\" + 0.000*\"state\" + 0.000*\"many\" + 0.000*\"year\" + 0.000*\"time\" + 0.000*\"war\" + 0.000*\"person\"'),\n",
              " (6,\n",
              "  '0.005*\"also\" + 0.004*\"first\" + 0.003*\"time\" + 0.003*\"many\" + 0.003*\"state\" + 0.003*\"world\" + 0.003*\"american\" + 0.003*\"person\" + 0.003*\"apollo\" + 0.003*\"language\"')]"
            ]
          },
          "metadata": {
            "tags": []
          },
          "execution_count": 85
        }
      ]
    },
    {
      "cell_type": "code",
      "metadata": {
        "colab": {
          "base_uri": "https://localhost:8080/"
        },
        "id": "5UTwopG1O5Ja",
        "outputId": "4d88a479-18d2-4a02-cfdf-4d8a7c22c780"
      },
      "source": [
        "data_processed[1]"
      ],
      "execution_count": 89,
      "outputs": [
        {
          "output_type": "execute_result",
          "data": {
            "text/plain": [
              "['reciprocity',\n",
              " 'qualitative',\n",
              " 'impairment',\n",
              " 'communication',\n",
              " 'least',\n",
              " 'delay',\n",
              " 'total',\n",
              " 'lack',\n",
              " 'development',\n",
              " 'language',\n",
              " 'attempt',\n",
              " 'alternative',\n",
              " 'mode',\n",
              " 'communication',\n",
              " 'gesture',\n",
              " 'mime',\n",
              " 'individual',\n",
              " 'adequate',\n",
              " 'speech',\n",
              " 'marked',\n",
              " 'impairment',\n",
              " 'ability',\n",
              " 'initiate',\n",
              " 'conversation',\n",
              " 'other',\n",
              " 'stereotyped',\n",
              " 'repetitive',\n",
              " 'use',\n",
              " 'language',\n",
              " 'idiosyncratic',\n",
              " 'language',\n",
              " 'lack',\n",
              " 'varied',\n",
              " 'spontaneous',\n",
              " 'play',\n",
              " 'social',\n",
              " 'imitative',\n",
              " 'play',\n",
              " 'appropriate',\n",
              " 'developmental',\n",
              " 'level',\n",
              " 'repetitive',\n",
              " 'stereotyped',\n",
              " 'pattern',\n",
              " 'behavior',\n",
              " 'interest',\n",
              " 'activity',\n",
              " 'least',\n",
              " 'preoccupation',\n",
              " 'stereotyped',\n",
              " 'pattern',\n",
              " 'interest',\n",
              " 'abnormal',\n",
              " 'intensity',\n",
              " 'focus',\n",
              " 'apparently',\n",
              " 'inflexible',\n",
              " 'adherence',\n",
              " 'specific',\n",
              " 'nonfunctional',\n",
              " 'routine',\n",
              " 'ritual',\n",
              " 'stereotyped',\n",
              " 'repetitive',\n",
              " 'motor',\n",
              " 'mannerism',\n",
              " 'hand',\n",
              " 'finger',\n",
              " 'complex',\n",
              " 'whole',\n",
              " 'body',\n",
              " 'movement',\n",
              " 'persistent',\n",
              " 'preoccupation',\n",
              " 'part',\n",
              " 'object',\n",
              " 'delay',\n",
              " 'abnormal',\n",
              " 'least',\n",
              " 'area',\n",
              " 'onset',\n",
              " 'prior',\n",
              " 'age',\n",
              " 'year',\n",
              " 'social',\n",
              " 'interaction',\n",
              " 'language',\n",
              " 'social',\n",
              " 'communication',\n",
              " 'symbolic',\n",
              " 'imaginative',\n",
              " 'play',\n",
              " 'disturbance',\n",
              " 'better',\n",
              " 'rett',\n",
              " 'disorder',\n",
              " 'childhood',\n",
              " 'disintegrative',\n",
              " 'disorder',\n",
              " 'diagnostic',\n",
              " 'statistical',\n",
              " 'manual',\n",
              " 'diagnostic',\n",
              " 'criterium',\n",
              " 'general',\n",
              " 'controversial',\n",
              " 'vague',\n",
              " 'subjective',\n",
              " 'dsm',\n",
              " 'cautionary',\n",
              " 'statement',\n",
              " 'criterium',\n",
              " 'autism',\n",
              " 'much',\n",
              " 'controversial',\n",
              " 'clinician',\n",
              " 'today',\n",
              " 'ignore',\n",
              " 'completely',\n",
              " 'instead',\n",
              " 'solely',\n",
              " 'method',\n",
              " 'diagnosis',\n",
              " 'type',\n",
              " 'autism',\n",
              " 'autism',\n",
              " 'present',\n",
              " 'wide',\n",
              " 'degree',\n",
              " 'nearly',\n",
              " 'dysfunctional',\n",
              " 'apparently',\n",
              " 'mentally',\n",
              " 'handicapped',\n",
              " 'symptom',\n",
              " 'mild',\n",
              " 'enough',\n",
              " 'unexceptional',\n",
              " 'normal',\n",
              " 'general',\n",
              " 'public',\n",
              " 'term',\n",
              " 'classification',\n",
              " 'therapy',\n",
              " 'autistic',\n",
              " 'individual',\n",
              " 'often',\n",
              " 'iq',\n",
              " 'high',\n",
              " 'autism',\n",
              " 'hfa',\n",
              " 'low',\n",
              " 'high',\n",
              " 'generally',\n",
              " 'well',\n",
              " 'individual',\n",
              " 'activity',\n",
              " 'daily',\n",
              " 'rather',\n",
              " 'iq',\n",
              " 'term',\n",
              " 'low',\n",
              " 'high',\n",
              " 'controversial',\n",
              " 'autistic',\n",
              " 'label',\n",
              " 'label',\n",
              " 'currently',\n",
              " 'autism',\n",
              " 'literature',\n",
              " 'discrepancy',\n",
              " 'confusion',\n",
              " 'service',\n",
              " 'provider',\n",
              " 'iq',\n",
              " 'high',\n",
              " 'iq',\n",
              " 'autistic',\n",
              " 'person',\n",
              " 'severely',\n",
              " 'ability',\n",
              " 'daily',\n",
              " 'task',\n",
              " 'intellectual',\n",
              " 'potential',\n",
              " 'many',\n",
              " 'autistic',\n",
              " 'person',\n",
              " 'lfa',\n",
              " 'example',\n",
              " 'professional',\n",
              " 'autistic',\n",
              " 'speak',\n",
              " 'autistic',\n",
              " 'still',\n",
              " 'autism',\n",
              " 'communication',\n",
              " 'disorder',\n",
              " 'severe',\n",
              " 'speech',\n",
              " 'writing',\n",
              " 'possible',\n",
              " 'consequence',\n",
              " 'many',\n",
              " 'high',\n",
              " 'autistic',\n",
              " 'person',\n",
              " 'autistic',\n",
              " 'person',\n",
              " 'relatively',\n",
              " 'high',\n",
              " 'iq',\n",
              " 'underdiagnosed',\n",
              " 'thus',\n",
              " 'claim',\n",
              " 'autism',\n",
              " 'retardation',\n",
              " 'self',\n",
              " 'number',\n",
              " 'person',\n",
              " 'diagnosed',\n",
              " 'lfa',\n",
              " 'quite',\n",
              " 'sharply',\n",
              " 'hfa',\n",
              " 'least',\n",
              " 'part',\n",
              " 'explanation',\n",
              " 'apparent',\n",
              " 'probably',\n",
              " 'better',\n",
              " 'diagnostic',\n",
              " 'asperger',\n",
              " 'kanner',\n",
              " 'syndrome',\n",
              " 'asperger',\n",
              " 'patient',\n",
              " 'little',\n",
              " 'professor',\n",
              " 'current',\n",
              " 'diagnostic',\n",
              " 'statistical',\n",
              " 'manual',\n",
              " 'mental',\n",
              " 'disorder',\n",
              " 'dsm',\n",
              " 'iv',\n",
              " 'tr',\n",
              " 'significant',\n",
              " 'difference',\n",
              " 'autistic',\n",
              " 'disorder',\n",
              " 'kanner',\n",
              " 'asperger',\n",
              " 'syndrome',\n",
              " 'diagnosis',\n",
              " 'former',\n",
              " 'observation',\n",
              " 'delay',\n",
              " 'abnormal',\n",
              " 'least',\n",
              " 'area',\n",
              " 'onset',\n",
              " 'prior',\n",
              " 'age',\n",
              " 'year',\n",
              " 'social',\n",
              " 'interaction',\n",
              " 'language',\n",
              " 'social',\n",
              " 'communication',\n",
              " 'symbolic',\n",
              " 'imaginative',\n",
              " 'play',\n",
              " 'diagnosis',\n",
              " 'asperger',\n",
              " 'syndrome',\n",
              " 'clinically',\n",
              " 'significant',\n",
              " 'delay',\n",
              " 'area',\n",
              " 'dsm',\n",
              " 'mention',\n",
              " 'level',\n",
              " 'intellectual',\n",
              " 'fact',\n",
              " 'asperger',\n",
              " 'autistic',\n",
              " 'group',\n",
              " 'better',\n",
              " 'kanner',\n",
              " 'autism',\n",
              " 'popular',\n",
              " 'conception',\n",
              " 'asperger',\n",
              " 'syndrome',\n",
              " 'synonymous',\n",
              " 'higher',\n",
              " 'autism',\n",
              " 'lesser',\n",
              " 'disorder',\n",
              " 'autism',\n",
              " 'also',\n",
              " 'popular',\n",
              " 'necessarily',\n",
              " 'true',\n",
              " 'conception',\n",
              " 'autistic',\n",
              " 'individual',\n",
              " 'high',\n",
              " 'level',\n",
              " 'intellectual',\n",
              " 'asperger',\n",
              " 'autism',\n",
              " 'type',\n",
              " 'merely',\n",
              " 'geek',\n",
              " 'medical',\n",
              " 'label',\n",
              " 'also',\n",
              " 'autism',\n",
              " 'evolved',\n",
              " 'public',\n",
              " 'popular',\n",
              " 'identification',\n",
              " 'autism',\n",
              " 'relatively',\n",
              " 'severe',\n",
              " 'case',\n",
              " 'accurately',\n",
              " 'rain',\n",
              " 'man',\n",
              " 'relative',\n",
              " 'family',\n",
              " 'member',\n",
              " 'diagnosed',\n",
              " 'autistic',\n",
              " 'spectrum',\n",
              " 'speak',\n",
              " 'one',\n",
              " 'asperger',\n",
              " 'syndrome',\n",
              " 'rather',\n",
              " 'autism',\n",
              " 'autism',\n",
              " 'spectrum',\n",
              " 'disorder',\n",
              " 'view',\n",
              " 'disorder',\n",
              " 'continuum',\n",
              " 'autistic',\n",
              " 'spectrum',\n",
              " 'disorder',\n",
              " 'related',\n",
              " 'continuum',\n",
              " 'sensory',\n",
              " 'integration',\n",
              " 'dysfunction',\n",
              " 'well',\n",
              " 'information',\n",
              " 'receive',\n",
              " 'sense',\n",
              " 'autism',\n",
              " 'asperger',\n",
              " 'syndrome',\n",
              " 'sensory',\n",
              " 'integration',\n",
              " 'dysfunction',\n",
              " 'closely',\n",
              " 'related',\n",
              " 'main',\n",
              " 'manifestation',\n",
              " 'classical',\n",
              " 'autism',\n",
              " 'regressive',\n",
              " 'autism',\n",
              " 'early',\n",
              " 'infantile',\n",
              " 'autism',\n",
              " 'early',\n",
              " 'infantile',\n",
              " 'autism',\n",
              " 'birth',\n",
              " 'regressive',\n",
              " 'autism',\n",
              " 'age',\n",
              " 'often',\n",
              " 'month',\n",
              " 'controversy',\n",
              " 'neurological',\n",
              " 'difference',\n",
              " 'involved',\n",
              " 'autism',\n",
              " 'truly',\n",
              " 'matter',\n",
              " 'environmental',\n",
              " 'toxin',\n",
              " 'trigger',\n",
              " 'disorder',\n",
              " 'gestation',\n",
              " 'due',\n",
              " 'toxin',\n",
              " 'mother',\n",
              " 'body',\n",
              " 'fetus',\n",
              " 'also',\n",
              " 'birth',\n",
              " 'crucial',\n",
              " 'early',\n",
              " 'nervous',\n",
              " 'system',\n",
              " 'development',\n",
              " 'child',\n",
              " 'due',\n",
              " 'toxin',\n",
              " 'directly',\n",
              " 'child',\n",
              " 'body',\n",
              " 'increase',\n",
              " 'diagnosis',\n",
              " 'autism',\n",
              " 'number',\n",
              " 'case',\n",
              " 'autism',\n",
              " 'dramatically',\n",
              " 'past',\n",
              " 'decade',\n",
              " 'statistic',\n",
              " 'graph',\n",
              " 'national',\n",
              " 'center',\n",
              " 'health',\n",
              " 'statistic',\n",
              " 'explosion',\n",
              " 'worldwide',\n",
              " 'case',\n",
              " 'autism',\n",
              " 'last',\n",
              " 'year',\n",
              " 'largely',\n",
              " 'reminiscent',\n",
              " 'increase',\n",
              " 'diagnosis',\n",
              " 'schizophrenia',\n",
              " 'multiple',\n",
              " 'personality',\n",
              " 'disorder',\n",
              " 'twentieth',\n",
              " 'century',\n",
              " 'number',\n",
              " 'different',\n",
              " 'theory',\n",
              " 'nature',\n",
              " 'sudden',\n",
              " 'increase',\n",
              " 'epidemiologist',\n",
              " 'diagnosis',\n",
              " 'state',\n",
              " 'partly',\n",
              " 'entirely',\n",
              " 'attributable',\n",
              " 'change',\n",
              " 'diagnostic',\n",
              " 'criterium',\n",
              " 'public',\n",
              " 'awareness',\n",
              " 'incentive',\n",
              " 'receive',\n",
              " 'federally',\n",
              " 'service',\n",
              " 'widely',\n",
              " 'study',\n",
              " 'institute',\n",
              " 'california',\n",
              " 'october',\n",
              " 'increase',\n",
              " 'autism',\n",
              " 'real',\n",
              " 'even',\n",
              " 'factor',\n",
              " 'reference',\n",
              " 'section',\n",
              " 'researcher',\n",
              " 'remain',\n",
              " 'unconvinced',\n",
              " 'reference',\n",
              " 'dr',\n",
              " 'chris',\n",
              " 'johnson',\n",
              " 'professor',\n",
              " 'pediatrics',\n",
              " 'university',\n",
              " 'texas',\n",
              " 'health',\n",
              " 'science',\n",
              " 'center',\n",
              " 'san',\n",
              " 'antonio',\n",
              " 'cochair',\n",
              " 'american',\n",
              " 'academy',\n",
              " 'pediatrics',\n",
              " 'autism',\n",
              " 'expert',\n",
              " 'panel',\n",
              " 'chance',\n",
              " 'true',\n",
              " 'right',\n",
              " 'anybody',\n",
              " 'answer',\n",
              " 'question',\n",
              " 'sure',\n",
              " 'newsweek',\n",
              " 'reference',\n",
              " 'answer',\n",
              " 'question',\n",
              " 'significant',\n",
              " 'ramification',\n",
              " 'direction',\n",
              " 'research',\n",
              " 'real',\n",
              " 'increase',\n",
              " 'focus',\n",
              " 'attention',\n",
              " 'research',\n",
              " 'funding',\n",
              " 'search',\n",
              " 'environmental',\n",
              " 'factor',\n",
              " 'little',\n",
              " 'real',\n",
              " 'increase',\n",
              " 'focus',\n",
              " 'attention',\n",
              " 'genetic',\n",
              " 'hand',\n",
              " 'conceivable',\n",
              " 'certain',\n",
              " 'environmental',\n",
              " 'factor',\n",
              " 'vaccination',\n",
              " 'diet',\n",
              " 'societal',\n",
              " 'change',\n",
              " 'particular',\n",
              " 'impact',\n",
              " 'person',\n",
              " 'specific',\n",
              " 'genetic',\n",
              " 'constitution',\n",
              " 'little',\n",
              " 'public',\n",
              " 'research',\n",
              " 'effect',\n",
              " 'fertilization',\n",
              " 'number',\n",
              " 'incidence',\n",
              " 'autism',\n",
              " 'popular',\n",
              " 'theory',\n",
              " 'connection',\n",
              " 'geekdom',\n",
              " 'autism',\n",
              " 'instance',\n",
              " 'magazine',\n",
              " 'geek',\n",
              " 'syndrome',\n",
              " 'point',\n",
              " 'many',\n",
              " 'autism',\n",
              " 'right',\n",
              " 'movement',\n",
              " 'many',\n",
              " 'professional',\n",
              " 'example',\n",
              " 'medium',\n",
              " 'application',\n",
              " 'mental',\n",
              " 'disease',\n",
              " 'label',\n",
              " 'actually',\n",
              " 'variant',\n",
              " 'normal',\n",
              " 'behavior',\n",
              " 'shyness',\n",
              " 'lack',\n",
              " 'athletic',\n",
              " 'ability',\n",
              " 'social',\n",
              " 'skill',\n",
              " 'intellectual',\n",
              " 'interest',\n",
              " 'even',\n",
              " 'unusual',\n",
              " 'other',\n",
              " 'sign',\n",
              " 'autism',\n",
              " 'asperger',\n",
              " 'syndrome',\n",
              " 'other',\n",
              " 'actually',\n",
              " 'medical',\n",
              " 'profession',\n",
              " 'mental',\n",
              " 'disease',\n",
              " 'label',\n",
              " 'child',\n",
              " 'past',\n",
              " 'simply',\n",
              " 'little',\n",
              " 'different',\n",
              " 'even',\n",
              " 'gifted',\n",
              " 'clinomorphism',\n",
              " 'discussion',\n",
              " 'issue',\n",
              " 'due',\n",
              " 'recent',\n",
              " 'publicity',\n",
              " 'autism',\n",
              " 'autistic',\n",
              " 'spectrum',\n",
              " 'disorder',\n",
              " 'number',\n",
              " 'adult',\n",
              " 'seek',\n",
              " 'diagnosis',\n",
              " 'high',\n",
              " 'autism',\n",
              " 'asperger',\n",
              " 'syndrome',\n",
              " 'light',\n",
              " 'symptom',\n",
              " 'currently',\n",
              " 'experience',\n",
              " 'childhood',\n",
              " 'cause',\n",
              " 'autism',\n",
              " 'thought',\n",
              " 'least',\n",
              " 'partly',\n",
              " 'genetic',\n",
              " 'proportion',\n",
              " 'adult',\n",
              " 'seek',\n",
              " 'diagnosis',\n",
              " 'specifically',\n",
              " 'follow',\n",
              " 'child',\n",
              " 'diagnosis',\n",
              " 'autism',\n",
              " 'pervasive',\n",
              " 'developmental',\n",
              " 'disorder',\n",
              " 'category',\n",
              " 'strictly',\n",
              " 'speaking',\n",
              " 'symptom',\n",
              " 'patient',\n",
              " 'age',\n",
              " 'order',\n",
              " 'differential',\n",
              " 'diagnosis',\n",
              " 'therapy',\n",
              " 'sociology',\n",
              " 'due',\n",
              " 'complexity',\n",
              " 'autism',\n",
              " 'many',\n",
              " 'facet',\n",
              " 'sociology',\n",
              " 'culture',\n",
              " 'evolved',\n",
              " 'autistic',\n",
              " 'person',\n",
              " 'addition',\n",
              " 'several',\n",
              " 'subgroup',\n",
              " 'autistic',\n",
              " 'community',\n",
              " 'sometimes',\n",
              " 'strong',\n",
              " 'opposition',\n",
              " 'community',\n",
              " 'politic',\n",
              " 'much',\n",
              " 'many',\n",
              " 'controversy',\n",
              " 'world',\n",
              " 'autistic',\n",
              " 'community',\n",
              " 'splintered',\n",
              " 'several',\n",
              " 'group',\n",
              " 'essentially',\n",
              " 'group',\n",
              " 'seek',\n",
              " 'cure',\n",
              " 'autism',\n",
              " 'pro',\n",
              " 'cure',\n",
              " 'desire',\n",
              " 'cure',\n",
              " 'autism',\n",
              " 'resist',\n",
              " 'cure',\n",
              " 'many',\n",
              " 'person',\n",
              " 'middle',\n",
              " 'recent',\n",
              " 'history',\n",
              " 'scientist',\n",
              " 'autism',\n",
              " 'possibly',\n",
              " 'closer',\n",
              " 'cure',\n",
              " 'member',\n",
              " 'cure',\n",
              " 'movement',\n",
              " 'letter',\n",
              " 'nation',\n",
              " 'minority',\n",
              " 'group',\n",
              " 'rather',\n",
              " 'group',\n",
              " 'mental',\n",
              " 'disability',\n",
              " 'disease',\n",
              " 'website',\n",
              " 'autistic',\n",
              " 'org',\n",
              " 'view',\n",
              " 'cure',\n",
              " 'group',\n",
              " 'numerous',\n",
              " 'resource',\n",
              " 'available',\n",
              " 'autistic',\n",
              " 'many',\n",
              " 'group',\n",
              " 'due',\n",
              " 'fact',\n",
              " 'many',\n",
              " 'autistic',\n",
              " 'easier',\n",
              " 'online',\n",
              " 'person',\n",
              " 'many',\n",
              " 'resource',\n",
              " 'available',\n",
              " 'online',\n",
              " 'addition',\n",
              " 'sometimes',\n",
              " 'successful',\n",
              " 'autistic',\n",
              " 'adult',\n",
              " 'local',\n",
              " 'community',\n",
              " 'child',\n",
              " 'autism',\n",
              " 'much',\n",
              " 'way',\n",
              " 'master',\n",
              " 'apprentice',\n",
              " 'example',\n",
              " 'autism',\n",
              " 'awareness',\n",
              " 'year',\n",
              " 'kingdom',\n",
              " 'idea',\n",
              " 'ivan',\n",
              " 'charika',\n",
              " 'corea',\n",
              " 'parent',\n",
              " 'autistic',\n",
              " 'child',\n",
              " 'charin',\n",
              " 'autism',\n",
              " 'awareness',\n",
              " 'year',\n",
              " 'british',\n",
              " 'institute',\n",
              " 'brain',\n",
              " 'injured',\n",
              " 'child',\n",
              " 'disability',\n",
              " 'trust',\n",
              " 'national',\n",
              " 'autistic',\n",
              " 'society',\n",
              " 'autism',\n",
              " 'london',\n",
              " 'organization',\n",
              " 'kingdom',\n",
              " 'personal',\n",
              " 'british',\n",
              " 'prime',\n",
              " 'minister',\n",
              " 'tony',\n",
              " 'blair',\n",
              " 'parliamentarian',\n",
              " 'party',\n",
              " 'palace',\n",
              " 'culture',\n",
              " 'recent',\n",
              " 'increase',\n",
              " 'autism',\n",
              " 'recognition',\n",
              " 'new',\n",
              " 'approach',\n",
              " 'autistic',\n",
              " 'autistic',\n",
              " 'culture',\n",
              " 'similar',\n",
              " 'deaf',\n",
              " 'culture',\n",
              " 'autistic',\n",
              " 'culture',\n",
              " 'belief',\n",
              " 'autism',\n",
              " 'unique',\n",
              " 'way',\n",
              " 'disorder',\n",
              " 'commonality',\n",
              " 'specific',\n",
              " 'autism',\n",
              " 'general',\n",
              " 'culture',\n",
              " 'autistic',\n",
              " 'culture',\n",
              " 'common',\n",
              " 'misperception',\n",
              " 'person',\n",
              " 'autism',\n",
              " 'many',\n",
              " 'married',\n",
              " 'often',\n",
              " 'person',\n",
              " 'autism',\n",
              " 'always',\n",
              " 'case',\n",
              " 'many',\n",
              " 'time',\n",
              " 'autistic',\n",
              " 'autistic',\n",
              " 'due',\n",
              " 'interest',\n",
              " 'obsession',\n",
              " 'often',\n",
              " 'attraction',\n",
              " 'due',\n",
              " 'simple',\n",
              " 'compatibility',\n",
              " 'personality',\n",
              " 'type',\n",
              " 'true',\n",
              " 'autistic',\n",
              " 'autistic',\n",
              " 'companionship',\n",
              " 'important',\n",
              " 'autistic',\n",
              " 'anyone',\n",
              " 'else',\n",
              " 'autistic',\n",
              " 'family',\n",
              " 'also',\n",
              " 'recently',\n",
              " 'bit',\n",
              " 'common',\n",
              " 'interest',\n",
              " 'autistic',\n",
              " 'person',\n",
              " 'geek',\n",
              " 'nerd',\n",
              " 'often',\n",
              " 'autistic',\n",
              " 'person',\n",
              " 'sometimes',\n",
              " 'certain',\n",
              " 'subject',\n",
              " 'much',\n",
              " 'variant',\n",
              " 'normal',\n",
              " 'behavior',\n",
              " 'geek',\n",
              " 'experience',\n",
              " 'however',\n",
              " 'practice',\n",
              " 'many',\n",
              " 'autistic',\n",
              " 'person',\n",
              " 'difficulty',\n",
              " 'group',\n",
              " 'impair',\n",
              " 'even',\n",
              " 'technical',\n",
              " 'situation',\n",
              " 'autistic',\n",
              " 'adult',\n",
              " 'temple',\n",
              " 'grandin',\n",
              " 'successful',\n",
              " 'adult',\n",
              " 'autism',\n",
              " 'photograph',\n",
              " 'courtesy',\n",
              " 'joshua',\n",
              " 'nathaniel',\n",
              " 'pritikin',\n",
              " 'william',\n",
              " 'lawrence',\n",
              " 'jarrold',\n",
              " 'autistic',\n",
              " 'adult',\n",
              " 'able',\n",
              " 'work',\n",
              " 'successfully',\n",
              " 'mainstream',\n",
              " 'job',\n",
              " 'usually',\n",
              " 'high',\n",
              " 'autism',\n",
              " 'asperger',\n",
              " 'syndrome',\n",
              " 'nevertheless',\n",
              " 'communication',\n",
              " 'social',\n",
              " 'problem',\n",
              " 'often',\n",
              " 'cause',\n",
              " 'difficulty',\n",
              " 'many',\n",
              " 'area',\n",
              " 'autistic',\n",
              " 'life',\n",
              " 'autistic',\n",
              " 'capable',\n",
              " 'employment',\n",
              " 'workshop',\n",
              " 'supervision',\n",
              " 'manager',\n",
              " 'trained',\n",
              " 'person',\n",
              " 'disability',\n",
              " 'environment',\n",
              " 'home',\n",
              " 'school',\n",
              " 'later',\n",
              " 'job',\n",
              " 'training',\n",
              " 'work',\n",
              " 'autistic',\n",
              " 'person',\n",
              " 'life',\n",
              " 'internet',\n",
              " 'autistic',\n",
              " 'individual',\n",
              " 'form',\n",
              " 'online',\n",
              " 'community',\n",
              " 'addition',\n",
              " 'able',\n",
              " 'occupation',\n",
              " 'independent',\n",
              " 'generally',\n",
              " 'require',\n",
              " 'much',\n",
              " 'human',\n",
              " 'interaction',\n",
              " 'offline',\n",
              " 'state',\n",
              " 'public',\n",
              " 'school',\n",
              " 'responsibility',\n",
              " 'service',\n",
              " 'autistic',\n",
              " 'person',\n",
              " 'state',\n",
              " 'family',\n",
              " 'arrangement',\n",
              " 'employment',\n",
              " 'particular',\n",
              " 'need',\n",
              " 'adult',\n",
              " 'child',\n",
              " 'well',\n",
              " 'program',\n",
              " 'facility',\n",
              " 'support',\n",
              " 'service',\n",
              " 'goal',\n",
              " 'autistic',\n",
              " 'savant',\n",
              " 'autistic',\n",
              " 'savant',\n",
              " 'phenomenon',\n",
              " 'sometimes',\n",
              " 'autistic',\n",
              " 'person',\n",
              " 'term',\n",
              " ...]"
            ]
          },
          "metadata": {
            "tags": []
          },
          "execution_count": 89
        }
      ]
    },
    {
      "cell_type": "markdown",
      "metadata": {
        "id": "Ox8AuPiBRAIs"
      },
      "source": [
        "## Build LSI model"
      ]
    },
    {
      "cell_type": "code",
      "metadata": {
        "colab": {
          "base_uri": "https://localhost:8080/"
        },
        "id": "GXDi0Gn8Qmys",
        "outputId": "13c94bd6-6043-41cb-abe9-8b6c515007bc"
      },
      "source": [
        "from gensim.models import LsiModel\r\n",
        "\r\n",
        "# Build the LSI Model\r\n",
        "lsi_model = LsiModel(corpus=cps, id2word=dct, num_topics=7, decay=0.5)"
      ],
      "execution_count": 94,
      "outputs": [
        {
          "output_type": "stream",
          "text": [
            "2021-03-15 09:43:01,077 : INFO : using serial LSI version on this node\n",
            "2021-03-15 09:43:01,079 : INFO : updating model with new documents\n",
            "2021-03-15 09:43:01,081 : INFO : preparing a new chunk of documents\n",
            "2021-03-15 09:43:01,143 : INFO : using 100 extra samples and 2 power iterations\n",
            "2021-03-15 09:43:01,153 : INFO : 1st phase: constructing (40074, 107) action matrix\n",
            "2021-03-15 09:43:01,182 : INFO : orthonormalizing (40074, 107) action matrix\n",
            "2021-03-15 09:43:03,169 : INFO : 2nd phase: running dense svd on (107, 100) matrix\n",
            "2021-03-15 09:43:03,202 : INFO : computing the final decomposition\n",
            "2021-03-15 09:43:03,204 : INFO : keeping 7 factors (discarding 62.871% of energy spectrum)\n",
            "2021-03-15 09:43:03,233 : INFO : processed documents up to #100\n",
            "2021-03-15 09:43:03,243 : INFO : topic #0(973.794): 0.262*\"also\" + 0.197*\"state\" + 0.197*\"american\" + 0.178*\"first\" + 0.151*\"many\" + 0.149*\"time\" + 0.147*\"year\" + 0.130*\"person\" + 0.130*\"world\" + 0.124*\"war\"\n",
            "2021-03-15 09:43:03,248 : INFO : topic #1(572.318): -0.937*\"agave\" + -0.164*\"asia\" + -0.100*\"aruba\" + -0.063*\"plant\" + -0.053*\"var\" + -0.052*\"state\" + -0.045*\"east\" + -0.044*\"congress\" + 0.042*\"first\" + -0.041*\"maguey\"\n",
            "2021-03-15 09:43:03,252 : INFO : topic #2(401.785): 0.507*\"american\" + 0.180*\"football\" + 0.179*\"player\" + 0.168*\"war\" + 0.150*\"british\" + -0.140*\"also\" + 0.114*\"ball\" + 0.110*\"day\" + -0.107*\"atheism\" + -0.106*\"god\"\n",
            "2021-03-15 09:43:03,256 : INFO : topic #3(334.148): -0.362*\"apollo\" + 0.248*\"lincoln\" + 0.211*\"state\" + -0.172*\"player\" + -0.151*\"football\" + 0.127*\"union\" + -0.125*\"ball\" + 0.124*\"government\" + -0.116*\"moon\" + 0.116*\"jews\"\n",
            "2021-03-15 09:43:03,261 : INFO : topic #4(322.189): -0.363*\"atheism\" + -0.334*\"god\" + -0.329*\"lincoln\" + -0.230*\"apollo\" + -0.215*\"atheist\" + -0.143*\"abraham\" + 0.136*\"island\" + -0.132*\"aristotle\" + 0.124*\"aluminium\" + -0.119*\"belief\"\n"
          ],
          "name": "stderr"
        }
      ]
    },
    {
      "cell_type": "code",
      "metadata": {
        "colab": {
          "base_uri": "https://localhost:8080/"
        },
        "id": "vl5B8T8zREtC",
        "outputId": "5c7ec0ff-b4a3-40ea-f9bd-2851b641bc7e"
      },
      "source": [
        "# View Topics\r\n",
        "pprint(lsi_model.print_topics(-1))"
      ],
      "execution_count": 95,
      "outputs": [
        {
          "output_type": "stream",
          "text": [
            "2021-03-15 09:43:11,704 : INFO : topic #0(973.794): 0.262*\"also\" + 0.197*\"state\" + 0.197*\"american\" + 0.178*\"first\" + 0.151*\"many\" + 0.149*\"time\" + 0.147*\"year\" + 0.130*\"person\" + 0.130*\"world\" + 0.124*\"war\"\n",
            "2021-03-15 09:43:11,710 : INFO : topic #1(572.318): -0.937*\"agave\" + -0.164*\"asia\" + -0.100*\"aruba\" + -0.063*\"plant\" + -0.053*\"var\" + -0.052*\"state\" + -0.045*\"east\" + -0.044*\"congress\" + 0.042*\"first\" + -0.041*\"maguey\"\n",
            "2021-03-15 09:43:11,719 : INFO : topic #2(401.785): 0.507*\"american\" + 0.180*\"football\" + 0.179*\"player\" + 0.168*\"war\" + 0.150*\"british\" + -0.140*\"also\" + 0.114*\"ball\" + 0.110*\"day\" + -0.107*\"atheism\" + -0.106*\"god\"\n",
            "2021-03-15 09:43:11,721 : INFO : topic #3(334.148): -0.362*\"apollo\" + 0.248*\"lincoln\" + 0.211*\"state\" + -0.172*\"player\" + -0.151*\"football\" + 0.127*\"union\" + -0.125*\"ball\" + 0.124*\"government\" + -0.116*\"moon\" + 0.116*\"jews\"\n",
            "2021-03-15 09:43:11,727 : INFO : topic #4(322.189): -0.363*\"atheism\" + -0.334*\"god\" + -0.329*\"lincoln\" + -0.230*\"apollo\" + -0.215*\"atheist\" + -0.143*\"abraham\" + 0.136*\"island\" + -0.132*\"aristotle\" + 0.124*\"aluminium\" + -0.119*\"belief\"\n",
            "2021-03-15 09:43:11,733 : INFO : topic #5(315.315): -0.360*\"apollo\" + 0.344*\"atheism\" + -0.326*\"lincoln\" + 0.226*\"god\" + 0.205*\"atheist\" + 0.139*\"american\" + -0.130*\"lunar\" + 0.128*\"football\" + -0.125*\"moon\" + 0.114*\"belief\"\n",
            "2021-03-15 09:43:11,737 : INFO : topic #6(312.092): -0.313*\"lincoln\" + 0.226*\"apollo\" + -0.166*\"football\" + -0.163*\"war\" + 0.162*\"god\" + 0.153*\"australia\" + -0.148*\"play\" + -0.146*\"ball\" + 0.122*\"atheism\" + -0.122*\"line\"\n"
          ],
          "name": "stderr"
        },
        {
          "output_type": "stream",
          "text": [
            "[(0,\n",
            "  '0.262*\"also\" + 0.197*\"state\" + 0.197*\"american\" + 0.178*\"first\" + '\n",
            "  '0.151*\"many\" + 0.149*\"time\" + 0.147*\"year\" + 0.130*\"person\" + 0.130*\"world\" '\n",
            "  '+ 0.124*\"war\"'),\n",
            " (1,\n",
            "  '-0.937*\"agave\" + -0.164*\"asia\" + -0.100*\"aruba\" + -0.063*\"plant\" + '\n",
            "  '-0.053*\"var\" + -0.052*\"state\" + -0.045*\"east\" + -0.044*\"congress\" + '\n",
            "  '0.042*\"first\" + -0.041*\"maguey\"'),\n",
            " (2,\n",
            "  '0.507*\"american\" + 0.180*\"football\" + 0.179*\"player\" + 0.168*\"war\" + '\n",
            "  '0.150*\"british\" + -0.140*\"also\" + 0.114*\"ball\" + 0.110*\"day\" + '\n",
            "  '-0.107*\"atheism\" + -0.106*\"god\"'),\n",
            " (3,\n",
            "  '-0.362*\"apollo\" + 0.248*\"lincoln\" + 0.211*\"state\" + -0.172*\"player\" + '\n",
            "  '-0.151*\"football\" + 0.127*\"union\" + -0.125*\"ball\" + 0.124*\"government\" + '\n",
            "  '-0.116*\"moon\" + 0.116*\"jews\"'),\n",
            " (4,\n",
            "  '-0.363*\"atheism\" + -0.334*\"god\" + -0.329*\"lincoln\" + -0.230*\"apollo\" + '\n",
            "  '-0.215*\"atheist\" + -0.143*\"abraham\" + 0.136*\"island\" + -0.132*\"aristotle\" + '\n",
            "  '0.124*\"aluminium\" + -0.119*\"belief\"'),\n",
            " (5,\n",
            "  '-0.360*\"apollo\" + 0.344*\"atheism\" + -0.326*\"lincoln\" + 0.226*\"god\" + '\n",
            "  '0.205*\"atheist\" + 0.139*\"american\" + -0.130*\"lunar\" + 0.128*\"football\" + '\n",
            "  '-0.125*\"moon\" + 0.114*\"belief\"'),\n",
            " (6,\n",
            "  '-0.313*\"lincoln\" + 0.226*\"apollo\" + -0.166*\"football\" + -0.163*\"war\" + '\n",
            "  '0.162*\"god\" + 0.153*\"australia\" + -0.148*\"play\" + -0.146*\"ball\" + '\n",
            "  '0.122*\"atheism\" + -0.122*\"line\"')]\n"
          ],
          "name": "stdout"
        }
      ]
    },
    {
      "cell_type": "code",
      "metadata": {
        "id": "CB6GwWF7RJed"
      },
      "source": [
        ""
      ],
      "execution_count": null,
      "outputs": []
    }
  ]
}